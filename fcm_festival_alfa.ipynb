{
 "cells": [
  {
   "cell_type": "markdown",
   "id": "rwu7doQXhrLi",
   "metadata": {
    "id": "rwu7doQXhrLi"
   },
   "source": [
    "# Antes de começar, é importante destacar que há um certo viés de seleção, já que as pessoas que responderam são, na maioria, pessoas que conhecem os integrantes do grupo."
   ]
  },
  {
   "cell_type": "markdown",
   "id": "RDHa8SiaiHjA",
   "metadata": {
    "id": "RDHa8SiaiHjA"
   },
   "source": [
    "# Também precisamos comentar que não atingimos nossa meta de 272 pessoas para o número de amostragem. Até agora, tivemos apenas 153 respostas."
   ]
  },
  {
   "cell_type": "markdown",
   "id": "6306e053",
   "metadata": {
    "id": "6306e053"
   },
   "source": [
    "# Importando os dados"
   ]
  },
  {
   "cell_type": "code",
   "execution_count": 1,
   "id": "425702d2",
   "metadata": {
    "colab": {
     "base_uri": "https://localhost:8080/",
     "height": 849
    },
    "id": "425702d2",
    "outputId": "d163d663-df91-4953-d968-624936ea8e38",
    "scrolled": false
   },
   "outputs": [
    {
     "data": {
      "text/html": [
       "<div>\n",
       "<style scoped>\n",
       "    .dataframe tbody tr th:only-of-type {\n",
       "        vertical-align: middle;\n",
       "    }\n",
       "\n",
       "    .dataframe tbody tr th {\n",
       "        vertical-align: top;\n",
       "    }\n",
       "\n",
       "    .dataframe thead th {\n",
       "        text-align: right;\n",
       "    }\n",
       "</style>\n",
       "<table border=\"1\" class=\"dataframe\">\n",
       "  <thead>\n",
       "    <tr style=\"text-align: right;\">\n",
       "      <th></th>\n",
       "      <th>Carimbo de data/hora</th>\n",
       "      <th>Qual sua idade?</th>\n",
       "      <th>Qual sua Região Administrativa?</th>\n",
       "      <th>Você se interessa por causas sociais?</th>\n",
       "      <th>Você foi em algum festival nos últimos 4 anos?</th>\n",
       "      <th>Tem interesse em ir a algum festival?</th>\n",
       "      <th>Pagaria até quanto no ingresso para dois dias?</th>\n",
       "      <th>Você iria em atividades diurnas ?\\n(Circo, Teatro, etc)</th>\n",
       "      <th>E noturnas ?\\n(Shows)</th>\n",
       "      <th>Qual seria o melhor local?</th>\n",
       "    </tr>\n",
       "  </thead>\n",
       "  <tbody>\n",
       "    <tr>\n",
       "      <th>0</th>\n",
       "      <td>2022-09-10 10:32:50.640</td>\n",
       "      <td>18</td>\n",
       "      <td>Paranoá</td>\n",
       "      <td>Sim</td>\n",
       "      <td>Não</td>\n",
       "      <td>Sim</td>\n",
       "      <td>Até R$200</td>\n",
       "      <td>Sim</td>\n",
       "      <td>Nâo</td>\n",
       "      <td>Estacionamento do Mané Garrincha</td>\n",
       "    </tr>\n",
       "    <tr>\n",
       "      <th>1</th>\n",
       "      <td>2022-09-10 10:39:13.565</td>\n",
       "      <td>18</td>\n",
       "      <td>Itapoã</td>\n",
       "      <td>Sim</td>\n",
       "      <td>Não</td>\n",
       "      <td>Sim</td>\n",
       "      <td>Até R$200</td>\n",
       "      <td>Sim</td>\n",
       "      <td>Sim</td>\n",
       "      <td>Estacionamento do Mané Garrincha</td>\n",
       "    </tr>\n",
       "    <tr>\n",
       "      <th>2</th>\n",
       "      <td>2022-09-10 10:41:07.244</td>\n",
       "      <td>17</td>\n",
       "      <td>Paranoá</td>\n",
       "      <td>Sim</td>\n",
       "      <td>Não</td>\n",
       "      <td>Sim</td>\n",
       "      <td>Até R$200</td>\n",
       "      <td>Sim</td>\n",
       "      <td>Nâo</td>\n",
       "      <td>Parque da Cidade</td>\n",
       "    </tr>\n",
       "    <tr>\n",
       "      <th>3</th>\n",
       "      <td>2022-09-10 11:22:28.348</td>\n",
       "      <td>18</td>\n",
       "      <td>Paranoá</td>\n",
       "      <td>Sim</td>\n",
       "      <td>Sim</td>\n",
       "      <td>Sim</td>\n",
       "      <td>Até R$200</td>\n",
       "      <td>Sim</td>\n",
       "      <td>Sim</td>\n",
       "      <td>Estacionamento do Mané Garrincha</td>\n",
       "    </tr>\n",
       "    <tr>\n",
       "      <th>4</th>\n",
       "      <td>2022-09-10 11:33:25.950</td>\n",
       "      <td>18</td>\n",
       "      <td>Itapoã</td>\n",
       "      <td>Sim</td>\n",
       "      <td>Não</td>\n",
       "      <td>Sim</td>\n",
       "      <td>Até R$200</td>\n",
       "      <td>Não</td>\n",
       "      <td>Sim</td>\n",
       "      <td>Setor de Clubes Sul</td>\n",
       "    </tr>\n",
       "    <tr>\n",
       "      <th>...</th>\n",
       "      <td>...</td>\n",
       "      <td>...</td>\n",
       "      <td>...</td>\n",
       "      <td>...</td>\n",
       "      <td>...</td>\n",
       "      <td>...</td>\n",
       "      <td>...</td>\n",
       "      <td>...</td>\n",
       "      <td>...</td>\n",
       "      <td>...</td>\n",
       "    </tr>\n",
       "    <tr>\n",
       "      <th>161</th>\n",
       "      <td>2022-09-15 15:35:37.527</td>\n",
       "      <td>18</td>\n",
       "      <td>Plano Piloto</td>\n",
       "      <td>Sim</td>\n",
       "      <td>Sim</td>\n",
       "      <td>Sim</td>\n",
       "      <td>Até R$200</td>\n",
       "      <td>Sim</td>\n",
       "      <td>Sim</td>\n",
       "      <td>Parque da Cidade</td>\n",
       "    </tr>\n",
       "    <tr>\n",
       "      <th>162</th>\n",
       "      <td>2022-09-15 15:36:02.065</td>\n",
       "      <td>20</td>\n",
       "      <td>Plano Piloto</td>\n",
       "      <td>Sim</td>\n",
       "      <td>Sim</td>\n",
       "      <td>Sim</td>\n",
       "      <td>Até R$200</td>\n",
       "      <td>Não</td>\n",
       "      <td>Sim</td>\n",
       "      <td>Estacionamento do Mané Garrincha</td>\n",
       "    </tr>\n",
       "    <tr>\n",
       "      <th>163</th>\n",
       "      <td>2022-09-15 15:36:37.401</td>\n",
       "      <td>24</td>\n",
       "      <td>Águas Claras</td>\n",
       "      <td>Sim</td>\n",
       "      <td>Sim</td>\n",
       "      <td>Sim</td>\n",
       "      <td>Até R$500</td>\n",
       "      <td>Sim</td>\n",
       "      <td>Sim</td>\n",
       "      <td>Parque da Cidade</td>\n",
       "    </tr>\n",
       "    <tr>\n",
       "      <th>164</th>\n",
       "      <td>2022-09-15 17:45:50.609</td>\n",
       "      <td>19</td>\n",
       "      <td>Plano Piloto</td>\n",
       "      <td>Sim</td>\n",
       "      <td>Não</td>\n",
       "      <td>Sim</td>\n",
       "      <td>Até R$200</td>\n",
       "      <td>Sim</td>\n",
       "      <td>Sim</td>\n",
       "      <td>Estacionamento do Mané Garrincha</td>\n",
       "    </tr>\n",
       "    <tr>\n",
       "      <th>165</th>\n",
       "      <td>2022-09-15 20:12:30.659</td>\n",
       "      <td>24</td>\n",
       "      <td>Sobradinho</td>\n",
       "      <td>Sim</td>\n",
       "      <td>Sim</td>\n",
       "      <td>Sim</td>\n",
       "      <td>Até R$200</td>\n",
       "      <td>Sim</td>\n",
       "      <td>Nâo</td>\n",
       "      <td>Parque da Cidade</td>\n",
       "    </tr>\n",
       "  </tbody>\n",
       "</table>\n",
       "<p>166 rows × 10 columns</p>\n",
       "</div>"
      ],
      "text/plain": [
       "       Carimbo de data/hora  Qual sua idade? Qual sua Região Administrativa?  \\\n",
       "0   2022-09-10 10:32:50.640               18                         Paranoá   \n",
       "1   2022-09-10 10:39:13.565               18                          Itapoã   \n",
       "2   2022-09-10 10:41:07.244               17                         Paranoá   \n",
       "3   2022-09-10 11:22:28.348               18                         Paranoá   \n",
       "4   2022-09-10 11:33:25.950               18                          Itapoã   \n",
       "..                      ...              ...                             ...   \n",
       "161 2022-09-15 15:35:37.527               18                    Plano Piloto   \n",
       "162 2022-09-15 15:36:02.065               20                    Plano Piloto   \n",
       "163 2022-09-15 15:36:37.401               24                    Águas Claras   \n",
       "164 2022-09-15 17:45:50.609               19                    Plano Piloto   \n",
       "165 2022-09-15 20:12:30.659               24                      Sobradinho   \n",
       "\n",
       "    Você se interessa por causas sociais?  \\\n",
       "0                                     Sim   \n",
       "1                                     Sim   \n",
       "2                                     Sim   \n",
       "3                                     Sim   \n",
       "4                                     Sim   \n",
       "..                                    ...   \n",
       "161                                   Sim   \n",
       "162                                   Sim   \n",
       "163                                   Sim   \n",
       "164                                   Sim   \n",
       "165                                   Sim   \n",
       "\n",
       "    Você foi em algum festival nos últimos 4 anos?  \\\n",
       "0                                              Não   \n",
       "1                                              Não   \n",
       "2                                              Não   \n",
       "3                                              Sim   \n",
       "4                                              Não   \n",
       "..                                             ...   \n",
       "161                                            Sim   \n",
       "162                                            Sim   \n",
       "163                                            Sim   \n",
       "164                                            Não   \n",
       "165                                            Sim   \n",
       "\n",
       "    Tem interesse em ir a algum festival?  \\\n",
       "0                                     Sim   \n",
       "1                                     Sim   \n",
       "2                                     Sim   \n",
       "3                                     Sim   \n",
       "4                                     Sim   \n",
       "..                                    ...   \n",
       "161                                   Sim   \n",
       "162                                   Sim   \n",
       "163                                   Sim   \n",
       "164                                   Sim   \n",
       "165                                   Sim   \n",
       "\n",
       "    Pagaria até quanto no ingresso para dois dias?  \\\n",
       "0                                        Até R$200   \n",
       "1                                        Até R$200   \n",
       "2                                        Até R$200   \n",
       "3                                        Até R$200   \n",
       "4                                        Até R$200   \n",
       "..                                             ...   \n",
       "161                                      Até R$200   \n",
       "162                                      Até R$200   \n",
       "163                                      Até R$500   \n",
       "164                                      Até R$200   \n",
       "165                                      Até R$200   \n",
       "\n",
       "    Você iria em atividades diurnas ?\\n(Circo, Teatro, etc)  \\\n",
       "0                                                  Sim        \n",
       "1                                                  Sim        \n",
       "2                                                  Sim        \n",
       "3                                                  Sim        \n",
       "4                                                  Não        \n",
       "..                                                 ...        \n",
       "161                                                Sim        \n",
       "162                                                Não        \n",
       "163                                                Sim        \n",
       "164                                                Sim        \n",
       "165                                                Sim        \n",
       "\n",
       "    E noturnas ?\\n(Shows)        Qual seria o melhor local?  \n",
       "0                     Nâo  Estacionamento do Mané Garrincha  \n",
       "1                     Sim  Estacionamento do Mané Garrincha  \n",
       "2                     Nâo                  Parque da Cidade  \n",
       "3                     Sim  Estacionamento do Mané Garrincha  \n",
       "4                     Sim               Setor de Clubes Sul  \n",
       "..                    ...                               ...  \n",
       "161                   Sim                  Parque da Cidade  \n",
       "162                   Sim  Estacionamento do Mané Garrincha  \n",
       "163                   Sim                  Parque da Cidade  \n",
       "164                   Sim  Estacionamento do Mané Garrincha  \n",
       "165                   Nâo                  Parque da Cidade  \n",
       "\n",
       "[166 rows x 10 columns]"
      ]
     },
     "execution_count": 1,
     "metadata": {},
     "output_type": "execute_result"
    }
   ],
   "source": [
    "import pandas as pd\n",
    "\n",
    "df = pd.read_excel(\"Festival Alfa (respostas).xlsx\")\n",
    "df"
   ]
  },
  {
   "cell_type": "markdown",
   "id": "0fc81245",
   "metadata": {
    "id": "0fc81245"
   },
   "source": [
    "# Mudando os nomes das colunas\n",
    "### Isso deixa os dados mais fáceis de serem trabalhados"
   ]
  },
  {
   "cell_type": "code",
   "execution_count": 2,
   "id": "4baf0c37",
   "metadata": {
    "colab": {
     "base_uri": "https://localhost:8080/",
     "height": 782
    },
    "id": "4baf0c37",
    "outputId": "3528b5a2-6107-415e-98fe-55ba75f9f9b6",
    "scrolled": false
   },
   "outputs": [
    {
     "data": {
      "text/html": [
       "<div>\n",
       "<style scoped>\n",
       "    .dataframe tbody tr th:only-of-type {\n",
       "        vertical-align: middle;\n",
       "    }\n",
       "\n",
       "    .dataframe tbody tr th {\n",
       "        vertical-align: top;\n",
       "    }\n",
       "\n",
       "    .dataframe thead th {\n",
       "        text-align: right;\n",
       "    }\n",
       "</style>\n",
       "<table border=\"1\" class=\"dataframe\">\n",
       "  <thead>\n",
       "    <tr style=\"text-align: right;\">\n",
       "      <th></th>\n",
       "      <th>data</th>\n",
       "      <th>idade</th>\n",
       "      <th>região_administrativa</th>\n",
       "      <th>interesse_causas_sociais</th>\n",
       "      <th>festivais</th>\n",
       "      <th>interesse_festivais</th>\n",
       "      <th>valor_ingresso (R$)</th>\n",
       "      <th>atividades_diurnas</th>\n",
       "      <th>atividades_noturnas</th>\n",
       "      <th>local</th>\n",
       "    </tr>\n",
       "  </thead>\n",
       "  <tbody>\n",
       "    <tr>\n",
       "      <th>0</th>\n",
       "      <td>2022-09-10 10:32:50.640</td>\n",
       "      <td>18</td>\n",
       "      <td>Paranoá</td>\n",
       "      <td>Sim</td>\n",
       "      <td>Não</td>\n",
       "      <td>Sim</td>\n",
       "      <td>Até R$200</td>\n",
       "      <td>Sim</td>\n",
       "      <td>Nâo</td>\n",
       "      <td>Estacionamento do Mané Garrincha</td>\n",
       "    </tr>\n",
       "    <tr>\n",
       "      <th>1</th>\n",
       "      <td>2022-09-10 10:39:13.565</td>\n",
       "      <td>18</td>\n",
       "      <td>Itapoã</td>\n",
       "      <td>Sim</td>\n",
       "      <td>Não</td>\n",
       "      <td>Sim</td>\n",
       "      <td>Até R$200</td>\n",
       "      <td>Sim</td>\n",
       "      <td>Sim</td>\n",
       "      <td>Estacionamento do Mané Garrincha</td>\n",
       "    </tr>\n",
       "    <tr>\n",
       "      <th>2</th>\n",
       "      <td>2022-09-10 10:41:07.244</td>\n",
       "      <td>17</td>\n",
       "      <td>Paranoá</td>\n",
       "      <td>Sim</td>\n",
       "      <td>Não</td>\n",
       "      <td>Sim</td>\n",
       "      <td>Até R$200</td>\n",
       "      <td>Sim</td>\n",
       "      <td>Nâo</td>\n",
       "      <td>Parque da Cidade</td>\n",
       "    </tr>\n",
       "    <tr>\n",
       "      <th>3</th>\n",
       "      <td>2022-09-10 11:22:28.348</td>\n",
       "      <td>18</td>\n",
       "      <td>Paranoá</td>\n",
       "      <td>Sim</td>\n",
       "      <td>Sim</td>\n",
       "      <td>Sim</td>\n",
       "      <td>Até R$200</td>\n",
       "      <td>Sim</td>\n",
       "      <td>Sim</td>\n",
       "      <td>Estacionamento do Mané Garrincha</td>\n",
       "    </tr>\n",
       "    <tr>\n",
       "      <th>4</th>\n",
       "      <td>2022-09-10 11:33:25.950</td>\n",
       "      <td>18</td>\n",
       "      <td>Itapoã</td>\n",
       "      <td>Sim</td>\n",
       "      <td>Não</td>\n",
       "      <td>Sim</td>\n",
       "      <td>Até R$200</td>\n",
       "      <td>Não</td>\n",
       "      <td>Sim</td>\n",
       "      <td>Setor de Clubes Sul</td>\n",
       "    </tr>\n",
       "    <tr>\n",
       "      <th>...</th>\n",
       "      <td>...</td>\n",
       "      <td>...</td>\n",
       "      <td>...</td>\n",
       "      <td>...</td>\n",
       "      <td>...</td>\n",
       "      <td>...</td>\n",
       "      <td>...</td>\n",
       "      <td>...</td>\n",
       "      <td>...</td>\n",
       "      <td>...</td>\n",
       "    </tr>\n",
       "    <tr>\n",
       "      <th>161</th>\n",
       "      <td>2022-09-15 15:35:37.527</td>\n",
       "      <td>18</td>\n",
       "      <td>Plano Piloto</td>\n",
       "      <td>Sim</td>\n",
       "      <td>Sim</td>\n",
       "      <td>Sim</td>\n",
       "      <td>Até R$200</td>\n",
       "      <td>Sim</td>\n",
       "      <td>Sim</td>\n",
       "      <td>Parque da Cidade</td>\n",
       "    </tr>\n",
       "    <tr>\n",
       "      <th>162</th>\n",
       "      <td>2022-09-15 15:36:02.065</td>\n",
       "      <td>20</td>\n",
       "      <td>Plano Piloto</td>\n",
       "      <td>Sim</td>\n",
       "      <td>Sim</td>\n",
       "      <td>Sim</td>\n",
       "      <td>Até R$200</td>\n",
       "      <td>Não</td>\n",
       "      <td>Sim</td>\n",
       "      <td>Estacionamento do Mané Garrincha</td>\n",
       "    </tr>\n",
       "    <tr>\n",
       "      <th>163</th>\n",
       "      <td>2022-09-15 15:36:37.401</td>\n",
       "      <td>24</td>\n",
       "      <td>Águas Claras</td>\n",
       "      <td>Sim</td>\n",
       "      <td>Sim</td>\n",
       "      <td>Sim</td>\n",
       "      <td>Até R$500</td>\n",
       "      <td>Sim</td>\n",
       "      <td>Sim</td>\n",
       "      <td>Parque da Cidade</td>\n",
       "    </tr>\n",
       "    <tr>\n",
       "      <th>164</th>\n",
       "      <td>2022-09-15 17:45:50.609</td>\n",
       "      <td>19</td>\n",
       "      <td>Plano Piloto</td>\n",
       "      <td>Sim</td>\n",
       "      <td>Não</td>\n",
       "      <td>Sim</td>\n",
       "      <td>Até R$200</td>\n",
       "      <td>Sim</td>\n",
       "      <td>Sim</td>\n",
       "      <td>Estacionamento do Mané Garrincha</td>\n",
       "    </tr>\n",
       "    <tr>\n",
       "      <th>165</th>\n",
       "      <td>2022-09-15 20:12:30.659</td>\n",
       "      <td>24</td>\n",
       "      <td>Sobradinho</td>\n",
       "      <td>Sim</td>\n",
       "      <td>Sim</td>\n",
       "      <td>Sim</td>\n",
       "      <td>Até R$200</td>\n",
       "      <td>Sim</td>\n",
       "      <td>Nâo</td>\n",
       "      <td>Parque da Cidade</td>\n",
       "    </tr>\n",
       "  </tbody>\n",
       "</table>\n",
       "<p>166 rows × 10 columns</p>\n",
       "</div>"
      ],
      "text/plain": [
       "                       data  idade região_administrativa  \\\n",
       "0   2022-09-10 10:32:50.640     18               Paranoá   \n",
       "1   2022-09-10 10:39:13.565     18                Itapoã   \n",
       "2   2022-09-10 10:41:07.244     17               Paranoá   \n",
       "3   2022-09-10 11:22:28.348     18               Paranoá   \n",
       "4   2022-09-10 11:33:25.950     18                Itapoã   \n",
       "..                      ...    ...                   ...   \n",
       "161 2022-09-15 15:35:37.527     18          Plano Piloto   \n",
       "162 2022-09-15 15:36:02.065     20          Plano Piloto   \n",
       "163 2022-09-15 15:36:37.401     24          Águas Claras   \n",
       "164 2022-09-15 17:45:50.609     19          Plano Piloto   \n",
       "165 2022-09-15 20:12:30.659     24            Sobradinho   \n",
       "\n",
       "    interesse_causas_sociais festivais interesse_festivais  \\\n",
       "0                        Sim       Não                 Sim   \n",
       "1                        Sim       Não                 Sim   \n",
       "2                        Sim       Não                 Sim   \n",
       "3                        Sim       Sim                 Sim   \n",
       "4                        Sim       Não                 Sim   \n",
       "..                       ...       ...                 ...   \n",
       "161                      Sim       Sim                 Sim   \n",
       "162                      Sim       Sim                 Sim   \n",
       "163                      Sim       Sim                 Sim   \n",
       "164                      Sim       Não                 Sim   \n",
       "165                      Sim       Sim                 Sim   \n",
       "\n",
       "    valor_ingresso (R$) atividades_diurnas atividades_noturnas  \\\n",
       "0             Até R$200                Sim                 Nâo   \n",
       "1             Até R$200                Sim                 Sim   \n",
       "2             Até R$200                Sim                 Nâo   \n",
       "3             Até R$200                Sim                 Sim   \n",
       "4             Até R$200                Não                 Sim   \n",
       "..                  ...                ...                 ...   \n",
       "161           Até R$200                Sim                 Sim   \n",
       "162           Até R$200                Não                 Sim   \n",
       "163           Até R$500                Sim                 Sim   \n",
       "164           Até R$200                Sim                 Sim   \n",
       "165           Até R$200                Sim                 Nâo   \n",
       "\n",
       "                                local  \n",
       "0    Estacionamento do Mané Garrincha  \n",
       "1    Estacionamento do Mané Garrincha  \n",
       "2                    Parque da Cidade  \n",
       "3    Estacionamento do Mané Garrincha  \n",
       "4                 Setor de Clubes Sul  \n",
       "..                                ...  \n",
       "161                  Parque da Cidade  \n",
       "162  Estacionamento do Mané Garrincha  \n",
       "163                  Parque da Cidade  \n",
       "164  Estacionamento do Mané Garrincha  \n",
       "165                  Parque da Cidade  \n",
       "\n",
       "[166 rows x 10 columns]"
      ]
     },
     "execution_count": 2,
     "metadata": {},
     "output_type": "execute_result"
    }
   ],
   "source": [
    "df.columns = [\"data\", \"idade\", \"região_administrativa\",\n",
    "              \"interesse_causas_sociais\", \"festivais\",\n",
    "              \"interesse_festivais\", \"valor_ingresso (R$)\",\n",
    "              \"atividades_diurnas\", \"atividades_noturnas\",\n",
    "              \"local\"]\n",
    "df"
   ]
  },
  {
   "cell_type": "markdown",
   "id": "19615e76",
   "metadata": {
    "id": "19615e76"
   },
   "source": [
    "# Modificando os dados da coluna com o valor dos ingressos para números"
   ]
  },
  {
   "cell_type": "code",
   "execution_count": 3,
   "id": "2f5adeea",
   "metadata": {
    "colab": {
     "base_uri": "https://localhost:8080/",
     "height": 782
    },
    "id": "2f5adeea",
    "outputId": "84372ca5-bb66-4ac0-d515-333eb1530c3d"
   },
   "outputs": [
    {
     "data": {
      "text/html": [
       "<div>\n",
       "<style scoped>\n",
       "    .dataframe tbody tr th:only-of-type {\n",
       "        vertical-align: middle;\n",
       "    }\n",
       "\n",
       "    .dataframe tbody tr th {\n",
       "        vertical-align: top;\n",
       "    }\n",
       "\n",
       "    .dataframe thead th {\n",
       "        text-align: right;\n",
       "    }\n",
       "</style>\n",
       "<table border=\"1\" class=\"dataframe\">\n",
       "  <thead>\n",
       "    <tr style=\"text-align: right;\">\n",
       "      <th></th>\n",
       "      <th>data</th>\n",
       "      <th>idade</th>\n",
       "      <th>região_administrativa</th>\n",
       "      <th>interesse_causas_sociais</th>\n",
       "      <th>festivais</th>\n",
       "      <th>interesse_festivais</th>\n",
       "      <th>valor_ingresso (R$)</th>\n",
       "      <th>atividades_diurnas</th>\n",
       "      <th>atividades_noturnas</th>\n",
       "      <th>local</th>\n",
       "    </tr>\n",
       "  </thead>\n",
       "  <tbody>\n",
       "    <tr>\n",
       "      <th>0</th>\n",
       "      <td>2022-09-10 10:32:50.640</td>\n",
       "      <td>18</td>\n",
       "      <td>Paranoá</td>\n",
       "      <td>Sim</td>\n",
       "      <td>Não</td>\n",
       "      <td>Sim</td>\n",
       "      <td>[200]</td>\n",
       "      <td>Sim</td>\n",
       "      <td>Nâo</td>\n",
       "      <td>Estacionamento do Mané Garrincha</td>\n",
       "    </tr>\n",
       "    <tr>\n",
       "      <th>1</th>\n",
       "      <td>2022-09-10 10:39:13.565</td>\n",
       "      <td>18</td>\n",
       "      <td>Itapoã</td>\n",
       "      <td>Sim</td>\n",
       "      <td>Não</td>\n",
       "      <td>Sim</td>\n",
       "      <td>[200]</td>\n",
       "      <td>Sim</td>\n",
       "      <td>Sim</td>\n",
       "      <td>Estacionamento do Mané Garrincha</td>\n",
       "    </tr>\n",
       "    <tr>\n",
       "      <th>2</th>\n",
       "      <td>2022-09-10 10:41:07.244</td>\n",
       "      <td>17</td>\n",
       "      <td>Paranoá</td>\n",
       "      <td>Sim</td>\n",
       "      <td>Não</td>\n",
       "      <td>Sim</td>\n",
       "      <td>[200]</td>\n",
       "      <td>Sim</td>\n",
       "      <td>Nâo</td>\n",
       "      <td>Parque da Cidade</td>\n",
       "    </tr>\n",
       "    <tr>\n",
       "      <th>3</th>\n",
       "      <td>2022-09-10 11:22:28.348</td>\n",
       "      <td>18</td>\n",
       "      <td>Paranoá</td>\n",
       "      <td>Sim</td>\n",
       "      <td>Sim</td>\n",
       "      <td>Sim</td>\n",
       "      <td>[200]</td>\n",
       "      <td>Sim</td>\n",
       "      <td>Sim</td>\n",
       "      <td>Estacionamento do Mané Garrincha</td>\n",
       "    </tr>\n",
       "    <tr>\n",
       "      <th>4</th>\n",
       "      <td>2022-09-10 11:33:25.950</td>\n",
       "      <td>18</td>\n",
       "      <td>Itapoã</td>\n",
       "      <td>Sim</td>\n",
       "      <td>Não</td>\n",
       "      <td>Sim</td>\n",
       "      <td>[200]</td>\n",
       "      <td>Não</td>\n",
       "      <td>Sim</td>\n",
       "      <td>Setor de Clubes Sul</td>\n",
       "    </tr>\n",
       "    <tr>\n",
       "      <th>...</th>\n",
       "      <td>...</td>\n",
       "      <td>...</td>\n",
       "      <td>...</td>\n",
       "      <td>...</td>\n",
       "      <td>...</td>\n",
       "      <td>...</td>\n",
       "      <td>...</td>\n",
       "      <td>...</td>\n",
       "      <td>...</td>\n",
       "      <td>...</td>\n",
       "    </tr>\n",
       "    <tr>\n",
       "      <th>161</th>\n",
       "      <td>2022-09-15 15:35:37.527</td>\n",
       "      <td>18</td>\n",
       "      <td>Plano Piloto</td>\n",
       "      <td>Sim</td>\n",
       "      <td>Sim</td>\n",
       "      <td>Sim</td>\n",
       "      <td>[200]</td>\n",
       "      <td>Sim</td>\n",
       "      <td>Sim</td>\n",
       "      <td>Parque da Cidade</td>\n",
       "    </tr>\n",
       "    <tr>\n",
       "      <th>162</th>\n",
       "      <td>2022-09-15 15:36:02.065</td>\n",
       "      <td>20</td>\n",
       "      <td>Plano Piloto</td>\n",
       "      <td>Sim</td>\n",
       "      <td>Sim</td>\n",
       "      <td>Sim</td>\n",
       "      <td>[200]</td>\n",
       "      <td>Não</td>\n",
       "      <td>Sim</td>\n",
       "      <td>Estacionamento do Mané Garrincha</td>\n",
       "    </tr>\n",
       "    <tr>\n",
       "      <th>163</th>\n",
       "      <td>2022-09-15 15:36:37.401</td>\n",
       "      <td>24</td>\n",
       "      <td>Águas Claras</td>\n",
       "      <td>Sim</td>\n",
       "      <td>Sim</td>\n",
       "      <td>Sim</td>\n",
       "      <td>[500]</td>\n",
       "      <td>Sim</td>\n",
       "      <td>Sim</td>\n",
       "      <td>Parque da Cidade</td>\n",
       "    </tr>\n",
       "    <tr>\n",
       "      <th>164</th>\n",
       "      <td>2022-09-15 17:45:50.609</td>\n",
       "      <td>19</td>\n",
       "      <td>Plano Piloto</td>\n",
       "      <td>Sim</td>\n",
       "      <td>Não</td>\n",
       "      <td>Sim</td>\n",
       "      <td>[200]</td>\n",
       "      <td>Sim</td>\n",
       "      <td>Sim</td>\n",
       "      <td>Estacionamento do Mané Garrincha</td>\n",
       "    </tr>\n",
       "    <tr>\n",
       "      <th>165</th>\n",
       "      <td>2022-09-15 20:12:30.659</td>\n",
       "      <td>24</td>\n",
       "      <td>Sobradinho</td>\n",
       "      <td>Sim</td>\n",
       "      <td>Sim</td>\n",
       "      <td>Sim</td>\n",
       "      <td>[200]</td>\n",
       "      <td>Sim</td>\n",
       "      <td>Nâo</td>\n",
       "      <td>Parque da Cidade</td>\n",
       "    </tr>\n",
       "  </tbody>\n",
       "</table>\n",
       "<p>166 rows × 10 columns</p>\n",
       "</div>"
      ],
      "text/plain": [
       "                       data  idade região_administrativa  \\\n",
       "0   2022-09-10 10:32:50.640     18               Paranoá   \n",
       "1   2022-09-10 10:39:13.565     18                Itapoã   \n",
       "2   2022-09-10 10:41:07.244     17               Paranoá   \n",
       "3   2022-09-10 11:22:28.348     18               Paranoá   \n",
       "4   2022-09-10 11:33:25.950     18                Itapoã   \n",
       "..                      ...    ...                   ...   \n",
       "161 2022-09-15 15:35:37.527     18          Plano Piloto   \n",
       "162 2022-09-15 15:36:02.065     20          Plano Piloto   \n",
       "163 2022-09-15 15:36:37.401     24          Águas Claras   \n",
       "164 2022-09-15 17:45:50.609     19          Plano Piloto   \n",
       "165 2022-09-15 20:12:30.659     24            Sobradinho   \n",
       "\n",
       "    interesse_causas_sociais festivais interesse_festivais  \\\n",
       "0                        Sim       Não                 Sim   \n",
       "1                        Sim       Não                 Sim   \n",
       "2                        Sim       Não                 Sim   \n",
       "3                        Sim       Sim                 Sim   \n",
       "4                        Sim       Não                 Sim   \n",
       "..                       ...       ...                 ...   \n",
       "161                      Sim       Sim                 Sim   \n",
       "162                      Sim       Sim                 Sim   \n",
       "163                      Sim       Sim                 Sim   \n",
       "164                      Sim       Não                 Sim   \n",
       "165                      Sim       Sim                 Sim   \n",
       "\n",
       "    valor_ingresso (R$) atividades_diurnas atividades_noturnas  \\\n",
       "0                 [200]                Sim                 Nâo   \n",
       "1                 [200]                Sim                 Sim   \n",
       "2                 [200]                Sim                 Nâo   \n",
       "3                 [200]                Sim                 Sim   \n",
       "4                 [200]                Não                 Sim   \n",
       "..                  ...                ...                 ...   \n",
       "161               [200]                Sim                 Sim   \n",
       "162               [200]                Não                 Sim   \n",
       "163               [500]                Sim                 Sim   \n",
       "164               [200]                Sim                 Sim   \n",
       "165               [200]                Sim                 Nâo   \n",
       "\n",
       "                                local  \n",
       "0    Estacionamento do Mané Garrincha  \n",
       "1    Estacionamento do Mané Garrincha  \n",
       "2                    Parque da Cidade  \n",
       "3    Estacionamento do Mané Garrincha  \n",
       "4                 Setor de Clubes Sul  \n",
       "..                                ...  \n",
       "161                  Parque da Cidade  \n",
       "162  Estacionamento do Mané Garrincha  \n",
       "163                  Parque da Cidade  \n",
       "164  Estacionamento do Mané Garrincha  \n",
       "165                  Parque da Cidade  \n",
       "\n",
       "[166 rows x 10 columns]"
      ]
     },
     "execution_count": 3,
     "metadata": {},
     "output_type": "execute_result"
    }
   ],
   "source": [
    "def convert_part1():\n",
    "    \"\"\"\n",
    "    Changes the strings in the 'valor_ingresso (R$)' to\n",
    "    a list, separating at the '$', then excludes the first\n",
    "    element of the list.\n",
    "    \n",
    "    Returns\n",
    "    ---------\n",
    "    df: the original DataFrame object, with the values\n",
    "    in the 'valor_ingresso (R$)' column modified to be\n",
    "    lists containing a single string.\n",
    "    \"\"\"\n",
    "    money_int = []\n",
    "    for item in df[\"valor_ingresso (R$)\"]:\n",
    "        sep = item.split(sep=\"$\")\n",
    "        del sep[0]\n",
    "        money_int.append(sep)\n",
    "    df[\"valor_ingresso (R$)\"] = money_int\n",
    "    return df\n",
    "\n",
    "df = convert_part1()\n",
    "df"
   ]
  },
  {
   "cell_type": "code",
   "execution_count": 4,
   "id": "5de8ecfe",
   "metadata": {
    "colab": {
     "base_uri": "https://localhost:8080/",
     "height": 782
    },
    "id": "5de8ecfe",
    "outputId": "8fffc0c8-cab3-4939-fd59-291faa0551c3",
    "scrolled": false
   },
   "outputs": [
    {
     "data": {
      "text/html": [
       "<div>\n",
       "<style scoped>\n",
       "    .dataframe tbody tr th:only-of-type {\n",
       "        vertical-align: middle;\n",
       "    }\n",
       "\n",
       "    .dataframe tbody tr th {\n",
       "        vertical-align: top;\n",
       "    }\n",
       "\n",
       "    .dataframe thead th {\n",
       "        text-align: right;\n",
       "    }\n",
       "</style>\n",
       "<table border=\"1\" class=\"dataframe\">\n",
       "  <thead>\n",
       "    <tr style=\"text-align: right;\">\n",
       "      <th></th>\n",
       "      <th>data</th>\n",
       "      <th>idade</th>\n",
       "      <th>região_administrativa</th>\n",
       "      <th>interesse_causas_sociais</th>\n",
       "      <th>festivais</th>\n",
       "      <th>interesse_festivais</th>\n",
       "      <th>valor_ingresso (R$)</th>\n",
       "      <th>atividades_diurnas</th>\n",
       "      <th>atividades_noturnas</th>\n",
       "      <th>local</th>\n",
       "    </tr>\n",
       "  </thead>\n",
       "  <tbody>\n",
       "    <tr>\n",
       "      <th>0</th>\n",
       "      <td>2022-09-10 10:32:50.640</td>\n",
       "      <td>18</td>\n",
       "      <td>Paranoá</td>\n",
       "      <td>Sim</td>\n",
       "      <td>Não</td>\n",
       "      <td>Sim</td>\n",
       "      <td>200</td>\n",
       "      <td>Sim</td>\n",
       "      <td>Nâo</td>\n",
       "      <td>Estacionamento do Mané Garrincha</td>\n",
       "    </tr>\n",
       "    <tr>\n",
       "      <th>1</th>\n",
       "      <td>2022-09-10 10:39:13.565</td>\n",
       "      <td>18</td>\n",
       "      <td>Itapoã</td>\n",
       "      <td>Sim</td>\n",
       "      <td>Não</td>\n",
       "      <td>Sim</td>\n",
       "      <td>200</td>\n",
       "      <td>Sim</td>\n",
       "      <td>Sim</td>\n",
       "      <td>Estacionamento do Mané Garrincha</td>\n",
       "    </tr>\n",
       "    <tr>\n",
       "      <th>2</th>\n",
       "      <td>2022-09-10 10:41:07.244</td>\n",
       "      <td>17</td>\n",
       "      <td>Paranoá</td>\n",
       "      <td>Sim</td>\n",
       "      <td>Não</td>\n",
       "      <td>Sim</td>\n",
       "      <td>200</td>\n",
       "      <td>Sim</td>\n",
       "      <td>Nâo</td>\n",
       "      <td>Parque da Cidade</td>\n",
       "    </tr>\n",
       "    <tr>\n",
       "      <th>3</th>\n",
       "      <td>2022-09-10 11:22:28.348</td>\n",
       "      <td>18</td>\n",
       "      <td>Paranoá</td>\n",
       "      <td>Sim</td>\n",
       "      <td>Sim</td>\n",
       "      <td>Sim</td>\n",
       "      <td>200</td>\n",
       "      <td>Sim</td>\n",
       "      <td>Sim</td>\n",
       "      <td>Estacionamento do Mané Garrincha</td>\n",
       "    </tr>\n",
       "    <tr>\n",
       "      <th>4</th>\n",
       "      <td>2022-09-10 11:33:25.950</td>\n",
       "      <td>18</td>\n",
       "      <td>Itapoã</td>\n",
       "      <td>Sim</td>\n",
       "      <td>Não</td>\n",
       "      <td>Sim</td>\n",
       "      <td>200</td>\n",
       "      <td>Não</td>\n",
       "      <td>Sim</td>\n",
       "      <td>Setor de Clubes Sul</td>\n",
       "    </tr>\n",
       "    <tr>\n",
       "      <th>...</th>\n",
       "      <td>...</td>\n",
       "      <td>...</td>\n",
       "      <td>...</td>\n",
       "      <td>...</td>\n",
       "      <td>...</td>\n",
       "      <td>...</td>\n",
       "      <td>...</td>\n",
       "      <td>...</td>\n",
       "      <td>...</td>\n",
       "      <td>...</td>\n",
       "    </tr>\n",
       "    <tr>\n",
       "      <th>161</th>\n",
       "      <td>2022-09-15 15:35:37.527</td>\n",
       "      <td>18</td>\n",
       "      <td>Plano Piloto</td>\n",
       "      <td>Sim</td>\n",
       "      <td>Sim</td>\n",
       "      <td>Sim</td>\n",
       "      <td>200</td>\n",
       "      <td>Sim</td>\n",
       "      <td>Sim</td>\n",
       "      <td>Parque da Cidade</td>\n",
       "    </tr>\n",
       "    <tr>\n",
       "      <th>162</th>\n",
       "      <td>2022-09-15 15:36:02.065</td>\n",
       "      <td>20</td>\n",
       "      <td>Plano Piloto</td>\n",
       "      <td>Sim</td>\n",
       "      <td>Sim</td>\n",
       "      <td>Sim</td>\n",
       "      <td>200</td>\n",
       "      <td>Não</td>\n",
       "      <td>Sim</td>\n",
       "      <td>Estacionamento do Mané Garrincha</td>\n",
       "    </tr>\n",
       "    <tr>\n",
       "      <th>163</th>\n",
       "      <td>2022-09-15 15:36:37.401</td>\n",
       "      <td>24</td>\n",
       "      <td>Águas Claras</td>\n",
       "      <td>Sim</td>\n",
       "      <td>Sim</td>\n",
       "      <td>Sim</td>\n",
       "      <td>500</td>\n",
       "      <td>Sim</td>\n",
       "      <td>Sim</td>\n",
       "      <td>Parque da Cidade</td>\n",
       "    </tr>\n",
       "    <tr>\n",
       "      <th>164</th>\n",
       "      <td>2022-09-15 17:45:50.609</td>\n",
       "      <td>19</td>\n",
       "      <td>Plano Piloto</td>\n",
       "      <td>Sim</td>\n",
       "      <td>Não</td>\n",
       "      <td>Sim</td>\n",
       "      <td>200</td>\n",
       "      <td>Sim</td>\n",
       "      <td>Sim</td>\n",
       "      <td>Estacionamento do Mané Garrincha</td>\n",
       "    </tr>\n",
       "    <tr>\n",
       "      <th>165</th>\n",
       "      <td>2022-09-15 20:12:30.659</td>\n",
       "      <td>24</td>\n",
       "      <td>Sobradinho</td>\n",
       "      <td>Sim</td>\n",
       "      <td>Sim</td>\n",
       "      <td>Sim</td>\n",
       "      <td>200</td>\n",
       "      <td>Sim</td>\n",
       "      <td>Nâo</td>\n",
       "      <td>Parque da Cidade</td>\n",
       "    </tr>\n",
       "  </tbody>\n",
       "</table>\n",
       "<p>166 rows × 10 columns</p>\n",
       "</div>"
      ],
      "text/plain": [
       "                       data  idade região_administrativa  \\\n",
       "0   2022-09-10 10:32:50.640     18               Paranoá   \n",
       "1   2022-09-10 10:39:13.565     18                Itapoã   \n",
       "2   2022-09-10 10:41:07.244     17               Paranoá   \n",
       "3   2022-09-10 11:22:28.348     18               Paranoá   \n",
       "4   2022-09-10 11:33:25.950     18                Itapoã   \n",
       "..                      ...    ...                   ...   \n",
       "161 2022-09-15 15:35:37.527     18          Plano Piloto   \n",
       "162 2022-09-15 15:36:02.065     20          Plano Piloto   \n",
       "163 2022-09-15 15:36:37.401     24          Águas Claras   \n",
       "164 2022-09-15 17:45:50.609     19          Plano Piloto   \n",
       "165 2022-09-15 20:12:30.659     24            Sobradinho   \n",
       "\n",
       "    interesse_causas_sociais festivais interesse_festivais  \\\n",
       "0                        Sim       Não                 Sim   \n",
       "1                        Sim       Não                 Sim   \n",
       "2                        Sim       Não                 Sim   \n",
       "3                        Sim       Sim                 Sim   \n",
       "4                        Sim       Não                 Sim   \n",
       "..                       ...       ...                 ...   \n",
       "161                      Sim       Sim                 Sim   \n",
       "162                      Sim       Sim                 Sim   \n",
       "163                      Sim       Sim                 Sim   \n",
       "164                      Sim       Não                 Sim   \n",
       "165                      Sim       Sim                 Sim   \n",
       "\n",
       "     valor_ingresso (R$) atividades_diurnas atividades_noturnas  \\\n",
       "0                    200                Sim                 Nâo   \n",
       "1                    200                Sim                 Sim   \n",
       "2                    200                Sim                 Nâo   \n",
       "3                    200                Sim                 Sim   \n",
       "4                    200                Não                 Sim   \n",
       "..                   ...                ...                 ...   \n",
       "161                  200                Sim                 Sim   \n",
       "162                  200                Não                 Sim   \n",
       "163                  500                Sim                 Sim   \n",
       "164                  200                Sim                 Sim   \n",
       "165                  200                Sim                 Nâo   \n",
       "\n",
       "                                local  \n",
       "0    Estacionamento do Mané Garrincha  \n",
       "1    Estacionamento do Mané Garrincha  \n",
       "2                    Parque da Cidade  \n",
       "3    Estacionamento do Mané Garrincha  \n",
       "4                 Setor de Clubes Sul  \n",
       "..                                ...  \n",
       "161                  Parque da Cidade  \n",
       "162  Estacionamento do Mané Garrincha  \n",
       "163                  Parque da Cidade  \n",
       "164  Estacionamento do Mané Garrincha  \n",
       "165                  Parque da Cidade  \n",
       "\n",
       "[166 rows x 10 columns]"
      ]
     },
     "execution_count": 4,
     "metadata": {},
     "output_type": "execute_result"
    }
   ],
   "source": [
    "def convert_part2():\n",
    "    \"\"\"\n",
    "    Takes the lists containing strings in the\n",
    "    'valor_ingresso (R$)' column and extracts them\n",
    "    from the lists, then turns them into integers,\n",
    "    and inserts them back into the DataFrame as such.\n",
    "    \n",
    "    Returns\n",
    "    --------\n",
    "    df: the original DataFrame object, with the values\n",
    "    in the 'valor_ingresso (R$)' column modified to be\n",
    "    integers.\n",
    "    \"\"\"\n",
    "    money = []\n",
    "    for item in df[\"valor_ingresso (R$)\"]:\n",
    "        value = item[0]\n",
    "        new = int(value)\n",
    "        money.append(new)\n",
    "    df[\"valor_ingresso (R$)\"] = money\n",
    "    return df\n",
    "\n",
    "df = convert_part2()\n",
    "df"
   ]
  },
  {
   "cell_type": "markdown",
   "id": "9c161f70",
   "metadata": {
    "id": "9c161f70"
   },
   "source": [
    "# Corrigindo o erro de digitação para as repostas na coluna atividades_noturnas"
   ]
  },
  {
   "cell_type": "code",
   "execution_count": 5,
   "id": "2ca30edd",
   "metadata": {
    "colab": {
     "base_uri": "https://localhost:8080/",
     "height": 782
    },
    "id": "2ca30edd",
    "outputId": "e309b85a-d8c1-428c-cf1c-7e913fd2dcd1"
   },
   "outputs": [
    {
     "data": {
      "text/html": [
       "<div>\n",
       "<style scoped>\n",
       "    .dataframe tbody tr th:only-of-type {\n",
       "        vertical-align: middle;\n",
       "    }\n",
       "\n",
       "    .dataframe tbody tr th {\n",
       "        vertical-align: top;\n",
       "    }\n",
       "\n",
       "    .dataframe thead th {\n",
       "        text-align: right;\n",
       "    }\n",
       "</style>\n",
       "<table border=\"1\" class=\"dataframe\">\n",
       "  <thead>\n",
       "    <tr style=\"text-align: right;\">\n",
       "      <th></th>\n",
       "      <th>data</th>\n",
       "      <th>idade</th>\n",
       "      <th>região_administrativa</th>\n",
       "      <th>interesse_causas_sociais</th>\n",
       "      <th>festivais</th>\n",
       "      <th>interesse_festivais</th>\n",
       "      <th>valor_ingresso (R$)</th>\n",
       "      <th>atividades_diurnas</th>\n",
       "      <th>atividades_noturnas</th>\n",
       "      <th>local</th>\n",
       "    </tr>\n",
       "  </thead>\n",
       "  <tbody>\n",
       "    <tr>\n",
       "      <th>0</th>\n",
       "      <td>2022-09-10 10:32:50.640</td>\n",
       "      <td>18</td>\n",
       "      <td>Paranoá</td>\n",
       "      <td>Sim</td>\n",
       "      <td>Não</td>\n",
       "      <td>Sim</td>\n",
       "      <td>200</td>\n",
       "      <td>Sim</td>\n",
       "      <td>Não</td>\n",
       "      <td>Estacionamento do Mané Garrincha</td>\n",
       "    </tr>\n",
       "    <tr>\n",
       "      <th>1</th>\n",
       "      <td>2022-09-10 10:39:13.565</td>\n",
       "      <td>18</td>\n",
       "      <td>Itapoã</td>\n",
       "      <td>Sim</td>\n",
       "      <td>Não</td>\n",
       "      <td>Sim</td>\n",
       "      <td>200</td>\n",
       "      <td>Sim</td>\n",
       "      <td>Sim</td>\n",
       "      <td>Estacionamento do Mané Garrincha</td>\n",
       "    </tr>\n",
       "    <tr>\n",
       "      <th>2</th>\n",
       "      <td>2022-09-10 10:41:07.244</td>\n",
       "      <td>17</td>\n",
       "      <td>Paranoá</td>\n",
       "      <td>Sim</td>\n",
       "      <td>Não</td>\n",
       "      <td>Sim</td>\n",
       "      <td>200</td>\n",
       "      <td>Sim</td>\n",
       "      <td>Não</td>\n",
       "      <td>Parque da Cidade</td>\n",
       "    </tr>\n",
       "    <tr>\n",
       "      <th>3</th>\n",
       "      <td>2022-09-10 11:22:28.348</td>\n",
       "      <td>18</td>\n",
       "      <td>Paranoá</td>\n",
       "      <td>Sim</td>\n",
       "      <td>Sim</td>\n",
       "      <td>Sim</td>\n",
       "      <td>200</td>\n",
       "      <td>Sim</td>\n",
       "      <td>Sim</td>\n",
       "      <td>Estacionamento do Mané Garrincha</td>\n",
       "    </tr>\n",
       "    <tr>\n",
       "      <th>4</th>\n",
       "      <td>2022-09-10 11:33:25.950</td>\n",
       "      <td>18</td>\n",
       "      <td>Itapoã</td>\n",
       "      <td>Sim</td>\n",
       "      <td>Não</td>\n",
       "      <td>Sim</td>\n",
       "      <td>200</td>\n",
       "      <td>Não</td>\n",
       "      <td>Sim</td>\n",
       "      <td>Setor de Clubes Sul</td>\n",
       "    </tr>\n",
       "    <tr>\n",
       "      <th>...</th>\n",
       "      <td>...</td>\n",
       "      <td>...</td>\n",
       "      <td>...</td>\n",
       "      <td>...</td>\n",
       "      <td>...</td>\n",
       "      <td>...</td>\n",
       "      <td>...</td>\n",
       "      <td>...</td>\n",
       "      <td>...</td>\n",
       "      <td>...</td>\n",
       "    </tr>\n",
       "    <tr>\n",
       "      <th>161</th>\n",
       "      <td>2022-09-15 15:35:37.527</td>\n",
       "      <td>18</td>\n",
       "      <td>Plano Piloto</td>\n",
       "      <td>Sim</td>\n",
       "      <td>Sim</td>\n",
       "      <td>Sim</td>\n",
       "      <td>200</td>\n",
       "      <td>Sim</td>\n",
       "      <td>Sim</td>\n",
       "      <td>Parque da Cidade</td>\n",
       "    </tr>\n",
       "    <tr>\n",
       "      <th>162</th>\n",
       "      <td>2022-09-15 15:36:02.065</td>\n",
       "      <td>20</td>\n",
       "      <td>Plano Piloto</td>\n",
       "      <td>Sim</td>\n",
       "      <td>Sim</td>\n",
       "      <td>Sim</td>\n",
       "      <td>200</td>\n",
       "      <td>Não</td>\n",
       "      <td>Sim</td>\n",
       "      <td>Estacionamento do Mané Garrincha</td>\n",
       "    </tr>\n",
       "    <tr>\n",
       "      <th>163</th>\n",
       "      <td>2022-09-15 15:36:37.401</td>\n",
       "      <td>24</td>\n",
       "      <td>Águas Claras</td>\n",
       "      <td>Sim</td>\n",
       "      <td>Sim</td>\n",
       "      <td>Sim</td>\n",
       "      <td>500</td>\n",
       "      <td>Sim</td>\n",
       "      <td>Sim</td>\n",
       "      <td>Parque da Cidade</td>\n",
       "    </tr>\n",
       "    <tr>\n",
       "      <th>164</th>\n",
       "      <td>2022-09-15 17:45:50.609</td>\n",
       "      <td>19</td>\n",
       "      <td>Plano Piloto</td>\n",
       "      <td>Sim</td>\n",
       "      <td>Não</td>\n",
       "      <td>Sim</td>\n",
       "      <td>200</td>\n",
       "      <td>Sim</td>\n",
       "      <td>Sim</td>\n",
       "      <td>Estacionamento do Mané Garrincha</td>\n",
       "    </tr>\n",
       "    <tr>\n",
       "      <th>165</th>\n",
       "      <td>2022-09-15 20:12:30.659</td>\n",
       "      <td>24</td>\n",
       "      <td>Sobradinho</td>\n",
       "      <td>Sim</td>\n",
       "      <td>Sim</td>\n",
       "      <td>Sim</td>\n",
       "      <td>200</td>\n",
       "      <td>Sim</td>\n",
       "      <td>Não</td>\n",
       "      <td>Parque da Cidade</td>\n",
       "    </tr>\n",
       "  </tbody>\n",
       "</table>\n",
       "<p>166 rows × 10 columns</p>\n",
       "</div>"
      ],
      "text/plain": [
       "                       data  idade região_administrativa  \\\n",
       "0   2022-09-10 10:32:50.640     18               Paranoá   \n",
       "1   2022-09-10 10:39:13.565     18                Itapoã   \n",
       "2   2022-09-10 10:41:07.244     17               Paranoá   \n",
       "3   2022-09-10 11:22:28.348     18               Paranoá   \n",
       "4   2022-09-10 11:33:25.950     18                Itapoã   \n",
       "..                      ...    ...                   ...   \n",
       "161 2022-09-15 15:35:37.527     18          Plano Piloto   \n",
       "162 2022-09-15 15:36:02.065     20          Plano Piloto   \n",
       "163 2022-09-15 15:36:37.401     24          Águas Claras   \n",
       "164 2022-09-15 17:45:50.609     19          Plano Piloto   \n",
       "165 2022-09-15 20:12:30.659     24            Sobradinho   \n",
       "\n",
       "    interesse_causas_sociais festivais interesse_festivais  \\\n",
       "0                        Sim       Não                 Sim   \n",
       "1                        Sim       Não                 Sim   \n",
       "2                        Sim       Não                 Sim   \n",
       "3                        Sim       Sim                 Sim   \n",
       "4                        Sim       Não                 Sim   \n",
       "..                       ...       ...                 ...   \n",
       "161                      Sim       Sim                 Sim   \n",
       "162                      Sim       Sim                 Sim   \n",
       "163                      Sim       Sim                 Sim   \n",
       "164                      Sim       Não                 Sim   \n",
       "165                      Sim       Sim                 Sim   \n",
       "\n",
       "     valor_ingresso (R$) atividades_diurnas atividades_noturnas  \\\n",
       "0                    200                Sim                 Não   \n",
       "1                    200                Sim                 Sim   \n",
       "2                    200                Sim                 Não   \n",
       "3                    200                Sim                 Sim   \n",
       "4                    200                Não                 Sim   \n",
       "..                   ...                ...                 ...   \n",
       "161                  200                Sim                 Sim   \n",
       "162                  200                Não                 Sim   \n",
       "163                  500                Sim                 Sim   \n",
       "164                  200                Sim                 Sim   \n",
       "165                  200                Sim                 Não   \n",
       "\n",
       "                                local  \n",
       "0    Estacionamento do Mané Garrincha  \n",
       "1    Estacionamento do Mané Garrincha  \n",
       "2                    Parque da Cidade  \n",
       "3    Estacionamento do Mané Garrincha  \n",
       "4                 Setor de Clubes Sul  \n",
       "..                                ...  \n",
       "161                  Parque da Cidade  \n",
       "162  Estacionamento do Mané Garrincha  \n",
       "163                  Parque da Cidade  \n",
       "164  Estacionamento do Mané Garrincha  \n",
       "165                  Parque da Cidade  \n",
       "\n",
       "[166 rows x 10 columns]"
      ]
     },
     "execution_count": 5,
     "metadata": {},
     "output_type": "execute_result"
    }
   ],
   "source": [
    "s = \"Sim\"\n",
    "n = \"Não\"\n",
    "\n",
    "nope = []\n",
    "for item in df[\"atividades_noturnas\"]:\n",
    "    checking = item.split()\n",
    "    if \"Sim\" in checking:\n",
    "        nope.append(s)\n",
    "    else:\n",
    "        nope.append(n)\n",
    "df[\"atividades_noturnas\"] = nope\n",
    "df"
   ]
  },
  {
   "cell_type": "markdown",
   "id": "BBH9rKINYnge",
   "metadata": {
    "id": "BBH9rKINYnge"
   },
   "source": [
    "## Adicionando uma coluna para saber quem tem interesse em atividades nos dois turnos"
   ]
  },
  {
   "cell_type": "code",
   "execution_count": 6,
   "id": "ebf83f2f",
   "metadata": {
    "colab": {
     "base_uri": "https://localhost:8080/",
     "height": 782
    },
    "id": "ebf83f2f",
    "outputId": "d77c783e-1feb-4872-f6ec-675a78bd2c07",
    "scrolled": false
   },
   "outputs": [
    {
     "data": {
      "text/html": [
       "<div>\n",
       "<style scoped>\n",
       "    .dataframe tbody tr th:only-of-type {\n",
       "        vertical-align: middle;\n",
       "    }\n",
       "\n",
       "    .dataframe tbody tr th {\n",
       "        vertical-align: top;\n",
       "    }\n",
       "\n",
       "    .dataframe thead th {\n",
       "        text-align: right;\n",
       "    }\n",
       "</style>\n",
       "<table border=\"1\" class=\"dataframe\">\n",
       "  <thead>\n",
       "    <tr style=\"text-align: right;\">\n",
       "      <th></th>\n",
       "      <th>data</th>\n",
       "      <th>idade</th>\n",
       "      <th>região_administrativa</th>\n",
       "      <th>interesse_causas_sociais</th>\n",
       "      <th>festivais</th>\n",
       "      <th>interesse_festivais</th>\n",
       "      <th>valor_ingresso (R$)</th>\n",
       "      <th>atividades_diurnas</th>\n",
       "      <th>atividades_noturnas</th>\n",
       "      <th>local</th>\n",
       "      <th>atividades_ambos_turnos</th>\n",
       "    </tr>\n",
       "  </thead>\n",
       "  <tbody>\n",
       "    <tr>\n",
       "      <th>0</th>\n",
       "      <td>2022-09-10 10:32:50.640</td>\n",
       "      <td>18</td>\n",
       "      <td>Paranoá</td>\n",
       "      <td>Sim</td>\n",
       "      <td>Não</td>\n",
       "      <td>Sim</td>\n",
       "      <td>200</td>\n",
       "      <td>Sim</td>\n",
       "      <td>Não</td>\n",
       "      <td>Estacionamento do Mané Garrincha</td>\n",
       "      <td>Não</td>\n",
       "    </tr>\n",
       "    <tr>\n",
       "      <th>1</th>\n",
       "      <td>2022-09-10 10:39:13.565</td>\n",
       "      <td>18</td>\n",
       "      <td>Itapoã</td>\n",
       "      <td>Sim</td>\n",
       "      <td>Não</td>\n",
       "      <td>Sim</td>\n",
       "      <td>200</td>\n",
       "      <td>Sim</td>\n",
       "      <td>Sim</td>\n",
       "      <td>Estacionamento do Mané Garrincha</td>\n",
       "      <td>Sim</td>\n",
       "    </tr>\n",
       "    <tr>\n",
       "      <th>2</th>\n",
       "      <td>2022-09-10 10:41:07.244</td>\n",
       "      <td>17</td>\n",
       "      <td>Paranoá</td>\n",
       "      <td>Sim</td>\n",
       "      <td>Não</td>\n",
       "      <td>Sim</td>\n",
       "      <td>200</td>\n",
       "      <td>Sim</td>\n",
       "      <td>Não</td>\n",
       "      <td>Parque da Cidade</td>\n",
       "      <td>Não</td>\n",
       "    </tr>\n",
       "    <tr>\n",
       "      <th>3</th>\n",
       "      <td>2022-09-10 11:22:28.348</td>\n",
       "      <td>18</td>\n",
       "      <td>Paranoá</td>\n",
       "      <td>Sim</td>\n",
       "      <td>Sim</td>\n",
       "      <td>Sim</td>\n",
       "      <td>200</td>\n",
       "      <td>Sim</td>\n",
       "      <td>Sim</td>\n",
       "      <td>Estacionamento do Mané Garrincha</td>\n",
       "      <td>Sim</td>\n",
       "    </tr>\n",
       "    <tr>\n",
       "      <th>4</th>\n",
       "      <td>2022-09-10 11:33:25.950</td>\n",
       "      <td>18</td>\n",
       "      <td>Itapoã</td>\n",
       "      <td>Sim</td>\n",
       "      <td>Não</td>\n",
       "      <td>Sim</td>\n",
       "      <td>200</td>\n",
       "      <td>Não</td>\n",
       "      <td>Sim</td>\n",
       "      <td>Setor de Clubes Sul</td>\n",
       "      <td>Não</td>\n",
       "    </tr>\n",
       "    <tr>\n",
       "      <th>...</th>\n",
       "      <td>...</td>\n",
       "      <td>...</td>\n",
       "      <td>...</td>\n",
       "      <td>...</td>\n",
       "      <td>...</td>\n",
       "      <td>...</td>\n",
       "      <td>...</td>\n",
       "      <td>...</td>\n",
       "      <td>...</td>\n",
       "      <td>...</td>\n",
       "      <td>...</td>\n",
       "    </tr>\n",
       "    <tr>\n",
       "      <th>161</th>\n",
       "      <td>2022-09-15 15:35:37.527</td>\n",
       "      <td>18</td>\n",
       "      <td>Plano Piloto</td>\n",
       "      <td>Sim</td>\n",
       "      <td>Sim</td>\n",
       "      <td>Sim</td>\n",
       "      <td>200</td>\n",
       "      <td>Sim</td>\n",
       "      <td>Sim</td>\n",
       "      <td>Parque da Cidade</td>\n",
       "      <td>Sim</td>\n",
       "    </tr>\n",
       "    <tr>\n",
       "      <th>162</th>\n",
       "      <td>2022-09-15 15:36:02.065</td>\n",
       "      <td>20</td>\n",
       "      <td>Plano Piloto</td>\n",
       "      <td>Sim</td>\n",
       "      <td>Sim</td>\n",
       "      <td>Sim</td>\n",
       "      <td>200</td>\n",
       "      <td>Não</td>\n",
       "      <td>Sim</td>\n",
       "      <td>Estacionamento do Mané Garrincha</td>\n",
       "      <td>Não</td>\n",
       "    </tr>\n",
       "    <tr>\n",
       "      <th>163</th>\n",
       "      <td>2022-09-15 15:36:37.401</td>\n",
       "      <td>24</td>\n",
       "      <td>Águas Claras</td>\n",
       "      <td>Sim</td>\n",
       "      <td>Sim</td>\n",
       "      <td>Sim</td>\n",
       "      <td>500</td>\n",
       "      <td>Sim</td>\n",
       "      <td>Sim</td>\n",
       "      <td>Parque da Cidade</td>\n",
       "      <td>Sim</td>\n",
       "    </tr>\n",
       "    <tr>\n",
       "      <th>164</th>\n",
       "      <td>2022-09-15 17:45:50.609</td>\n",
       "      <td>19</td>\n",
       "      <td>Plano Piloto</td>\n",
       "      <td>Sim</td>\n",
       "      <td>Não</td>\n",
       "      <td>Sim</td>\n",
       "      <td>200</td>\n",
       "      <td>Sim</td>\n",
       "      <td>Sim</td>\n",
       "      <td>Estacionamento do Mané Garrincha</td>\n",
       "      <td>Sim</td>\n",
       "    </tr>\n",
       "    <tr>\n",
       "      <th>165</th>\n",
       "      <td>2022-09-15 20:12:30.659</td>\n",
       "      <td>24</td>\n",
       "      <td>Sobradinho</td>\n",
       "      <td>Sim</td>\n",
       "      <td>Sim</td>\n",
       "      <td>Sim</td>\n",
       "      <td>200</td>\n",
       "      <td>Sim</td>\n",
       "      <td>Não</td>\n",
       "      <td>Parque da Cidade</td>\n",
       "      <td>Não</td>\n",
       "    </tr>\n",
       "  </tbody>\n",
       "</table>\n",
       "<p>166 rows × 11 columns</p>\n",
       "</div>"
      ],
      "text/plain": [
       "                       data  idade região_administrativa  \\\n",
       "0   2022-09-10 10:32:50.640     18               Paranoá   \n",
       "1   2022-09-10 10:39:13.565     18                Itapoã   \n",
       "2   2022-09-10 10:41:07.244     17               Paranoá   \n",
       "3   2022-09-10 11:22:28.348     18               Paranoá   \n",
       "4   2022-09-10 11:33:25.950     18                Itapoã   \n",
       "..                      ...    ...                   ...   \n",
       "161 2022-09-15 15:35:37.527     18          Plano Piloto   \n",
       "162 2022-09-15 15:36:02.065     20          Plano Piloto   \n",
       "163 2022-09-15 15:36:37.401     24          Águas Claras   \n",
       "164 2022-09-15 17:45:50.609     19          Plano Piloto   \n",
       "165 2022-09-15 20:12:30.659     24            Sobradinho   \n",
       "\n",
       "    interesse_causas_sociais festivais interesse_festivais  \\\n",
       "0                        Sim       Não                 Sim   \n",
       "1                        Sim       Não                 Sim   \n",
       "2                        Sim       Não                 Sim   \n",
       "3                        Sim       Sim                 Sim   \n",
       "4                        Sim       Não                 Sim   \n",
       "..                       ...       ...                 ...   \n",
       "161                      Sim       Sim                 Sim   \n",
       "162                      Sim       Sim                 Sim   \n",
       "163                      Sim       Sim                 Sim   \n",
       "164                      Sim       Não                 Sim   \n",
       "165                      Sim       Sim                 Sim   \n",
       "\n",
       "     valor_ingresso (R$) atividades_diurnas atividades_noturnas  \\\n",
       "0                    200                Sim                 Não   \n",
       "1                    200                Sim                 Sim   \n",
       "2                    200                Sim                 Não   \n",
       "3                    200                Sim                 Sim   \n",
       "4                    200                Não                 Sim   \n",
       "..                   ...                ...                 ...   \n",
       "161                  200                Sim                 Sim   \n",
       "162                  200                Não                 Sim   \n",
       "163                  500                Sim                 Sim   \n",
       "164                  200                Sim                 Sim   \n",
       "165                  200                Sim                 Não   \n",
       "\n",
       "                                local atividades_ambos_turnos  \n",
       "0    Estacionamento do Mané Garrincha                     Não  \n",
       "1    Estacionamento do Mané Garrincha                     Sim  \n",
       "2                    Parque da Cidade                     Não  \n",
       "3    Estacionamento do Mané Garrincha                     Sim  \n",
       "4                 Setor de Clubes Sul                     Não  \n",
       "..                                ...                     ...  \n",
       "161                  Parque da Cidade                     Sim  \n",
       "162  Estacionamento do Mané Garrincha                     Não  \n",
       "163                  Parque da Cidade                     Sim  \n",
       "164  Estacionamento do Mané Garrincha                     Sim  \n",
       "165                  Parque da Cidade                     Não  \n",
       "\n",
       "[166 rows x 11 columns]"
      ]
     },
     "execution_count": 6,
     "metadata": {},
     "output_type": "execute_result"
    }
   ],
   "source": [
    "nova_coluna = []\n",
    "for i in range(0,len(df)):\n",
    "    if df[\"atividades_diurnas\"][i] != \"Sim\" or df[\"atividades_noturnas\"][i] != \"Sim\":\n",
    "        nova_coluna.append(n)\n",
    "    else:\n",
    "        nova_coluna.append(s)\n",
    "df[\"atividades_ambos_turnos\"] = nova_coluna\n",
    "df"
   ]
  },
  {
   "cell_type": "code",
   "execution_count": 7,
   "id": "d97cd4be",
   "metadata": {
    "colab": {
     "base_uri": "https://localhost:8080/"
    },
    "id": "d97cd4be",
    "outputId": "70e5e354-b57f-4242-e09c-ffaac2b79625",
    "scrolled": true
   },
   "outputs": [
    {
     "data": {
      "text/plain": [
       "Sim    123\n",
       "Não     43\n",
       "Name: atividades_ambos_turnos, dtype: int64"
      ]
     },
     "execution_count": 7,
     "metadata": {},
     "output_type": "execute_result"
    }
   ],
   "source": [
    "df[\"atividades_ambos_turnos\"].value_counts()"
   ]
  },
  {
   "cell_type": "markdown",
   "id": "3d28ffd5",
   "metadata": {
    "id": "3d28ffd5"
   },
   "source": [
    "# Informações demográficas"
   ]
  },
  {
   "cell_type": "markdown",
   "id": "UPPTovEoY9w-",
   "metadata": {
    "id": "UPPTovEoY9w-"
   },
   "source": [
    "### Quantas pessoas responderam por região"
   ]
  },
  {
   "cell_type": "code",
   "execution_count": 8,
   "id": "9f897e21",
   "metadata": {
    "colab": {
     "base_uri": "https://localhost:8080/"
    },
    "id": "9f897e21",
    "outputId": "34394559-baa6-48f6-b01f-796a94fb8187",
    "scrolled": false
   },
   "outputs": [
    {
     "data": {
      "text/plain": [
       "Plano Piloto              31\n",
       "Paranoá                   29\n",
       "Itapoã                    23\n",
       "Sobradinho                13\n",
       "Jardim Botânico           13\n",
       "Águas Claras               7\n",
       "Guará                      6\n",
       "Park Way                   6\n",
       "Lago Sul                   5\n",
       "Lago Norte                 5\n",
       "São Sebastião              4\n",
       "Sudoeste/Octogonal         4\n",
       "Taguatinga                 2\n",
       "Arniqueira                 2\n",
       "Núcleo Bandeirante         2\n",
       "Cruzeiro                   2\n",
       "Riacho Fundo               2\n",
       "Planaltina                 2\n",
       "Ceilândia                  1\n",
       "Santa Maria                1\n",
       "Recanto das Emas           1\n",
       "Vicente Pires              1\n",
       "Gama                       1\n",
       "Samambaia                  1\n",
       "Riacho Fundo 2             1\n",
       "Sol Nascente/Pôr do So     1\n",
       "Name: região_administrativa, dtype: int64"
      ]
     },
     "execution_count": 8,
     "metadata": {},
     "output_type": "execute_result"
    }
   ],
   "source": [
    "df[\"região_administrativa\"].value_counts()"
   ]
  },
  {
   "cell_type": "markdown",
   "id": "g4RXm4DaZF2W",
   "metadata": {
    "id": "g4RXm4DaZF2W"
   },
   "source": [
    "### Média e desvio padrão"
   ]
  },
  {
   "cell_type": "code",
   "execution_count": 9,
   "id": "a2db0598",
   "metadata": {
    "colab": {
     "base_uri": "https://localhost:8080/"
    },
    "id": "a2db0598",
    "outputId": "e9412399-ab7e-4b10-929f-95c41fd462a2",
    "scrolled": true
   },
   "outputs": [
    {
     "data": {
      "text/plain": [
       "idade                   25.867470\n",
       "valor_ingresso (R$)    270.481928\n",
       "dtype: float64"
      ]
     },
     "execution_count": 9,
     "metadata": {},
     "output_type": "execute_result"
    }
   ],
   "source": [
    "df.mean(numeric_only=True)"
   ]
  },
  {
   "cell_type": "code",
   "execution_count": 10,
   "id": "4ea787a6",
   "metadata": {
    "colab": {
     "base_uri": "https://localhost:8080/"
    },
    "id": "4ea787a6",
    "outputId": "f9273f06-ce5c-487e-a622-0cb9f1746408",
    "scrolled": true
   },
   "outputs": [
    {
     "data": {
      "text/plain": [
       "idade                   11.857509\n",
       "valor_ingresso (R$)    158.120810\n",
       "dtype: float64"
      ]
     },
     "execution_count": 10,
     "metadata": {},
     "output_type": "execute_result"
    }
   ],
   "source": [
    "df.std(numeric_only=True)"
   ]
  },
  {
   "cell_type": "markdown",
   "id": "AA6iaTyeZLfF",
   "metadata": {
    "id": "AA6iaTyeZLfF"
   },
   "source": [
    "### Quantos votos cada local recebeu"
   ]
  },
  {
   "cell_type": "code",
   "execution_count": 11,
   "id": "4d77e8d8",
   "metadata": {
    "colab": {
     "base_uri": "https://localhost:8080/"
    },
    "id": "4d77e8d8",
    "outputId": "9a626353-211d-4445-d05e-bf0963ab1a5a"
   },
   "outputs": [
    {
     "data": {
      "text/plain": [
       "Estacionamento do Mané Garrincha    77\n",
       "Parque da Cidade                    57\n",
       "Setor de Clubes Sul                 32\n",
       "Name: local, dtype: int64"
      ]
     },
     "execution_count": 11,
     "metadata": {},
     "output_type": "execute_result"
    }
   ],
   "source": [
    "df[\"local\"].value_counts()"
   ]
  },
  {
   "cell_type": "markdown",
   "id": "1xYpA7gVZQ18",
   "metadata": {
    "id": "1xYpA7gVZQ18"
   },
   "source": [
    "## Há uma correlação entre a idade e o valor do ingresso?"
   ]
  },
  {
   "cell_type": "code",
   "execution_count": 12,
   "id": "9f298393",
   "metadata": {
    "colab": {
     "base_uri": "https://localhost:8080/",
     "height": 112
    },
    "id": "9f298393",
    "outputId": "3d86441d-8385-408e-cf66-884f17837154",
    "scrolled": true
   },
   "outputs": [
    {
     "data": {
      "text/html": [
       "<div>\n",
       "<style scoped>\n",
       "    .dataframe tbody tr th:only-of-type {\n",
       "        vertical-align: middle;\n",
       "    }\n",
       "\n",
       "    .dataframe tbody tr th {\n",
       "        vertical-align: top;\n",
       "    }\n",
       "\n",
       "    .dataframe thead th {\n",
       "        text-align: right;\n",
       "    }\n",
       "</style>\n",
       "<table border=\"1\" class=\"dataframe\">\n",
       "  <thead>\n",
       "    <tr style=\"text-align: right;\">\n",
       "      <th></th>\n",
       "      <th>idade</th>\n",
       "      <th>valor_ingresso (R$)</th>\n",
       "    </tr>\n",
       "  </thead>\n",
       "  <tbody>\n",
       "    <tr>\n",
       "      <th>idade</th>\n",
       "      <td>1.000000</td>\n",
       "      <td>-0.094871</td>\n",
       "    </tr>\n",
       "    <tr>\n",
       "      <th>valor_ingresso (R$)</th>\n",
       "      <td>-0.094871</td>\n",
       "      <td>1.000000</td>\n",
       "    </tr>\n",
       "  </tbody>\n",
       "</table>\n",
       "</div>"
      ],
      "text/plain": [
       "                        idade  valor_ingresso (R$)\n",
       "idade                1.000000            -0.094871\n",
       "valor_ingresso (R$) -0.094871             1.000000"
      ]
     },
     "execution_count": 12,
     "metadata": {},
     "output_type": "execute_result"
    }
   ],
   "source": [
    "df.corr()"
   ]
  },
  {
   "cell_type": "markdown",
   "id": "ZicFVwMLZW2N",
   "metadata": {
    "id": "ZicFVwMLZW2N"
   },
   "source": [
    "#### Podemos ver que não existe nenhuma correlação entre a idade e o valor do ingresso. Aliás, o preço do ingresso tem uma tendência muito pequena a diminuir com a idade."
   ]
  },
  {
   "cell_type": "markdown",
   "id": "DJ-AQc16Zwwf",
   "metadata": {
    "id": "DJ-AQc16Zwwf"
   },
   "source": [
    "### Quantas pessoas pagariam por cada valor do ingresso:"
   ]
  },
  {
   "cell_type": "code",
   "execution_count": 13,
   "id": "1c5097e4",
   "metadata": {
    "colab": {
     "base_uri": "https://localhost:8080/"
    },
    "id": "1c5097e4",
    "outputId": "14bbb6f0-fc35-4752-9dce-6b2474ed6ac6",
    "scrolled": true
   },
   "outputs": [
    {
     "data": {
      "text/plain": [
       "200    135\n",
       "500     23\n",
       "800      8\n",
       "Name: valor_ingresso (R$), dtype: int64"
      ]
     },
     "execution_count": 13,
     "metadata": {},
     "output_type": "execute_result"
    }
   ],
   "source": [
    "df[\"valor_ingresso (R$)\"].value_counts()"
   ]
  },
  {
   "cell_type": "markdown",
   "id": "jYDoCHWXZ8IR",
   "metadata": {
    "id": "jYDoCHWXZ8IR"
   },
   "source": [
    "### Quantas pessoas têm interesse em causas sociais:"
   ]
  },
  {
   "cell_type": "code",
   "execution_count": 14,
   "id": "e0af0dbd",
   "metadata": {
    "colab": {
     "base_uri": "https://localhost:8080/"
    },
    "id": "e0af0dbd",
    "outputId": "4933ba7e-2490-4f83-d9ef-588f67919e71"
   },
   "outputs": [
    {
     "data": {
      "text/plain": [
       "Sim    153\n",
       "Não     13\n",
       "Name: interesse_causas_sociais, dtype: int64"
      ]
     },
     "execution_count": 14,
     "metadata": {},
     "output_type": "execute_result"
    }
   ],
   "source": [
    "df[\"interesse_causas_sociais\"].value_counts()"
   ]
  },
  {
   "cell_type": "markdown",
   "id": "j_wEIB3iaGDH",
   "metadata": {
    "id": "j_wEIB3iaGDH"
   },
   "source": [
    "### Preferência em atividades diurnas ou noturnas:"
   ]
  },
  {
   "cell_type": "code",
   "execution_count": 15,
   "id": "1ca8724f",
   "metadata": {
    "colab": {
     "base_uri": "https://localhost:8080/"
    },
    "id": "1ca8724f",
    "outputId": "c5fccfb1-7b4f-43e9-fedd-3c1814696f20"
   },
   "outputs": [
    {
     "data": {
      "text/plain": [
       "Sim    137\n",
       "Não     29\n",
       "Name: atividades_diurnas, dtype: int64"
      ]
     },
     "execution_count": 15,
     "metadata": {},
     "output_type": "execute_result"
    }
   ],
   "source": [
    "df[\"atividades_diurnas\"].value_counts()"
   ]
  },
  {
   "cell_type": "code",
   "execution_count": 16,
   "id": "89b2a1f3",
   "metadata": {
    "colab": {
     "base_uri": "https://localhost:8080/"
    },
    "id": "89b2a1f3",
    "outputId": "927b5d7f-1016-4639-d4d4-aaaafa2f882c"
   },
   "outputs": [
    {
     "data": {
      "text/plain": [
       "Sim    149\n",
       "Não     17\n",
       "Name: atividades_noturnas, dtype: int64"
      ]
     },
     "execution_count": 16,
     "metadata": {},
     "output_type": "execute_result"
    }
   ],
   "source": [
    "df[\"atividades_noturnas\"].value_counts()"
   ]
  },
  {
   "cell_type": "markdown",
   "id": "JKPGEjlcaOXl",
   "metadata": {
    "id": "JKPGEjlcaOXl"
   },
   "source": [
    "# Histogramas"
   ]
  },
  {
   "cell_type": "code",
   "execution_count": 17,
   "id": "da5fe067",
   "metadata": {
    "colab": {
     "base_uri": "https://localhost:8080/",
     "height": 761
    },
    "id": "da5fe067",
    "outputId": "2f6417f0-38bf-4142-a2fd-a122144c7d3f"
   },
   "outputs": [
    {
     "data": {
      "image/png": "[encoded data removed]",
      "text/plain": [
       "<Figure size 2000x1500 with 4 Axes>"
      ]
     },
     "metadata": {},
     "output_type": "display_data"
    }
   ],
   "source": [
    "import matplotlib.pyplot as plt\n",
    "\n",
    "df.hist(bins=50, figsize=(20,15))\n",
    "plt.show()"
   ]
  },
  {
   "cell_type": "markdown",
   "id": "fa074bRraQ63",
   "metadata": {
    "id": "fa074bRraQ63"
   },
   "source": [
    "# Valor do ingresso separado por região"
   ]
  },
  {
   "cell_type": "code",
   "execution_count": 18,
   "id": "e14f9c95",
   "metadata": {
    "colab": {
     "base_uri": "https://localhost:8080/",
     "height": 726
    },
    "id": "e14f9c95",
    "outputId": "6854902a-e950-4171-87ae-27d15e69d5fb"
   },
   "outputs": [
    {
     "data": {
      "text/plain": [
       "<AxesSubplot:xlabel='valor_ingresso (R$)', ylabel='região_administrativa'>"
      ]
     },
     "execution_count": 18,
     "metadata": {},
     "output_type": "execute_result"
    },
    {
     "data": {
      "image/png": "[encoded data removed]",
      "text/plain": [
       "<Figure size 2500x2000 with 2 Axes>"
      ]
     },
     "metadata": {},
     "output_type": "display_data"
    }
   ],
   "source": [
    "df.plot(kind=\"scatter\", x=\"valor_ingresso (R$)\",\n",
    "        y=\"região_administrativa\", alpha=0.3, s=500,\n",
    "        c=\"valor_ingresso (R$)\", cmap=plt.get_cmap(\"jet\"),\n",
    "        colorbar=True, figsize=(25,20), fontsize=25)"
   ]
  },
  {
   "cell_type": "markdown",
   "id": "t8YhL4c2aaRf",
   "metadata": {
    "id": "t8YhL4c2aaRf"
   },
   "source": [
    "# Calculando média e desvio padrão separado por região"
   ]
  },
  {
   "cell_type": "code",
   "execution_count": 19,
   "id": "22b411b2",
   "metadata": {
    "id": "22b411b2"
   },
   "outputs": [],
   "source": [
    "def per_region():\n",
    "    isolated = df.drop_duplicates(\"região_administrativa\")\n",
    "    for ra in isolated[\"região_administrativa\"]:\n",
    "        region = df[df[\"região_administrativa\"] == f\"{ra}\"]\n",
    "        print(f\"Região Administrativa: {ra}\\n\")\n",
    "        print(\"Média:\\n\", region.mean(numeric_only=True),\"\\n\")\n",
    "        print(\"Desvio padrão:\\n\", region.std(numeric_only=True),\n",
    "              \"\\n\")\n",
    "    return"
   ]
  },
  {
   "cell_type": "code",
   "execution_count": 20,
   "id": "6f4909fb",
   "metadata": {
    "colab": {
     "base_uri": "https://localhost:8080/"
    },
    "id": "6f4909fb",
    "outputId": "359468e6-eb9d-4138-e32b-3f3499112ba5",
    "scrolled": false
   },
   "outputs": [
    {
     "name": "stdout",
     "output_type": "stream",
     "text": [
      "Região Administrativa: Paranoá\n",
      "\n",
      "Média:\n",
      " idade                   27.275862\n",
      "valor_ingresso (R$)    210.344828\n",
      "dtype: float64 \n",
      "\n",
      "Desvio padrão:\n",
      " idade                  11.731814\n",
      "valor_ingresso (R$)    55.708601\n",
      "dtype: float64 \n",
      "\n",
      "Região Administrativa: Itapoã\n",
      "\n",
      "Média:\n",
      " idade                   22.695652\n",
      "valor_ingresso (R$)    226.086957\n",
      "dtype: float64 \n",
      "\n",
      "Desvio padrão:\n",
      " idade                   7.156909\n",
      "valor_ingresso (R$)    86.431220\n",
      "dtype: float64 \n",
      "\n",
      "Região Administrativa: Sobradinho\n",
      "\n",
      "Média:\n",
      " idade                   23.923077\n",
      "valor_ingresso (R$)    246.153846\n",
      "dtype: float64 \n",
      "\n",
      "Desvio padrão:\n",
      " idade                    7.216434\n",
      "valor_ingresso (R$)    112.660142\n",
      "dtype: float64 \n",
      "\n",
      "Região Administrativa: Jardim Botânico\n",
      "\n",
      "Média:\n",
      " idade                   21.076923\n",
      "valor_ingresso (R$)    361.538462\n",
      "dtype: float64 \n",
      "\n",
      "Desvio padrão:\n",
      " idade                    3.451124\n",
      "valor_ingresso (R$)    232.875008\n",
      "dtype: float64 \n",
      "\n",
      "Região Administrativa: Sudoeste/Octogonal\n",
      "\n",
      "Média:\n",
      " idade                   30.5\n",
      "valor_ingresso (R$)    425.0\n",
      "dtype: float64 \n",
      "\n",
      "Desvio padrão:\n",
      " idade                    5.446712\n",
      "valor_ingresso (R$)    287.228132\n",
      "dtype: float64 \n",
      "\n",
      "Região Administrativa: Plano Piloto\n",
      "\n",
      "Média:\n",
      " idade                   28.483871\n",
      "valor_ingresso (R$)    345.161290\n",
      "dtype: float64 \n",
      "\n",
      "Desvio padrão:\n",
      " idade                   16.400957\n",
      "valor_ingresso (R$)    217.314994\n",
      "dtype: float64 \n",
      "\n",
      "Região Administrativa: Lago Norte\n",
      "\n",
      "Média:\n",
      " idade                   27.0\n",
      "valor_ingresso (R$)    260.0\n",
      "dtype: float64 \n",
      "\n",
      "Desvio padrão:\n",
      " idade                   17.930421\n",
      "valor_ingresso (R$)    134.164079\n",
      "dtype: float64 \n",
      "\n",
      "Região Administrativa: Arniqueira\n",
      "\n",
      "Média:\n",
      " idade                   35.5\n",
      "valor_ingresso (R$)    200.0\n",
      "dtype: float64 \n",
      "\n",
      "Desvio padrão:\n",
      " idade                  24.748737\n",
      "valor_ingresso (R$)     0.000000\n",
      "dtype: float64 \n",
      "\n",
      "Região Administrativa: São Sebastião\n",
      "\n",
      "Média:\n",
      " idade                   19.25\n",
      "valor_ingresso (R$)    200.00\n",
      "dtype: float64 \n",
      "\n",
      "Desvio padrão:\n",
      " idade                  1.892969\n",
      "valor_ingresso (R$)    0.000000\n",
      "dtype: float64 \n",
      "\n",
      "Região Administrativa: Taguatinga\n",
      "\n",
      "Média:\n",
      " idade                   20.5\n",
      "valor_ingresso (R$)    200.0\n",
      "dtype: float64 \n",
      "\n",
      "Desvio padrão:\n",
      " idade                  2.12132\n",
      "valor_ingresso (R$)    0.00000\n",
      "dtype: float64 \n",
      "\n",
      "Região Administrativa: Riacho Fundo\n",
      "\n",
      "Média:\n",
      " idade                   17.0\n",
      "valor_ingresso (R$)    200.0\n",
      "dtype: float64 \n",
      "\n",
      "Desvio padrão:\n",
      " idade                  1.414214\n",
      "valor_ingresso (R$)    0.000000\n",
      "dtype: float64 \n",
      "\n",
      "Região Administrativa: Guará\n",
      "\n",
      "Média:\n",
      " idade                   28.5\n",
      "valor_ingresso (R$)    300.0\n",
      "dtype: float64 \n",
      "\n",
      "Desvio padrão:\n",
      " idade                   15.946787\n",
      "valor_ingresso (R$)    154.919334\n",
      "dtype: float64 \n",
      "\n",
      "Região Administrativa: Riacho Fundo 2\n",
      "\n",
      "Média:\n",
      " idade                   18.0\n",
      "valor_ingresso (R$)    200.0\n",
      "dtype: float64 \n",
      "\n",
      "Desvio padrão:\n",
      " idade                 NaN\n",
      "valor_ingresso (R$)   NaN\n",
      "dtype: float64 \n",
      "\n",
      "Região Administrativa: Lago Sul\n",
      "\n",
      "Média:\n",
      " idade                   29.4\n",
      "valor_ingresso (R$)    260.0\n",
      "dtype: float64 \n",
      "\n",
      "Desvio padrão:\n",
      " idade                   19.514097\n",
      "valor_ingresso (R$)    134.164079\n",
      "dtype: float64 \n",
      "\n",
      "Região Administrativa: Núcleo Bandeirante\n",
      "\n",
      "Média:\n",
      " idade                   42.5\n",
      "valor_ingresso (R$)    200.0\n",
      "dtype: float64 \n",
      "\n",
      "Desvio padrão:\n",
      " idade                  23.334524\n",
      "valor_ingresso (R$)     0.000000\n",
      "dtype: float64 \n",
      "\n",
      "Região Administrativa: Samambaia\n",
      "\n",
      "Média:\n",
      " idade                   35.0\n",
      "valor_ingresso (R$)    200.0\n",
      "dtype: float64 \n",
      "\n",
      "Desvio padrão:\n",
      " idade                 NaN\n",
      "valor_ingresso (R$)   NaN\n",
      "dtype: float64 \n",
      "\n",
      "Região Administrativa: Park Way\n",
      "\n",
      "Média:\n",
      " idade                   21.333333\n",
      "valor_ingresso (R$)    300.000000\n",
      "dtype: float64 \n",
      "\n",
      "Desvio padrão:\n",
      " idade                    2.422120\n",
      "valor_ingresso (R$)    244.948974\n",
      "dtype: float64 \n",
      "\n",
      "Região Administrativa: Vicente Pires\n",
      "\n",
      "Média:\n",
      " idade                   19.0\n",
      "valor_ingresso (R$)    200.0\n",
      "dtype: float64 \n",
      "\n",
      "Desvio padrão:\n",
      " idade                 NaN\n",
      "valor_ingresso (R$)   NaN\n",
      "dtype: float64 \n",
      "\n",
      "Região Administrativa: Gama\n",
      "\n",
      "Média:\n",
      " idade                   21.0\n",
      "valor_ingresso (R$)    200.0\n",
      "dtype: float64 \n",
      "\n",
      "Desvio padrão:\n",
      " idade                 NaN\n",
      "valor_ingresso (R$)   NaN\n",
      "dtype: float64 \n",
      "\n",
      "Região Administrativa: Águas Claras\n",
      "\n",
      "Média:\n",
      " idade                   23.428571\n",
      "valor_ingresso (R$)    242.857143\n",
      "dtype: float64 \n",
      "\n",
      "Desvio padrão:\n",
      " idade                    4.790864\n",
      "valor_ingresso (R$)    113.389342\n",
      "dtype: float64 \n",
      "\n",
      "Região Administrativa: Planaltina\n",
      "\n",
      "Média:\n",
      " idade                   30.0\n",
      "valor_ingresso (R$)    200.0\n",
      "dtype: float64 \n",
      "\n",
      "Desvio padrão:\n",
      " idade                  14.142136\n",
      "valor_ingresso (R$)     0.000000\n",
      "dtype: float64 \n",
      "\n",
      "Região Administrativa: Ceilândia\n",
      "\n",
      "Média:\n",
      " idade                   19.0\n",
      "valor_ingresso (R$)    500.0\n",
      "dtype: float64 \n",
      "\n",
      "Desvio padrão:\n",
      " idade                 NaN\n",
      "valor_ingresso (R$)   NaN\n",
      "dtype: float64 \n",
      "\n",
      "Região Administrativa: Recanto das Emas\n",
      "\n",
      "Média:\n",
      " idade                   24.0\n",
      "valor_ingresso (R$)    200.0\n",
      "dtype: float64 \n",
      "\n",
      "Desvio padrão:\n",
      " idade                 NaN\n",
      "valor_ingresso (R$)   NaN\n",
      "dtype: float64 \n",
      "\n",
      "Região Administrativa: Cruzeiro\n",
      "\n",
      "Média:\n",
      " idade                   26.0\n",
      "valor_ingresso (R$)    350.0\n",
      "dtype: float64 \n",
      "\n",
      "Desvio padrão:\n",
      " idade                    9.899495\n",
      "valor_ingresso (R$)    212.132034\n",
      "dtype: float64 \n",
      "\n",
      "Região Administrativa: Santa Maria\n",
      "\n",
      "Média:\n",
      " idade                   35.0\n",
      "valor_ingresso (R$)    200.0\n",
      "dtype: float64 \n",
      "\n",
      "Desvio padrão:\n",
      " idade                 NaN\n",
      "valor_ingresso (R$)   NaN\n",
      "dtype: float64 \n",
      "\n",
      "Região Administrativa: Sol Nascente/Pôr do So\n",
      "\n",
      "Média:\n",
      " idade                   55.0\n",
      "valor_ingresso (R$)    200.0\n",
      "dtype: float64 \n",
      "\n",
      "Desvio padrão:\n",
      " idade                 NaN\n",
      "valor_ingresso (R$)   NaN\n",
      "dtype: float64 \n",
      "\n"
     ]
    }
   ],
   "source": [
    "per_region()"
   ]
  },
  {
   "cell_type": "markdown",
   "id": "yiOtq-jKalT3",
   "metadata": {
    "id": "yiOtq-jKalT3"
   },
   "source": [
    "## Procurando por outliers na idade"
   ]
  },
  {
   "cell_type": "code",
   "execution_count": 21,
   "id": "43cbf958",
   "metadata": {
    "id": "43cbf958",
    "outputId": "167e4189-dc3f-4190-fc01-c6148e2c0e19"
   },
   "outputs": [
    {
     "data": {
      "text/plain": [
       "<AxesSubplot:>"
      ]
     },
     "execution_count": 21,
     "metadata": {},
     "output_type": "execute_result"
    },
    {
     "data": {
      "image/png": "[encoded data removed]",
      "text/plain": [
       "<Figure size 640x480 with 1 Axes>"
      ]
     },
     "metadata": {},
     "output_type": "display_data"
    }
   ],
   "source": [
    "no_price = df.drop(\"valor_ingresso (R$)\", axis=1)\n",
    "no_price.plot(kind=\"box\")"
   ]
  },
  {
   "cell_type": "markdown",
   "id": "I3w62N9aar2-",
   "metadata": {
    "id": "I3w62N9aar2-"
   },
   "source": [
    "# Analisando o comportamento pelo preço que as pessoas pagariam no ingresso"
   ]
  },
  {
   "cell_type": "markdown",
   "id": "gsB1kNyHbb4x",
   "metadata": {
    "id": "gsB1kNyHbb4x"
   },
   "source": [
    "### Separando por preço do ingresso"
   ]
  },
  {
   "cell_type": "code",
   "execution_count": 22,
   "id": "2895dd98",
   "metadata": {
    "colab": {
     "base_uri": "https://localhost:8080/",
     "height": 800
    },
    "id": "2895dd98",
    "outputId": "043dc585-3a88-4c00-e6b6-01dc927d6714"
   },
   "outputs": [
    {
     "data": {
      "text/html": [
       "<div>\n",
       "<style scoped>\n",
       "    .dataframe tbody tr th:only-of-type {\n",
       "        vertical-align: middle;\n",
       "    }\n",
       "\n",
       "    .dataframe tbody tr th {\n",
       "        vertical-align: top;\n",
       "    }\n",
       "\n",
       "    .dataframe thead th {\n",
       "        text-align: right;\n",
       "    }\n",
       "</style>\n",
       "<table border=\"1\" class=\"dataframe\">\n",
       "  <thead>\n",
       "    <tr style=\"text-align: right;\">\n",
       "      <th></th>\n",
       "      <th>data</th>\n",
       "      <th>idade</th>\n",
       "      <th>região_administrativa</th>\n",
       "      <th>interesse_causas_sociais</th>\n",
       "      <th>festivais</th>\n",
       "      <th>interesse_festivais</th>\n",
       "      <th>valor_ingresso (R$)</th>\n",
       "      <th>atividades_diurnas</th>\n",
       "      <th>atividades_noturnas</th>\n",
       "      <th>local</th>\n",
       "      <th>atividades_ambos_turnos</th>\n",
       "    </tr>\n",
       "  </thead>\n",
       "  <tbody>\n",
       "    <tr>\n",
       "      <th>0</th>\n",
       "      <td>2022-09-10 10:32:50.640</td>\n",
       "      <td>18</td>\n",
       "      <td>Paranoá</td>\n",
       "      <td>Sim</td>\n",
       "      <td>Não</td>\n",
       "      <td>Sim</td>\n",
       "      <td>200</td>\n",
       "      <td>Sim</td>\n",
       "      <td>Não</td>\n",
       "      <td>Estacionamento do Mané Garrincha</td>\n",
       "      <td>Não</td>\n",
       "    </tr>\n",
       "    <tr>\n",
       "      <th>1</th>\n",
       "      <td>2022-09-10 10:39:13.565</td>\n",
       "      <td>18</td>\n",
       "      <td>Itapoã</td>\n",
       "      <td>Sim</td>\n",
       "      <td>Não</td>\n",
       "      <td>Sim</td>\n",
       "      <td>200</td>\n",
       "      <td>Sim</td>\n",
       "      <td>Sim</td>\n",
       "      <td>Estacionamento do Mané Garrincha</td>\n",
       "      <td>Sim</td>\n",
       "    </tr>\n",
       "    <tr>\n",
       "      <th>2</th>\n",
       "      <td>2022-09-10 10:41:07.244</td>\n",
       "      <td>17</td>\n",
       "      <td>Paranoá</td>\n",
       "      <td>Sim</td>\n",
       "      <td>Não</td>\n",
       "      <td>Sim</td>\n",
       "      <td>200</td>\n",
       "      <td>Sim</td>\n",
       "      <td>Não</td>\n",
       "      <td>Parque da Cidade</td>\n",
       "      <td>Não</td>\n",
       "    </tr>\n",
       "    <tr>\n",
       "      <th>3</th>\n",
       "      <td>2022-09-10 11:22:28.348</td>\n",
       "      <td>18</td>\n",
       "      <td>Paranoá</td>\n",
       "      <td>Sim</td>\n",
       "      <td>Sim</td>\n",
       "      <td>Sim</td>\n",
       "      <td>200</td>\n",
       "      <td>Sim</td>\n",
       "      <td>Sim</td>\n",
       "      <td>Estacionamento do Mané Garrincha</td>\n",
       "      <td>Sim</td>\n",
       "    </tr>\n",
       "    <tr>\n",
       "      <th>4</th>\n",
       "      <td>2022-09-10 11:33:25.950</td>\n",
       "      <td>18</td>\n",
       "      <td>Itapoã</td>\n",
       "      <td>Sim</td>\n",
       "      <td>Não</td>\n",
       "      <td>Sim</td>\n",
       "      <td>200</td>\n",
       "      <td>Não</td>\n",
       "      <td>Sim</td>\n",
       "      <td>Setor de Clubes Sul</td>\n",
       "      <td>Não</td>\n",
       "    </tr>\n",
       "    <tr>\n",
       "      <th>...</th>\n",
       "      <td>...</td>\n",
       "      <td>...</td>\n",
       "      <td>...</td>\n",
       "      <td>...</td>\n",
       "      <td>...</td>\n",
       "      <td>...</td>\n",
       "      <td>...</td>\n",
       "      <td>...</td>\n",
       "      <td>...</td>\n",
       "      <td>...</td>\n",
       "      <td>...</td>\n",
       "    </tr>\n",
       "    <tr>\n",
       "      <th>159</th>\n",
       "      <td>2022-09-15 15:34:39.941</td>\n",
       "      <td>18</td>\n",
       "      <td>Sobradinho</td>\n",
       "      <td>Sim</td>\n",
       "      <td>Não</td>\n",
       "      <td>Sim</td>\n",
       "      <td>200</td>\n",
       "      <td>Não</td>\n",
       "      <td>Não</td>\n",
       "      <td>Estacionamento do Mané Garrincha</td>\n",
       "      <td>Não</td>\n",
       "    </tr>\n",
       "    <tr>\n",
       "      <th>161</th>\n",
       "      <td>2022-09-15 15:35:37.527</td>\n",
       "      <td>18</td>\n",
       "      <td>Plano Piloto</td>\n",
       "      <td>Sim</td>\n",
       "      <td>Sim</td>\n",
       "      <td>Sim</td>\n",
       "      <td>200</td>\n",
       "      <td>Sim</td>\n",
       "      <td>Sim</td>\n",
       "      <td>Parque da Cidade</td>\n",
       "      <td>Sim</td>\n",
       "    </tr>\n",
       "    <tr>\n",
       "      <th>162</th>\n",
       "      <td>2022-09-15 15:36:02.065</td>\n",
       "      <td>20</td>\n",
       "      <td>Plano Piloto</td>\n",
       "      <td>Sim</td>\n",
       "      <td>Sim</td>\n",
       "      <td>Sim</td>\n",
       "      <td>200</td>\n",
       "      <td>Não</td>\n",
       "      <td>Sim</td>\n",
       "      <td>Estacionamento do Mané Garrincha</td>\n",
       "      <td>Não</td>\n",
       "    </tr>\n",
       "    <tr>\n",
       "      <th>164</th>\n",
       "      <td>2022-09-15 17:45:50.609</td>\n",
       "      <td>19</td>\n",
       "      <td>Plano Piloto</td>\n",
       "      <td>Sim</td>\n",
       "      <td>Não</td>\n",
       "      <td>Sim</td>\n",
       "      <td>200</td>\n",
       "      <td>Sim</td>\n",
       "      <td>Sim</td>\n",
       "      <td>Estacionamento do Mané Garrincha</td>\n",
       "      <td>Sim</td>\n",
       "    </tr>\n",
       "    <tr>\n",
       "      <th>165</th>\n",
       "      <td>2022-09-15 20:12:30.659</td>\n",
       "      <td>24</td>\n",
       "      <td>Sobradinho</td>\n",
       "      <td>Sim</td>\n",
       "      <td>Sim</td>\n",
       "      <td>Sim</td>\n",
       "      <td>200</td>\n",
       "      <td>Sim</td>\n",
       "      <td>Não</td>\n",
       "      <td>Parque da Cidade</td>\n",
       "      <td>Não</td>\n",
       "    </tr>\n",
       "  </tbody>\n",
       "</table>\n",
       "<p>135 rows × 11 columns</p>\n",
       "</div>"
      ],
      "text/plain": [
       "                       data  idade região_administrativa  \\\n",
       "0   2022-09-10 10:32:50.640     18               Paranoá   \n",
       "1   2022-09-10 10:39:13.565     18                Itapoã   \n",
       "2   2022-09-10 10:41:07.244     17               Paranoá   \n",
       "3   2022-09-10 11:22:28.348     18               Paranoá   \n",
       "4   2022-09-10 11:33:25.950     18                Itapoã   \n",
       "..                      ...    ...                   ...   \n",
       "159 2022-09-15 15:34:39.941     18            Sobradinho   \n",
       "161 2022-09-15 15:35:37.527     18          Plano Piloto   \n",
       "162 2022-09-15 15:36:02.065     20          Plano Piloto   \n",
       "164 2022-09-15 17:45:50.609     19          Plano Piloto   \n",
       "165 2022-09-15 20:12:30.659     24            Sobradinho   \n",
       "\n",
       "    interesse_causas_sociais festivais interesse_festivais  \\\n",
       "0                        Sim       Não                 Sim   \n",
       "1                        Sim       Não                 Sim   \n",
       "2                        Sim       Não                 Sim   \n",
       "3                        Sim       Sim                 Sim   \n",
       "4                        Sim       Não                 Sim   \n",
       "..                       ...       ...                 ...   \n",
       "159                      Sim       Não                 Sim   \n",
       "161                      Sim       Sim                 Sim   \n",
       "162                      Sim       Sim                 Sim   \n",
       "164                      Sim       Não                 Sim   \n",
       "165                      Sim       Sim                 Sim   \n",
       "\n",
       "     valor_ingresso (R$) atividades_diurnas atividades_noturnas  \\\n",
       "0                    200                Sim                 Não   \n",
       "1                    200                Sim                 Sim   \n",
       "2                    200                Sim                 Não   \n",
       "3                    200                Sim                 Sim   \n",
       "4                    200                Não                 Sim   \n",
       "..                   ...                ...                 ...   \n",
       "159                  200                Não                 Não   \n",
       "161                  200                Sim                 Sim   \n",
       "162                  200                Não                 Sim   \n",
       "164                  200                Sim                 Sim   \n",
       "165                  200                Sim                 Não   \n",
       "\n",
       "                                local atividades_ambos_turnos  \n",
       "0    Estacionamento do Mané Garrincha                     Não  \n",
       "1    Estacionamento do Mané Garrincha                     Sim  \n",
       "2                    Parque da Cidade                     Não  \n",
       "3    Estacionamento do Mané Garrincha                     Sim  \n",
       "4                 Setor de Clubes Sul                     Não  \n",
       "..                                ...                     ...  \n",
       "159  Estacionamento do Mané Garrincha                     Não  \n",
       "161                  Parque da Cidade                     Sim  \n",
       "162  Estacionamento do Mané Garrincha                     Não  \n",
       "164  Estacionamento do Mané Garrincha                     Sim  \n",
       "165                  Parque da Cidade                     Não  \n",
       "\n",
       "[135 rows x 11 columns]"
      ]
     },
     "execution_count": 22,
     "metadata": {},
     "output_type": "execute_result"
    }
   ],
   "source": [
    "duzentos = df[df['valor_ingresso (R$)'] == 200]\n",
    "duzentos"
   ]
  },
  {
   "cell_type": "code",
   "execution_count": 23,
   "id": "2bXJ1VVhbicn",
   "metadata": {
    "colab": {
     "base_uri": "https://localhost:8080/"
    },
    "id": "2bXJ1VVhbicn",
    "outputId": "0a04a704-42c5-48ae-9c09-1334a855a892"
   },
   "outputs": [
    {
     "data": {
      "text/plain": [
       "idade                   26.585185\n",
       "valor_ingresso (R$)    200.000000\n",
       "dtype: float64"
      ]
     },
     "execution_count": 23,
     "metadata": {},
     "output_type": "execute_result"
    }
   ],
   "source": [
    "duzentos.mean(numeric_only=True)"
   ]
  },
  {
   "cell_type": "code",
   "execution_count": 24,
   "id": "mlqZX43zbpPD",
   "metadata": {
    "colab": {
     "base_uri": "https://localhost:8080/"
    },
    "id": "mlqZX43zbpPD",
    "outputId": "1119c067-fe89-439d-cf14-34bae345e5ca"
   },
   "outputs": [
    {
     "data": {
      "text/plain": [
       "idade                  12.447733\n",
       "valor_ingresso (R$)     0.000000\n",
       "dtype: float64"
      ]
     },
     "execution_count": 24,
     "metadata": {},
     "output_type": "execute_result"
    }
   ],
   "source": [
    "duzentos.std(numeric_only=True)"
   ]
  },
  {
   "cell_type": "code",
   "execution_count": 25,
   "id": "W_ImTKZxbwFn",
   "metadata": {
    "colab": {
     "base_uri": "https://localhost:8080/"
    },
    "id": "W_ImTKZxbwFn",
    "outputId": "1cdf7850-5d11-4029-8c7a-1008f4928652"
   },
   "outputs": [
    {
     "data": {
      "text/plain": [
       "Estacionamento do Mané Garrincha    62\n",
       "Parque da Cidade                    48\n",
       "Setor de Clubes Sul                 25\n",
       "Name: local, dtype: int64"
      ]
     },
     "execution_count": 25,
     "metadata": {},
     "output_type": "execute_result"
    }
   ],
   "source": [
    "duzentos['local'].value_counts()"
   ]
  },
  {
   "cell_type": "code",
   "execution_count": 26,
   "id": "fzb8bcq8bwVA",
   "metadata": {
    "colab": {
     "base_uri": "https://localhost:8080/"
    },
    "id": "fzb8bcq8bwVA",
    "outputId": "e1bad72f-2c8a-487a-d343-2344f8a58c7e"
   },
   "outputs": [
    {
     "data": {
      "text/plain": [
       "Sim    126\n",
       "Não      9\n",
       "Name: interesse_causas_sociais, dtype: int64"
      ]
     },
     "execution_count": 26,
     "metadata": {},
     "output_type": "execute_result"
    }
   ],
   "source": [
    "duzentos['interesse_causas_sociais'].value_counts()"
   ]
  },
  {
   "cell_type": "code",
   "execution_count": 27,
   "id": "VKZ_VRB8cMA0",
   "metadata": {
    "colab": {
     "base_uri": "https://localhost:8080/"
    },
    "id": "VKZ_VRB8cMA0",
    "outputId": "af0210fa-bc11-4e27-a5db-0634c113f15d"
   },
   "outputs": [
    {
     "data": {
      "text/plain": [
       "Paranoá                   28\n",
       "Itapoã                    21\n",
       "Plano Piloto              20\n",
       "Sobradinho                11\n",
       "Jardim Botânico            8\n",
       "Águas Claras               6\n",
       "Park Way                   5\n",
       "Lago Norte                 4\n",
       "São Sebastião              4\n",
       "Guará                      4\n",
       "Lago Sul                   4\n",
       "Planaltina                 2\n",
       "Núcleo Bandeirante         2\n",
       "Riacho Fundo               2\n",
       "Taguatinga                 2\n",
       "Arniqueira                 2\n",
       "Sudoeste/Octogonal         2\n",
       "Samambaia                  1\n",
       "Riacho Fundo 2             1\n",
       "Vicente Pires              1\n",
       "Gama                       1\n",
       "Recanto das Emas           1\n",
       "Cruzeiro                   1\n",
       "Santa Maria                1\n",
       "Sol Nascente/Pôr do So     1\n",
       "Name: região_administrativa, dtype: int64"
      ]
     },
     "execution_count": 27,
     "metadata": {},
     "output_type": "execute_result"
    }
   ],
   "source": [
    "duzentos['região_administrativa'].value_counts()"
   ]
  },
  {
   "cell_type": "code",
   "execution_count": 28,
   "id": "z0Uwt02BbA-4",
   "metadata": {
    "colab": {
     "base_uri": "https://localhost:8080/",
     "height": 1000
    },
    "id": "z0Uwt02BbA-4",
    "outputId": "3e6f064d-9175-4ebe-9126-f03f1a3819d8"
   },
   "outputs": [
    {
     "data": {
      "text/html": [
       "<div>\n",
       "<style scoped>\n",
       "    .dataframe tbody tr th:only-of-type {\n",
       "        vertical-align: middle;\n",
       "    }\n",
       "\n",
       "    .dataframe tbody tr th {\n",
       "        vertical-align: top;\n",
       "    }\n",
       "\n",
       "    .dataframe thead th {\n",
       "        text-align: right;\n",
       "    }\n",
       "</style>\n",
       "<table border=\"1\" class=\"dataframe\">\n",
       "  <thead>\n",
       "    <tr style=\"text-align: right;\">\n",
       "      <th></th>\n",
       "      <th>data</th>\n",
       "      <th>idade</th>\n",
       "      <th>região_administrativa</th>\n",
       "      <th>interesse_causas_sociais</th>\n",
       "      <th>festivais</th>\n",
       "      <th>interesse_festivais</th>\n",
       "      <th>valor_ingresso (R$)</th>\n",
       "      <th>atividades_diurnas</th>\n",
       "      <th>atividades_noturnas</th>\n",
       "      <th>local</th>\n",
       "      <th>atividades_ambos_turnos</th>\n",
       "    </tr>\n",
       "  </thead>\n",
       "  <tbody>\n",
       "    <tr>\n",
       "      <th>11</th>\n",
       "      <td>2022-09-10 15:53:36.129</td>\n",
       "      <td>18</td>\n",
       "      <td>Paranoá</td>\n",
       "      <td>Sim</td>\n",
       "      <td>Não</td>\n",
       "      <td>Sim</td>\n",
       "      <td>500</td>\n",
       "      <td>Sim</td>\n",
       "      <td>Sim</td>\n",
       "      <td>Estacionamento do Mané Garrincha</td>\n",
       "      <td>Sim</td>\n",
       "    </tr>\n",
       "    <tr>\n",
       "      <th>12</th>\n",
       "      <td>2022-09-10 15:54:05.170</td>\n",
       "      <td>22</td>\n",
       "      <td>Itapoã</td>\n",
       "      <td>Sim</td>\n",
       "      <td>Não</td>\n",
       "      <td>Sim</td>\n",
       "      <td>500</td>\n",
       "      <td>Sim</td>\n",
       "      <td>Não</td>\n",
       "      <td>Parque da Cidade</td>\n",
       "      <td>Não</td>\n",
       "    </tr>\n",
       "    <tr>\n",
       "      <th>15</th>\n",
       "      <td>2022-09-10 15:57:39.644</td>\n",
       "      <td>17</td>\n",
       "      <td>Itapoã</td>\n",
       "      <td>Sim</td>\n",
       "      <td>Não</td>\n",
       "      <td>Sim</td>\n",
       "      <td>500</td>\n",
       "      <td>Sim</td>\n",
       "      <td>Não</td>\n",
       "      <td>Estacionamento do Mané Garrincha</td>\n",
       "      <td>Não</td>\n",
       "    </tr>\n",
       "    <tr>\n",
       "      <th>20</th>\n",
       "      <td>2022-09-10 16:07:37.887</td>\n",
       "      <td>20</td>\n",
       "      <td>Plano Piloto</td>\n",
       "      <td>Sim</td>\n",
       "      <td>Sim</td>\n",
       "      <td>Sim</td>\n",
       "      <td>500</td>\n",
       "      <td>Não</td>\n",
       "      <td>Sim</td>\n",
       "      <td>Parque da Cidade</td>\n",
       "      <td>Não</td>\n",
       "    </tr>\n",
       "    <tr>\n",
       "      <th>41</th>\n",
       "      <td>2022-09-10 18:22:45.508</td>\n",
       "      <td>19</td>\n",
       "      <td>Jardim Botânico</td>\n",
       "      <td>Sim</td>\n",
       "      <td>Sim</td>\n",
       "      <td>Sim</td>\n",
       "      <td>500</td>\n",
       "      <td>Sim</td>\n",
       "      <td>Sim</td>\n",
       "      <td>Setor de Clubes Sul</td>\n",
       "      <td>Sim</td>\n",
       "    </tr>\n",
       "    <tr>\n",
       "      <th>42</th>\n",
       "      <td>2022-09-10 18:23:05.038</td>\n",
       "      <td>19</td>\n",
       "      <td>Guará</td>\n",
       "      <td>Sim</td>\n",
       "      <td>Sim</td>\n",
       "      <td>Sim</td>\n",
       "      <td>500</td>\n",
       "      <td>Sim</td>\n",
       "      <td>Sim</td>\n",
       "      <td>Setor de Clubes Sul</td>\n",
       "      <td>Sim</td>\n",
       "    </tr>\n",
       "    <tr>\n",
       "      <th>45</th>\n",
       "      <td>2022-09-10 18:24:59.938</td>\n",
       "      <td>15</td>\n",
       "      <td>Guará</td>\n",
       "      <td>Sim</td>\n",
       "      <td>Não</td>\n",
       "      <td>Sim</td>\n",
       "      <td>500</td>\n",
       "      <td>Sim</td>\n",
       "      <td>Sim</td>\n",
       "      <td>Parque da Cidade</td>\n",
       "      <td>Sim</td>\n",
       "    </tr>\n",
       "    <tr>\n",
       "      <th>47</th>\n",
       "      <td>2022-09-10 18:31:22.645</td>\n",
       "      <td>19</td>\n",
       "      <td>Plano Piloto</td>\n",
       "      <td>Sim</td>\n",
       "      <td>Sim</td>\n",
       "      <td>Sim</td>\n",
       "      <td>500</td>\n",
       "      <td>Sim</td>\n",
       "      <td>Sim</td>\n",
       "      <td>Estacionamento do Mané Garrincha</td>\n",
       "      <td>Sim</td>\n",
       "    </tr>\n",
       "    <tr>\n",
       "      <th>69</th>\n",
       "      <td>2022-09-11 06:56:39.305</td>\n",
       "      <td>36</td>\n",
       "      <td>Sudoeste/Octogonal</td>\n",
       "      <td>Sim</td>\n",
       "      <td>Não</td>\n",
       "      <td>Sim</td>\n",
       "      <td>500</td>\n",
       "      <td>Sim</td>\n",
       "      <td>Sim</td>\n",
       "      <td>Estacionamento do Mané Garrincha</td>\n",
       "      <td>Sim</td>\n",
       "    </tr>\n",
       "    <tr>\n",
       "      <th>75</th>\n",
       "      <td>2022-09-11 11:57:45.374</td>\n",
       "      <td>18</td>\n",
       "      <td>Plano Piloto</td>\n",
       "      <td>Não</td>\n",
       "      <td>Sim</td>\n",
       "      <td>Sim</td>\n",
       "      <td>500</td>\n",
       "      <td>Não</td>\n",
       "      <td>Sim</td>\n",
       "      <td>Estacionamento do Mané Garrincha</td>\n",
       "      <td>Não</td>\n",
       "    </tr>\n",
       "    <tr>\n",
       "      <th>83</th>\n",
       "      <td>2022-09-12 08:12:27.345</td>\n",
       "      <td>19</td>\n",
       "      <td>Lago Norte</td>\n",
       "      <td>Sim</td>\n",
       "      <td>Sim</td>\n",
       "      <td>Sim</td>\n",
       "      <td>500</td>\n",
       "      <td>Sim</td>\n",
       "      <td>Sim</td>\n",
       "      <td>Estacionamento do Mané Garrincha</td>\n",
       "      <td>Sim</td>\n",
       "    </tr>\n",
       "    <tr>\n",
       "      <th>84</th>\n",
       "      <td>2022-09-12 08:13:45.550</td>\n",
       "      <td>23</td>\n",
       "      <td>Sobradinho</td>\n",
       "      <td>Sim</td>\n",
       "      <td>Não</td>\n",
       "      <td>Sim</td>\n",
       "      <td>500</td>\n",
       "      <td>Não</td>\n",
       "      <td>Sim</td>\n",
       "      <td>Setor de Clubes Sul</td>\n",
       "      <td>Não</td>\n",
       "    </tr>\n",
       "    <tr>\n",
       "      <th>91</th>\n",
       "      <td>2022-09-12 09:30:09.127</td>\n",
       "      <td>23</td>\n",
       "      <td>Plano Piloto</td>\n",
       "      <td>Sim</td>\n",
       "      <td>Sim</td>\n",
       "      <td>Sim</td>\n",
       "      <td>500</td>\n",
       "      <td>Sim</td>\n",
       "      <td>Sim</td>\n",
       "      <td>Estacionamento do Mané Garrincha</td>\n",
       "      <td>Sim</td>\n",
       "    </tr>\n",
       "    <tr>\n",
       "      <th>96</th>\n",
       "      <td>2022-09-12 13:14:06.710</td>\n",
       "      <td>27</td>\n",
       "      <td>Jardim Botânico</td>\n",
       "      <td>Sim</td>\n",
       "      <td>Sim</td>\n",
       "      <td>Sim</td>\n",
       "      <td>500</td>\n",
       "      <td>Sim</td>\n",
       "      <td>Sim</td>\n",
       "      <td>Setor de Clubes Sul</td>\n",
       "      <td>Sim</td>\n",
       "    </tr>\n",
       "    <tr>\n",
       "      <th>98</th>\n",
       "      <td>2022-09-12 13:57:39.931</td>\n",
       "      <td>20</td>\n",
       "      <td>Lago Sul</td>\n",
       "      <td>Sim</td>\n",
       "      <td>Sim</td>\n",
       "      <td>Sim</td>\n",
       "      <td>500</td>\n",
       "      <td>Sim</td>\n",
       "      <td>Sim</td>\n",
       "      <td>Estacionamento do Mané Garrincha</td>\n",
       "      <td>Sim</td>\n",
       "    </tr>\n",
       "    <tr>\n",
       "      <th>112</th>\n",
       "      <td>2022-09-12 15:16:29.247</td>\n",
       "      <td>19</td>\n",
       "      <td>Ceilândia</td>\n",
       "      <td>Sim</td>\n",
       "      <td>Sim</td>\n",
       "      <td>Sim</td>\n",
       "      <td>500</td>\n",
       "      <td>Sim</td>\n",
       "      <td>Sim</td>\n",
       "      <td>Estacionamento do Mané Garrincha</td>\n",
       "      <td>Sim</td>\n",
       "    </tr>\n",
       "    <tr>\n",
       "      <th>113</th>\n",
       "      <td>2022-09-12 15:19:44.532</td>\n",
       "      <td>23</td>\n",
       "      <td>Plano Piloto</td>\n",
       "      <td>Sim</td>\n",
       "      <td>Não</td>\n",
       "      <td>Sim</td>\n",
       "      <td>500</td>\n",
       "      <td>Sim</td>\n",
       "      <td>Sim</td>\n",
       "      <td>Estacionamento do Mané Garrincha</td>\n",
       "      <td>Sim</td>\n",
       "    </tr>\n",
       "    <tr>\n",
       "      <th>121</th>\n",
       "      <td>2022-09-12 18:25:05.013</td>\n",
       "      <td>34</td>\n",
       "      <td>Sobradinho</td>\n",
       "      <td>Sim</td>\n",
       "      <td>Sim</td>\n",
       "      <td>Sim</td>\n",
       "      <td>500</td>\n",
       "      <td>Sim</td>\n",
       "      <td>Sim</td>\n",
       "      <td>Estacionamento do Mané Garrincha</td>\n",
       "      <td>Sim</td>\n",
       "    </tr>\n",
       "    <tr>\n",
       "      <th>144</th>\n",
       "      <td>2022-09-13 16:07:45.303</td>\n",
       "      <td>23</td>\n",
       "      <td>Plano Piloto</td>\n",
       "      <td>Não</td>\n",
       "      <td>Não</td>\n",
       "      <td>Não</td>\n",
       "      <td>500</td>\n",
       "      <td>Não</td>\n",
       "      <td>Sim</td>\n",
       "      <td>Setor de Clubes Sul</td>\n",
       "      <td>Não</td>\n",
       "    </tr>\n",
       "    <tr>\n",
       "      <th>155</th>\n",
       "      <td>2022-09-15 15:34:06.618</td>\n",
       "      <td>19</td>\n",
       "      <td>Cruzeiro</td>\n",
       "      <td>Não</td>\n",
       "      <td>Sim</td>\n",
       "      <td>Sim</td>\n",
       "      <td>500</td>\n",
       "      <td>Não</td>\n",
       "      <td>Sim</td>\n",
       "      <td>Parque da Cidade</td>\n",
       "      <td>Não</td>\n",
       "    </tr>\n",
       "    <tr>\n",
       "      <th>157</th>\n",
       "      <td>2022-09-15 15:34:30.383</td>\n",
       "      <td>20</td>\n",
       "      <td>Jardim Botânico</td>\n",
       "      <td>Sim</td>\n",
       "      <td>Não</td>\n",
       "      <td>Sim</td>\n",
       "      <td>500</td>\n",
       "      <td>Sim</td>\n",
       "      <td>Sim</td>\n",
       "      <td>Setor de Clubes Sul</td>\n",
       "      <td>Sim</td>\n",
       "    </tr>\n",
       "    <tr>\n",
       "      <th>158</th>\n",
       "      <td>2022-09-15 15:34:39.796</td>\n",
       "      <td>22</td>\n",
       "      <td>Plano Piloto</td>\n",
       "      <td>Sim</td>\n",
       "      <td>Sim</td>\n",
       "      <td>Sim</td>\n",
       "      <td>500</td>\n",
       "      <td>Sim</td>\n",
       "      <td>Sim</td>\n",
       "      <td>Estacionamento do Mané Garrincha</td>\n",
       "      <td>Sim</td>\n",
       "    </tr>\n",
       "    <tr>\n",
       "      <th>163</th>\n",
       "      <td>2022-09-15 15:36:37.401</td>\n",
       "      <td>24</td>\n",
       "      <td>Águas Claras</td>\n",
       "      <td>Sim</td>\n",
       "      <td>Sim</td>\n",
       "      <td>Sim</td>\n",
       "      <td>500</td>\n",
       "      <td>Sim</td>\n",
       "      <td>Sim</td>\n",
       "      <td>Parque da Cidade</td>\n",
       "      <td>Sim</td>\n",
       "    </tr>\n",
       "  </tbody>\n",
       "</table>\n",
       "</div>"
      ],
      "text/plain": [
       "                       data  idade região_administrativa  \\\n",
       "11  2022-09-10 15:53:36.129     18               Paranoá   \n",
       "12  2022-09-10 15:54:05.170     22                Itapoã   \n",
       "15  2022-09-10 15:57:39.644     17                Itapoã   \n",
       "20  2022-09-10 16:07:37.887     20          Plano Piloto   \n",
       "41  2022-09-10 18:22:45.508     19       Jardim Botânico   \n",
       "42  2022-09-10 18:23:05.038     19                 Guará   \n",
       "45  2022-09-10 18:24:59.938     15                 Guará   \n",
       "47  2022-09-10 18:31:22.645     19          Plano Piloto   \n",
       "69  2022-09-11 06:56:39.305     36    Sudoeste/Octogonal   \n",
       "75  2022-09-11 11:57:45.374     18          Plano Piloto   \n",
       "83  2022-09-12 08:12:27.345     19            Lago Norte   \n",
       "84  2022-09-12 08:13:45.550     23            Sobradinho   \n",
       "91  2022-09-12 09:30:09.127     23          Plano Piloto   \n",
       "96  2022-09-12 13:14:06.710     27       Jardim Botânico   \n",
       "98  2022-09-12 13:57:39.931     20              Lago Sul   \n",
       "112 2022-09-12 15:16:29.247     19             Ceilândia   \n",
       "113 2022-09-12 15:19:44.532     23          Plano Piloto   \n",
       "121 2022-09-12 18:25:05.013     34            Sobradinho   \n",
       "144 2022-09-13 16:07:45.303     23          Plano Piloto   \n",
       "155 2022-09-15 15:34:06.618     19              Cruzeiro   \n",
       "157 2022-09-15 15:34:30.383     20       Jardim Botânico   \n",
       "158 2022-09-15 15:34:39.796     22          Plano Piloto   \n",
       "163 2022-09-15 15:36:37.401     24          Águas Claras   \n",
       "\n",
       "    interesse_causas_sociais festivais interesse_festivais  \\\n",
       "11                       Sim       Não                 Sim   \n",
       "12                       Sim       Não                 Sim   \n",
       "15                       Sim       Não                 Sim   \n",
       "20                       Sim       Sim                 Sim   \n",
       "41                       Sim       Sim                 Sim   \n",
       "42                       Sim       Sim                 Sim   \n",
       "45                       Sim       Não                 Sim   \n",
       "47                       Sim       Sim                 Sim   \n",
       "69                       Sim       Não                 Sim   \n",
       "75                       Não       Sim                 Sim   \n",
       "83                       Sim       Sim                 Sim   \n",
       "84                       Sim       Não                 Sim   \n",
       "91                       Sim       Sim                 Sim   \n",
       "96                       Sim       Sim                 Sim   \n",
       "98                       Sim       Sim                 Sim   \n",
       "112                      Sim       Sim                 Sim   \n",
       "113                      Sim       Não                 Sim   \n",
       "121                      Sim       Sim                 Sim   \n",
       "144                      Não       Não                 Não   \n",
       "155                      Não       Sim                 Sim   \n",
       "157                      Sim       Não                 Sim   \n",
       "158                      Sim       Sim                 Sim   \n",
       "163                      Sim       Sim                 Sim   \n",
       "\n",
       "     valor_ingresso (R$) atividades_diurnas atividades_noturnas  \\\n",
       "11                   500                Sim                 Sim   \n",
       "12                   500                Sim                 Não   \n",
       "15                   500                Sim                 Não   \n",
       "20                   500                Não                 Sim   \n",
       "41                   500                Sim                 Sim   \n",
       "42                   500                Sim                 Sim   \n",
       "45                   500                Sim                 Sim   \n",
       "47                   500                Sim                 Sim   \n",
       "69                   500                Sim                 Sim   \n",
       "75                   500                Não                 Sim   \n",
       "83                   500                Sim                 Sim   \n",
       "84                   500                Não                 Sim   \n",
       "91                   500                Sim                 Sim   \n",
       "96                   500                Sim                 Sim   \n",
       "98                   500                Sim                 Sim   \n",
       "112                  500                Sim                 Sim   \n",
       "113                  500                Sim                 Sim   \n",
       "121                  500                Sim                 Sim   \n",
       "144                  500                Não                 Sim   \n",
       "155                  500                Não                 Sim   \n",
       "157                  500                Sim                 Sim   \n",
       "158                  500                Sim                 Sim   \n",
       "163                  500                Sim                 Sim   \n",
       "\n",
       "                                local atividades_ambos_turnos  \n",
       "11   Estacionamento do Mané Garrincha                     Sim  \n",
       "12                   Parque da Cidade                     Não  \n",
       "15   Estacionamento do Mané Garrincha                     Não  \n",
       "20                   Parque da Cidade                     Não  \n",
       "41                Setor de Clubes Sul                     Sim  \n",
       "42                Setor de Clubes Sul                     Sim  \n",
       "45                   Parque da Cidade                     Sim  \n",
       "47   Estacionamento do Mané Garrincha                     Sim  \n",
       "69   Estacionamento do Mané Garrincha                     Sim  \n",
       "75   Estacionamento do Mané Garrincha                     Não  \n",
       "83   Estacionamento do Mané Garrincha                     Sim  \n",
       "84                Setor de Clubes Sul                     Não  \n",
       "91   Estacionamento do Mané Garrincha                     Sim  \n",
       "96                Setor de Clubes Sul                     Sim  \n",
       "98   Estacionamento do Mané Garrincha                     Sim  \n",
       "112  Estacionamento do Mané Garrincha                     Sim  \n",
       "113  Estacionamento do Mané Garrincha                     Sim  \n",
       "121  Estacionamento do Mané Garrincha                     Sim  \n",
       "144               Setor de Clubes Sul                     Não  \n",
       "155                  Parque da Cidade                     Não  \n",
       "157               Setor de Clubes Sul                     Sim  \n",
       "158  Estacionamento do Mané Garrincha                     Sim  \n",
       "163                  Parque da Cidade                     Sim  "
      ]
     },
     "execution_count": 28,
     "metadata": {},
     "output_type": "execute_result"
    }
   ],
   "source": [
    "quinhentos = df[df['valor_ingresso (R$)'] == 500]\n",
    "quinhentos"
   ]
  },
  {
   "cell_type": "code",
   "execution_count": 29,
   "id": "fWdL49tub-XI",
   "metadata": {
    "colab": {
     "base_uri": "https://localhost:8080/"
    },
    "id": "fWdL49tub-XI",
    "outputId": "3d8964e3-41b2-4ce6-ae84-560fa3fd489d"
   },
   "outputs": [
    {
     "data": {
      "text/plain": [
       "idade                   21.695652\n",
       "valor_ingresso (R$)    500.000000\n",
       "dtype: float64"
      ]
     },
     "execution_count": 29,
     "metadata": {},
     "output_type": "execute_result"
    }
   ],
   "source": [
    "quinhentos.mean(numeric_only=True)"
   ]
  },
  {
   "cell_type": "code",
   "execution_count": 30,
   "id": "7H3ulvJGb-Zp",
   "metadata": {
    "colab": {
     "base_uri": "https://localhost:8080/"
    },
    "id": "7H3ulvJGb-Zp",
    "outputId": "b171acb0-2c59-4848-f346-11f3fba0e866"
   },
   "outputs": [
    {
     "data": {
      "text/plain": [
       "idade                  4.967483\n",
       "valor_ingresso (R$)    0.000000\n",
       "dtype: float64"
      ]
     },
     "execution_count": 30,
     "metadata": {},
     "output_type": "execute_result"
    }
   ],
   "source": [
    "quinhentos.std(numeric_only=True)"
   ]
  },
  {
   "cell_type": "code",
   "execution_count": 31,
   "id": "lTdc4Q0ib-cA",
   "metadata": {
    "colab": {
     "base_uri": "https://localhost:8080/"
    },
    "id": "lTdc4Q0ib-cA",
    "outputId": "74e80c4a-4706-48e4-dd98-076bf8b7e4a5"
   },
   "outputs": [
    {
     "data": {
      "text/plain": [
       "Estacionamento do Mané Garrincha    12\n",
       "Setor de Clubes Sul                  6\n",
       "Parque da Cidade                     5\n",
       "Name: local, dtype: int64"
      ]
     },
     "execution_count": 31,
     "metadata": {},
     "output_type": "execute_result"
    }
   ],
   "source": [
    "quinhentos['local'].value_counts()"
   ]
  },
  {
   "cell_type": "code",
   "execution_count": 32,
   "id": "U8Vm7G6Lb-nf",
   "metadata": {
    "colab": {
     "base_uri": "https://localhost:8080/"
    },
    "id": "U8Vm7G6Lb-nf",
    "outputId": "d557c9ec-6d58-4a0b-f9cc-b75fc6694406"
   },
   "outputs": [
    {
     "data": {
      "text/plain": [
       "Sim    20\n",
       "Não     3\n",
       "Name: interesse_causas_sociais, dtype: int64"
      ]
     },
     "execution_count": 32,
     "metadata": {},
     "output_type": "execute_result"
    }
   ],
   "source": [
    "quinhentos['interesse_causas_sociais'].value_counts()"
   ]
  },
  {
   "cell_type": "code",
   "execution_count": 33,
   "id": "S93VVlmdcpOh",
   "metadata": {
    "colab": {
     "base_uri": "https://localhost:8080/"
    },
    "id": "S93VVlmdcpOh",
    "outputId": "16102175-5f9c-4ffa-bee0-a0b2f0151858"
   },
   "outputs": [
    {
     "data": {
      "text/plain": [
       "Plano Piloto          7\n",
       "Jardim Botânico       3\n",
       "Itapoã                2\n",
       "Guará                 2\n",
       "Sobradinho            2\n",
       "Paranoá               1\n",
       "Sudoeste/Octogonal    1\n",
       "Lago Norte            1\n",
       "Lago Sul              1\n",
       "Ceilândia             1\n",
       "Cruzeiro              1\n",
       "Águas Claras          1\n",
       "Name: região_administrativa, dtype: int64"
      ]
     },
     "execution_count": 33,
     "metadata": {},
     "output_type": "execute_result"
    }
   ],
   "source": [
    "quinhentos['região_administrativa'].value_counts()"
   ]
  },
  {
   "cell_type": "code",
   "execution_count": 34,
   "id": "tunaGC8hbPaW",
   "metadata": {
    "colab": {
     "base_uri": "https://localhost:8080/",
     "height": 506
    },
    "id": "tunaGC8hbPaW",
    "outputId": "39f0fb90-aec2-4bfa-82b2-3aa19e23fbcf"
   },
   "outputs": [
    {
     "data": {
      "text/html": [
       "<div>\n",
       "<style scoped>\n",
       "    .dataframe tbody tr th:only-of-type {\n",
       "        vertical-align: middle;\n",
       "    }\n",
       "\n",
       "    .dataframe tbody tr th {\n",
       "        vertical-align: top;\n",
       "    }\n",
       "\n",
       "    .dataframe thead th {\n",
       "        text-align: right;\n",
       "    }\n",
       "</style>\n",
       "<table border=\"1\" class=\"dataframe\">\n",
       "  <thead>\n",
       "    <tr style=\"text-align: right;\">\n",
       "      <th></th>\n",
       "      <th>data</th>\n",
       "      <th>idade</th>\n",
       "      <th>região_administrativa</th>\n",
       "      <th>interesse_causas_sociais</th>\n",
       "      <th>festivais</th>\n",
       "      <th>interesse_festivais</th>\n",
       "      <th>valor_ingresso (R$)</th>\n",
       "      <th>atividades_diurnas</th>\n",
       "      <th>atividades_noturnas</th>\n",
       "      <th>local</th>\n",
       "      <th>atividades_ambos_turnos</th>\n",
       "    </tr>\n",
       "  </thead>\n",
       "  <tbody>\n",
       "    <tr>\n",
       "      <th>10</th>\n",
       "      <td>2022-09-10 14:27:01.919</td>\n",
       "      <td>23</td>\n",
       "      <td>Plano Piloto</td>\n",
       "      <td>Não</td>\n",
       "      <td>Sim</td>\n",
       "      <td>Sim</td>\n",
       "      <td>800</td>\n",
       "      <td>Sim</td>\n",
       "      <td>Sim</td>\n",
       "      <td>Parque da Cidade</td>\n",
       "      <td>Sim</td>\n",
       "    </tr>\n",
       "    <tr>\n",
       "      <th>43</th>\n",
       "      <td>2022-09-10 18:23:26.190</td>\n",
       "      <td>18</td>\n",
       "      <td>Plano Piloto</td>\n",
       "      <td>Sim</td>\n",
       "      <td>Sim</td>\n",
       "      <td>Sim</td>\n",
       "      <td>800</td>\n",
       "      <td>Sim</td>\n",
       "      <td>Sim</td>\n",
       "      <td>Estacionamento do Mané Garrincha</td>\n",
       "      <td>Sim</td>\n",
       "    </tr>\n",
       "    <tr>\n",
       "      <th>53</th>\n",
       "      <td>2022-09-10 18:39:51.798</td>\n",
       "      <td>18</td>\n",
       "      <td>Jardim Botânico</td>\n",
       "      <td>Sim</td>\n",
       "      <td>Sim</td>\n",
       "      <td>Sim</td>\n",
       "      <td>800</td>\n",
       "      <td>Sim</td>\n",
       "      <td>Sim</td>\n",
       "      <td>Parque da Cidade</td>\n",
       "      <td>Sim</td>\n",
       "    </tr>\n",
       "    <tr>\n",
       "      <th>55</th>\n",
       "      <td>2022-09-10 18:50:09.610</td>\n",
       "      <td>19</td>\n",
       "      <td>Plano Piloto</td>\n",
       "      <td>Sim</td>\n",
       "      <td>Sim</td>\n",
       "      <td>Sim</td>\n",
       "      <td>800</td>\n",
       "      <td>Sim</td>\n",
       "      <td>Sim</td>\n",
       "      <td>Estacionamento do Mané Garrincha</td>\n",
       "      <td>Sim</td>\n",
       "    </tr>\n",
       "    <tr>\n",
       "      <th>138</th>\n",
       "      <td>2022-09-13 10:47:13.408</td>\n",
       "      <td>18</td>\n",
       "      <td>Jardim Botânico</td>\n",
       "      <td>Sim</td>\n",
       "      <td>Sim</td>\n",
       "      <td>Sim</td>\n",
       "      <td>800</td>\n",
       "      <td>Sim</td>\n",
       "      <td>Sim</td>\n",
       "      <td>Setor de Clubes Sul</td>\n",
       "      <td>Sim</td>\n",
       "    </tr>\n",
       "    <tr>\n",
       "      <th>143</th>\n",
       "      <td>2022-09-13 15:21:26.715</td>\n",
       "      <td>59</td>\n",
       "      <td>Plano Piloto</td>\n",
       "      <td>Sim</td>\n",
       "      <td>Não</td>\n",
       "      <td>Sim</td>\n",
       "      <td>800</td>\n",
       "      <td>Não</td>\n",
       "      <td>Sim</td>\n",
       "      <td>Parque da Cidade</td>\n",
       "      <td>Não</td>\n",
       "    </tr>\n",
       "    <tr>\n",
       "      <th>146</th>\n",
       "      <td>2022-09-13 16:40:55.236</td>\n",
       "      <td>32</td>\n",
       "      <td>Sudoeste/Octogonal</td>\n",
       "      <td>Sim</td>\n",
       "      <td>Sim</td>\n",
       "      <td>Sim</td>\n",
       "      <td>800</td>\n",
       "      <td>Sim</td>\n",
       "      <td>Sim</td>\n",
       "      <td>Parque da Cidade</td>\n",
       "      <td>Sim</td>\n",
       "    </tr>\n",
       "    <tr>\n",
       "      <th>160</th>\n",
       "      <td>2022-09-15 15:34:52.078</td>\n",
       "      <td>19</td>\n",
       "      <td>Park Way</td>\n",
       "      <td>Sim</td>\n",
       "      <td>Sim</td>\n",
       "      <td>Sim</td>\n",
       "      <td>800</td>\n",
       "      <td>Sim</td>\n",
       "      <td>Sim</td>\n",
       "      <td>Estacionamento do Mané Garrincha</td>\n",
       "      <td>Sim</td>\n",
       "    </tr>\n",
       "  </tbody>\n",
       "</table>\n",
       "</div>"
      ],
      "text/plain": [
       "                       data  idade região_administrativa  \\\n",
       "10  2022-09-10 14:27:01.919     23          Plano Piloto   \n",
       "43  2022-09-10 18:23:26.190     18          Plano Piloto   \n",
       "53  2022-09-10 18:39:51.798     18       Jardim Botânico   \n",
       "55  2022-09-10 18:50:09.610     19          Plano Piloto   \n",
       "138 2022-09-13 10:47:13.408     18       Jardim Botânico   \n",
       "143 2022-09-13 15:21:26.715     59          Plano Piloto   \n",
       "146 2022-09-13 16:40:55.236     32    Sudoeste/Octogonal   \n",
       "160 2022-09-15 15:34:52.078     19              Park Way   \n",
       "\n",
       "    interesse_causas_sociais festivais interesse_festivais  \\\n",
       "10                       Não       Sim                 Sim   \n",
       "43                       Sim       Sim                 Sim   \n",
       "53                       Sim       Sim                 Sim   \n",
       "55                       Sim       Sim                 Sim   \n",
       "138                      Sim       Sim                 Sim   \n",
       "143                      Sim       Não                 Sim   \n",
       "146                      Sim       Sim                 Sim   \n",
       "160                      Sim       Sim                 Sim   \n",
       "\n",
       "     valor_ingresso (R$) atividades_diurnas atividades_noturnas  \\\n",
       "10                   800                Sim                 Sim   \n",
       "43                   800                Sim                 Sim   \n",
       "53                   800                Sim                 Sim   \n",
       "55                   800                Sim                 Sim   \n",
       "138                  800                Sim                 Sim   \n",
       "143                  800                Não                 Sim   \n",
       "146                  800                Sim                 Sim   \n",
       "160                  800                Sim                 Sim   \n",
       "\n",
       "                                local atividades_ambos_turnos  \n",
       "10                   Parque da Cidade                     Sim  \n",
       "43   Estacionamento do Mané Garrincha                     Sim  \n",
       "53                   Parque da Cidade                     Sim  \n",
       "55   Estacionamento do Mané Garrincha                     Sim  \n",
       "138               Setor de Clubes Sul                     Sim  \n",
       "143                  Parque da Cidade                     Não  \n",
       "146                  Parque da Cidade                     Sim  \n",
       "160  Estacionamento do Mané Garrincha                     Sim  "
      ]
     },
     "execution_count": 34,
     "metadata": {},
     "output_type": "execute_result"
    }
   ],
   "source": [
    "oitocentos = df[df['valor_ingresso (R$)'] == 800]\n",
    "oitocentos"
   ]
  },
  {
   "cell_type": "code",
   "execution_count": 35,
   "id": "4rLkt0nZbZSV",
   "metadata": {
    "colab": {
     "base_uri": "https://localhost:8080/"
    },
    "id": "4rLkt0nZbZSV",
    "outputId": "53653441-73b9-4cc9-90e5-a32a69f4acc1"
   },
   "outputs": [
    {
     "data": {
      "text/plain": [
       "idade                   25.75\n",
       "valor_ingresso (R$)    800.00\n",
       "dtype: float64"
      ]
     },
     "execution_count": 35,
     "metadata": {},
     "output_type": "execute_result"
    }
   ],
   "source": [
    "oitocentos.mean(numeric_only=True)"
   ]
  },
  {
   "cell_type": "code",
   "execution_count": 36,
   "id": "Qe6K2vcxcwrA",
   "metadata": {
    "colab": {
     "base_uri": "https://localhost:8080/"
    },
    "id": "Qe6K2vcxcwrA",
    "outputId": "28f1f7d5-8f95-4efe-959b-c177805ddb4e"
   },
   "outputs": [
    {
     "data": {
      "text/plain": [
       "idade                  14.260335\n",
       "valor_ingresso (R$)     0.000000\n",
       "dtype: float64"
      ]
     },
     "execution_count": 36,
     "metadata": {},
     "output_type": "execute_result"
    }
   ],
   "source": [
    "oitocentos.std(numeric_only=True)"
   ]
  },
  {
   "cell_type": "code",
   "execution_count": 37,
   "id": "UHmvmyyfcw5X",
   "metadata": {
    "colab": {
     "base_uri": "https://localhost:8080/"
    },
    "id": "UHmvmyyfcw5X",
    "outputId": "384a46e5-6157-47fe-f277-60c60f9f0b3f"
   },
   "outputs": [
    {
     "data": {
      "text/plain": [
       "Parque da Cidade                    4\n",
       "Estacionamento do Mané Garrincha    3\n",
       "Setor de Clubes Sul                 1\n",
       "Name: local, dtype: int64"
      ]
     },
     "execution_count": 37,
     "metadata": {},
     "output_type": "execute_result"
    }
   ],
   "source": [
    "oitocentos['local'].value_counts()"
   ]
  },
  {
   "cell_type": "code",
   "execution_count": 38,
   "id": "QHs5ASq2cxD_",
   "metadata": {
    "colab": {
     "base_uri": "https://localhost:8080/"
    },
    "id": "QHs5ASq2cxD_",
    "outputId": "3161b444-cea5-448f-a237-ee8a82bc0101"
   },
   "outputs": [
    {
     "data": {
      "text/plain": [
       "Sim    7\n",
       "Não    1\n",
       "Name: interesse_causas_sociais, dtype: int64"
      ]
     },
     "execution_count": 38,
     "metadata": {},
     "output_type": "execute_result"
    }
   ],
   "source": [
    "oitocentos['interesse_causas_sociais'].value_counts()"
   ]
  },
  {
   "cell_type": "code",
   "execution_count": 39,
   "id": "WVq9WQj8cxZH",
   "metadata": {
    "colab": {
     "base_uri": "https://localhost:8080/"
    },
    "id": "WVq9WQj8cxZH",
    "outputId": "879e89bb-2265-4569-a380-b38bf7f75a93"
   },
   "outputs": [
    {
     "data": {
      "text/plain": [
       "Plano Piloto          4\n",
       "Jardim Botânico       2\n",
       "Sudoeste/Octogonal    1\n",
       "Park Way              1\n",
       "Name: região_administrativa, dtype: int64"
      ]
     },
     "execution_count": 39,
     "metadata": {},
     "output_type": "execute_result"
    }
   ],
   "source": [
    "oitocentos['região_administrativa'].value_counts()"
   ]
  },
  {
   "cell_type": "markdown",
   "id": "dtBXaUA_dHNb",
   "metadata": {
    "id": "dtBXaUA_dHNb"
   },
   "source": [
    "# Anlisando por faixa etária"
   ]
  },
  {
   "cell_type": "markdown",
   "id": "Ksn77FIidKlT",
   "metadata": {
    "id": "Ksn77FIidKlT"
   },
   "source": [
    "## 42 anos ou mais"
   ]
  },
  {
   "cell_type": "code",
   "execution_count": 40,
   "id": "yrls40QNdD3n",
   "metadata": {
    "colab": {
     "base_uri": "https://localhost:8080/",
     "height": 1000
    },
    "id": "yrls40QNdD3n",
    "outputId": "718b2a60-c3cf-4137-c5cd-1498d92d2477"
   },
   "outputs": [
    {
     "data": {
      "text/html": [
       "<div>\n",
       "<style scoped>\n",
       "    .dataframe tbody tr th:only-of-type {\n",
       "        vertical-align: middle;\n",
       "    }\n",
       "\n",
       "    .dataframe tbody tr th {\n",
       "        vertical-align: top;\n",
       "    }\n",
       "\n",
       "    .dataframe thead th {\n",
       "        text-align: right;\n",
       "    }\n",
       "</style>\n",
       "<table border=\"1\" class=\"dataframe\">\n",
       "  <thead>\n",
       "    <tr style=\"text-align: right;\">\n",
       "      <th></th>\n",
       "      <th>data</th>\n",
       "      <th>idade</th>\n",
       "      <th>região_administrativa</th>\n",
       "      <th>interesse_causas_sociais</th>\n",
       "      <th>festivais</th>\n",
       "      <th>interesse_festivais</th>\n",
       "      <th>valor_ingresso (R$)</th>\n",
       "      <th>atividades_diurnas</th>\n",
       "      <th>atividades_noturnas</th>\n",
       "      <th>local</th>\n",
       "      <th>atividades_ambos_turnos</th>\n",
       "    </tr>\n",
       "  </thead>\n",
       "  <tbody>\n",
       "    <tr>\n",
       "      <th>30</th>\n",
       "      <td>2022-09-10 17:04:34.486</td>\n",
       "      <td>63</td>\n",
       "      <td>Paranoá</td>\n",
       "      <td>Sim</td>\n",
       "      <td>Não</td>\n",
       "      <td>Não</td>\n",
       "      <td>200</td>\n",
       "      <td>Sim</td>\n",
       "      <td>Sim</td>\n",
       "      <td>Setor de Clubes Sul</td>\n",
       "      <td>Sim</td>\n",
       "    </tr>\n",
       "    <tr>\n",
       "      <th>31</th>\n",
       "      <td>2022-09-10 17:06:44.991</td>\n",
       "      <td>44</td>\n",
       "      <td>Paranoá</td>\n",
       "      <td>Sim</td>\n",
       "      <td>Sim</td>\n",
       "      <td>Sim</td>\n",
       "      <td>200</td>\n",
       "      <td>Sim</td>\n",
       "      <td>Sim</td>\n",
       "      <td>Setor de Clubes Sul</td>\n",
       "      <td>Sim</td>\n",
       "    </tr>\n",
       "    <tr>\n",
       "      <th>32</th>\n",
       "      <td>2022-09-10 17:08:15.220</td>\n",
       "      <td>44</td>\n",
       "      <td>Paranoá</td>\n",
       "      <td>Sim</td>\n",
       "      <td>Sim</td>\n",
       "      <td>Sim</td>\n",
       "      <td>200</td>\n",
       "      <td>Sim</td>\n",
       "      <td>Sim</td>\n",
       "      <td>Setor de Clubes Sul</td>\n",
       "      <td>Sim</td>\n",
       "    </tr>\n",
       "    <tr>\n",
       "      <th>52</th>\n",
       "      <td>2022-09-10 18:39:02.854</td>\n",
       "      <td>42</td>\n",
       "      <td>Paranoá</td>\n",
       "      <td>Sim</td>\n",
       "      <td>Não</td>\n",
       "      <td>Não</td>\n",
       "      <td>200</td>\n",
       "      <td>Sim</td>\n",
       "      <td>Sim</td>\n",
       "      <td>Parque da Cidade</td>\n",
       "      <td>Sim</td>\n",
       "    </tr>\n",
       "    <tr>\n",
       "      <th>54</th>\n",
       "      <td>2022-09-10 18:40:41.298</td>\n",
       "      <td>42</td>\n",
       "      <td>Itapoã</td>\n",
       "      <td>Sim</td>\n",
       "      <td>Não</td>\n",
       "      <td>Sim</td>\n",
       "      <td>200</td>\n",
       "      <td>Sim</td>\n",
       "      <td>Sim</td>\n",
       "      <td>Parque da Cidade</td>\n",
       "      <td>Sim</td>\n",
       "    </tr>\n",
       "    <tr>\n",
       "      <th>78</th>\n",
       "      <td>2022-09-11 16:11:06.244</td>\n",
       "      <td>52</td>\n",
       "      <td>Plano Piloto</td>\n",
       "      <td>Sim</td>\n",
       "      <td>Não</td>\n",
       "      <td>Sim</td>\n",
       "      <td>200</td>\n",
       "      <td>Sim</td>\n",
       "      <td>Sim</td>\n",
       "      <td>Parque da Cidade</td>\n",
       "      <td>Sim</td>\n",
       "    </tr>\n",
       "    <tr>\n",
       "      <th>85</th>\n",
       "      <td>2022-09-12 08:44:01.132</td>\n",
       "      <td>64</td>\n",
       "      <td>Lago Sul</td>\n",
       "      <td>Sim</td>\n",
       "      <td>Não</td>\n",
       "      <td>Não</td>\n",
       "      <td>200</td>\n",
       "      <td>Não</td>\n",
       "      <td>Sim</td>\n",
       "      <td>Estacionamento do Mané Garrincha</td>\n",
       "      <td>Não</td>\n",
       "    </tr>\n",
       "    <tr>\n",
       "      <th>92</th>\n",
       "      <td>2022-09-12 09:50:39.868</td>\n",
       "      <td>56</td>\n",
       "      <td>Plano Piloto</td>\n",
       "      <td>Sim</td>\n",
       "      <td>Não</td>\n",
       "      <td>Não</td>\n",
       "      <td>200</td>\n",
       "      <td>Sim</td>\n",
       "      <td>Sim</td>\n",
       "      <td>Estacionamento do Mané Garrincha</td>\n",
       "      <td>Sim</td>\n",
       "    </tr>\n",
       "    <tr>\n",
       "      <th>105</th>\n",
       "      <td>2022-09-12 14:38:02.949</td>\n",
       "      <td>59</td>\n",
       "      <td>Lago Norte</td>\n",
       "      <td>Sim</td>\n",
       "      <td>Não</td>\n",
       "      <td>Não</td>\n",
       "      <td>200</td>\n",
       "      <td>Sim</td>\n",
       "      <td>Sim</td>\n",
       "      <td>Estacionamento do Mané Garrincha</td>\n",
       "      <td>Sim</td>\n",
       "    </tr>\n",
       "    <tr>\n",
       "      <th>107</th>\n",
       "      <td>2022-09-12 14:43:40.467</td>\n",
       "      <td>59</td>\n",
       "      <td>Núcleo Bandeirante</td>\n",
       "      <td>Sim</td>\n",
       "      <td>Não</td>\n",
       "      <td>Sim</td>\n",
       "      <td>200</td>\n",
       "      <td>Sim</td>\n",
       "      <td>Sim</td>\n",
       "      <td>Estacionamento do Mané Garrincha</td>\n",
       "      <td>Sim</td>\n",
       "    </tr>\n",
       "    <tr>\n",
       "      <th>111</th>\n",
       "      <td>2022-09-12 15:06:42.022</td>\n",
       "      <td>44</td>\n",
       "      <td>Plano Piloto</td>\n",
       "      <td>Sim</td>\n",
       "      <td>Sim</td>\n",
       "      <td>Sim</td>\n",
       "      <td>200</td>\n",
       "      <td>Não</td>\n",
       "      <td>Sim</td>\n",
       "      <td>Setor de Clubes Sul</td>\n",
       "      <td>Não</td>\n",
       "    </tr>\n",
       "    <tr>\n",
       "      <th>115</th>\n",
       "      <td>2022-09-12 15:39:36.924</td>\n",
       "      <td>53</td>\n",
       "      <td>Arniqueira</td>\n",
       "      <td>Sim</td>\n",
       "      <td>Não</td>\n",
       "      <td>Sim</td>\n",
       "      <td>200</td>\n",
       "      <td>Não</td>\n",
       "      <td>Sim</td>\n",
       "      <td>Parque da Cidade</td>\n",
       "      <td>Não</td>\n",
       "    </tr>\n",
       "    <tr>\n",
       "      <th>116</th>\n",
       "      <td>2022-09-12 16:30:35.268</td>\n",
       "      <td>55</td>\n",
       "      <td>Guará</td>\n",
       "      <td>Sim</td>\n",
       "      <td>Sim</td>\n",
       "      <td>Sim</td>\n",
       "      <td>200</td>\n",
       "      <td>Sim</td>\n",
       "      <td>Sim</td>\n",
       "      <td>Estacionamento do Mané Garrincha</td>\n",
       "      <td>Sim</td>\n",
       "    </tr>\n",
       "    <tr>\n",
       "      <th>117</th>\n",
       "      <td>2022-09-12 16:40:16.767</td>\n",
       "      <td>43</td>\n",
       "      <td>Plano Piloto</td>\n",
       "      <td>Sim</td>\n",
       "      <td>Não</td>\n",
       "      <td>Não</td>\n",
       "      <td>200</td>\n",
       "      <td>Sim</td>\n",
       "      <td>Sim</td>\n",
       "      <td>Estacionamento do Mané Garrincha</td>\n",
       "      <td>Sim</td>\n",
       "    </tr>\n",
       "    <tr>\n",
       "      <th>120</th>\n",
       "      <td>2022-09-12 18:07:40.418</td>\n",
       "      <td>89</td>\n",
       "      <td>Plano Piloto</td>\n",
       "      <td>Não</td>\n",
       "      <td>Não</td>\n",
       "      <td>Não</td>\n",
       "      <td>200</td>\n",
       "      <td>Sim</td>\n",
       "      <td>Não</td>\n",
       "      <td>Parque da Cidade</td>\n",
       "      <td>Não</td>\n",
       "    </tr>\n",
       "    <tr>\n",
       "      <th>143</th>\n",
       "      <td>2022-09-13 15:21:26.715</td>\n",
       "      <td>59</td>\n",
       "      <td>Plano Piloto</td>\n",
       "      <td>Sim</td>\n",
       "      <td>Não</td>\n",
       "      <td>Sim</td>\n",
       "      <td>800</td>\n",
       "      <td>Não</td>\n",
       "      <td>Sim</td>\n",
       "      <td>Parque da Cidade</td>\n",
       "      <td>Não</td>\n",
       "    </tr>\n",
       "    <tr>\n",
       "      <th>148</th>\n",
       "      <td>2022-09-13 19:45:17.808</td>\n",
       "      <td>55</td>\n",
       "      <td>Sol Nascente/Pôr do So</td>\n",
       "      <td>Não</td>\n",
       "      <td>Não</td>\n",
       "      <td>Não</td>\n",
       "      <td>200</td>\n",
       "      <td>Não</td>\n",
       "      <td>Não</td>\n",
       "      <td>Parque da Cidade</td>\n",
       "      <td>Não</td>\n",
       "    </tr>\n",
       "  </tbody>\n",
       "</table>\n",
       "</div>"
      ],
      "text/plain": [
       "                       data  idade   região_administrativa  \\\n",
       "30  2022-09-10 17:04:34.486     63                 Paranoá   \n",
       "31  2022-09-10 17:06:44.991     44                 Paranoá   \n",
       "32  2022-09-10 17:08:15.220     44                 Paranoá   \n",
       "52  2022-09-10 18:39:02.854     42                 Paranoá   \n",
       "54  2022-09-10 18:40:41.298     42                  Itapoã   \n",
       "78  2022-09-11 16:11:06.244     52            Plano Piloto   \n",
       "85  2022-09-12 08:44:01.132     64                Lago Sul   \n",
       "92  2022-09-12 09:50:39.868     56            Plano Piloto   \n",
       "105 2022-09-12 14:38:02.949     59              Lago Norte   \n",
       "107 2022-09-12 14:43:40.467     59      Núcleo Bandeirante   \n",
       "111 2022-09-12 15:06:42.022     44            Plano Piloto   \n",
       "115 2022-09-12 15:39:36.924     53              Arniqueira   \n",
       "116 2022-09-12 16:30:35.268     55                   Guará   \n",
       "117 2022-09-12 16:40:16.767     43            Plano Piloto   \n",
       "120 2022-09-12 18:07:40.418     89            Plano Piloto   \n",
       "143 2022-09-13 15:21:26.715     59            Plano Piloto   \n",
       "148 2022-09-13 19:45:17.808     55  Sol Nascente/Pôr do So   \n",
       "\n",
       "    interesse_causas_sociais festivais interesse_festivais  \\\n",
       "30                       Sim       Não                 Não   \n",
       "31                       Sim       Sim                 Sim   \n",
       "32                       Sim       Sim                 Sim   \n",
       "52                       Sim       Não                 Não   \n",
       "54                       Sim       Não                 Sim   \n",
       "78                       Sim       Não                 Sim   \n",
       "85                       Sim       Não                 Não   \n",
       "92                       Sim       Não                 Não   \n",
       "105                      Sim       Não                 Não   \n",
       "107                      Sim       Não                 Sim   \n",
       "111                      Sim       Sim                 Sim   \n",
       "115                      Sim       Não                 Sim   \n",
       "116                      Sim       Sim                 Sim   \n",
       "117                      Sim       Não                 Não   \n",
       "120                      Não       Não                 Não   \n",
       "143                      Sim       Não                 Sim   \n",
       "148                      Não       Não                 Não   \n",
       "\n",
       "     valor_ingresso (R$) atividades_diurnas atividades_noturnas  \\\n",
       "30                   200                Sim                 Sim   \n",
       "31                   200                Sim                 Sim   \n",
       "32                   200                Sim                 Sim   \n",
       "52                   200                Sim                 Sim   \n",
       "54                   200                Sim                 Sim   \n",
       "78                   200                Sim                 Sim   \n",
       "85                   200                Não                 Sim   \n",
       "92                   200                Sim                 Sim   \n",
       "105                  200                Sim                 Sim   \n",
       "107                  200                Sim                 Sim   \n",
       "111                  200                Não                 Sim   \n",
       "115                  200                Não                 Sim   \n",
       "116                  200                Sim                 Sim   \n",
       "117                  200                Sim                 Sim   \n",
       "120                  200                Sim                 Não   \n",
       "143                  800                Não                 Sim   \n",
       "148                  200                Não                 Não   \n",
       "\n",
       "                                local atividades_ambos_turnos  \n",
       "30                Setor de Clubes Sul                     Sim  \n",
       "31                Setor de Clubes Sul                     Sim  \n",
       "32                Setor de Clubes Sul                     Sim  \n",
       "52                   Parque da Cidade                     Sim  \n",
       "54                   Parque da Cidade                     Sim  \n",
       "78                   Parque da Cidade                     Sim  \n",
       "85   Estacionamento do Mané Garrincha                     Não  \n",
       "92   Estacionamento do Mané Garrincha                     Sim  \n",
       "105  Estacionamento do Mané Garrincha                     Sim  \n",
       "107  Estacionamento do Mané Garrincha                     Sim  \n",
       "111               Setor de Clubes Sul                     Não  \n",
       "115                  Parque da Cidade                     Não  \n",
       "116  Estacionamento do Mané Garrincha                     Sim  \n",
       "117  Estacionamento do Mané Garrincha                     Sim  \n",
       "120                  Parque da Cidade                     Não  \n",
       "143                  Parque da Cidade                     Não  \n",
       "148                  Parque da Cidade                     Não  "
      ]
     },
     "execution_count": 40,
     "metadata": {},
     "output_type": "execute_result"
    }
   ],
   "source": [
    "over_42 = df[df['idade'] >= 42]\n",
    "over_42"
   ]
  },
  {
   "cell_type": "code",
   "execution_count": 41,
   "id": "jsx1OC5odbI-",
   "metadata": {
    "colab": {
     "base_uri": "https://localhost:8080/"
    },
    "id": "jsx1OC5odbI-",
    "outputId": "9df1a3fa-ac51-4890-ef3f-b833dc5a46cd"
   },
   "outputs": [
    {
     "data": {
      "text/plain": [
       "idade                   54.294118\n",
       "valor_ingresso (R$)    235.294118\n",
       "dtype: float64"
      ]
     },
     "execution_count": 41,
     "metadata": {},
     "output_type": "execute_result"
    }
   ],
   "source": [
    "over_42.mean(numeric_only=True)"
   ]
  },
  {
   "cell_type": "code",
   "execution_count": 42,
   "id": "D24UsD83epZv",
   "metadata": {
    "colab": {
     "base_uri": "https://localhost:8080/"
    },
    "id": "D24UsD83epZv",
    "outputId": "49c78d04-fb38-42ac-e67b-2e5a0ef4b6c5"
   },
   "outputs": [
    {
     "data": {
      "text/plain": [
       "idade                   11.724785\n",
       "valor_ingresso (R$)    145.521375\n",
       "dtype: float64"
      ]
     },
     "execution_count": 42,
     "metadata": {},
     "output_type": "execute_result"
    }
   ],
   "source": [
    "over_42.std(numeric_only=True)"
   ]
  },
  {
   "cell_type": "code",
   "execution_count": 43,
   "id": "mtyyPBMDevkF",
   "metadata": {
    "colab": {
     "base_uri": "https://localhost:8080/"
    },
    "id": "mtyyPBMDevkF",
    "outputId": "1bc8c0eb-9a45-4827-e81e-590513f2933f"
   },
   "outputs": [
    {
     "data": {
      "text/plain": [
       "Plano Piloto              6\n",
       "Paranoá                   4\n",
       "Itapoã                    1\n",
       "Lago Sul                  1\n",
       "Lago Norte                1\n",
       "Núcleo Bandeirante        1\n",
       "Arniqueira                1\n",
       "Guará                     1\n",
       "Sol Nascente/Pôr do So    1\n",
       "Name: região_administrativa, dtype: int64"
      ]
     },
     "execution_count": 43,
     "metadata": {},
     "output_type": "execute_result"
    }
   ],
   "source": [
    "over_42['região_administrativa'].value_counts()"
   ]
  },
  {
   "cell_type": "code",
   "execution_count": 44,
   "id": "JsbLfMiSe12R",
   "metadata": {
    "colab": {
     "base_uri": "https://localhost:8080/"
    },
    "id": "JsbLfMiSe12R",
    "outputId": "69b8c56c-8a4c-4edb-dbc1-13e0bff01358"
   },
   "outputs": [
    {
     "data": {
      "text/plain": [
       "Sim    15\n",
       "Não     2\n",
       "Name: interesse_causas_sociais, dtype: int64"
      ]
     },
     "execution_count": 44,
     "metadata": {},
     "output_type": "execute_result"
    }
   ],
   "source": [
    "over_42['interesse_causas_sociais'].value_counts()"
   ]
  },
  {
   "cell_type": "code",
   "execution_count": 45,
   "id": "Xp6lg1VNe2DR",
   "metadata": {
    "colab": {
     "base_uri": "https://localhost:8080/"
    },
    "id": "Xp6lg1VNe2DR",
    "outputId": "5801d6b6-f841-400f-a501-c474ab1d9d79"
   },
   "outputs": [
    {
     "data": {
      "text/plain": [
       "Sim    9\n",
       "Não    8\n",
       "Name: interesse_festivais, dtype: int64"
      ]
     },
     "execution_count": 45,
     "metadata": {},
     "output_type": "execute_result"
    }
   ],
   "source": [
    "over_42['interesse_festivais'].value_counts()"
   ]
  },
  {
   "cell_type": "code",
   "execution_count": 46,
   "id": "mU5vc-hkfE6F",
   "metadata": {
    "colab": {
     "base_uri": "https://localhost:8080/"
    },
    "id": "mU5vc-hkfE6F",
    "outputId": "a0c1dd64-96e7-4ade-eee5-382acd990812"
   },
   "outputs": [
    {
     "data": {
      "text/plain": [
       "Parque da Cidade                    7\n",
       "Estacionamento do Mané Garrincha    6\n",
       "Setor de Clubes Sul                 4\n",
       "Name: local, dtype: int64"
      ]
     },
     "execution_count": 46,
     "metadata": {},
     "output_type": "execute_result"
    }
   ],
   "source": [
    "over_42['local'].value_counts()"
   ]
  },
  {
   "cell_type": "markdown",
   "id": "K90mdIe1deG6",
   "metadata": {
    "id": "K90mdIe1deG6"
   },
   "source": [
    "## Abaixo de 18 anos"
   ]
  },
  {
   "cell_type": "code",
   "execution_count": 47,
   "id": "80vwuZ_2dkD-",
   "metadata": {
    "colab": {
     "base_uri": "https://localhost:8080/",
     "height": 916
    },
    "id": "80vwuZ_2dkD-",
    "outputId": "b9a4354c-4ba8-4a29-b378-5022457b0124"
   },
   "outputs": [
    {
     "data": {
      "text/html": [
       "<div>\n",
       "<style scoped>\n",
       "    .dataframe tbody tr th:only-of-type {\n",
       "        vertical-align: middle;\n",
       "    }\n",
       "\n",
       "    .dataframe tbody tr th {\n",
       "        vertical-align: top;\n",
       "    }\n",
       "\n",
       "    .dataframe thead th {\n",
       "        text-align: right;\n",
       "    }\n",
       "</style>\n",
       "<table border=\"1\" class=\"dataframe\">\n",
       "  <thead>\n",
       "    <tr style=\"text-align: right;\">\n",
       "      <th></th>\n",
       "      <th>data</th>\n",
       "      <th>idade</th>\n",
       "      <th>região_administrativa</th>\n",
       "      <th>interesse_causas_sociais</th>\n",
       "      <th>festivais</th>\n",
       "      <th>interesse_festivais</th>\n",
       "      <th>valor_ingresso (R$)</th>\n",
       "      <th>atividades_diurnas</th>\n",
       "      <th>atividades_noturnas</th>\n",
       "      <th>local</th>\n",
       "      <th>atividades_ambos_turnos</th>\n",
       "    </tr>\n",
       "  </thead>\n",
       "  <tbody>\n",
       "    <tr>\n",
       "      <th>2</th>\n",
       "      <td>2022-09-10 10:41:07.244</td>\n",
       "      <td>17</td>\n",
       "      <td>Paranoá</td>\n",
       "      <td>Sim</td>\n",
       "      <td>Não</td>\n",
       "      <td>Sim</td>\n",
       "      <td>200</td>\n",
       "      <td>Sim</td>\n",
       "      <td>Não</td>\n",
       "      <td>Parque da Cidade</td>\n",
       "      <td>Não</td>\n",
       "    </tr>\n",
       "    <tr>\n",
       "      <th>5</th>\n",
       "      <td>2022-09-10 11:45:39.937</td>\n",
       "      <td>17</td>\n",
       "      <td>Itapoã</td>\n",
       "      <td>Não</td>\n",
       "      <td>Não</td>\n",
       "      <td>Sim</td>\n",
       "      <td>200</td>\n",
       "      <td>Sim</td>\n",
       "      <td>Sim</td>\n",
       "      <td>Parque da Cidade</td>\n",
       "      <td>Sim</td>\n",
       "    </tr>\n",
       "    <tr>\n",
       "      <th>15</th>\n",
       "      <td>2022-09-10 15:57:39.644</td>\n",
       "      <td>17</td>\n",
       "      <td>Itapoã</td>\n",
       "      <td>Sim</td>\n",
       "      <td>Não</td>\n",
       "      <td>Sim</td>\n",
       "      <td>500</td>\n",
       "      <td>Sim</td>\n",
       "      <td>Não</td>\n",
       "      <td>Estacionamento do Mané Garrincha</td>\n",
       "      <td>Não</td>\n",
       "    </tr>\n",
       "    <tr>\n",
       "      <th>23</th>\n",
       "      <td>2022-09-10 16:19:10.137</td>\n",
       "      <td>16</td>\n",
       "      <td>Paranoá</td>\n",
       "      <td>Sim</td>\n",
       "      <td>Sim</td>\n",
       "      <td>Sim</td>\n",
       "      <td>200</td>\n",
       "      <td>Sim</td>\n",
       "      <td>Sim</td>\n",
       "      <td>Setor de Clubes Sul</td>\n",
       "      <td>Sim</td>\n",
       "    </tr>\n",
       "    <tr>\n",
       "      <th>27</th>\n",
       "      <td>2022-09-10 16:30:33.695</td>\n",
       "      <td>13</td>\n",
       "      <td>Sobradinho</td>\n",
       "      <td>Sim</td>\n",
       "      <td>Não</td>\n",
       "      <td>Sim</td>\n",
       "      <td>200</td>\n",
       "      <td>Sim</td>\n",
       "      <td>Não</td>\n",
       "      <td>Parque da Cidade</td>\n",
       "      <td>Não</td>\n",
       "    </tr>\n",
       "    <tr>\n",
       "      <th>36</th>\n",
       "      <td>2022-09-10 18:00:30.476</td>\n",
       "      <td>14</td>\n",
       "      <td>Itapoã</td>\n",
       "      <td>Sim</td>\n",
       "      <td>Não</td>\n",
       "      <td>Sim</td>\n",
       "      <td>200</td>\n",
       "      <td>Sim</td>\n",
       "      <td>Sim</td>\n",
       "      <td>Estacionamento do Mané Garrincha</td>\n",
       "      <td>Sim</td>\n",
       "    </tr>\n",
       "    <tr>\n",
       "      <th>40</th>\n",
       "      <td>2022-09-10 18:19:41.071</td>\n",
       "      <td>16</td>\n",
       "      <td>Riacho Fundo</td>\n",
       "      <td>Sim</td>\n",
       "      <td>Não</td>\n",
       "      <td>Sim</td>\n",
       "      <td>200</td>\n",
       "      <td>Sim</td>\n",
       "      <td>Sim</td>\n",
       "      <td>Estacionamento do Mané Garrincha</td>\n",
       "      <td>Sim</td>\n",
       "    </tr>\n",
       "    <tr>\n",
       "      <th>45</th>\n",
       "      <td>2022-09-10 18:24:59.938</td>\n",
       "      <td>15</td>\n",
       "      <td>Guará</td>\n",
       "      <td>Sim</td>\n",
       "      <td>Não</td>\n",
       "      <td>Sim</td>\n",
       "      <td>500</td>\n",
       "      <td>Sim</td>\n",
       "      <td>Sim</td>\n",
       "      <td>Parque da Cidade</td>\n",
       "      <td>Sim</td>\n",
       "    </tr>\n",
       "    <tr>\n",
       "      <th>66</th>\n",
       "      <td>2022-09-10 22:10:18.731</td>\n",
       "      <td>17</td>\n",
       "      <td>Paranoá</td>\n",
       "      <td>Sim</td>\n",
       "      <td>Sim</td>\n",
       "      <td>Sim</td>\n",
       "      <td>200</td>\n",
       "      <td>Sim</td>\n",
       "      <td>Sim</td>\n",
       "      <td>Parque da Cidade</td>\n",
       "      <td>Sim</td>\n",
       "    </tr>\n",
       "    <tr>\n",
       "      <th>74</th>\n",
       "      <td>2022-09-11 11:44:43.734</td>\n",
       "      <td>17</td>\n",
       "      <td>Sobradinho</td>\n",
       "      <td>Não</td>\n",
       "      <td>Não</td>\n",
       "      <td>Sim</td>\n",
       "      <td>200</td>\n",
       "      <td>Sim</td>\n",
       "      <td>Sim</td>\n",
       "      <td>Estacionamento do Mané Garrincha</td>\n",
       "      <td>Sim</td>\n",
       "    </tr>\n",
       "    <tr>\n",
       "      <th>89</th>\n",
       "      <td>2022-09-12 09:24:55.015</td>\n",
       "      <td>15</td>\n",
       "      <td>Itapoã</td>\n",
       "      <td>Sim</td>\n",
       "      <td>Não</td>\n",
       "      <td>Sim</td>\n",
       "      <td>200</td>\n",
       "      <td>Sim</td>\n",
       "      <td>Sim</td>\n",
       "      <td>Setor de Clubes Sul</td>\n",
       "      <td>Sim</td>\n",
       "    </tr>\n",
       "    <tr>\n",
       "      <th>90</th>\n",
       "      <td>2022-09-12 09:29:26.453</td>\n",
       "      <td>17</td>\n",
       "      <td>Paranoá</td>\n",
       "      <td>Sim</td>\n",
       "      <td>Não</td>\n",
       "      <td>Sim</td>\n",
       "      <td>200</td>\n",
       "      <td>Sim</td>\n",
       "      <td>Sim</td>\n",
       "      <td>Estacionamento do Mané Garrincha</td>\n",
       "      <td>Sim</td>\n",
       "    </tr>\n",
       "    <tr>\n",
       "      <th>97</th>\n",
       "      <td>2022-09-12 13:15:46.382</td>\n",
       "      <td>17</td>\n",
       "      <td>Paranoá</td>\n",
       "      <td>Sim</td>\n",
       "      <td>Não</td>\n",
       "      <td>Sim</td>\n",
       "      <td>200</td>\n",
       "      <td>Sim</td>\n",
       "      <td>Sim</td>\n",
       "      <td>Setor de Clubes Sul</td>\n",
       "      <td>Sim</td>\n",
       "    </tr>\n",
       "    <tr>\n",
       "      <th>129</th>\n",
       "      <td>2022-09-12 20:04:46.789</td>\n",
       "      <td>17</td>\n",
       "      <td>Águas Claras</td>\n",
       "      <td>Não</td>\n",
       "      <td>Não</td>\n",
       "      <td>Sim</td>\n",
       "      <td>200</td>\n",
       "      <td>Não</td>\n",
       "      <td>Sim</td>\n",
       "      <td>Estacionamento do Mané Garrincha</td>\n",
       "      <td>Não</td>\n",
       "    </tr>\n",
       "  </tbody>\n",
       "</table>\n",
       "</div>"
      ],
      "text/plain": [
       "                       data  idade região_administrativa  \\\n",
       "2   2022-09-10 10:41:07.244     17               Paranoá   \n",
       "5   2022-09-10 11:45:39.937     17                Itapoã   \n",
       "15  2022-09-10 15:57:39.644     17                Itapoã   \n",
       "23  2022-09-10 16:19:10.137     16               Paranoá   \n",
       "27  2022-09-10 16:30:33.695     13            Sobradinho   \n",
       "36  2022-09-10 18:00:30.476     14                Itapoã   \n",
       "40  2022-09-10 18:19:41.071     16          Riacho Fundo   \n",
       "45  2022-09-10 18:24:59.938     15                 Guará   \n",
       "66  2022-09-10 22:10:18.731     17               Paranoá   \n",
       "74  2022-09-11 11:44:43.734     17            Sobradinho   \n",
       "89  2022-09-12 09:24:55.015     15                Itapoã   \n",
       "90  2022-09-12 09:29:26.453     17               Paranoá   \n",
       "97  2022-09-12 13:15:46.382     17               Paranoá   \n",
       "129 2022-09-12 20:04:46.789     17          Águas Claras   \n",
       "\n",
       "    interesse_causas_sociais festivais interesse_festivais  \\\n",
       "2                        Sim       Não                 Sim   \n",
       "5                        Não       Não                 Sim   \n",
       "15                       Sim       Não                 Sim   \n",
       "23                       Sim       Sim                 Sim   \n",
       "27                       Sim       Não                 Sim   \n",
       "36                       Sim       Não                 Sim   \n",
       "40                       Sim       Não                 Sim   \n",
       "45                       Sim       Não                 Sim   \n",
       "66                       Sim       Sim                 Sim   \n",
       "74                       Não       Não                 Sim   \n",
       "89                       Sim       Não                 Sim   \n",
       "90                       Sim       Não                 Sim   \n",
       "97                       Sim       Não                 Sim   \n",
       "129                      Não       Não                 Sim   \n",
       "\n",
       "     valor_ingresso (R$) atividades_diurnas atividades_noturnas  \\\n",
       "2                    200                Sim                 Não   \n",
       "5                    200                Sim                 Sim   \n",
       "15                   500                Sim                 Não   \n",
       "23                   200                Sim                 Sim   \n",
       "27                   200                Sim                 Não   \n",
       "36                   200                Sim                 Sim   \n",
       "40                   200                Sim                 Sim   \n",
       "45                   500                Sim                 Sim   \n",
       "66                   200                Sim                 Sim   \n",
       "74                   200                Sim                 Sim   \n",
       "89                   200                Sim                 Sim   \n",
       "90                   200                Sim                 Sim   \n",
       "97                   200                Sim                 Sim   \n",
       "129                  200                Não                 Sim   \n",
       "\n",
       "                                local atividades_ambos_turnos  \n",
       "2                    Parque da Cidade                     Não  \n",
       "5                    Parque da Cidade                     Sim  \n",
       "15   Estacionamento do Mané Garrincha                     Não  \n",
       "23                Setor de Clubes Sul                     Sim  \n",
       "27                   Parque da Cidade                     Não  \n",
       "36   Estacionamento do Mané Garrincha                     Sim  \n",
       "40   Estacionamento do Mané Garrincha                     Sim  \n",
       "45                   Parque da Cidade                     Sim  \n",
       "66                   Parque da Cidade                     Sim  \n",
       "74   Estacionamento do Mané Garrincha                     Sim  \n",
       "89                Setor de Clubes Sul                     Sim  \n",
       "90   Estacionamento do Mané Garrincha                     Sim  \n",
       "97                Setor de Clubes Sul                     Sim  \n",
       "129  Estacionamento do Mané Garrincha                     Não  "
      ]
     },
     "execution_count": 47,
     "metadata": {},
     "output_type": "execute_result"
    }
   ],
   "source": [
    "under_18 = df[df['idade'] < 18]\n",
    "under_18"
   ]
  },
  {
   "cell_type": "code",
   "execution_count": 48,
   "id": "Emzn-0SNdxGo",
   "metadata": {
    "colab": {
     "base_uri": "https://localhost:8080/"
    },
    "id": "Emzn-0SNdxGo",
    "outputId": "3ae94f1b-1dab-466e-e014-e090f9d4f0e3"
   },
   "outputs": [
    {
     "data": {
      "text/plain": [
       "idade                   16.071429\n",
       "valor_ingresso (R$)    242.857143\n",
       "dtype: float64"
      ]
     },
     "execution_count": 48,
     "metadata": {},
     "output_type": "execute_result"
    }
   ],
   "source": [
    "under_18.mean(numeric_only=True)"
   ]
  },
  {
   "cell_type": "code",
   "execution_count": 49,
   "id": "lweB3JdnfPTS",
   "metadata": {
    "colab": {
     "base_uri": "https://localhost:8080/"
    },
    "id": "lweB3JdnfPTS",
    "outputId": "9b373fbf-5008-467d-e700-1278b4f01fe4"
   },
   "outputs": [
    {
     "data": {
      "text/plain": [
       "idade                    1.328057\n",
       "valor_ingresso (R$)    108.940956\n",
       "dtype: float64"
      ]
     },
     "execution_count": 49,
     "metadata": {},
     "output_type": "execute_result"
    }
   ],
   "source": [
    "under_18.std(numeric_only=True)"
   ]
  },
  {
   "cell_type": "code",
   "execution_count": 50,
   "id": "i-laJMHefR06",
   "metadata": {
    "colab": {
     "base_uri": "https://localhost:8080/"
    },
    "id": "i-laJMHefR06",
    "outputId": "07581a1a-2675-4b0d-cea9-2d74f78a6716"
   },
   "outputs": [
    {
     "data": {
      "text/plain": [
       "Sim    11\n",
       "Não     3\n",
       "Name: interesse_causas_sociais, dtype: int64"
      ]
     },
     "execution_count": 50,
     "metadata": {},
     "output_type": "execute_result"
    }
   ],
   "source": [
    "under_18['interesse_causas_sociais'].value_counts()"
   ]
  },
  {
   "cell_type": "code",
   "execution_count": 51,
   "id": "8c7WGpRHfR4W",
   "metadata": {
    "colab": {
     "base_uri": "https://localhost:8080/"
    },
    "id": "8c7WGpRHfR4W",
    "outputId": "8aa7c5a2-bb59-43c5-b030-ac9ab55616cd"
   },
   "outputs": [
    {
     "data": {
      "text/plain": [
       "Paranoá         5\n",
       "Itapoã          4\n",
       "Sobradinho      2\n",
       "Riacho Fundo    1\n",
       "Guará           1\n",
       "Águas Claras    1\n",
       "Name: região_administrativa, dtype: int64"
      ]
     },
     "execution_count": 51,
     "metadata": {},
     "output_type": "execute_result"
    }
   ],
   "source": [
    "under_18['região_administrativa'].value_counts()"
   ]
  },
  {
   "cell_type": "code",
   "execution_count": 52,
   "id": "0GVlRrWQfR-2",
   "metadata": {
    "colab": {
     "base_uri": "https://localhost:8080/"
    },
    "id": "0GVlRrWQfR-2",
    "outputId": "d592ebfc-b538-49ed-c1ac-3fc07be63765"
   },
   "outputs": [
    {
     "data": {
      "text/plain": [
       "Estacionamento do Mané Garrincha    6\n",
       "Parque da Cidade                    5\n",
       "Setor de Clubes Sul                 3\n",
       "Name: local, dtype: int64"
      ]
     },
     "execution_count": 52,
     "metadata": {},
     "output_type": "execute_result"
    }
   ],
   "source": [
    "under_18['local'].value_counts()"
   ]
  },
  {
   "cell_type": "code",
   "execution_count": 53,
   "id": "gT4Db3QXf4F7",
   "metadata": {
    "colab": {
     "base_uri": "https://localhost:8080/"
    },
    "id": "gT4Db3QXf4F7",
    "outputId": "1818e748-6536-4eeb-acb8-3d20f3929489"
   },
   "outputs": [
    {
     "data": {
      "text/plain": [
       "Sim    14\n",
       "Name: interesse_festivais, dtype: int64"
      ]
     },
     "execution_count": 53,
     "metadata": {},
     "output_type": "execute_result"
    }
   ],
   "source": [
    "under_18['interesse_festivais'].value_counts()"
   ]
  },
  {
   "cell_type": "markdown",
   "id": "_RhHCOdadym1",
   "metadata": {
    "id": "_RhHCOdadym1"
   },
   "source": [
    "## Entre 18 e 42 anos"
   ]
  },
  {
   "cell_type": "code",
   "execution_count": 54,
   "id": "fENGn3LWd9Tf",
   "metadata": {
    "colab": {
     "base_uri": "https://localhost:8080/",
     "height": 765
    },
    "id": "fENGn3LWd9Tf",
    "outputId": "b7b206fc-5001-4584-f285-f24854b5c3db"
   },
   "outputs": [
    {
     "data": {
      "text/html": [
       "<div>\n",
       "<style scoped>\n",
       "    .dataframe tbody tr th:only-of-type {\n",
       "        vertical-align: middle;\n",
       "    }\n",
       "\n",
       "    .dataframe tbody tr th {\n",
       "        vertical-align: top;\n",
       "    }\n",
       "\n",
       "    .dataframe thead th {\n",
       "        text-align: right;\n",
       "    }\n",
       "</style>\n",
       "<table border=\"1\" class=\"dataframe\">\n",
       "  <thead>\n",
       "    <tr style=\"text-align: right;\">\n",
       "      <th></th>\n",
       "      <th>data</th>\n",
       "      <th>idade</th>\n",
       "      <th>região_administrativa</th>\n",
       "      <th>interesse_causas_sociais</th>\n",
       "      <th>festivais</th>\n",
       "      <th>interesse_festivais</th>\n",
       "      <th>valor_ingresso (R$)</th>\n",
       "      <th>atividades_diurnas</th>\n",
       "      <th>atividades_noturnas</th>\n",
       "      <th>local</th>\n",
       "      <th>atividades_ambos_turnos</th>\n",
       "    </tr>\n",
       "  </thead>\n",
       "  <tbody>\n",
       "    <tr>\n",
       "      <th>6</th>\n",
       "      <td>2022-09-10 13:01:54.237</td>\n",
       "      <td>24</td>\n",
       "      <td>Itapoã</td>\n",
       "      <td>Sim</td>\n",
       "      <td>Sim</td>\n",
       "      <td>Sim</td>\n",
       "      <td>200</td>\n",
       "      <td>Sim</td>\n",
       "      <td>Sim</td>\n",
       "      <td>Parque da Cidade</td>\n",
       "      <td>Sim</td>\n",
       "    </tr>\n",
       "    <tr>\n",
       "      <th>7</th>\n",
       "      <td>2022-09-10 13:15:50.729</td>\n",
       "      <td>23</td>\n",
       "      <td>Sobradinho</td>\n",
       "      <td>Sim</td>\n",
       "      <td>Sim</td>\n",
       "      <td>Sim</td>\n",
       "      <td>200</td>\n",
       "      <td>Sim</td>\n",
       "      <td>Sim</td>\n",
       "      <td>Estacionamento do Mané Garrincha</td>\n",
       "      <td>Sim</td>\n",
       "    </tr>\n",
       "    <tr>\n",
       "      <th>8</th>\n",
       "      <td>2022-09-10 14:01:21.550</td>\n",
       "      <td>23</td>\n",
       "      <td>Jardim Botânico</td>\n",
       "      <td>Sim</td>\n",
       "      <td>Sim</td>\n",
       "      <td>Sim</td>\n",
       "      <td>200</td>\n",
       "      <td>Sim</td>\n",
       "      <td>Sim</td>\n",
       "      <td>Parque da Cidade</td>\n",
       "      <td>Sim</td>\n",
       "    </tr>\n",
       "    <tr>\n",
       "      <th>9</th>\n",
       "      <td>2022-09-10 14:10:00.486</td>\n",
       "      <td>23</td>\n",
       "      <td>Sudoeste/Octogonal</td>\n",
       "      <td>Não</td>\n",
       "      <td>Não</td>\n",
       "      <td>Não</td>\n",
       "      <td>200</td>\n",
       "      <td>Sim</td>\n",
       "      <td>Sim</td>\n",
       "      <td>Parque da Cidade</td>\n",
       "      <td>Sim</td>\n",
       "    </tr>\n",
       "    <tr>\n",
       "      <th>10</th>\n",
       "      <td>2022-09-10 14:27:01.919</td>\n",
       "      <td>23</td>\n",
       "      <td>Plano Piloto</td>\n",
       "      <td>Não</td>\n",
       "      <td>Sim</td>\n",
       "      <td>Sim</td>\n",
       "      <td>800</td>\n",
       "      <td>Sim</td>\n",
       "      <td>Sim</td>\n",
       "      <td>Parque da Cidade</td>\n",
       "      <td>Sim</td>\n",
       "    </tr>\n",
       "    <tr>\n",
       "      <th>...</th>\n",
       "      <td>...</td>\n",
       "      <td>...</td>\n",
       "      <td>...</td>\n",
       "      <td>...</td>\n",
       "      <td>...</td>\n",
       "      <td>...</td>\n",
       "      <td>...</td>\n",
       "      <td>...</td>\n",
       "      <td>...</td>\n",
       "      <td>...</td>\n",
       "      <td>...</td>\n",
       "    </tr>\n",
       "    <tr>\n",
       "      <th>160</th>\n",
       "      <td>2022-09-15 15:34:52.078</td>\n",
       "      <td>19</td>\n",
       "      <td>Park Way</td>\n",
       "      <td>Sim</td>\n",
       "      <td>Sim</td>\n",
       "      <td>Sim</td>\n",
       "      <td>800</td>\n",
       "      <td>Sim</td>\n",
       "      <td>Sim</td>\n",
       "      <td>Estacionamento do Mané Garrincha</td>\n",
       "      <td>Sim</td>\n",
       "    </tr>\n",
       "    <tr>\n",
       "      <th>162</th>\n",
       "      <td>2022-09-15 15:36:02.065</td>\n",
       "      <td>20</td>\n",
       "      <td>Plano Piloto</td>\n",
       "      <td>Sim</td>\n",
       "      <td>Sim</td>\n",
       "      <td>Sim</td>\n",
       "      <td>200</td>\n",
       "      <td>Não</td>\n",
       "      <td>Sim</td>\n",
       "      <td>Estacionamento do Mané Garrincha</td>\n",
       "      <td>Não</td>\n",
       "    </tr>\n",
       "    <tr>\n",
       "      <th>163</th>\n",
       "      <td>2022-09-15 15:36:37.401</td>\n",
       "      <td>24</td>\n",
       "      <td>Águas Claras</td>\n",
       "      <td>Sim</td>\n",
       "      <td>Sim</td>\n",
       "      <td>Sim</td>\n",
       "      <td>500</td>\n",
       "      <td>Sim</td>\n",
       "      <td>Sim</td>\n",
       "      <td>Parque da Cidade</td>\n",
       "      <td>Sim</td>\n",
       "    </tr>\n",
       "    <tr>\n",
       "      <th>164</th>\n",
       "      <td>2022-09-15 17:45:50.609</td>\n",
       "      <td>19</td>\n",
       "      <td>Plano Piloto</td>\n",
       "      <td>Sim</td>\n",
       "      <td>Não</td>\n",
       "      <td>Sim</td>\n",
       "      <td>200</td>\n",
       "      <td>Sim</td>\n",
       "      <td>Sim</td>\n",
       "      <td>Estacionamento do Mané Garrincha</td>\n",
       "      <td>Sim</td>\n",
       "    </tr>\n",
       "    <tr>\n",
       "      <th>165</th>\n",
       "      <td>2022-09-15 20:12:30.659</td>\n",
       "      <td>24</td>\n",
       "      <td>Sobradinho</td>\n",
       "      <td>Sim</td>\n",
       "      <td>Sim</td>\n",
       "      <td>Sim</td>\n",
       "      <td>200</td>\n",
       "      <td>Sim</td>\n",
       "      <td>Não</td>\n",
       "      <td>Parque da Cidade</td>\n",
       "      <td>Não</td>\n",
       "    </tr>\n",
       "  </tbody>\n",
       "</table>\n",
       "<p>108 rows × 11 columns</p>\n",
       "</div>"
      ],
      "text/plain": [
       "                       data  idade região_administrativa  \\\n",
       "6   2022-09-10 13:01:54.237     24                Itapoã   \n",
       "7   2022-09-10 13:15:50.729     23            Sobradinho   \n",
       "8   2022-09-10 14:01:21.550     23       Jardim Botânico   \n",
       "9   2022-09-10 14:10:00.486     23    Sudoeste/Octogonal   \n",
       "10  2022-09-10 14:27:01.919     23          Plano Piloto   \n",
       "..                      ...    ...                   ...   \n",
       "160 2022-09-15 15:34:52.078     19              Park Way   \n",
       "162 2022-09-15 15:36:02.065     20          Plano Piloto   \n",
       "163 2022-09-15 15:36:37.401     24          Águas Claras   \n",
       "164 2022-09-15 17:45:50.609     19          Plano Piloto   \n",
       "165 2022-09-15 20:12:30.659     24            Sobradinho   \n",
       "\n",
       "    interesse_causas_sociais festivais interesse_festivais  \\\n",
       "6                        Sim       Sim                 Sim   \n",
       "7                        Sim       Sim                 Sim   \n",
       "8                        Sim       Sim                 Sim   \n",
       "9                        Não       Não                 Não   \n",
       "10                       Não       Sim                 Sim   \n",
       "..                       ...       ...                 ...   \n",
       "160                      Sim       Sim                 Sim   \n",
       "162                      Sim       Sim                 Sim   \n",
       "163                      Sim       Sim                 Sim   \n",
       "164                      Sim       Não                 Sim   \n",
       "165                      Sim       Sim                 Sim   \n",
       "\n",
       "     valor_ingresso (R$) atividades_diurnas atividades_noturnas  \\\n",
       "6                    200                Sim                 Sim   \n",
       "7                    200                Sim                 Sim   \n",
       "8                    200                Sim                 Sim   \n",
       "9                    200                Sim                 Sim   \n",
       "10                   800                Sim                 Sim   \n",
       "..                   ...                ...                 ...   \n",
       "160                  800                Sim                 Sim   \n",
       "162                  200                Não                 Sim   \n",
       "163                  500                Sim                 Sim   \n",
       "164                  200                Sim                 Sim   \n",
       "165                  200                Sim                 Não   \n",
       "\n",
       "                                local atividades_ambos_turnos  \n",
       "6                    Parque da Cidade                     Sim  \n",
       "7    Estacionamento do Mané Garrincha                     Sim  \n",
       "8                    Parque da Cidade                     Sim  \n",
       "9                    Parque da Cidade                     Sim  \n",
       "10                   Parque da Cidade                     Sim  \n",
       "..                                ...                     ...  \n",
       "160  Estacionamento do Mané Garrincha                     Sim  \n",
       "162  Estacionamento do Mané Garrincha                     Não  \n",
       "163                  Parque da Cidade                     Sim  \n",
       "164  Estacionamento do Mané Garrincha                     Sim  \n",
       "165                  Parque da Cidade                     Não  \n",
       "\n",
       "[108 rows x 11 columns]"
      ]
     },
     "execution_count": 54,
     "metadata": {},
     "output_type": "execute_result"
    }
   ],
   "source": [
    "under_42 = df[df['idade'] < 42]\n",
    "in_between = under_42[under_42['idade'] > 18]\n",
    "in_between"
   ]
  },
  {
   "cell_type": "code",
   "execution_count": 55,
   "id": "AfrNKI_4eLF3",
   "metadata": {
    "colab": {
     "base_uri": "https://localhost:8080/"
    },
    "id": "AfrNKI_4eLF3",
    "outputId": "37101e29-bf83-48fd-9991-8e5f336101a3"
   },
   "outputs": [
    {
     "data": {
      "text/plain": [
       "idade                   24.62963\n",
       "valor_ingresso (R$)    275.00000\n",
       "dtype: float64"
      ]
     },
     "execution_count": 55,
     "metadata": {},
     "output_type": "execute_result"
    }
   ],
   "source": [
    "in_between.mean(numeric_only=True)"
   ]
  },
  {
   "cell_type": "code",
   "execution_count": 56,
   "id": "jPuiY2V2fgy2",
   "metadata": {
    "colab": {
     "base_uri": "https://localhost:8080/"
    },
    "id": "jPuiY2V2fgy2",
    "outputId": "59ac89b5-8546-4baa-b9d3-349d0c61fd8c"
   },
   "outputs": [
    {
     "data": {
      "text/plain": [
       "idade                    6.159246\n",
       "valor_ingresso (R$)    154.148248\n",
       "dtype: float64"
      ]
     },
     "execution_count": 56,
     "metadata": {},
     "output_type": "execute_result"
    }
   ],
   "source": [
    "in_between.std(numeric_only=True)"
   ]
  },
  {
   "cell_type": "code",
   "execution_count": 57,
   "id": "AtRxMcTLfivG",
   "metadata": {
    "colab": {
     "base_uri": "https://localhost:8080/"
    },
    "id": "AtRxMcTLfivG",
    "outputId": "2ea84dd6-a551-4dbf-be72-808545a1fe5e"
   },
   "outputs": [
    {
     "data": {
      "text/plain": [
       "Plano Piloto          20\n",
       "Paranoá               16\n",
       "Itapoã                14\n",
       "Jardim Botânico       10\n",
       "Sobradinho             9\n",
       "Park Way               6\n",
       "Águas Claras           6\n",
       "Sudoeste/Octogonal     4\n",
       "Guará                  3\n",
       "Lago Sul               3\n",
       "Planaltina             2\n",
       "Lago Norte             2\n",
       "Cruzeiro               2\n",
       "Taguatinga             2\n",
       "São Sebastião          2\n",
       "Recanto das Emas       1\n",
       "Ceilândia              1\n",
       "Samambaia              1\n",
       "Gama                   1\n",
       "Vicente Pires          1\n",
       "Núcleo Bandeirante     1\n",
       "Santa Maria            1\n",
       "Name: região_administrativa, dtype: int64"
      ]
     },
     "execution_count": 57,
     "metadata": {},
     "output_type": "execute_result"
    }
   ],
   "source": [
    "in_between['região_administrativa'].value_counts()"
   ]
  },
  {
   "cell_type": "code",
   "execution_count": 58,
   "id": "Y8jMSisrfmbH",
   "metadata": {
    "colab": {
     "base_uri": "https://localhost:8080/"
    },
    "id": "Y8jMSisrfmbH",
    "outputId": "0f135498-05e5-4dd7-bf8f-e96b1338379b"
   },
   "outputs": [
    {
     "data": {
      "text/plain": [
       "Sim    101\n",
       "Não      7\n",
       "Name: interesse_causas_sociais, dtype: int64"
      ]
     },
     "execution_count": 58,
     "metadata": {},
     "output_type": "execute_result"
    }
   ],
   "source": [
    "in_between['interesse_causas_sociais'].value_counts()"
   ]
  },
  {
   "cell_type": "code",
   "execution_count": 59,
   "id": "nsi3vC4Tfy3u",
   "metadata": {
    "colab": {
     "base_uri": "https://localhost:8080/"
    },
    "id": "nsi3vC4Tfy3u",
    "outputId": "8779a0d3-be2f-411c-f071-033666882edf"
   },
   "outputs": [
    {
     "data": {
      "text/plain": [
       "Estacionamento do Mané Garrincha    49\n",
       "Parque da Cidade                    38\n",
       "Setor de Clubes Sul                 21\n",
       "Name: local, dtype: int64"
      ]
     },
     "execution_count": 59,
     "metadata": {},
     "output_type": "execute_result"
    }
   ],
   "source": [
    "in_between['local'].value_counts()"
   ]
  },
  {
   "cell_type": "code",
   "execution_count": 60,
   "id": "LFa9JkZvf1xv",
   "metadata": {
    "colab": {
     "base_uri": "https://localhost:8080/"
    },
    "id": "LFa9JkZvf1xv",
    "outputId": "8a2fe765-1ea4-472b-f0e7-f200e298d9ee"
   },
   "outputs": [
    {
     "data": {
      "text/plain": [
       "Sim    94\n",
       "Não    14\n",
       "Name: interesse_festivais, dtype: int64"
      ]
     },
     "execution_count": 60,
     "metadata": {},
     "output_type": "execute_result"
    }
   ],
   "source": [
    "in_between['interesse_festivais'].value_counts()"
   ]
  },
  {
   "cell_type": "code",
   "execution_count": null,
   "id": "TyLUjHoTf-In",
   "metadata": {
    "id": "TyLUjHoTf-In"
   },
   "outputs": [],
   "source": []
  }
 ],
 "metadata": {
  "colab": {
   "collapsed_sections": [],
   "provenance": []
  },
  "kernelspec": {
   "display_name": "Python 3 (ipykernel)",
   "language": "python",
   "name": "python3"
  },
  "language_info": {
   "codemirror_mode": {
    "name": "ipython",
    "version": 3
   },
   "file_extension": ".py",
   "mimetype": "text/x-python",
   "name": "python",
   "nbconvert_exporter": "python",
   "pygments_lexer": "ipython3",
   "version": "3.9.12"
  }
 },
 "nbformat": 4,
 "nbformat_minor": 5
}
