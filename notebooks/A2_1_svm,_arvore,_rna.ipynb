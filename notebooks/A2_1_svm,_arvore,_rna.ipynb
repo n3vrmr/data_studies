{
 "cells": [
  {
   "cell_type": "markdown",
   "metadata": {
    "id": "dKXWQQ2O9TyC"
   },
   "source": [
    "Este teste envolve predições com os algoritmos de SVM, árvores de decisão e redes neurais artificiais."
   ]
  },
  {
   "cell_type": "markdown",
   "metadata": {
    "id": "8zPCVsGH9aC3"
   },
   "source": [
    "# Atividade 1\n",
    "\n",
    "Avalie o desempenho das SVM's com kernel RBF na base de dados Iris. Exiba os resultados de acurácia (e a matriz de confusão) para um cenário onde apenas duas features da base são utilizadas (como os exemplos feitos em sala de aula), outro cenário onde três das quatro features são utilizadas e um último cenário onde o classificador é treinado e avaliado utilizado todas as features disponíveis no dataset. Para particionar os dados, reserve 80% para treinamento e 20% para testes.\n",
    "\n",
    "**Responda apresentando todos os experimentos solicitados: aumentar a quantidade de dados para treinamento / teste melhora os resultados do classificador?**"
   ]
  },
  {
   "cell_type": "code",
   "execution_count": 1,
   "metadata": {
    "executionInfo": {
     "elapsed": 998,
     "status": "ok",
     "timestamp": 1684235741434,
     "user": {
      "displayName": "Matheus Martins",
      "userId": "16340706003885101688"
     },
     "user_tz": 180
    },
    "id": "LJ7vxbxD9NDv"
   },
   "outputs": [],
   "source": [
    "import numpy as np\n",
    "import matplotlib.pyplot as plt\n",
    "\n",
    "from sklearn import svm, datasets\n",
    "from sklearn.metrics import confusion_matrix\n",
    "from sklearn.model_selection import train_test_split\n",
    "from sklearn.metrics import accuracy_score"
   ]
  },
  {
   "cell_type": "code",
   "execution_count": 2,
   "metadata": {
    "executionInfo": {
     "elapsed": 388,
     "status": "ok",
     "timestamp": 1684235764004,
     "user": {
      "displayName": "Matheus Martins",
      "userId": "16340706003885101688"
     },
     "user_tz": 180
    },
    "id": "V8WZDRpLRbpK"
   },
   "outputs": [],
   "source": [
    "iris = datasets.load_iris()"
   ]
  },
  {
   "cell_type": "markdown",
   "metadata": {
    "id": "sLJT2DB3Rk2I"
   },
   "source": [
    "### Duas features"
   ]
  },
  {
   "cell_type": "code",
   "execution_count": 3,
   "metadata": {
    "executionInfo": {
     "elapsed": 12,
     "status": "ok",
     "timestamp": 1684236220445,
     "user": {
      "displayName": "Matheus Martins",
      "userId": "16340706003885101688"
     },
     "user_tz": 180
    },
    "id": "IwXvjRRhRbrU"
   },
   "outputs": [],
   "source": [
    "x2 = iris.data[:, [0,2]]\n",
    "y = iris.target"
   ]
  },
  {
   "cell_type": "code",
   "execution_count": 4,
   "metadata": {
    "colab": {
     "base_uri": "https://localhost:8080/"
    },
    "executionInfo": {
     "elapsed": 3,
     "status": "ok",
     "timestamp": 1684236221370,
     "user": {
      "displayName": "Matheus Martins",
      "userId": "16340706003885101688"
     },
     "user_tz": 180
    },
    "id": "IZhNPZ1qRbt_",
    "outputId": "efe5ce4c-4fac-4f2c-cb73-846399bb5f62"
   },
   "outputs": [
    {
     "data": {
      "text/plain": [
       "(120, 30, 120, 30)"
      ]
     },
     "execution_count": 4,
     "metadata": {},
     "output_type": "execute_result"
    }
   ],
   "source": [
    "x2_train, x2_test, y_train, y_test = train_test_split(x2,y,test_size=0.2,\n",
    "                                                      random_state=42)\n",
    "len(x2_train), len(x2_test), len(y_train), len(y_test)"
   ]
  },
  {
   "cell_type": "code",
   "execution_count": 5,
   "metadata": {
    "colab": {
     "base_uri": "https://localhost:8080/",
     "height": 74
    },
    "executionInfo": {
     "elapsed": 4,
     "status": "ok",
     "timestamp": 1684236224844,
     "user": {
      "displayName": "Matheus Martins",
      "userId": "16340706003885101688"
     },
     "user_tz": 180
    },
    "id": "ZBUJdJbPRbxc",
    "outputId": "e07c9611-df14-42bd-fdc4-bdb0ca0cee13"
   },
   "outputs": [
    {
     "data": {
      "text/html": [
       "<style>#sk-container-id-1 {color: black;background-color: white;}#sk-container-id-1 pre{padding: 0;}#sk-container-id-1 div.sk-toggleable {background-color: white;}#sk-container-id-1 label.sk-toggleable__label {cursor: pointer;display: block;width: 100%;margin-bottom: 0;padding: 0.3em;box-sizing: border-box;text-align: center;}#sk-container-id-1 label.sk-toggleable__label-arrow:before {content: \"▸\";float: left;margin-right: 0.25em;color: #696969;}#sk-container-id-1 label.sk-toggleable__label-arrow:hover:before {color: black;}#sk-container-id-1 div.sk-estimator:hover label.sk-toggleable__label-arrow:before {color: black;}#sk-container-id-1 div.sk-toggleable__content {max-height: 0;max-width: 0;overflow: hidden;text-align: left;background-color: #f0f8ff;}#sk-container-id-1 div.sk-toggleable__content pre {margin: 0.2em;color: black;border-radius: 0.25em;background-color: #f0f8ff;}#sk-container-id-1 input.sk-toggleable__control:checked~div.sk-toggleable__content {max-height: 200px;max-width: 100%;overflow: auto;}#sk-container-id-1 input.sk-toggleable__control:checked~label.sk-toggleable__label-arrow:before {content: \"▾\";}#sk-container-id-1 div.sk-estimator input.sk-toggleable__control:checked~label.sk-toggleable__label {background-color: #d4ebff;}#sk-container-id-1 div.sk-label input.sk-toggleable__control:checked~label.sk-toggleable__label {background-color: #d4ebff;}#sk-container-id-1 input.sk-hidden--visually {border: 0;clip: rect(1px 1px 1px 1px);clip: rect(1px, 1px, 1px, 1px);height: 1px;margin: -1px;overflow: hidden;padding: 0;position: absolute;width: 1px;}#sk-container-id-1 div.sk-estimator {font-family: monospace;background-color: #f0f8ff;border: 1px dotted black;border-radius: 0.25em;box-sizing: border-box;margin-bottom: 0.5em;}#sk-container-id-1 div.sk-estimator:hover {background-color: #d4ebff;}#sk-container-id-1 div.sk-parallel-item::after {content: \"\";width: 100%;border-bottom: 1px solid gray;flex-grow: 1;}#sk-container-id-1 div.sk-label:hover label.sk-toggleable__label {background-color: #d4ebff;}#sk-container-id-1 div.sk-serial::before {content: \"\";position: absolute;border-left: 1px solid gray;box-sizing: border-box;top: 0;bottom: 0;left: 50%;z-index: 0;}#sk-container-id-1 div.sk-serial {display: flex;flex-direction: column;align-items: center;background-color: white;padding-right: 0.2em;padding-left: 0.2em;position: relative;}#sk-container-id-1 div.sk-item {position: relative;z-index: 1;}#sk-container-id-1 div.sk-parallel {display: flex;align-items: stretch;justify-content: center;background-color: white;position: relative;}#sk-container-id-1 div.sk-item::before, #sk-container-id-1 div.sk-parallel-item::before {content: \"\";position: absolute;border-left: 1px solid gray;box-sizing: border-box;top: 0;bottom: 0;left: 50%;z-index: -1;}#sk-container-id-1 div.sk-parallel-item {display: flex;flex-direction: column;z-index: 1;position: relative;background-color: white;}#sk-container-id-1 div.sk-parallel-item:first-child::after {align-self: flex-end;width: 50%;}#sk-container-id-1 div.sk-parallel-item:last-child::after {align-self: flex-start;width: 50%;}#sk-container-id-1 div.sk-parallel-item:only-child::after {width: 0;}#sk-container-id-1 div.sk-dashed-wrapped {border: 1px dashed gray;margin: 0 0.4em 0.5em 0.4em;box-sizing: border-box;padding-bottom: 0.4em;background-color: white;}#sk-container-id-1 div.sk-label label {font-family: monospace;font-weight: bold;display: inline-block;line-height: 1.2em;}#sk-container-id-1 div.sk-label-container {text-align: center;}#sk-container-id-1 div.sk-container {/* jupyter's `normalize.less` sets `[hidden] { display: none; }` but bootstrap.min.css set `[hidden] { display: none !important; }` so we also need the `!important` here to be able to override the default hidden behavior on the sphinx rendered scikit-learn.org. See: https://github.com/scikit-learn/scikit-learn/issues/21755 */display: inline-block !important;position: relative;}#sk-container-id-1 div.sk-text-repr-fallback {display: none;}</style><div id=\"sk-container-id-1\" class=\"sk-top-container\"><div class=\"sk-text-repr-fallback\"><pre>SVC(C=1, gamma=&#x27;auto&#x27;)</pre><b>In a Jupyter environment, please rerun this cell to show the HTML representation or trust the notebook. <br />On GitHub, the HTML representation is unable to render, please try loading this page with nbviewer.org.</b></div><div class=\"sk-container\" hidden><div class=\"sk-item\"><div class=\"sk-estimator sk-toggleable\"><input class=\"sk-toggleable__control sk-hidden--visually\" id=\"sk-estimator-id-1\" type=\"checkbox\" checked><label for=\"sk-estimator-id-1\" class=\"sk-toggleable__label sk-toggleable__label-arrow\">SVC</label><div class=\"sk-toggleable__content\"><pre>SVC(C=1, gamma=&#x27;auto&#x27;)</pre></div></div></div></div></div>"
      ],
      "text/plain": [
       "SVC(C=1, gamma='auto')"
      ]
     },
     "execution_count": 5,
     "metadata": {},
     "output_type": "execute_result"
    }
   ],
   "source": [
    "rbf_2 = svm.SVC(kernel='rbf',C=1,gamma='auto').fit(x2_train,y_train)\n",
    "rbf_2"
   ]
  },
  {
   "cell_type": "code",
   "execution_count": 6,
   "metadata": {
    "colab": {
     "base_uri": "https://localhost:8080/",
     "height": 466
    },
    "executionInfo": {
     "elapsed": 6,
     "status": "ok",
     "timestamp": 1684236226813,
     "user": {
      "displayName": "Matheus Martins",
      "userId": "16340706003885101688"
     },
     "user_tz": 180
    },
    "id": "vJeRVbblRcN8",
    "outputId": "5e5c5d86-fa51-4ab2-f4e6-7dbf14e54480"
   },
   "outputs": [
    {
     "data": {
      "text/plain": [
       "<matplotlib.collections.PathCollection at 0x249791aa970>"
      ]
     },
     "execution_count": 6,
     "metadata": {},
     "output_type": "execute_result"
    },
    {
     "data": {
      "image/png": "[encoded data removed]",
      "text/plain": [
       "<Figure size 640x480 with 1 Axes>"
      ]
     },
     "metadata": {},
     "output_type": "display_data"
    }
   ],
   "source": [
    "from sklearn.inspection import DecisionBoundaryDisplay\n",
    "import matplotlib.pyplot as plt\n",
    "\n",
    "disp = DecisionBoundaryDisplay.from_estimator(rbf_2,x2_train,\n",
    "                                              response_method=\"predict\",\n",
    "                                              xlabel='sepal length [cm]',\n",
    "                                              ylabel='petal length [cm]')\n",
    "disp.ax_.scatter(x2_test[:, 0], x2_test[:, 1], c=y_test, edgecolor=\"k\")"
   ]
  },
  {
   "cell_type": "code",
   "execution_count": 7,
   "metadata": {
    "colab": {
     "base_uri": "https://localhost:8080/",
     "height": 430
    },
    "executionInfo": {
     "elapsed": 289,
     "status": "ok",
     "timestamp": 1684236231111,
     "user": {
      "displayName": "Matheus Martins",
      "userId": "16340706003885101688"
     },
     "user_tz": 180
    },
    "id": "E0RRS3MVRcRZ",
    "outputId": "6236486b-b03f-4723-a041-3aef05d3b4b1"
   },
   "outputs": [
    {
     "data": {
      "image/png": "[encoded data removed]",
      "text/plain": [
       "<Figure size 640x480 with 2 Axes>"
      ]
     },
     "metadata": {},
     "output_type": "display_data"
    }
   ],
   "source": [
    "y_pred = rbf_2.predict(x2_test)\n",
    "mc = confusion_matrix(y_test, y_pred)\n",
    "\n",
    "import seaborn as sns\n",
    "\n",
    "heatmap = sns.heatmap(mc, cmap='magma', annot=True)"
   ]
  },
  {
   "cell_type": "code",
   "execution_count": 8,
   "metadata": {
    "colab": {
     "base_uri": "https://localhost:8080/"
    },
    "executionInfo": {
     "elapsed": 562,
     "status": "ok",
     "timestamp": 1684236234649,
     "user": {
      "displayName": "Matheus Martins",
      "userId": "16340706003885101688"
     },
     "user_tz": 180
    },
    "id": "339_gT4YSqvA",
    "outputId": "66853903-0484-4b7d-b6e2-f9189295c74d"
   },
   "outputs": [
    {
     "name": "stdout",
     "output_type": "stream",
     "text": [
      "Acurácia: 1.0\n"
     ]
    }
   ],
   "source": [
    "print(\"Acurácia:\",accuracy_score(y_test,y_pred))"
   ]
  },
  {
   "cell_type": "markdown",
   "metadata": {
    "id": "dNRrhR8iS3C8"
   },
   "source": [
    "### 3 features"
   ]
  },
  {
   "cell_type": "code",
   "execution_count": 9,
   "metadata": {
    "executionInfo": {
     "elapsed": 537,
     "status": "ok",
     "timestamp": 1684236244085,
     "user": {
      "displayName": "Matheus Martins",
      "userId": "16340706003885101688"
     },
     "user_tz": 180
    },
    "id": "2jaqA3MES5ij"
   },
   "outputs": [],
   "source": [
    "x3 = iris.data[:, [0,3]]\n",
    "y = iris.target"
   ]
  },
  {
   "cell_type": "code",
   "execution_count": 10,
   "metadata": {
    "colab": {
     "base_uri": "https://localhost:8080/"
    },
    "executionInfo": {
     "elapsed": 270,
     "status": "ok",
     "timestamp": 1684236248344,
     "user": {
      "displayName": "Matheus Martins",
      "userId": "16340706003885101688"
     },
     "user_tz": 180
    },
    "id": "WFaGdRsNS5k-",
    "outputId": "ec37a988-e879-42e5-e198-9c6569ee8a8b"
   },
   "outputs": [
    {
     "data": {
      "text/plain": [
       "(120, 30, 120, 30)"
      ]
     },
     "execution_count": 10,
     "metadata": {},
     "output_type": "execute_result"
    }
   ],
   "source": [
    "x3_train, x3_test, y_train, y_test = train_test_split(x3,y,test_size=0.2,\n",
    "                                                      random_state=42)\n",
    "len(x3_train), len(x3_test), len(y_train), len(y_test)"
   ]
  },
  {
   "cell_type": "code",
   "execution_count": 11,
   "metadata": {
    "colab": {
     "base_uri": "https://localhost:8080/",
     "height": 74
    },
    "executionInfo": {
     "elapsed": 370,
     "status": "ok",
     "timestamp": 1684236298579,
     "user": {
      "displayName": "Matheus Martins",
      "userId": "16340706003885101688"
     },
     "user_tz": 180
    },
    "id": "stJFL9QoS5nQ",
    "outputId": "214a16b3-0f6e-4461-be37-b498a73a37c4"
   },
   "outputs": [
    {
     "data": {
      "text/html": [
       "<style>#sk-container-id-2 {color: black;background-color: white;}#sk-container-id-2 pre{padding: 0;}#sk-container-id-2 div.sk-toggleable {background-color: white;}#sk-container-id-2 label.sk-toggleable__label {cursor: pointer;display: block;width: 100%;margin-bottom: 0;padding: 0.3em;box-sizing: border-box;text-align: center;}#sk-container-id-2 label.sk-toggleable__label-arrow:before {content: \"▸\";float: left;margin-right: 0.25em;color: #696969;}#sk-container-id-2 label.sk-toggleable__label-arrow:hover:before {color: black;}#sk-container-id-2 div.sk-estimator:hover label.sk-toggleable__label-arrow:before {color: black;}#sk-container-id-2 div.sk-toggleable__content {max-height: 0;max-width: 0;overflow: hidden;text-align: left;background-color: #f0f8ff;}#sk-container-id-2 div.sk-toggleable__content pre {margin: 0.2em;color: black;border-radius: 0.25em;background-color: #f0f8ff;}#sk-container-id-2 input.sk-toggleable__control:checked~div.sk-toggleable__content {max-height: 200px;max-width: 100%;overflow: auto;}#sk-container-id-2 input.sk-toggleable__control:checked~label.sk-toggleable__label-arrow:before {content: \"▾\";}#sk-container-id-2 div.sk-estimator input.sk-toggleable__control:checked~label.sk-toggleable__label {background-color: #d4ebff;}#sk-container-id-2 div.sk-label input.sk-toggleable__control:checked~label.sk-toggleable__label {background-color: #d4ebff;}#sk-container-id-2 input.sk-hidden--visually {border: 0;clip: rect(1px 1px 1px 1px);clip: rect(1px, 1px, 1px, 1px);height: 1px;margin: -1px;overflow: hidden;padding: 0;position: absolute;width: 1px;}#sk-container-id-2 div.sk-estimator {font-family: monospace;background-color: #f0f8ff;border: 1px dotted black;border-radius: 0.25em;box-sizing: border-box;margin-bottom: 0.5em;}#sk-container-id-2 div.sk-estimator:hover {background-color: #d4ebff;}#sk-container-id-2 div.sk-parallel-item::after {content: \"\";width: 100%;border-bottom: 1px solid gray;flex-grow: 1;}#sk-container-id-2 div.sk-label:hover label.sk-toggleable__label {background-color: #d4ebff;}#sk-container-id-2 div.sk-serial::before {content: \"\";position: absolute;border-left: 1px solid gray;box-sizing: border-box;top: 0;bottom: 0;left: 50%;z-index: 0;}#sk-container-id-2 div.sk-serial {display: flex;flex-direction: column;align-items: center;background-color: white;padding-right: 0.2em;padding-left: 0.2em;position: relative;}#sk-container-id-2 div.sk-item {position: relative;z-index: 1;}#sk-container-id-2 div.sk-parallel {display: flex;align-items: stretch;justify-content: center;background-color: white;position: relative;}#sk-container-id-2 div.sk-item::before, #sk-container-id-2 div.sk-parallel-item::before {content: \"\";position: absolute;border-left: 1px solid gray;box-sizing: border-box;top: 0;bottom: 0;left: 50%;z-index: -1;}#sk-container-id-2 div.sk-parallel-item {display: flex;flex-direction: column;z-index: 1;position: relative;background-color: white;}#sk-container-id-2 div.sk-parallel-item:first-child::after {align-self: flex-end;width: 50%;}#sk-container-id-2 div.sk-parallel-item:last-child::after {align-self: flex-start;width: 50%;}#sk-container-id-2 div.sk-parallel-item:only-child::after {width: 0;}#sk-container-id-2 div.sk-dashed-wrapped {border: 1px dashed gray;margin: 0 0.4em 0.5em 0.4em;box-sizing: border-box;padding-bottom: 0.4em;background-color: white;}#sk-container-id-2 div.sk-label label {font-family: monospace;font-weight: bold;display: inline-block;line-height: 1.2em;}#sk-container-id-2 div.sk-label-container {text-align: center;}#sk-container-id-2 div.sk-container {/* jupyter's `normalize.less` sets `[hidden] { display: none; }` but bootstrap.min.css set `[hidden] { display: none !important; }` so we also need the `!important` here to be able to override the default hidden behavior on the sphinx rendered scikit-learn.org. See: https://github.com/scikit-learn/scikit-learn/issues/21755 */display: inline-block !important;position: relative;}#sk-container-id-2 div.sk-text-repr-fallback {display: none;}</style><div id=\"sk-container-id-2\" class=\"sk-top-container\"><div class=\"sk-text-repr-fallback\"><pre>SVC(C=1, gamma=&#x27;auto&#x27;)</pre><b>In a Jupyter environment, please rerun this cell to show the HTML representation or trust the notebook. <br />On GitHub, the HTML representation is unable to render, please try loading this page with nbviewer.org.</b></div><div class=\"sk-container\" hidden><div class=\"sk-item\"><div class=\"sk-estimator sk-toggleable\"><input class=\"sk-toggleable__control sk-hidden--visually\" id=\"sk-estimator-id-2\" type=\"checkbox\" checked><label for=\"sk-estimator-id-2\" class=\"sk-toggleable__label sk-toggleable__label-arrow\">SVC</label><div class=\"sk-toggleable__content\"><pre>SVC(C=1, gamma=&#x27;auto&#x27;)</pre></div></div></div></div></div>"
      ],
      "text/plain": [
       "SVC(C=1, gamma='auto')"
      ]
     },
     "execution_count": 11,
     "metadata": {},
     "output_type": "execute_result"
    }
   ],
   "source": [
    "rbf_3 = svm.SVC(kernel='rbf',C=1,gamma='auto').fit(x3_train,y_train)\n",
    "rbf_3"
   ]
  },
  {
   "cell_type": "code",
   "execution_count": 12,
   "metadata": {
    "colab": {
     "base_uri": "https://localhost:8080/",
     "height": 430
    },
    "executionInfo": {
     "elapsed": 902,
     "status": "ok",
     "timestamp": 1684236327207,
     "user": {
      "displayName": "Matheus Martins",
      "userId": "16340706003885101688"
     },
     "user_tz": 180
    },
    "id": "LJk8Xbr5S5qz",
    "outputId": "d42274f9-a7e9-4a6c-e064-86490ee65138"
   },
   "outputs": [
    {
     "data": {
      "image/png": "[encoded data removed]",
      "text/plain": [
       "<Figure size 640x480 with 2 Axes>"
      ]
     },
     "metadata": {},
     "output_type": "display_data"
    }
   ],
   "source": [
    "y_pred = rbf_3.predict(x3_test)\n",
    "mc = confusion_matrix(y_test, y_pred)\n",
    "\n",
    "import seaborn as sns\n",
    "\n",
    "heatmap = sns.heatmap(mc, cmap='magma', annot=True)"
   ]
  },
  {
   "cell_type": "code",
   "execution_count": 13,
   "metadata": {
    "colab": {
     "base_uri": "https://localhost:8080/"
    },
    "executionInfo": {
     "elapsed": 422,
     "status": "ok",
     "timestamp": 1684236346138,
     "user": {
      "displayName": "Matheus Martins",
      "userId": "16340706003885101688"
     },
     "user_tz": 180
    },
    "id": "-rMaQPktS5yf",
    "outputId": "4cfebbf2-0cc1-4782-d2d9-18e85d06f9b7"
   },
   "outputs": [
    {
     "name": "stdout",
     "output_type": "stream",
     "text": [
      "Acurácia: 1.0\n"
     ]
    }
   ],
   "source": [
    "print(\"Acurácia:\",accuracy_score(y_test,y_pred))"
   ]
  },
  {
   "cell_type": "markdown",
   "metadata": {
    "id": "L6SOsBTOTzot"
   },
   "source": [
    "### 4 features"
   ]
  },
  {
   "cell_type": "code",
   "execution_count": 14,
   "metadata": {
    "executionInfo": {
     "elapsed": 4,
     "status": "ok",
     "timestamp": 1684236397294,
     "user": {
      "displayName": "Matheus Martins",
      "userId": "16340706003885101688"
     },
     "user_tz": 180
    },
    "id": "azoNXR8uS6Db"
   },
   "outputs": [],
   "source": [
    "x = iris.data[:, :]\n",
    "y = iris.target"
   ]
  },
  {
   "cell_type": "code",
   "execution_count": 15,
   "metadata": {
    "colab": {
     "base_uri": "https://localhost:8080/"
    },
    "executionInfo": {
     "elapsed": 419,
     "status": "ok",
     "timestamp": 1684236424647,
     "user": {
      "displayName": "Matheus Martins",
      "userId": "16340706003885101688"
     },
     "user_tz": 180
    },
    "id": "VM4r0EtAT89R",
    "outputId": "05836dbd-9198-4d9e-94cc-3b9b52ef776f"
   },
   "outputs": [
    {
     "data": {
      "text/plain": [
       "(120, 30, 120, 30)"
      ]
     },
     "execution_count": 15,
     "metadata": {},
     "output_type": "execute_result"
    }
   ],
   "source": [
    "x_train, x_test, y_train, y_test = train_test_split(x,y,test_size=0.2,\n",
    "                                                    random_state=42)\n",
    "len(x_train), len(x_test), len(y_train), len(y_test)"
   ]
  },
  {
   "cell_type": "code",
   "execution_count": 16,
   "metadata": {
    "colab": {
     "base_uri": "https://localhost:8080/",
     "height": 74
    },
    "executionInfo": {
     "elapsed": 331,
     "status": "ok",
     "timestamp": 1684236448691,
     "user": {
      "displayName": "Matheus Martins",
      "userId": "16340706003885101688"
     },
     "user_tz": 180
    },
    "id": "Zy7twdxiT8_1",
    "outputId": "a3d3a84b-18a5-45cf-8f6e-a449b82eb27a"
   },
   "outputs": [
    {
     "data": {
      "text/html": [
       "<style>#sk-container-id-3 {color: black;background-color: white;}#sk-container-id-3 pre{padding: 0;}#sk-container-id-3 div.sk-toggleable {background-color: white;}#sk-container-id-3 label.sk-toggleable__label {cursor: pointer;display: block;width: 100%;margin-bottom: 0;padding: 0.3em;box-sizing: border-box;text-align: center;}#sk-container-id-3 label.sk-toggleable__label-arrow:before {content: \"▸\";float: left;margin-right: 0.25em;color: #696969;}#sk-container-id-3 label.sk-toggleable__label-arrow:hover:before {color: black;}#sk-container-id-3 div.sk-estimator:hover label.sk-toggleable__label-arrow:before {color: black;}#sk-container-id-3 div.sk-toggleable__content {max-height: 0;max-width: 0;overflow: hidden;text-align: left;background-color: #f0f8ff;}#sk-container-id-3 div.sk-toggleable__content pre {margin: 0.2em;color: black;border-radius: 0.25em;background-color: #f0f8ff;}#sk-container-id-3 input.sk-toggleable__control:checked~div.sk-toggleable__content {max-height: 200px;max-width: 100%;overflow: auto;}#sk-container-id-3 input.sk-toggleable__control:checked~label.sk-toggleable__label-arrow:before {content: \"▾\";}#sk-container-id-3 div.sk-estimator input.sk-toggleable__control:checked~label.sk-toggleable__label {background-color: #d4ebff;}#sk-container-id-3 div.sk-label input.sk-toggleable__control:checked~label.sk-toggleable__label {background-color: #d4ebff;}#sk-container-id-3 input.sk-hidden--visually {border: 0;clip: rect(1px 1px 1px 1px);clip: rect(1px, 1px, 1px, 1px);height: 1px;margin: -1px;overflow: hidden;padding: 0;position: absolute;width: 1px;}#sk-container-id-3 div.sk-estimator {font-family: monospace;background-color: #f0f8ff;border: 1px dotted black;border-radius: 0.25em;box-sizing: border-box;margin-bottom: 0.5em;}#sk-container-id-3 div.sk-estimator:hover {background-color: #d4ebff;}#sk-container-id-3 div.sk-parallel-item::after {content: \"\";width: 100%;border-bottom: 1px solid gray;flex-grow: 1;}#sk-container-id-3 div.sk-label:hover label.sk-toggleable__label {background-color: #d4ebff;}#sk-container-id-3 div.sk-serial::before {content: \"\";position: absolute;border-left: 1px solid gray;box-sizing: border-box;top: 0;bottom: 0;left: 50%;z-index: 0;}#sk-container-id-3 div.sk-serial {display: flex;flex-direction: column;align-items: center;background-color: white;padding-right: 0.2em;padding-left: 0.2em;position: relative;}#sk-container-id-3 div.sk-item {position: relative;z-index: 1;}#sk-container-id-3 div.sk-parallel {display: flex;align-items: stretch;justify-content: center;background-color: white;position: relative;}#sk-container-id-3 div.sk-item::before, #sk-container-id-3 div.sk-parallel-item::before {content: \"\";position: absolute;border-left: 1px solid gray;box-sizing: border-box;top: 0;bottom: 0;left: 50%;z-index: -1;}#sk-container-id-3 div.sk-parallel-item {display: flex;flex-direction: column;z-index: 1;position: relative;background-color: white;}#sk-container-id-3 div.sk-parallel-item:first-child::after {align-self: flex-end;width: 50%;}#sk-container-id-3 div.sk-parallel-item:last-child::after {align-self: flex-start;width: 50%;}#sk-container-id-3 div.sk-parallel-item:only-child::after {width: 0;}#sk-container-id-3 div.sk-dashed-wrapped {border: 1px dashed gray;margin: 0 0.4em 0.5em 0.4em;box-sizing: border-box;padding-bottom: 0.4em;background-color: white;}#sk-container-id-3 div.sk-label label {font-family: monospace;font-weight: bold;display: inline-block;line-height: 1.2em;}#sk-container-id-3 div.sk-label-container {text-align: center;}#sk-container-id-3 div.sk-container {/* jupyter's `normalize.less` sets `[hidden] { display: none; }` but bootstrap.min.css set `[hidden] { display: none !important; }` so we also need the `!important` here to be able to override the default hidden behavior on the sphinx rendered scikit-learn.org. See: https://github.com/scikit-learn/scikit-learn/issues/21755 */display: inline-block !important;position: relative;}#sk-container-id-3 div.sk-text-repr-fallback {display: none;}</style><div id=\"sk-container-id-3\" class=\"sk-top-container\"><div class=\"sk-text-repr-fallback\"><pre>SVC(C=1, gamma=&#x27;auto&#x27;)</pre><b>In a Jupyter environment, please rerun this cell to show the HTML representation or trust the notebook. <br />On GitHub, the HTML representation is unable to render, please try loading this page with nbviewer.org.</b></div><div class=\"sk-container\" hidden><div class=\"sk-item\"><div class=\"sk-estimator sk-toggleable\"><input class=\"sk-toggleable__control sk-hidden--visually\" id=\"sk-estimator-id-3\" type=\"checkbox\" checked><label for=\"sk-estimator-id-3\" class=\"sk-toggleable__label sk-toggleable__label-arrow\">SVC</label><div class=\"sk-toggleable__content\"><pre>SVC(C=1, gamma=&#x27;auto&#x27;)</pre></div></div></div></div></div>"
      ],
      "text/plain": [
       "SVC(C=1, gamma='auto')"
      ]
     },
     "execution_count": 16,
     "metadata": {},
     "output_type": "execute_result"
    }
   ],
   "source": [
    "rbf = svm.SVC(kernel='rbf',C=1,gamma='auto').fit(x_train,y_train)\n",
    "rbf"
   ]
  },
  {
   "cell_type": "code",
   "execution_count": 17,
   "metadata": {
    "colab": {
     "base_uri": "https://localhost:8080/",
     "height": 430
    },
    "executionInfo": {
     "elapsed": 554,
     "status": "ok",
     "timestamp": 1684236468616,
     "user": {
      "displayName": "Matheus Martins",
      "userId": "16340706003885101688"
     },
     "user_tz": 180
    },
    "id": "_Cs-XK5kT9DP",
    "outputId": "f439c4f3-04e3-4c4f-9530-407490c4c444"
   },
   "outputs": [
    {
     "data": {
      "image/png": "[encoded data removed]",
      "text/plain": [
       "<Figure size 640x480 with 2 Axes>"
      ]
     },
     "metadata": {},
     "output_type": "display_data"
    }
   ],
   "source": [
    "y_pred = rbf.predict(x_test)\n",
    "mc = confusion_matrix(y_test, y_pred)\n",
    "\n",
    "import seaborn as sns\n",
    "\n",
    "heatmap = sns.heatmap(mc, cmap='magma', annot=True)"
   ]
  },
  {
   "cell_type": "code",
   "execution_count": 18,
   "metadata": {
    "colab": {
     "base_uri": "https://localhost:8080/"
    },
    "executionInfo": {
     "elapsed": 5,
     "status": "ok",
     "timestamp": 1684236489619,
     "user": {
      "displayName": "Matheus Martins",
      "userId": "16340706003885101688"
     },
     "user_tz": 180
    },
    "id": "dDSOcQ2gT9RL",
    "outputId": "c11c22b7-3eb7-4c0d-adad-fee9f0cba389"
   },
   "outputs": [
    {
     "name": "stdout",
     "output_type": "stream",
     "text": [
      "Acurácia: 1.0\n"
     ]
    }
   ],
   "source": [
    "print(\"Acurácia:\",accuracy_score(y_test,y_pred))"
   ]
  },
  {
   "cell_type": "markdown",
   "metadata": {
    "id": "9HJ3kvcpUfDM"
   },
   "source": [
    "Para este caso, aumentar os dados de treinamento não faz nenhuma diferença no resultado."
   ]
  },
  {
   "cell_type": "markdown",
   "metadata": {
    "id": "V96Nob2m95PC"
   },
   "source": [
    "# Atividade 2\n",
    "\n",
    "Compare o desempenho das ávores de decisão com as redes neurais artificiais no dataset Iris. Para a avaliação, utilize as duas features do dataset (conforme exemplos apresentados em sala de aula). Particione os dados em 80% para treinamento e 20% para teste.\n",
    "\n",
    "**Responda com base em todos os experimentos solicitados: qual algoritmo teve melhor desempenho em termos de acurácia no dataset?**\n",
    "\n",
    "Requisitos adicionais:\n",
    "* A rede neural deve ter uma camada oculta com 10 neurônios;\n",
    "* Exiba a árvore de decisão de maneira gráfica. \n",
    "* Exiba a matriz de confusão de forma gráfica.\n",
    "* Exiba as regiões de decisão dos dois algoritmos."
   ]
  },
  {
   "cell_type": "markdown",
   "metadata": {
    "id": "loQhGNK5UzhN"
   },
   "source": [
    "### Árvore de decisão"
   ]
  },
  {
   "cell_type": "code",
   "execution_count": 19,
   "metadata": {
    "executionInfo": {
     "elapsed": 4,
     "status": "ok",
     "timestamp": 1684236684461,
     "user": {
      "displayName": "Matheus Martins",
      "userId": "16340706003885101688"
     },
     "user_tz": 180
    },
    "id": "rbUF3VuD-hYx"
   },
   "outputs": [],
   "source": [
    "from sklearn import tree\n",
    "import graphviz"
   ]
  },
  {
   "cell_type": "code",
   "execution_count": 20,
   "metadata": {
    "executionInfo": {
     "elapsed": 2,
     "status": "ok",
     "timestamp": 1684236703245,
     "user": {
      "displayName": "Matheus Martins",
      "userId": "16340706003885101688"
     },
     "user_tz": 180
    },
    "id": "5qHCo1tFU93y"
   },
   "outputs": [],
   "source": [
    "x = iris.data[:, [0,2]]\n",
    "y = iris.target"
   ]
  },
  {
   "cell_type": "code",
   "execution_count": 21,
   "metadata": {
    "executionInfo": {
     "elapsed": 597,
     "status": "ok",
     "timestamp": 1684236968628,
     "user": {
      "displayName": "Matheus Martins",
      "userId": "16340706003885101688"
     },
     "user_tz": 180
    },
    "id": "ttrKMuF7U96N"
   },
   "outputs": [],
   "source": [
    "x_train, x_test, y_train, y_test, = train_test_split(x, y, test_size=.2,\n",
    "                                                     random_state=42)"
   ]
  },
  {
   "cell_type": "code",
   "execution_count": 22,
   "metadata": {
    "colab": {
     "base_uri": "https://localhost:8080/",
     "height": 74
    },
    "executionInfo": {
     "elapsed": 6,
     "status": "ok",
     "timestamp": 1684236970860,
     "user": {
      "displayName": "Matheus Martins",
      "userId": "16340706003885101688"
     },
     "user_tz": 180
    },
    "id": "6DIoTtleU99o",
    "outputId": "ca45b192-89cc-4e5d-a6eb-1b2da592841e"
   },
   "outputs": [
    {
     "data": {
      "text/html": [
       "<style>#sk-container-id-4 {color: black;background-color: white;}#sk-container-id-4 pre{padding: 0;}#sk-container-id-4 div.sk-toggleable {background-color: white;}#sk-container-id-4 label.sk-toggleable__label {cursor: pointer;display: block;width: 100%;margin-bottom: 0;padding: 0.3em;box-sizing: border-box;text-align: center;}#sk-container-id-4 label.sk-toggleable__label-arrow:before {content: \"▸\";float: left;margin-right: 0.25em;color: #696969;}#sk-container-id-4 label.sk-toggleable__label-arrow:hover:before {color: black;}#sk-container-id-4 div.sk-estimator:hover label.sk-toggleable__label-arrow:before {color: black;}#sk-container-id-4 div.sk-toggleable__content {max-height: 0;max-width: 0;overflow: hidden;text-align: left;background-color: #f0f8ff;}#sk-container-id-4 div.sk-toggleable__content pre {margin: 0.2em;color: black;border-radius: 0.25em;background-color: #f0f8ff;}#sk-container-id-4 input.sk-toggleable__control:checked~div.sk-toggleable__content {max-height: 200px;max-width: 100%;overflow: auto;}#sk-container-id-4 input.sk-toggleable__control:checked~label.sk-toggleable__label-arrow:before {content: \"▾\";}#sk-container-id-4 div.sk-estimator input.sk-toggleable__control:checked~label.sk-toggleable__label {background-color: #d4ebff;}#sk-container-id-4 div.sk-label input.sk-toggleable__control:checked~label.sk-toggleable__label {background-color: #d4ebff;}#sk-container-id-4 input.sk-hidden--visually {border: 0;clip: rect(1px 1px 1px 1px);clip: rect(1px, 1px, 1px, 1px);height: 1px;margin: -1px;overflow: hidden;padding: 0;position: absolute;width: 1px;}#sk-container-id-4 div.sk-estimator {font-family: monospace;background-color: #f0f8ff;border: 1px dotted black;border-radius: 0.25em;box-sizing: border-box;margin-bottom: 0.5em;}#sk-container-id-4 div.sk-estimator:hover {background-color: #d4ebff;}#sk-container-id-4 div.sk-parallel-item::after {content: \"\";width: 100%;border-bottom: 1px solid gray;flex-grow: 1;}#sk-container-id-4 div.sk-label:hover label.sk-toggleable__label {background-color: #d4ebff;}#sk-container-id-4 div.sk-serial::before {content: \"\";position: absolute;border-left: 1px solid gray;box-sizing: border-box;top: 0;bottom: 0;left: 50%;z-index: 0;}#sk-container-id-4 div.sk-serial {display: flex;flex-direction: column;align-items: center;background-color: white;padding-right: 0.2em;padding-left: 0.2em;position: relative;}#sk-container-id-4 div.sk-item {position: relative;z-index: 1;}#sk-container-id-4 div.sk-parallel {display: flex;align-items: stretch;justify-content: center;background-color: white;position: relative;}#sk-container-id-4 div.sk-item::before, #sk-container-id-4 div.sk-parallel-item::before {content: \"\";position: absolute;border-left: 1px solid gray;box-sizing: border-box;top: 0;bottom: 0;left: 50%;z-index: -1;}#sk-container-id-4 div.sk-parallel-item {display: flex;flex-direction: column;z-index: 1;position: relative;background-color: white;}#sk-container-id-4 div.sk-parallel-item:first-child::after {align-self: flex-end;width: 50%;}#sk-container-id-4 div.sk-parallel-item:last-child::after {align-self: flex-start;width: 50%;}#sk-container-id-4 div.sk-parallel-item:only-child::after {width: 0;}#sk-container-id-4 div.sk-dashed-wrapped {border: 1px dashed gray;margin: 0 0.4em 0.5em 0.4em;box-sizing: border-box;padding-bottom: 0.4em;background-color: white;}#sk-container-id-4 div.sk-label label {font-family: monospace;font-weight: bold;display: inline-block;line-height: 1.2em;}#sk-container-id-4 div.sk-label-container {text-align: center;}#sk-container-id-4 div.sk-container {/* jupyter's `normalize.less` sets `[hidden] { display: none; }` but bootstrap.min.css set `[hidden] { display: none !important; }` so we also need the `!important` here to be able to override the default hidden behavior on the sphinx rendered scikit-learn.org. See: https://github.com/scikit-learn/scikit-learn/issues/21755 */display: inline-block !important;position: relative;}#sk-container-id-4 div.sk-text-repr-fallback {display: none;}</style><div id=\"sk-container-id-4\" class=\"sk-top-container\"><div class=\"sk-text-repr-fallback\"><pre>DecisionTreeClassifier()</pre><b>In a Jupyter environment, please rerun this cell to show the HTML representation or trust the notebook. <br />On GitHub, the HTML representation is unable to render, please try loading this page with nbviewer.org.</b></div><div class=\"sk-container\" hidden><div class=\"sk-item\"><div class=\"sk-estimator sk-toggleable\"><input class=\"sk-toggleable__control sk-hidden--visually\" id=\"sk-estimator-id-4\" type=\"checkbox\" checked><label for=\"sk-estimator-id-4\" class=\"sk-toggleable__label sk-toggleable__label-arrow\">DecisionTreeClassifier</label><div class=\"sk-toggleable__content\"><pre>DecisionTreeClassifier()</pre></div></div></div></div></div>"
      ],
      "text/plain": [
       "DecisionTreeClassifier()"
      ]
     },
     "execution_count": 22,
     "metadata": {},
     "output_type": "execute_result"
    }
   ],
   "source": [
    "tree_clf = tree.DecisionTreeClassifier()\n",
    "tree_clf.fit(x_train, y_train)"
   ]
  },
  {
   "cell_type": "code",
   "execution_count": 23,
   "metadata": {
    "colab": {
     "base_uri": "https://localhost:8080/",
     "height": 1000
    },
    "executionInfo": {
     "elapsed": 7,
     "status": "ok",
     "timestamp": 1684236973049,
     "user": {
      "displayName": "Matheus Martins",
      "userId": "16340706003885101688"
     },
     "user_tz": 180
    },
    "id": "brord-t5U-OM",
    "outputId": "6b66dacf-4ca9-4615-ca8b-7554c6e3cdfa"
   },
   "outputs": [
    {
     "data": {
      "image/svg+xml": [
       "<?xml version=\"1.0\" encoding=\"UTF-8\" standalone=\"no\"?>\n",
       "<!DOCTYPE svg PUBLIC \"-//W3C//DTD SVG 1.1//EN\"\n",
       " \"http://www.w3.org/Graphics/SVG/1.1/DTD/svg11.dtd\">\n",
       "<!-- Generated by graphviz version 2.50.0 (0)\n",
       " -->\n",
       "<!-- Title: Tree Pages: 1 -->\n",
       "<svg width=\"904pt\" height=\"1028pt\"\n",
       " viewBox=\"0.00 0.00 904.00 1028.00\" xmlns=\"http://www.w3.org/2000/svg\" xmlns:xlink=\"http://www.w3.org/1999/xlink\">\n",
       "<g id=\"graph0\" class=\"graph\" transform=\"scale(1 1) rotate(0) translate(4 1024)\">\n",
       "<title>Tree</title>\n",
       "<polygon fill=\"white\" stroke=\"transparent\" points=\"-4,4 -4,-1024 900,-1024 900,4 -4,4\"/>\n",
       "<!-- 0 -->\n",
       "<g id=\"node1\" class=\"node\">\n",
       "<title>0</title>\n",
       "<path fill=\"#fdfffd\" stroke=\"black\" d=\"M414,-1020C414,-1020 279,-1020 279,-1020 273,-1020 267,-1014 267,-1008 267,-1008 267,-949 267,-949 267,-943 273,-937 279,-937 279,-937 414,-937 414,-937 420,-937 426,-943 426,-949 426,-949 426,-1008 426,-1008 426,-1014 420,-1020 414,-1020\"/>\n",
       "<text text-anchor=\"start\" x=\"275\" y=\"-1004.8\" font-family=\"Helvetica,sans-Serif\" font-size=\"14.00\">petal length (cm) ≤ 2.45</text>\n",
       "<text text-anchor=\"start\" x=\"311\" y=\"-989.8\" font-family=\"Helvetica,sans-Serif\" font-size=\"14.00\">gini = 0.667</text>\n",
       "<text text-anchor=\"start\" x=\"301.5\" y=\"-974.8\" font-family=\"Helvetica,sans-Serif\" font-size=\"14.00\">samples = 120</text>\n",
       "<text text-anchor=\"start\" x=\"288.5\" y=\"-959.8\" font-family=\"Helvetica,sans-Serif\" font-size=\"14.00\">value = [40, 41, 39]</text>\n",
       "<text text-anchor=\"start\" x=\"294\" y=\"-944.8\" font-family=\"Helvetica,sans-Serif\" font-size=\"14.00\">class = versicolor</text>\n",
       "</g>\n",
       "<!-- 1 -->\n",
       "<g id=\"node2\" class=\"node\">\n",
       "<title>1</title>\n",
       "<path fill=\"#e58139\" stroke=\"black\" d=\"M315,-893.5C315,-893.5 222,-893.5 222,-893.5 216,-893.5 210,-887.5 210,-881.5 210,-881.5 210,-837.5 210,-837.5 210,-831.5 216,-825.5 222,-825.5 222,-825.5 315,-825.5 315,-825.5 321,-825.5 327,-831.5 327,-837.5 327,-837.5 327,-881.5 327,-881.5 327,-887.5 321,-893.5 315,-893.5\"/>\n",
       "<text text-anchor=\"start\" x=\"240.5\" y=\"-878.3\" font-family=\"Helvetica,sans-Serif\" font-size=\"14.00\">gini = 0.0</text>\n",
       "<text text-anchor=\"start\" x=\"227.5\" y=\"-863.3\" font-family=\"Helvetica,sans-Serif\" font-size=\"14.00\">samples = 40</text>\n",
       "<text text-anchor=\"start\" x=\"218\" y=\"-848.3\" font-family=\"Helvetica,sans-Serif\" font-size=\"14.00\">value = [40, 0, 0]</text>\n",
       "<text text-anchor=\"start\" x=\"225\" y=\"-833.3\" font-family=\"Helvetica,sans-Serif\" font-size=\"14.00\">class = setosa</text>\n",
       "</g>\n",
       "<!-- 0&#45;&gt;1 -->\n",
       "<g id=\"edge1\" class=\"edge\">\n",
       "<title>0&#45;&gt;1</title>\n",
       "<path fill=\"none\" stroke=\"black\" d=\"M319.44,-936.91C311.93,-925.65 303.78,-913.42 296.24,-902.11\"/>\n",
       "<polygon fill=\"black\" stroke=\"black\" points=\"299.07,-900.05 290.61,-893.67 293.25,-903.93 299.07,-900.05\"/>\n",
       "<text text-anchor=\"middle\" x=\"285.71\" y=\"-914.48\" font-family=\"Helvetica,sans-Serif\" font-size=\"14.00\">True</text>\n",
       "</g>\n",
       "<!-- 2 -->\n",
       "<g id=\"node3\" class=\"node\">\n",
       "<title>2</title>\n",
       "<path fill=\"#f5fef9\" stroke=\"black\" d=\"M492,-901C492,-901 357,-901 357,-901 351,-901 345,-895 345,-889 345,-889 345,-830 345,-830 345,-824 351,-818 357,-818 357,-818 492,-818 492,-818 498,-818 504,-824 504,-830 504,-830 504,-889 504,-889 504,-895 498,-901 492,-901\"/>\n",
       "<text text-anchor=\"start\" x=\"353\" y=\"-885.8\" font-family=\"Helvetica,sans-Serif\" font-size=\"14.00\">petal length (cm) ≤ 4.75</text>\n",
       "<text text-anchor=\"start\" x=\"396.5\" y=\"-870.8\" font-family=\"Helvetica,sans-Serif\" font-size=\"14.00\">gini = 0.5</text>\n",
       "<text text-anchor=\"start\" x=\"383.5\" y=\"-855.8\" font-family=\"Helvetica,sans-Serif\" font-size=\"14.00\">samples = 80</text>\n",
       "<text text-anchor=\"start\" x=\"370\" y=\"-840.8\" font-family=\"Helvetica,sans-Serif\" font-size=\"14.00\">value = [0, 41, 39]</text>\n",
       "<text text-anchor=\"start\" x=\"372\" y=\"-825.8\" font-family=\"Helvetica,sans-Serif\" font-size=\"14.00\">class = versicolor</text>\n",
       "</g>\n",
       "<!-- 0&#45;&gt;2 -->\n",
       "<g id=\"edge2\" class=\"edge\">\n",
       "<title>0&#45;&gt;2</title>\n",
       "<path fill=\"none\" stroke=\"black\" d=\"M373.56,-936.91C379.43,-928.1 385.7,-918.7 391.76,-909.61\"/>\n",
       "<polygon fill=\"black\" stroke=\"black\" points=\"394.85,-911.28 397.49,-901.02 389.03,-907.4 394.85,-911.28\"/>\n",
       "<text text-anchor=\"middle\" x=\"402.39\" y=\"-921.84\" font-family=\"Helvetica,sans-Serif\" font-size=\"14.00\">False</text>\n",
       "</g>\n",
       "<!-- 3 -->\n",
       "<g id=\"node4\" class=\"node\">\n",
       "<title>3</title>\n",
       "<path fill=\"#3ee684\" stroke=\"black\" d=\"M404.5,-782C404.5,-782 266.5,-782 266.5,-782 260.5,-782 254.5,-776 254.5,-770 254.5,-770 254.5,-711 254.5,-711 254.5,-705 260.5,-699 266.5,-699 266.5,-699 404.5,-699 404.5,-699 410.5,-699 416.5,-705 416.5,-711 416.5,-711 416.5,-770 416.5,-770 416.5,-776 410.5,-782 404.5,-782\"/>\n",
       "<text text-anchor=\"start\" x=\"262.5\" y=\"-766.8\" font-family=\"Helvetica,sans-Serif\" font-size=\"14.00\">sepal length (cm) ≤ 4.95</text>\n",
       "<text text-anchor=\"start\" x=\"300\" y=\"-751.8\" font-family=\"Helvetica,sans-Serif\" font-size=\"14.00\">gini = 0.053</text>\n",
       "<text text-anchor=\"start\" x=\"294.5\" y=\"-736.8\" font-family=\"Helvetica,sans-Serif\" font-size=\"14.00\">samples = 37</text>\n",
       "<text text-anchor=\"start\" x=\"285\" y=\"-721.8\" font-family=\"Helvetica,sans-Serif\" font-size=\"14.00\">value = [0, 36, 1]</text>\n",
       "<text text-anchor=\"start\" x=\"283\" y=\"-706.8\" font-family=\"Helvetica,sans-Serif\" font-size=\"14.00\">class = versicolor</text>\n",
       "</g>\n",
       "<!-- 2&#45;&gt;3 -->\n",
       "<g id=\"edge3\" class=\"edge\">\n",
       "<title>2&#45;&gt;3</title>\n",
       "<path fill=\"none\" stroke=\"black\" d=\"M393.62,-817.91C386.79,-808.92 379.48,-799.32 372.43,-790.05\"/>\n",
       "<polygon fill=\"black\" stroke=\"black\" points=\"375.16,-787.86 366.32,-782.02 369.59,-792.1 375.16,-787.86\"/>\n",
       "</g>\n",
       "<!-- 8 -->\n",
       "<g id=\"node9\" class=\"node\">\n",
       "<title>8</title>\n",
       "<path fill=\"#9253e8\" stroke=\"black\" d=\"M582,-782C582,-782 447,-782 447,-782 441,-782 435,-776 435,-770 435,-770 435,-711 435,-711 435,-705 441,-699 447,-699 447,-699 582,-699 582,-699 588,-699 594,-705 594,-711 594,-711 594,-770 594,-770 594,-776 588,-782 582,-782\"/>\n",
       "<text text-anchor=\"start\" x=\"443\" y=\"-766.8\" font-family=\"Helvetica,sans-Serif\" font-size=\"14.00\">petal length (cm) ≤ 5.05</text>\n",
       "<text text-anchor=\"start\" x=\"479\" y=\"-751.8\" font-family=\"Helvetica,sans-Serif\" font-size=\"14.00\">gini = 0.206</text>\n",
       "<text text-anchor=\"start\" x=\"473.5\" y=\"-736.8\" font-family=\"Helvetica,sans-Serif\" font-size=\"14.00\">samples = 43</text>\n",
       "<text text-anchor=\"start\" x=\"464\" y=\"-721.8\" font-family=\"Helvetica,sans-Serif\" font-size=\"14.00\">value = [0, 5, 38]</text>\n",
       "<text text-anchor=\"start\" x=\"466\" y=\"-706.8\" font-family=\"Helvetica,sans-Serif\" font-size=\"14.00\">class = virginica</text>\n",
       "</g>\n",
       "<!-- 2&#45;&gt;8 -->\n",
       "<g id=\"edge8\" class=\"edge\">\n",
       "<title>2&#45;&gt;8</title>\n",
       "<path fill=\"none\" stroke=\"black\" d=\"M455.73,-817.91C462.64,-808.92 470.03,-799.32 477.15,-790.05\"/>\n",
       "<polygon fill=\"black\" stroke=\"black\" points=\"480.01,-792.08 483.33,-782.02 474.46,-787.81 480.01,-792.08\"/>\n",
       "</g>\n",
       "<!-- 4 -->\n",
       "<g id=\"node5\" class=\"node\">\n",
       "<title>4</title>\n",
       "<path fill=\"#ffffff\" stroke=\"black\" d=\"M250.5,-663C250.5,-663 122.5,-663 122.5,-663 116.5,-663 110.5,-657 110.5,-651 110.5,-651 110.5,-592 110.5,-592 110.5,-586 116.5,-580 122.5,-580 122.5,-580 250.5,-580 250.5,-580 256.5,-580 262.5,-586 262.5,-592 262.5,-592 262.5,-651 262.5,-651 262.5,-657 256.5,-663 250.5,-663\"/>\n",
       "<text text-anchor=\"start\" x=\"118.5\" y=\"-647.8\" font-family=\"Helvetica,sans-Serif\" font-size=\"14.00\">petal length (cm) ≤ 3.9</text>\n",
       "<text text-anchor=\"start\" x=\"158.5\" y=\"-632.8\" font-family=\"Helvetica,sans-Serif\" font-size=\"14.00\">gini = 0.5</text>\n",
       "<text text-anchor=\"start\" x=\"149\" y=\"-617.8\" font-family=\"Helvetica,sans-Serif\" font-size=\"14.00\">samples = 2</text>\n",
       "<text text-anchor=\"start\" x=\"139.5\" y=\"-602.8\" font-family=\"Helvetica,sans-Serif\" font-size=\"14.00\">value = [0, 1, 1]</text>\n",
       "<text text-anchor=\"start\" x=\"134\" y=\"-587.8\" font-family=\"Helvetica,sans-Serif\" font-size=\"14.00\">class = versicolor</text>\n",
       "</g>\n",
       "<!-- 3&#45;&gt;4 -->\n",
       "<g id=\"edge4\" class=\"edge\">\n",
       "<title>3&#45;&gt;4</title>\n",
       "<path fill=\"none\" stroke=\"black\" d=\"M283.81,-698.91C271.67,-689.38 258.64,-679.15 246.19,-669.37\"/>\n",
       "<polygon fill=\"black\" stroke=\"black\" points=\"248.13,-666.44 238.1,-663.02 243.81,-671.95 248.13,-666.44\"/>\n",
       "</g>\n",
       "<!-- 7 -->\n",
       "<g id=\"node8\" class=\"node\">\n",
       "<title>7</title>\n",
       "<path fill=\"#39e581\" stroke=\"black\" d=\"M390,-655.5C390,-655.5 293,-655.5 293,-655.5 287,-655.5 281,-649.5 281,-643.5 281,-643.5 281,-599.5 281,-599.5 281,-593.5 287,-587.5 293,-587.5 293,-587.5 390,-587.5 390,-587.5 396,-587.5 402,-593.5 402,-599.5 402,-599.5 402,-643.5 402,-643.5 402,-649.5 396,-655.5 390,-655.5\"/>\n",
       "<text text-anchor=\"start\" x=\"313.5\" y=\"-640.3\" font-family=\"Helvetica,sans-Serif\" font-size=\"14.00\">gini = 0.0</text>\n",
       "<text text-anchor=\"start\" x=\"300.5\" y=\"-625.3\" font-family=\"Helvetica,sans-Serif\" font-size=\"14.00\">samples = 35</text>\n",
       "<text text-anchor=\"start\" x=\"291\" y=\"-610.3\" font-family=\"Helvetica,sans-Serif\" font-size=\"14.00\">value = [0, 35, 0]</text>\n",
       "<text text-anchor=\"start\" x=\"289\" y=\"-595.3\" font-family=\"Helvetica,sans-Serif\" font-size=\"14.00\">class = versicolor</text>\n",
       "</g>\n",
       "<!-- 3&#45;&gt;7 -->\n",
       "<g id=\"edge7\" class=\"edge\">\n",
       "<title>3&#45;&gt;7</title>\n",
       "<path fill=\"none\" stroke=\"black\" d=\"M337.58,-698.91C338.13,-688.2 338.72,-676.62 339.28,-665.78\"/>\n",
       "<polygon fill=\"black\" stroke=\"black\" points=\"342.78,-665.83 339.8,-655.67 335.79,-665.47 342.78,-665.83\"/>\n",
       "</g>\n",
       "<!-- 5 -->\n",
       "<g id=\"node6\" class=\"node\">\n",
       "<title>5</title>\n",
       "<path fill=\"#39e581\" stroke=\"black\" d=\"M109,-536.5C109,-536.5 12,-536.5 12,-536.5 6,-536.5 0,-530.5 0,-524.5 0,-524.5 0,-480.5 0,-480.5 0,-474.5 6,-468.5 12,-468.5 12,-468.5 109,-468.5 109,-468.5 115,-468.5 121,-474.5 121,-480.5 121,-480.5 121,-524.5 121,-524.5 121,-530.5 115,-536.5 109,-536.5\"/>\n",
       "<text text-anchor=\"start\" x=\"32.5\" y=\"-521.3\" font-family=\"Helvetica,sans-Serif\" font-size=\"14.00\">gini = 0.0</text>\n",
       "<text text-anchor=\"start\" x=\"23\" y=\"-506.3\" font-family=\"Helvetica,sans-Serif\" font-size=\"14.00\">samples = 1</text>\n",
       "<text text-anchor=\"start\" x=\"13.5\" y=\"-491.3\" font-family=\"Helvetica,sans-Serif\" font-size=\"14.00\">value = [0, 1, 0]</text>\n",
       "<text text-anchor=\"start\" x=\"8\" y=\"-476.3\" font-family=\"Helvetica,sans-Serif\" font-size=\"14.00\">class = versicolor</text>\n",
       "</g>\n",
       "<!-- 4&#45;&gt;5 -->\n",
       "<g id=\"edge5\" class=\"edge\">\n",
       "<title>4&#45;&gt;5</title>\n",
       "<path fill=\"none\" stroke=\"black\" d=\"M142.78,-579.91C130.19,-568.21 116.45,-555.46 103.88,-543.78\"/>\n",
       "<polygon fill=\"black\" stroke=\"black\" points=\"105.93,-540.91 96.22,-536.67 101.16,-546.04 105.93,-540.91\"/>\n",
       "</g>\n",
       "<!-- 6 -->\n",
       "<g id=\"node7\" class=\"node\">\n",
       "<title>6</title>\n",
       "<path fill=\"#8139e5\" stroke=\"black\" d=\"M240,-536.5C240,-536.5 151,-536.5 151,-536.5 145,-536.5 139,-530.5 139,-524.5 139,-524.5 139,-480.5 139,-480.5 139,-474.5 145,-468.5 151,-468.5 151,-468.5 240,-468.5 240,-468.5 246,-468.5 252,-474.5 252,-480.5 252,-480.5 252,-524.5 252,-524.5 252,-530.5 246,-536.5 240,-536.5\"/>\n",
       "<text text-anchor=\"start\" x=\"167.5\" y=\"-521.3\" font-family=\"Helvetica,sans-Serif\" font-size=\"14.00\">gini = 0.0</text>\n",
       "<text text-anchor=\"start\" x=\"158\" y=\"-506.3\" font-family=\"Helvetica,sans-Serif\" font-size=\"14.00\">samples = 1</text>\n",
       "<text text-anchor=\"start\" x=\"148.5\" y=\"-491.3\" font-family=\"Helvetica,sans-Serif\" font-size=\"14.00\">value = [0, 0, 1]</text>\n",
       "<text text-anchor=\"start\" x=\"147\" y=\"-476.3\" font-family=\"Helvetica,sans-Serif\" font-size=\"14.00\">class = virginica</text>\n",
       "</g>\n",
       "<!-- 4&#45;&gt;6 -->\n",
       "<g id=\"edge6\" class=\"edge\">\n",
       "<title>4&#45;&gt;6</title>\n",
       "<path fill=\"none\" stroke=\"black\" d=\"M189.62,-579.91C190.45,-569.2 191.34,-557.62 192.17,-546.78\"/>\n",
       "<polygon fill=\"black\" stroke=\"black\" points=\"195.67,-546.91 192.95,-536.67 188.69,-546.37 195.67,-546.91\"/>\n",
       "</g>\n",
       "<!-- 9 -->\n",
       "<g id=\"node10\" class=\"node\">\n",
       "<title>9</title>\n",
       "<path fill=\"#c9aaf4\" stroke=\"black\" d=\"M574,-663C574,-663 443,-663 443,-663 437,-663 431,-657 431,-651 431,-651 431,-592 431,-592 431,-586 437,-580 443,-580 443,-580 574,-580 574,-580 580,-580 586,-586 586,-592 586,-592 586,-651 586,-651 586,-657 580,-663 574,-663\"/>\n",
       "<text text-anchor=\"start\" x=\"439\" y=\"-647.8\" font-family=\"Helvetica,sans-Serif\" font-size=\"14.00\">sepal length (cm) ≤ 6.5</text>\n",
       "<text text-anchor=\"start\" x=\"473\" y=\"-632.8\" font-family=\"Helvetica,sans-Serif\" font-size=\"14.00\">gini = 0.463</text>\n",
       "<text text-anchor=\"start\" x=\"467.5\" y=\"-617.8\" font-family=\"Helvetica,sans-Serif\" font-size=\"14.00\">samples = 11</text>\n",
       "<text text-anchor=\"start\" x=\"461.5\" y=\"-602.8\" font-family=\"Helvetica,sans-Serif\" font-size=\"14.00\">value = [0, 4, 7]</text>\n",
       "<text text-anchor=\"start\" x=\"460\" y=\"-587.8\" font-family=\"Helvetica,sans-Serif\" font-size=\"14.00\">class = virginica</text>\n",
       "</g>\n",
       "<!-- 8&#45;&gt;9 -->\n",
       "<g id=\"edge9\" class=\"edge\">\n",
       "<title>8&#45;&gt;9</title>\n",
       "<path fill=\"none\" stroke=\"black\" d=\"M512.42,-698.91C511.99,-690.56 511.53,-681.67 511.09,-673.02\"/>\n",
       "<polygon fill=\"black\" stroke=\"black\" points=\"514.59,-672.83 510.58,-663.02 507.59,-673.19 514.59,-672.83\"/>\n",
       "</g>\n",
       "<!-- 20 -->\n",
       "<g id=\"node21\" class=\"node\">\n",
       "<title>20</title>\n",
       "<path fill=\"#853fe6\" stroke=\"black\" d=\"M754.5,-663C754.5,-663 616.5,-663 616.5,-663 610.5,-663 604.5,-657 604.5,-651 604.5,-651 604.5,-592 604.5,-592 604.5,-586 610.5,-580 616.5,-580 616.5,-580 754.5,-580 754.5,-580 760.5,-580 766.5,-586 766.5,-592 766.5,-592 766.5,-651 766.5,-651 766.5,-657 760.5,-663 754.5,-663\"/>\n",
       "<text text-anchor=\"start\" x=\"612.5\" y=\"-647.8\" font-family=\"Helvetica,sans-Serif\" font-size=\"14.00\">sepal length (cm) ≤ 6.05</text>\n",
       "<text text-anchor=\"start\" x=\"650\" y=\"-632.8\" font-family=\"Helvetica,sans-Serif\" font-size=\"14.00\">gini = 0.061</text>\n",
       "<text text-anchor=\"start\" x=\"644.5\" y=\"-617.8\" font-family=\"Helvetica,sans-Serif\" font-size=\"14.00\">samples = 32</text>\n",
       "<text text-anchor=\"start\" x=\"635\" y=\"-602.8\" font-family=\"Helvetica,sans-Serif\" font-size=\"14.00\">value = [0, 1, 31]</text>\n",
       "<text text-anchor=\"start\" x=\"637\" y=\"-587.8\" font-family=\"Helvetica,sans-Serif\" font-size=\"14.00\">class = virginica</text>\n",
       "</g>\n",
       "<!-- 8&#45;&gt;20 -->\n",
       "<g id=\"edge20\" class=\"edge\">\n",
       "<title>8&#45;&gt;20</title>\n",
       "<path fill=\"none\" stroke=\"black\" d=\"M573.83,-698.91C588.02,-689.2 603.28,-678.76 617.81,-668.81\"/>\n",
       "<polygon fill=\"black\" stroke=\"black\" points=\"620,-671.56 626.28,-663.02 616.05,-665.78 620,-671.56\"/>\n",
       "</g>\n",
       "<!-- 10 -->\n",
       "<g id=\"node11\" class=\"node\">\n",
       "<title>10</title>\n",
       "<path fill=\"#a572ec\" stroke=\"black\" d=\"M425,-544C425,-544 290,-544 290,-544 284,-544 278,-538 278,-532 278,-532 278,-473 278,-473 278,-467 284,-461 290,-461 290,-461 425,-461 425,-461 431,-461 437,-467 437,-473 437,-473 437,-532 437,-532 437,-538 431,-544 425,-544\"/>\n",
       "<text text-anchor=\"start\" x=\"286\" y=\"-528.8\" font-family=\"Helvetica,sans-Serif\" font-size=\"14.00\">petal length (cm) ≤ 4.95</text>\n",
       "<text text-anchor=\"start\" x=\"322\" y=\"-513.8\" font-family=\"Helvetica,sans-Serif\" font-size=\"14.00\">gini = 0.346</text>\n",
       "<text text-anchor=\"start\" x=\"320\" y=\"-498.8\" font-family=\"Helvetica,sans-Serif\" font-size=\"14.00\">samples = 9</text>\n",
       "<text text-anchor=\"start\" x=\"310.5\" y=\"-483.8\" font-family=\"Helvetica,sans-Serif\" font-size=\"14.00\">value = [0, 2, 7]</text>\n",
       "<text text-anchor=\"start\" x=\"309\" y=\"-468.8\" font-family=\"Helvetica,sans-Serif\" font-size=\"14.00\">class = virginica</text>\n",
       "</g>\n",
       "<!-- 9&#45;&gt;10 -->\n",
       "<g id=\"edge10\" class=\"edge\">\n",
       "<title>9&#45;&gt;10</title>\n",
       "<path fill=\"none\" stroke=\"black\" d=\"M456.11,-579.91C443.81,-570.38 430.61,-560.15 417.99,-550.37\"/>\n",
       "<polygon fill=\"black\" stroke=\"black\" points=\"419.84,-547.38 409.8,-544.02 415.56,-552.91 419.84,-547.38\"/>\n",
       "</g>\n",
       "<!-- 19 -->\n",
       "<g id=\"node20\" class=\"node\">\n",
       "<title>19</title>\n",
       "<path fill=\"#39e581\" stroke=\"black\" d=\"M564,-536.5C564,-536.5 467,-536.5 467,-536.5 461,-536.5 455,-530.5 455,-524.5 455,-524.5 455,-480.5 455,-480.5 455,-474.5 461,-468.5 467,-468.5 467,-468.5 564,-468.5 564,-468.5 570,-468.5 576,-474.5 576,-480.5 576,-480.5 576,-524.5 576,-524.5 576,-530.5 570,-536.5 564,-536.5\"/>\n",
       "<text text-anchor=\"start\" x=\"487.5\" y=\"-521.3\" font-family=\"Helvetica,sans-Serif\" font-size=\"14.00\">gini = 0.0</text>\n",
       "<text text-anchor=\"start\" x=\"478\" y=\"-506.3\" font-family=\"Helvetica,sans-Serif\" font-size=\"14.00\">samples = 2</text>\n",
       "<text text-anchor=\"start\" x=\"468.5\" y=\"-491.3\" font-family=\"Helvetica,sans-Serif\" font-size=\"14.00\">value = [0, 2, 0]</text>\n",
       "<text text-anchor=\"start\" x=\"463\" y=\"-476.3\" font-family=\"Helvetica,sans-Serif\" font-size=\"14.00\">class = versicolor</text>\n",
       "</g>\n",
       "<!-- 9&#45;&gt;19 -->\n",
       "<g id=\"edge19\" class=\"edge\">\n",
       "<title>9&#45;&gt;19</title>\n",
       "<path fill=\"none\" stroke=\"black\" d=\"M510.93,-579.91C511.57,-569.2 512.26,-557.62 512.91,-546.78\"/>\n",
       "<polygon fill=\"black\" stroke=\"black\" points=\"516.41,-546.86 513.52,-536.67 509.42,-546.44 516.41,-546.86\"/>\n",
       "</g>\n",
       "<!-- 11 -->\n",
       "<g id=\"node12\" class=\"node\">\n",
       "<title>11</title>\n",
       "<path fill=\"#c09cf2\" stroke=\"black\" d=\"M363.5,-425C363.5,-425 225.5,-425 225.5,-425 219.5,-425 213.5,-419 213.5,-413 213.5,-413 213.5,-354 213.5,-354 213.5,-348 219.5,-342 225.5,-342 225.5,-342 363.5,-342 363.5,-342 369.5,-342 375.5,-348 375.5,-354 375.5,-354 375.5,-413 375.5,-413 375.5,-419 369.5,-425 363.5,-425\"/>\n",
       "<text text-anchor=\"start\" x=\"221.5\" y=\"-409.8\" font-family=\"Helvetica,sans-Serif\" font-size=\"14.00\">sepal length (cm) ≤ 5.75</text>\n",
       "<text text-anchor=\"start\" x=\"259\" y=\"-394.8\" font-family=\"Helvetica,sans-Serif\" font-size=\"14.00\">gini = 0.444</text>\n",
       "<text text-anchor=\"start\" x=\"257\" y=\"-379.8\" font-family=\"Helvetica,sans-Serif\" font-size=\"14.00\">samples = 6</text>\n",
       "<text text-anchor=\"start\" x=\"247.5\" y=\"-364.8\" font-family=\"Helvetica,sans-Serif\" font-size=\"14.00\">value = [0, 2, 4]</text>\n",
       "<text text-anchor=\"start\" x=\"246\" y=\"-349.8\" font-family=\"Helvetica,sans-Serif\" font-size=\"14.00\">class = virginica</text>\n",
       "</g>\n",
       "<!-- 10&#45;&gt;11 -->\n",
       "<g id=\"edge11\" class=\"edge\">\n",
       "<title>10&#45;&gt;11</title>\n",
       "<path fill=\"none\" stroke=\"black\" d=\"M335.64,-460.91C330.95,-452.2 325.94,-442.9 321.1,-433.89\"/>\n",
       "<polygon fill=\"black\" stroke=\"black\" points=\"324.14,-432.17 316.32,-425.02 317.98,-435.48 324.14,-432.17\"/>\n",
       "</g>\n",
       "<!-- 18 -->\n",
       "<g id=\"node19\" class=\"node\">\n",
       "<title>18</title>\n",
       "<path fill=\"#8139e5\" stroke=\"black\" d=\"M495,-417.5C495,-417.5 406,-417.5 406,-417.5 400,-417.5 394,-411.5 394,-405.5 394,-405.5 394,-361.5 394,-361.5 394,-355.5 400,-349.5 406,-349.5 406,-349.5 495,-349.5 495,-349.5 501,-349.5 507,-355.5 507,-361.5 507,-361.5 507,-405.5 507,-405.5 507,-411.5 501,-417.5 495,-417.5\"/>\n",
       "<text text-anchor=\"start\" x=\"422.5\" y=\"-402.3\" font-family=\"Helvetica,sans-Serif\" font-size=\"14.00\">gini = 0.0</text>\n",
       "<text text-anchor=\"start\" x=\"413\" y=\"-387.3\" font-family=\"Helvetica,sans-Serif\" font-size=\"14.00\">samples = 3</text>\n",
       "<text text-anchor=\"start\" x=\"403.5\" y=\"-372.3\" font-family=\"Helvetica,sans-Serif\" font-size=\"14.00\">value = [0, 0, 3]</text>\n",
       "<text text-anchor=\"start\" x=\"402\" y=\"-357.3\" font-family=\"Helvetica,sans-Serif\" font-size=\"14.00\">class = virginica</text>\n",
       "</g>\n",
       "<!-- 10&#45;&gt;18 -->\n",
       "<g id=\"edge18\" class=\"edge\">\n",
       "<title>10&#45;&gt;18</title>\n",
       "<path fill=\"none\" stroke=\"black\" d=\"M389.77,-460.91C398.8,-449.54 408.63,-437.18 417.69,-425.77\"/>\n",
       "<polygon fill=\"black\" stroke=\"black\" points=\"420.65,-427.67 424.14,-417.67 415.17,-423.32 420.65,-427.67\"/>\n",
       "</g>\n",
       "<!-- 12 -->\n",
       "<g id=\"node13\" class=\"node\">\n",
       "<title>12</title>\n",
       "<path fill=\"#8139e5\" stroke=\"black\" d=\"M261,-298.5C261,-298.5 172,-298.5 172,-298.5 166,-298.5 160,-292.5 160,-286.5 160,-286.5 160,-242.5 160,-242.5 160,-236.5 166,-230.5 172,-230.5 172,-230.5 261,-230.5 261,-230.5 267,-230.5 273,-236.5 273,-242.5 273,-242.5 273,-286.5 273,-286.5 273,-292.5 267,-298.5 261,-298.5\"/>\n",
       "<text text-anchor=\"start\" x=\"188.5\" y=\"-283.3\" font-family=\"Helvetica,sans-Serif\" font-size=\"14.00\">gini = 0.0</text>\n",
       "<text text-anchor=\"start\" x=\"179\" y=\"-268.3\" font-family=\"Helvetica,sans-Serif\" font-size=\"14.00\">samples = 1</text>\n",
       "<text text-anchor=\"start\" x=\"169.5\" y=\"-253.3\" font-family=\"Helvetica,sans-Serif\" font-size=\"14.00\">value = [0, 0, 1]</text>\n",
       "<text text-anchor=\"start\" x=\"168\" y=\"-238.3\" font-family=\"Helvetica,sans-Serif\" font-size=\"14.00\">class = virginica</text>\n",
       "</g>\n",
       "<!-- 11&#45;&gt;12 -->\n",
       "<g id=\"edge12\" class=\"edge\">\n",
       "<title>11&#45;&gt;12</title>\n",
       "<path fill=\"none\" stroke=\"black\" d=\"M267.44,-341.91C259.93,-330.65 251.78,-318.42 244.24,-307.11\"/>\n",
       "<polygon fill=\"black\" stroke=\"black\" points=\"247.07,-305.05 238.61,-298.67 241.25,-308.93 247.07,-305.05\"/>\n",
       "</g>\n",
       "<!-- 13 -->\n",
       "<g id=\"node14\" class=\"node\">\n",
       "<title>13</title>\n",
       "<path fill=\"#d5bdf6\" stroke=\"black\" d=\"M441.5,-306C441.5,-306 303.5,-306 303.5,-306 297.5,-306 291.5,-300 291.5,-294 291.5,-294 291.5,-235 291.5,-235 291.5,-229 297.5,-223 303.5,-223 303.5,-223 441.5,-223 441.5,-223 447.5,-223 453.5,-229 453.5,-235 453.5,-235 453.5,-294 453.5,-294 453.5,-300 447.5,-306 441.5,-306\"/>\n",
       "<text text-anchor=\"start\" x=\"299.5\" y=\"-290.8\" font-family=\"Helvetica,sans-Serif\" font-size=\"14.00\">sepal length (cm) ≤ 5.95</text>\n",
       "<text text-anchor=\"start\" x=\"340.5\" y=\"-275.8\" font-family=\"Helvetica,sans-Serif\" font-size=\"14.00\">gini = 0.48</text>\n",
       "<text text-anchor=\"start\" x=\"335\" y=\"-260.8\" font-family=\"Helvetica,sans-Serif\" font-size=\"14.00\">samples = 5</text>\n",
       "<text text-anchor=\"start\" x=\"325.5\" y=\"-245.8\" font-family=\"Helvetica,sans-Serif\" font-size=\"14.00\">value = [0, 2, 3]</text>\n",
       "<text text-anchor=\"start\" x=\"324\" y=\"-230.8\" font-family=\"Helvetica,sans-Serif\" font-size=\"14.00\">class = virginica</text>\n",
       "</g>\n",
       "<!-- 11&#45;&gt;13 -->\n",
       "<g id=\"edge13\" class=\"edge\">\n",
       "<title>11&#45;&gt;13</title>\n",
       "<path fill=\"none\" stroke=\"black\" d=\"M321.56,-341.91C327.43,-333.1 333.7,-323.7 339.76,-314.61\"/>\n",
       "<polygon fill=\"black\" stroke=\"black\" points=\"342.85,-316.28 345.49,-306.02 337.03,-312.4 342.85,-316.28\"/>\n",
       "</g>\n",
       "<!-- 14 -->\n",
       "<g id=\"node15\" class=\"node\">\n",
       "<title>14</title>\n",
       "<path fill=\"#39e581\" stroke=\"black\" d=\"M341,-179.5C341,-179.5 244,-179.5 244,-179.5 238,-179.5 232,-173.5 232,-167.5 232,-167.5 232,-123.5 232,-123.5 232,-117.5 238,-111.5 244,-111.5 244,-111.5 341,-111.5 341,-111.5 347,-111.5 353,-117.5 353,-123.5 353,-123.5 353,-167.5 353,-167.5 353,-173.5 347,-179.5 341,-179.5\"/>\n",
       "<text text-anchor=\"start\" x=\"264.5\" y=\"-164.3\" font-family=\"Helvetica,sans-Serif\" font-size=\"14.00\">gini = 0.0</text>\n",
       "<text text-anchor=\"start\" x=\"255\" y=\"-149.3\" font-family=\"Helvetica,sans-Serif\" font-size=\"14.00\">samples = 1</text>\n",
       "<text text-anchor=\"start\" x=\"245.5\" y=\"-134.3\" font-family=\"Helvetica,sans-Serif\" font-size=\"14.00\">value = [0, 1, 0]</text>\n",
       "<text text-anchor=\"start\" x=\"240\" y=\"-119.3\" font-family=\"Helvetica,sans-Serif\" font-size=\"14.00\">class = versicolor</text>\n",
       "</g>\n",
       "<!-- 13&#45;&gt;14 -->\n",
       "<g id=\"edge14\" class=\"edge\">\n",
       "<title>13&#45;&gt;14</title>\n",
       "<path fill=\"none\" stroke=\"black\" d=\"M344.74,-222.91C337.05,-211.65 328.68,-199.42 320.95,-188.11\"/>\n",
       "<polygon fill=\"black\" stroke=\"black\" points=\"323.71,-185.95 315.18,-179.67 317.93,-189.9 323.71,-185.95\"/>\n",
       "</g>\n",
       "<!-- 15 -->\n",
       "<g id=\"node16\" class=\"node\">\n",
       "<title>15</title>\n",
       "<path fill=\"#ab7bee\" stroke=\"black\" d=\"M521.5,-187C521.5,-187 383.5,-187 383.5,-187 377.5,-187 371.5,-181 371.5,-175 371.5,-175 371.5,-116 371.5,-116 371.5,-110 377.5,-104 383.5,-104 383.5,-104 521.5,-104 521.5,-104 527.5,-104 533.5,-110 533.5,-116 533.5,-116 533.5,-175 533.5,-175 533.5,-181 527.5,-187 521.5,-187\"/>\n",
       "<text text-anchor=\"start\" x=\"379.5\" y=\"-171.8\" font-family=\"Helvetica,sans-Serif\" font-size=\"14.00\">sepal length (cm) ≤ 6.25</text>\n",
       "<text text-anchor=\"start\" x=\"417\" y=\"-156.8\" font-family=\"Helvetica,sans-Serif\" font-size=\"14.00\">gini = 0.375</text>\n",
       "<text text-anchor=\"start\" x=\"415\" y=\"-141.8\" font-family=\"Helvetica,sans-Serif\" font-size=\"14.00\">samples = 4</text>\n",
       "<text text-anchor=\"start\" x=\"405.5\" y=\"-126.8\" font-family=\"Helvetica,sans-Serif\" font-size=\"14.00\">value = [0, 1, 3]</text>\n",
       "<text text-anchor=\"start\" x=\"404\" y=\"-111.8\" font-family=\"Helvetica,sans-Serif\" font-size=\"14.00\">class = virginica</text>\n",
       "</g>\n",
       "<!-- 13&#45;&gt;15 -->\n",
       "<g id=\"edge15\" class=\"edge\">\n",
       "<title>13&#45;&gt;15</title>\n",
       "<path fill=\"none\" stroke=\"black\" d=\"M400.26,-222.91C406.34,-214.01 412.84,-204.51 419.11,-195.33\"/>\n",
       "<polygon fill=\"black\" stroke=\"black\" points=\"422.04,-197.25 424.79,-187.02 416.26,-193.3 422.04,-197.25\"/>\n",
       "</g>\n",
       "<!-- 16 -->\n",
       "<g id=\"node17\" class=\"node\">\n",
       "<title>16</title>\n",
       "<path fill=\"#8139e5\" stroke=\"black\" d=\"M430,-68C430,-68 341,-68 341,-68 335,-68 329,-62 329,-56 329,-56 329,-12 329,-12 329,-6 335,0 341,0 341,0 430,0 430,0 436,0 442,-6 442,-12 442,-12 442,-56 442,-56 442,-62 436,-68 430,-68\"/>\n",
       "<text text-anchor=\"start\" x=\"357.5\" y=\"-52.8\" font-family=\"Helvetica,sans-Serif\" font-size=\"14.00\">gini = 0.0</text>\n",
       "<text text-anchor=\"start\" x=\"348\" y=\"-37.8\" font-family=\"Helvetica,sans-Serif\" font-size=\"14.00\">samples = 2</text>\n",
       "<text text-anchor=\"start\" x=\"338.5\" y=\"-22.8\" font-family=\"Helvetica,sans-Serif\" font-size=\"14.00\">value = [0, 0, 2]</text>\n",
       "<text text-anchor=\"start\" x=\"337\" y=\"-7.8\" font-family=\"Helvetica,sans-Serif\" font-size=\"14.00\">class = virginica</text>\n",
       "</g>\n",
       "<!-- 15&#45;&gt;16 -->\n",
       "<g id=\"edge16\" class=\"edge\">\n",
       "<title>15&#45;&gt;16</title>\n",
       "<path fill=\"none\" stroke=\"black\" d=\"M427.55,-103.73C422.19,-94.97 416.52,-85.7 411.14,-76.91\"/>\n",
       "<polygon fill=\"black\" stroke=\"black\" points=\"414.08,-75 405.88,-68.3 408.11,-78.66 414.08,-75\"/>\n",
       "</g>\n",
       "<!-- 17 -->\n",
       "<g id=\"node18\" class=\"node\">\n",
       "<title>17</title>\n",
       "<path fill=\"#ffffff\" stroke=\"black\" d=\"M569,-68C569,-68 472,-68 472,-68 466,-68 460,-62 460,-56 460,-56 460,-12 460,-12 460,-6 466,0 472,0 472,0 569,0 569,0 575,0 581,-6 581,-12 581,-12 581,-56 581,-56 581,-62 575,-68 569,-68\"/>\n",
       "<text text-anchor=\"start\" x=\"492.5\" y=\"-52.8\" font-family=\"Helvetica,sans-Serif\" font-size=\"14.00\">gini = 0.5</text>\n",
       "<text text-anchor=\"start\" x=\"483\" y=\"-37.8\" font-family=\"Helvetica,sans-Serif\" font-size=\"14.00\">samples = 2</text>\n",
       "<text text-anchor=\"start\" x=\"473.5\" y=\"-22.8\" font-family=\"Helvetica,sans-Serif\" font-size=\"14.00\">value = [0, 1, 1]</text>\n",
       "<text text-anchor=\"start\" x=\"468\" y=\"-7.8\" font-family=\"Helvetica,sans-Serif\" font-size=\"14.00\">class = versicolor</text>\n",
       "</g>\n",
       "<!-- 15&#45;&gt;17 -->\n",
       "<g id=\"edge17\" class=\"edge\">\n",
       "<title>15&#45;&gt;17</title>\n",
       "<path fill=\"none\" stroke=\"black\" d=\"M477.82,-103.73C483.26,-94.97 489.01,-85.7 494.48,-76.91\"/>\n",
       "<polygon fill=\"black\" stroke=\"black\" points=\"497.52,-78.64 499.82,-68.3 491.57,-74.95 497.52,-78.64\"/>\n",
       "</g>\n",
       "<!-- 21 -->\n",
       "<g id=\"node22\" class=\"node\">\n",
       "<title>21</title>\n",
       "<path fill=\"#a06aec\" stroke=\"black\" d=\"M748.5,-544C748.5,-544 610.5,-544 610.5,-544 604.5,-544 598.5,-538 598.5,-532 598.5,-532 598.5,-473 598.5,-473 598.5,-467 604.5,-461 610.5,-461 610.5,-461 748.5,-461 748.5,-461 754.5,-461 760.5,-467 760.5,-473 760.5,-473 760.5,-532 760.5,-532 760.5,-538 754.5,-544 748.5,-544\"/>\n",
       "<text text-anchor=\"start\" x=\"606.5\" y=\"-528.8\" font-family=\"Helvetica,sans-Serif\" font-size=\"14.00\">sepal length (cm) ≤ 5.95</text>\n",
       "<text text-anchor=\"start\" x=\"647.5\" y=\"-513.8\" font-family=\"Helvetica,sans-Serif\" font-size=\"14.00\">gini = 0.32</text>\n",
       "<text text-anchor=\"start\" x=\"642\" y=\"-498.8\" font-family=\"Helvetica,sans-Serif\" font-size=\"14.00\">samples = 5</text>\n",
       "<text text-anchor=\"start\" x=\"632.5\" y=\"-483.8\" font-family=\"Helvetica,sans-Serif\" font-size=\"14.00\">value = [0, 1, 4]</text>\n",
       "<text text-anchor=\"start\" x=\"631\" y=\"-468.8\" font-family=\"Helvetica,sans-Serif\" font-size=\"14.00\">class = virginica</text>\n",
       "</g>\n",
       "<!-- 20&#45;&gt;21 -->\n",
       "<g id=\"edge21\" class=\"edge\">\n",
       "<title>20&#45;&gt;21</title>\n",
       "<path fill=\"none\" stroke=\"black\" d=\"M683.42,-579.91C682.99,-571.56 682.53,-562.67 682.09,-554.02\"/>\n",
       "<polygon fill=\"black\" stroke=\"black\" points=\"685.59,-553.83 681.58,-544.02 678.59,-554.19 685.59,-553.83\"/>\n",
       "</g>\n",
       "<!-- 24 -->\n",
       "<g id=\"node25\" class=\"node\">\n",
       "<title>24</title>\n",
       "<path fill=\"#8139e5\" stroke=\"black\" d=\"M884,-536.5C884,-536.5 791,-536.5 791,-536.5 785,-536.5 779,-530.5 779,-524.5 779,-524.5 779,-480.5 779,-480.5 779,-474.5 785,-468.5 791,-468.5 791,-468.5 884,-468.5 884,-468.5 890,-468.5 896,-474.5 896,-480.5 896,-480.5 896,-524.5 896,-524.5 896,-530.5 890,-536.5 884,-536.5\"/>\n",
       "<text text-anchor=\"start\" x=\"809.5\" y=\"-521.3\" font-family=\"Helvetica,sans-Serif\" font-size=\"14.00\">gini = 0.0</text>\n",
       "<text text-anchor=\"start\" x=\"796.5\" y=\"-506.3\" font-family=\"Helvetica,sans-Serif\" font-size=\"14.00\">samples = 27</text>\n",
       "<text text-anchor=\"start\" x=\"787\" y=\"-491.3\" font-family=\"Helvetica,sans-Serif\" font-size=\"14.00\">value = [0, 0, 27]</text>\n",
       "<text text-anchor=\"start\" x=\"789\" y=\"-476.3\" font-family=\"Helvetica,sans-Serif\" font-size=\"14.00\">class = virginica</text>\n",
       "</g>\n",
       "<!-- 20&#45;&gt;24 -->\n",
       "<g id=\"edge24\" class=\"edge\">\n",
       "<title>20&#45;&gt;24</title>\n",
       "<path fill=\"none\" stroke=\"black\" d=\"M738.24,-579.91C753.86,-567.88 770.94,-554.73 786.46,-542.79\"/>\n",
       "<polygon fill=\"black\" stroke=\"black\" points=\"788.62,-545.54 794.41,-536.67 784.35,-539.99 788.62,-545.54\"/>\n",
       "</g>\n",
       "<!-- 22 -->\n",
       "<g id=\"node23\" class=\"node\">\n",
       "<title>22</title>\n",
       "<path fill=\"#8139e5\" stroke=\"black\" d=\"M652,-417.5C652,-417.5 563,-417.5 563,-417.5 557,-417.5 551,-411.5 551,-405.5 551,-405.5 551,-361.5 551,-361.5 551,-355.5 557,-349.5 563,-349.5 563,-349.5 652,-349.5 652,-349.5 658,-349.5 664,-355.5 664,-361.5 664,-361.5 664,-405.5 664,-405.5 664,-411.5 658,-417.5 652,-417.5\"/>\n",
       "<text text-anchor=\"start\" x=\"579.5\" y=\"-402.3\" font-family=\"Helvetica,sans-Serif\" font-size=\"14.00\">gini = 0.0</text>\n",
       "<text text-anchor=\"start\" x=\"570\" y=\"-387.3\" font-family=\"Helvetica,sans-Serif\" font-size=\"14.00\">samples = 4</text>\n",
       "<text text-anchor=\"start\" x=\"560.5\" y=\"-372.3\" font-family=\"Helvetica,sans-Serif\" font-size=\"14.00\">value = [0, 0, 4]</text>\n",
       "<text text-anchor=\"start\" x=\"559\" y=\"-357.3\" font-family=\"Helvetica,sans-Serif\" font-size=\"14.00\">class = virginica</text>\n",
       "</g>\n",
       "<!-- 21&#45;&gt;22 -->\n",
       "<g id=\"edge22\" class=\"edge\">\n",
       "<title>21&#45;&gt;22</title>\n",
       "<path fill=\"none\" stroke=\"black\" d=\"M654.52,-460.91C647.66,-449.76 640.21,-437.66 633.31,-426.44\"/>\n",
       "<polygon fill=\"black\" stroke=\"black\" points=\"636.13,-424.35 627.91,-417.67 630.17,-428.02 636.13,-424.35\"/>\n",
       "</g>\n",
       "<!-- 23 -->\n",
       "<g id=\"node24\" class=\"node\">\n",
       "<title>23</title>\n",
       "<path fill=\"#39e581\" stroke=\"black\" d=\"M791,-417.5C791,-417.5 694,-417.5 694,-417.5 688,-417.5 682,-411.5 682,-405.5 682,-405.5 682,-361.5 682,-361.5 682,-355.5 688,-349.5 694,-349.5 694,-349.5 791,-349.5 791,-349.5 797,-349.5 803,-355.5 803,-361.5 803,-361.5 803,-405.5 803,-405.5 803,-411.5 797,-417.5 791,-417.5\"/>\n",
       "<text text-anchor=\"start\" x=\"714.5\" y=\"-402.3\" font-family=\"Helvetica,sans-Serif\" font-size=\"14.00\">gini = 0.0</text>\n",
       "<text text-anchor=\"start\" x=\"705\" y=\"-387.3\" font-family=\"Helvetica,sans-Serif\" font-size=\"14.00\">samples = 1</text>\n",
       "<text text-anchor=\"start\" x=\"695.5\" y=\"-372.3\" font-family=\"Helvetica,sans-Serif\" font-size=\"14.00\">value = [0, 1, 0]</text>\n",
       "<text text-anchor=\"start\" x=\"690\" y=\"-357.3\" font-family=\"Helvetica,sans-Serif\" font-size=\"14.00\">class = versicolor</text>\n",
       "</g>\n",
       "<!-- 21&#45;&gt;23 -->\n",
       "<g id=\"edge23\" class=\"edge\">\n",
       "<title>21&#45;&gt;23</title>\n",
       "<path fill=\"none\" stroke=\"black\" d=\"M701.36,-460.91C707.3,-449.87 713.75,-437.9 719.74,-426.77\"/>\n",
       "<polygon fill=\"black\" stroke=\"black\" points=\"722.98,-428.13 724.64,-417.67 716.82,-424.81 722.98,-428.13\"/>\n",
       "</g>\n",
       "</g>\n",
       "</svg>\n"
      ],
      "text/plain": [
       "<graphviz.sources.Source at 0x2497b9c5640>"
      ]
     },
     "execution_count": 23,
     "metadata": {},
     "output_type": "execute_result"
    }
   ],
   "source": [
    "dot_data = tree.export_graphviz(tree_clf,\n",
    "                                feature_names=np.array(iris.feature_names)[[0,2]],\n",
    "                                class_names=iris.target_names,\n",
    "                                filled=True,\n",
    "                                rounded=True,\n",
    "                                special_characters=True)\n",
    "\n",
    "graph = graphviz.Source(dot_data)\n",
    "graph"
   ]
  },
  {
   "cell_type": "code",
   "execution_count": 24,
   "metadata": {
    "colab": {
     "base_uri": "https://localhost:8080/",
     "height": 435
    },
    "executionInfo": {
     "elapsed": 464,
     "status": "ok",
     "timestamp": 1684236975722,
     "user": {
      "displayName": "Matheus Martins",
      "userId": "16340706003885101688"
     },
     "user_tz": 180
    },
    "id": "MH6CHZ5BValz",
    "outputId": "337405c8-f69b-4035-eeab-e50690669f89"
   },
   "outputs": [
    {
     "data": {
      "image/png": "[encoded data removed]",
      "text/plain": [
       "<Figure size 640x480 with 2 Axes>"
      ]
     },
     "metadata": {},
     "output_type": "display_data"
    }
   ],
   "source": [
    "y_pred = tree_clf.predict(x_test)\n",
    "\n",
    "mc = confusion_matrix(y_test, y_pred)\n",
    "\n",
    "mc_heatmap = sns.heatmap(mc, cmap=\"magma\", annot=True)"
   ]
  },
  {
   "cell_type": "code",
   "execution_count": 25,
   "metadata": {
    "colab": {
     "base_uri": "https://localhost:8080/",
     "height": 466
    },
    "executionInfo": {
     "elapsed": 553,
     "status": "ok",
     "timestamp": 1684236978028,
     "user": {
      "displayName": "Matheus Martins",
      "userId": "16340706003885101688"
     },
     "user_tz": 180
    },
    "id": "YgbIENSxVaoM",
    "outputId": "d5848ff2-2812-4620-80b6-481ebf344483"
   },
   "outputs": [
    {
     "name": "stdout",
     "output_type": "stream",
     "text": [
      "Acurácia: 1.0\n"
     ]
    },
    {
     "data": {
      "image/png": "[encoded data removed]",
      "text/plain": [
       "<Figure size 640x480 with 1 Axes>"
      ]
     },
     "metadata": {},
     "output_type": "display_data"
    }
   ],
   "source": [
    "disp = DecisionBoundaryDisplay.from_estimator(tree_clf,x_train,\n",
    "                                              response_method=\"predict\",\n",
    "                                              xlabel=\"sepal length [cm]\",\n",
    "                                              ylabel=\"petal length [cm]\")\n",
    "disp.ax_.scatter(x_test[:, 0],x_test[:, 1],c=y_test,edgecolor=\"k\")\n",
    "print(\"Acurácia:\",accuracy_score(y_test,y_pred))"
   ]
  },
  {
   "cell_type": "markdown",
   "metadata": {
    "id": "1kXlYQ6VVvH-"
   },
   "source": [
    "### Rede neural"
   ]
  },
  {
   "cell_type": "code",
   "execution_count": 26,
   "metadata": {
    "executionInfo": {
     "elapsed": 277,
     "status": "ok",
     "timestamp": 1684236985220,
     "user": {
      "displayName": "Matheus Martins",
      "userId": "16340706003885101688"
     },
     "user_tz": 180
    },
    "id": "NU-dwSVSVaqj"
   },
   "outputs": [],
   "source": [
    "import matplotlib.pyplot as plt\n",
    "from sklearn.neural_network import MLPClassifier"
   ]
  },
  {
   "cell_type": "code",
   "execution_count": 27,
   "metadata": {
    "executionInfo": {
     "elapsed": 273,
     "status": "ok",
     "timestamp": 1684237940353,
     "user": {
      "displayName": "Matheus Martins",
      "userId": "16340706003885101688"
     },
     "user_tz": 180
    },
    "id": "zeyFRir6Vw5k"
   },
   "outputs": [],
   "source": [
    "x = iris.data[:, [0,2]]\n",
    "y = iris.target"
   ]
  },
  {
   "cell_type": "code",
   "execution_count": 28,
   "metadata": {
    "executionInfo": {
     "elapsed": 3,
     "status": "ok",
     "timestamp": 1684237941495,
     "user": {
      "displayName": "Matheus Martins",
      "userId": "16340706003885101688"
     },
     "user_tz": 180
    },
    "id": "H0odb5x2Vw8-"
   },
   "outputs": [],
   "source": [
    "x_train, x_test, y_train, y_test, = train_test_split(x, y, test_size=.2,\n",
    "                                                     random_state=42)"
   ]
  },
  {
   "cell_type": "code",
   "execution_count": 29,
   "metadata": {
    "executionInfo": {
     "elapsed": 3,
     "status": "ok",
     "timestamp": 1684237942926,
     "user": {
      "displayName": "Matheus Martins",
      "userId": "16340706003885101688"
     },
     "user_tz": 180
    },
    "id": "O1nRibMvVatz"
   },
   "outputs": [],
   "source": [
    "mlp = MLPClassifier(hidden_layer_sizes=(10,), max_iter=60, alpha=1e-4,\n",
    "                    solver=\"sgd\", verbose=10, tol=1e-4, random_state=1,\n",
    "                    learning_rate_init=.1)"
   ]
  },
  {
   "cell_type": "code",
   "execution_count": 30,
   "metadata": {
    "colab": {
     "base_uri": "https://localhost:8080/"
    },
    "executionInfo": {
     "elapsed": 5,
     "status": "ok",
     "timestamp": 1684237944759,
     "user": {
      "displayName": "Matheus Martins",
      "userId": "16340706003885101688"
     },
     "user_tz": 180
    },
    "id": "v6wffySUXJd-",
    "outputId": "fe9f25aa-f43b-4486-bd40-964a40aea52b"
   },
   "outputs": [
    {
     "name": "stdout",
     "output_type": "stream",
     "text": [
      "Iteration 1, loss = 1.45916467\n",
      "Iteration 2, loss = 1.13693081\n",
      "Iteration 3, loss = 1.13836145\n",
      "Iteration 4, loss = 1.11219766\n",
      "Iteration 5, loss = 1.06055877\n",
      "Iteration 6, loss = 1.04883636\n",
      "Iteration 7, loss = 0.99802158\n",
      "Iteration 8, loss = 0.91033632\n",
      "Iteration 9, loss = 0.84434469\n",
      "Iteration 10, loss = 0.77440185\n",
      "Iteration 11, loss = 0.71345651\n",
      "Iteration 12, loss = 0.63315979\n",
      "Iteration 13, loss = 0.57833024\n",
      "Iteration 14, loss = 0.53233999\n",
      "Iteration 15, loss = 0.49504164\n",
      "Iteration 16, loss = 0.46505768\n",
      "Iteration 17, loss = 0.44622992\n",
      "Iteration 18, loss = 0.43137285\n",
      "Iteration 19, loss = 0.41942421\n",
      "Iteration 20, loss = 0.40919063\n",
      "Iteration 21, loss = 0.39986828\n",
      "Iteration 22, loss = 0.39108162\n",
      "Iteration 23, loss = 0.38257131\n",
      "Iteration 24, loss = 0.37404470\n",
      "Iteration 25, loss = 0.36539605\n",
      "Iteration 26, loss = 0.35665362\n",
      "Iteration 27, loss = 0.34780455\n",
      "Iteration 28, loss = 0.33885321\n",
      "Iteration 29, loss = 0.32988368\n",
      "Iteration 30, loss = 0.32107782\n",
      "Iteration 31, loss = 0.31265661\n",
      "Iteration 32, loss = 0.30446906\n",
      "Iteration 33, loss = 0.29653420\n",
      "Iteration 34, loss = 0.28883701\n",
      "Iteration 35, loss = 0.28135946\n",
      "Iteration 36, loss = 0.27408579\n",
      "Iteration 37, loss = 0.26700917\n",
      "Iteration 38, loss = 0.26013114\n",
      "Iteration 39, loss = 0.25346051\n",
      "Iteration 40, loss = 0.24705813\n",
      "Iteration 41, loss = 0.24088653\n",
      "Iteration 42, loss = 0.23494843\n",
      "Iteration 43, loss = 0.22925620\n",
      "Iteration 44, loss = 0.22381544\n",
      "Iteration 45, loss = 0.21869528\n",
      "Iteration 46, loss = 0.21373821\n",
      "Iteration 47, loss = 0.20911172\n",
      "Iteration 48, loss = 0.20515095\n",
      "Iteration 49, loss = 0.20352554\n",
      "Iteration 50, loss = 0.21089259\n",
      "Iteration 51, loss = 0.24408349\n",
      "Iteration 52, loss = 0.42480483\n",
      "Iteration 53, loss = 0.75502696\n",
      "Iteration 54, loss = 0.91113041\n",
      "Iteration 55, loss = 0.55072272\n",
      "Iteration 56, loss = 0.29001244\n",
      "Iteration 57, loss = 0.26631178\n",
      "Iteration 58, loss = 0.22489290\n",
      "Iteration 59, loss = 0.22561841\n",
      "Iteration 60, loss = 0.22373005\n",
      "Training loss did not improve more than tol=0.000100 for 10 consecutive epochs. Stopping.\n",
      "0.9666666666666667\n",
      "\n",
      " 0.9666666666666667\n"
     ]
    }
   ],
   "source": [
    "mlp.fit(x_train, y_train)\n",
    "print(mlp.score(x_train, y_train))\n",
    "print(\"\\n\",mlp.score(x_test, y_test))"
   ]
  },
  {
   "cell_type": "code",
   "execution_count": 31,
   "metadata": {
    "colab": {
     "base_uri": "https://localhost:8080/",
     "height": 430
    },
    "executionInfo": {
     "elapsed": 407,
     "status": "ok",
     "timestamp": 1684237947499,
     "user": {
      "displayName": "Matheus Martins",
      "userId": "16340706003885101688"
     },
     "user_tz": 180
    },
    "id": "yApqd0YxXpIp",
    "outputId": "1720247d-794c-4878-ec3d-9800b212eca4"
   },
   "outputs": [
    {
     "data": {
      "image/png": "[encoded data removed]",
      "text/plain": [
       "<Figure size 640x480 with 2 Axes>"
      ]
     },
     "metadata": {},
     "output_type": "display_data"
    }
   ],
   "source": [
    "y_pred = mlp.predict(x_test)\n",
    "\n",
    "mc = confusion_matrix(y_test, y_pred)\n",
    "\n",
    "mc_heatmap = sns.heatmap(mc, cmap=\"magma\", annot=True)"
   ]
  },
  {
   "cell_type": "code",
   "execution_count": 32,
   "metadata": {
    "colab": {
     "base_uri": "https://localhost:8080/",
     "height": 466
    },
    "executionInfo": {
     "elapsed": 654,
     "status": "ok",
     "timestamp": 1684237949613,
     "user": {
      "displayName": "Matheus Martins",
      "userId": "16340706003885101688"
     },
     "user_tz": 180
    },
    "id": "x9TkK5jXXJio",
    "outputId": "07d4039c-b6ff-4c66-895e-27e86f4c62d2"
   },
   "outputs": [
    {
     "name": "stdout",
     "output_type": "stream",
     "text": [
      "Acurácia: 0.9666666666666667\n"
     ]
    },
    {
     "data": {
      "image/png": "[encoded data removed]",
      "text/plain": [
       "<Figure size 640x480 with 1 Axes>"
      ]
     },
     "metadata": {},
     "output_type": "display_data"
    }
   ],
   "source": [
    "disp = DecisionBoundaryDisplay.from_estimator(mlp,x_train,\n",
    "                                              response_method=\"predict\",\n",
    "                                              xlabel=\"sepal length [cm]\",\n",
    "                                              ylabel=\"petal length [cm]\")\n",
    "disp.ax_.scatter(x_test[:, 0],x_test[:, 1],c=y_test,edgecolor=\"k\")\n",
    "print(\"Acurácia:\",accuracy_score(y_test,y_pred))"
   ]
  },
  {
   "cell_type": "markdown",
   "metadata": {
    "id": "OYbpcdWqX8Ry"
   },
   "source": [
    "O algoritmo com melhor desempenho foi a árvore de decisão"
   ]
  },
  {
   "cell_type": "markdown",
   "metadata": {
    "id": "XukLt6wp-igL"
   },
   "source": [
    "# Atividade 3\n",
    "\n",
    "Avalie o desempenho de diferentes arquiteturas de redes neurais no dataset Iris dataset em termos de acurácia, considerando todas as 4 features do dataset. Para o particionamento, utilize 80% para treinamento e 20% para teste.\n",
    "\n",
    "Arquiteturas:\n",
    "* Rede neural com apenas uma camada oculta com 10 neurônios;\n",
    "* Rede neural com duas camadas ocultas com 10 neurônios cada;\n",
    "* Rede neural com apenas uma camada oculta com 20 neurônios.\n",
    "\n",
    "** Responda, considerando todos os experimentos realizados: aumentar o número de neurônios da camada oculta, ou aumentar o número de camadas ocultas teve algum impacto positivo nos resultados, com relação ao modelo que tem apenas uma camada com 10 neurônios?**"
   ]
  },
  {
   "cell_type": "markdown",
   "metadata": {
    "id": "rFk-4zMdYOj9"
   },
   "source": [
    "### Rede neural, 1 camada oculta, 10 neurônios"
   ]
  },
  {
   "cell_type": "code",
   "execution_count": 33,
   "metadata": {
    "executionInfo": {
     "elapsed": 265,
     "status": "ok",
     "timestamp": 1684237988872,
     "user": {
      "displayName": "Matheus Martins",
      "userId": "16340706003885101688"
     },
     "user_tz": 180
    },
    "id": "xYehLedcYTr5"
   },
   "outputs": [],
   "source": [
    "x = iris.data[:, :]\n",
    "y = iris.target"
   ]
  },
  {
   "cell_type": "code",
   "execution_count": 34,
   "metadata": {
    "executionInfo": {
     "elapsed": 2,
     "status": "ok",
     "timestamp": 1684237990442,
     "user": {
      "displayName": "Matheus Martins",
      "userId": "16340706003885101688"
     },
     "user_tz": 180
    },
    "id": "NNbbPhJvYekS"
   },
   "outputs": [],
   "source": [
    "x_train, x_test, y_train, y_test, = train_test_split(x, y, test_size=.2,\n",
    "                                                     random_state=42)"
   ]
  },
  {
   "cell_type": "code",
   "execution_count": 35,
   "metadata": {
    "executionInfo": {
     "elapsed": 2,
     "status": "ok",
     "timestamp": 1684237992247,
     "user": {
      "displayName": "Matheus Martins",
      "userId": "16340706003885101688"
     },
     "user_tz": 180
    },
    "id": "NWEI1Ly7YjZy"
   },
   "outputs": [],
   "source": [
    "mlp_1 = MLPClassifier(hidden_layer_sizes=(10,), max_iter=100, alpha=1e-4,\n",
    "                      solver=\"sgd\", verbose=10, tol=1e-4, random_state=1,\n",
    "                      learning_rate_init=.1)"
   ]
  },
  {
   "cell_type": "code",
   "execution_count": 36,
   "metadata": {
    "colab": {
     "base_uri": "https://localhost:8080/"
    },
    "executionInfo": {
     "elapsed": 4,
     "status": "ok",
     "timestamp": 1684238009499,
     "user": {
      "displayName": "Matheus Martins",
      "userId": "16340706003885101688"
     },
     "user_tz": 180
    },
    "id": "F6qex3AgYr-q",
    "outputId": "bb0c9eb0-c9cd-4e01-d76e-76aadaf3fad7"
   },
   "outputs": [
    {
     "name": "stdout",
     "output_type": "stream",
     "text": [
      "Iteration 1, loss = 1.47437059\n",
      "Iteration 2, loss = 1.44671221\n",
      "Iteration 3, loss = 1.05824875\n",
      "Iteration 4, loss = 0.80204763\n",
      "Iteration 5, loss = 0.77594962\n",
      "Iteration 6, loss = 0.71642070\n",
      "Iteration 7, loss = 0.65046979\n",
      "Iteration 8, loss = 0.58901308\n",
      "Iteration 9, loss = 0.52905047\n",
      "Iteration 10, loss = 0.48095525\n",
      "Iteration 11, loss = 0.44222327\n",
      "Iteration 12, loss = 0.40740620\n",
      "Iteration 13, loss = 0.37548837\n",
      "Iteration 14, loss = 0.34392350\n",
      "Iteration 15, loss = 0.31882137\n",
      "Iteration 16, loss = 0.36227221\n",
      "Iteration 17, loss = 1.20187362\n",
      "Iteration 18, loss = 2.56296164\n",
      "Iteration 19, loss = 0.45788206\n",
      "Iteration 20, loss = 0.54986837\n",
      "Iteration 21, loss = 0.46916431\n",
      "Iteration 22, loss = 0.40209536\n",
      "Iteration 23, loss = 0.40253858\n",
      "Iteration 24, loss = 0.39015153\n",
      "Iteration 25, loss = 0.38295233\n",
      "Iteration 26, loss = 0.37442820\n",
      "Training loss did not improve more than tol=0.000100 for 10 consecutive epochs. Stopping.\n",
      "0.8916666666666667\n",
      "\n",
      " 0.8\n"
     ]
    }
   ],
   "source": [
    "mlp_1.fit(x_train, y_train)\n",
    "print(mlp_1.score(x_train, y_train))\n",
    "print(\"\\n\",mlp_1.score(x_test, y_test))"
   ]
  },
  {
   "cell_type": "code",
   "execution_count": 37,
   "metadata": {
    "colab": {
     "base_uri": "https://localhost:8080/",
     "height": 430
    },
    "executionInfo": {
     "elapsed": 309,
     "status": "ok",
     "timestamp": 1684238015077,
     "user": {
      "displayName": "Matheus Martins",
      "userId": "16340706003885101688"
     },
     "user_tz": 180
    },
    "id": "HyoK3y33YyRc",
    "outputId": "436e785d-90d9-4e46-dc6a-e6b5afe62ca5"
   },
   "outputs": [
    {
     "data": {
      "image/png": "[encoded data removed]",
      "text/plain": [
       "<Figure size 640x480 with 2 Axes>"
      ]
     },
     "metadata": {},
     "output_type": "display_data"
    }
   ],
   "source": [
    "y_pred = mlp_1.predict(x_test)\n",
    "\n",
    "mc = confusion_matrix(y_test, y_pred)\n",
    "\n",
    "mc_heatmap = sns.heatmap(mc, cmap=\"magma\", annot=True)"
   ]
  },
  {
   "cell_type": "markdown",
   "metadata": {
    "id": "rJfDfxcVY_1W"
   },
   "source": [
    "### Rede neural, 2 camadas ocultas, 10 neurônios cada"
   ]
  },
  {
   "cell_type": "code",
   "execution_count": 38,
   "metadata": {
    "executionInfo": {
     "elapsed": 3,
     "status": "ok",
     "timestamp": 1684238023951,
     "user": {
      "displayName": "Matheus Martins",
      "userId": "16340706003885101688"
     },
     "user_tz": 180
    },
    "id": "eoTaOSG_Y5T4"
   },
   "outputs": [],
   "source": [
    "mlp_2 = MLPClassifier(hidden_layer_sizes=(10,10), max_iter=100, alpha=1e-4,\n",
    "                      solver=\"sgd\", verbose=10, tol=1e-4, random_state=1,\n",
    "                      learning_rate_init=.1)"
   ]
  },
  {
   "cell_type": "code",
   "execution_count": 39,
   "metadata": {
    "colab": {
     "base_uri": "https://localhost:8080/"
    },
    "executionInfo": {
     "elapsed": 4,
     "status": "ok",
     "timestamp": 1684238025938,
     "user": {
      "displayName": "Matheus Martins",
      "userId": "16340706003885101688"
     },
     "user_tz": 180
    },
    "id": "vnvg1JX0ZU-E",
    "outputId": "51226743-9913-4780-b433-6bdb129b7526"
   },
   "outputs": [
    {
     "name": "stdout",
     "output_type": "stream",
     "text": [
      "Iteration 1, loss = 1.95335142\n",
      "Iteration 2, loss = 1.41336413\n",
      "Iteration 3, loss = 1.23088173\n",
      "Iteration 4, loss = 1.14292374\n",
      "Iteration 5, loss = 1.11152312\n",
      "Iteration 6, loss = 1.06763600\n",
      "Iteration 7, loss = 1.05748863\n",
      "Iteration 8, loss = 1.24668477\n",
      "Iteration 9, loss = 1.39667474\n",
      "Iteration 10, loss = 1.07716029\n",
      "Iteration 11, loss = 1.00849722\n",
      "Iteration 12, loss = 0.99943638\n",
      "Iteration 13, loss = 0.98620828\n",
      "Iteration 14, loss = 0.93818813\n",
      "Iteration 15, loss = 0.89091099\n",
      "Iteration 16, loss = 0.82657130\n",
      "Iteration 17, loss = 0.75227269\n",
      "Iteration 18, loss = 0.68319817\n",
      "Iteration 19, loss = 0.64345858\n",
      "Iteration 20, loss = 0.61785273\n",
      "Iteration 21, loss = 0.58401773\n",
      "Iteration 22, loss = 0.55040155\n",
      "Iteration 23, loss = 0.52225233\n",
      "Iteration 24, loss = 0.49775249\n",
      "Iteration 25, loss = 0.47646435\n",
      "Iteration 26, loss = 0.45845748\n",
      "Iteration 27, loss = 0.44279614\n",
      "Iteration 28, loss = 0.42808027\n",
      "Iteration 29, loss = 0.41394144\n",
      "Iteration 30, loss = 0.40032263\n",
      "Iteration 31, loss = 0.38757459\n",
      "Iteration 32, loss = 0.37595569\n",
      "Iteration 33, loss = 0.36505081\n",
      "Iteration 34, loss = 0.35439678\n",
      "Iteration 35, loss = 0.34386433\n",
      "Iteration 36, loss = 0.33385031\n",
      "Iteration 37, loss = 0.32514365\n",
      "Iteration 38, loss = 0.32051155\n",
      "Iteration 39, loss = 0.33162160\n",
      "Iteration 40, loss = 0.41106563\n",
      "Iteration 41, loss = 0.66615836\n",
      "Iteration 42, loss = 1.39939889\n",
      "Iteration 43, loss = 4.03823714\n",
      "Iteration 44, loss = 2.43943914\n",
      "Iteration 45, loss = 2.30939150\n",
      "Iteration 46, loss = 2.30772179\n",
      "Iteration 47, loss = 1.82180593\n",
      "Iteration 48, loss = 1.58988447\n",
      "Iteration 49, loss = 1.50139187\n",
      "Training loss did not improve more than tol=0.000100 for 10 consecutive epochs. Stopping.\n",
      "0.3333333333333333\n",
      "\n",
      " 0.3333333333333333\n"
     ]
    }
   ],
   "source": [
    "mlp_2.fit(x_train, y_train)\n",
    "print(mlp_2.score(x_train, y_train))\n",
    "print(\"\\n\",mlp_2.score(x_test, y_test))"
   ]
  },
  {
   "cell_type": "code",
   "execution_count": 40,
   "metadata": {
    "colab": {
     "base_uri": "https://localhost:8080/",
     "height": 430
    },
    "executionInfo": {
     "elapsed": 1351,
     "status": "ok",
     "timestamp": 1684238047100,
     "user": {
      "displayName": "Matheus Martins",
      "userId": "16340706003885101688"
     },
     "user_tz": 180
    },
    "id": "iJtBpewfZmSB",
    "outputId": "63b0b432-4124-4ff9-c6b0-9e6caf7b0cda"
   },
   "outputs": [
    {
     "data": {
      "image/png": "[encoded data removed]",
      "text/plain": [
       "<Figure size 640x480 with 2 Axes>"
      ]
     },
     "metadata": {},
     "output_type": "display_data"
    }
   ],
   "source": [
    "y_pred = mlp_2.predict(x_test)\n",
    "\n",
    "mc = confusion_matrix(y_test, y_pred)\n",
    "\n",
    "mc_heatmap = sns.heatmap(mc, cmap=\"magma\", annot=True)"
   ]
  },
  {
   "cell_type": "markdown",
   "metadata": {
    "id": "o40wu73paplp"
   },
   "source": [
    "### Rede neural, 1 camada oculta, 20 neurônios"
   ]
  },
  {
   "cell_type": "code",
   "execution_count": 41,
   "metadata": {
    "executionInfo": {
     "elapsed": 270,
     "status": "ok",
     "timestamp": 1684238193498,
     "user": {
      "displayName": "Matheus Martins",
      "userId": "16340706003885101688"
     },
     "user_tz": 180
    },
    "id": "FRMaAKq8Zu48"
   },
   "outputs": [],
   "source": [
    "mlp_3 = MLPClassifier(hidden_layer_sizes=(20,), max_iter=100, alpha=1e-4,\n",
    "                      solver=\"sgd\", verbose=10, tol=1e-4, random_state=1,\n",
    "                      learning_rate_init=.1)"
   ]
  },
  {
   "cell_type": "code",
   "execution_count": 42,
   "metadata": {
    "colab": {
     "base_uri": "https://localhost:8080/"
    },
    "executionInfo": {
     "elapsed": 6,
     "status": "ok",
     "timestamp": 1684238219228,
     "user": {
      "displayName": "Matheus Martins",
      "userId": "16340706003885101688"
     },
     "user_tz": 180
    },
    "id": "7hYglAqRa01V",
    "outputId": "c26c08ae-caf6-46d9-814b-d17da310ea3c"
   },
   "outputs": [
    {
     "name": "stdout",
     "output_type": "stream",
     "text": [
      "Iteration 1, loss = 1.32363234\n",
      "Iteration 2, loss = 1.74523926\n",
      "Iteration 3, loss = 2.24188643\n",
      "Iteration 4, loss = 0.83299043\n",
      "Iteration 5, loss = 0.70339755\n",
      "Iteration 6, loss = 0.67968257\n",
      "Iteration 7, loss = 0.58183360\n",
      "Iteration 8, loss = 0.52645794\n",
      "Iteration 9, loss = 0.48665809\n",
      "Iteration 10, loss = 0.42036933\n",
      "Iteration 11, loss = 0.38770423\n",
      "Iteration 12, loss = 0.35582427\n",
      "Iteration 13, loss = 0.33611091\n",
      "Iteration 14, loss = 0.41047744\n",
      "Iteration 15, loss = 1.16243011\n",
      "Iteration 16, loss = 1.64160931\n",
      "Iteration 17, loss = 0.35326009\n",
      "Iteration 18, loss = 0.42275766\n",
      "Iteration 19, loss = 0.37546974\n",
      "Iteration 20, loss = 0.34383513\n",
      "Iteration 21, loss = 0.30142052\n",
      "Iteration 22, loss = 0.26267467\n",
      "Iteration 23, loss = 0.23849488\n",
      "Iteration 24, loss = 0.25076530\n",
      "Iteration 25, loss = 0.49690075\n",
      "Iteration 26, loss = 1.50376821\n",
      "Iteration 27, loss = 0.39472705\n",
      "Iteration 28, loss = 0.47396716\n",
      "Iteration 29, loss = 0.42077587\n",
      "Iteration 30, loss = 0.39285690\n",
      "Iteration 31, loss = 0.38114855\n",
      "Iteration 32, loss = 0.37750075\n",
      "Iteration 33, loss = 0.37125646\n",
      "Iteration 34, loss = 0.36291759\n",
      "Training loss did not improve more than tol=0.000100 for 10 consecutive epochs. Stopping.\n",
      "0.925\n",
      "\n",
      " 0.8666666666666667\n"
     ]
    }
   ],
   "source": [
    "mlp_3.fit(x_train, y_train)\n",
    "print(mlp_3.score(x_train, y_train))\n",
    "print(\"\\n\",mlp_3.score(x_test, y_test))"
   ]
  },
  {
   "cell_type": "code",
   "execution_count": 43,
   "metadata": {
    "colab": {
     "base_uri": "https://localhost:8080/",
     "height": 430
    },
    "executionInfo": {
     "elapsed": 823,
     "status": "ok",
     "timestamp": 1684238241824,
     "user": {
      "displayName": "Matheus Martins",
      "userId": "16340706003885101688"
     },
     "user_tz": 180
    },
    "id": "zx3q1xHwa7Ey",
    "outputId": "09ced29b-a729-413c-b0e5-b8d7d27f5f80"
   },
   "outputs": [
    {
     "data": {
      "image/png": "[encoded data removed]",
      "text/plain": [
       "<Figure size 640x480 with 2 Axes>"
      ]
     },
     "metadata": {},
     "output_type": "display_data"
    }
   ],
   "source": [
    "y_pred = mlp_3.predict(x_test)\n",
    "\n",
    "mc = confusion_matrix(y_test, y_pred)\n",
    "\n",
    "mc_heatmap = sns.heatmap(mc, cmap=\"magma\", annot=True)"
   ]
  },
  {
   "cell_type": "markdown",
   "metadata": {
    "id": "2sn3ZgLBbMBA"
   },
   "source": [
    "Aumentar o número de neurônios na camada oculta melhorou o desempenho, mas de forma quase desconsiderável. Enquanto isso, aumentar o número de camadas ocultas piorou severamente o desempenho."
   ]
  }
 ],
 "metadata": {
  "colab": {
   "provenance": []
  },
  "kernelspec": {
   "display_name": "Python 3 (ipykernel)",
   "language": "python",
   "name": "python3"
  },
  "language_info": {
   "codemirror_mode": {
    "name": "ipython",
    "version": 3
   },
   "file_extension": ".py",
   "mimetype": "text/x-python",
   "name": "python",
   "nbconvert_exporter": "python",
   "pygments_lexer": "ipython3",
   "version": "3.9.16"
  }
 },
 "nbformat": 4,
 "nbformat_minor": 1
}
