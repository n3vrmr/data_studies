{
 "cells": [
  {
   "cell_type": "markdown",
   "id": "d6528be1",
   "metadata": {},
   "source": [
    "# Aula sobre ML..."
   ]
  },
  {
   "cell_type": "markdown",
   "id": "35d527ce",
   "metadata": {},
   "source": [
    "#### Cross Validation"
   ]
  },
  {
   "cell_type": "markdown",
   "id": "afe3f499",
   "metadata": {},
   "source": [
    "Consiste em separar o conjunto de dados de treinamento em vários subconjuntos, e cada modelo é treinado com uma combinação diferente destes subconjuntos e validado contra o restante. Uma vez que o modelo e os hiperparâmetros foram selecionados, o modelo final é treinado usando esses hiperparâmetros no conjunto de treinamento completo, o erro generalizado é medido com o conjunto de teste."
   ]
  },
  {
   "cell_type": "markdown",
   "id": "5934ec05",
   "metadata": {},
   "source": [
    "#### K-Fold Cross Validation"
   ]
  },
  {
   "cell_type": "markdown",
   "id": "04ba9855",
   "metadata": {},
   "source": [
    "O conjunto de treinamento é particionado aleatoriamente entre subconjuntos distintos chamados _folds_, e o modelo é treinado K vezes, escolhendo um _fold_ diferente para cada validação, e treinando com os outros K-1 _folds_."
   ]
  },
  {
   "cell_type": "markdown",
   "id": "6f7da3ae",
   "metadata": {},
   "source": [
    "#### Leave-One-Out Cross Validation"
   ]
  },
  {
   "cell_type": "markdown",
   "id": "198e6a0b",
   "metadata": {},
   "source": [
    "É uma configuração extrema de K-Fold Cross Validation, onde K é igual ao número de exemplos do conjunto de dados."
   ]
  },
  {
   "cell_type": "markdown",
   "id": "c3207084",
   "metadata": {},
   "source": [
    "#### Stratified Cross Validation"
   ]
  },
  {
   "cell_type": "markdown",
   "id": "d2ba8871",
   "metadata": {},
   "source": [
    "Ao dividir o conjunto de dados entre os conjuntos de treinamento e de teste, é feita uma amostragem estratificada para que os conjuntos de dados sejam representativos da população total baseada em alguma característica, para garantir que as proporções da população sejam mantidas."
   ]
  },
  {
   "cell_type": "markdown",
   "id": "db96bd00",
   "metadata": {},
   "source": [
    "### Distância entre dois pontos"
   ]
  },
  {
   "cell_type": "markdown",
   "id": "2050c4d2",
   "metadata": {},
   "source": [
    "$$ d(a,b) = \\sqrt{(x_1-x_0)^2 + (y_1-y_0)^2}  $$"
   ]
  },
  {
   "cell_type": "markdown",
   "id": "ca745978",
   "metadata": {},
   "source": [
    "### Distância n-Euclidiana"
   ]
  },
  {
   "cell_type": "markdown",
   "id": "fc3923a1",
   "metadata": {},
   "source": [
    "$$ d(x,y) = \\sqrt{\\Sigma_{i=1}^n(y_i - x_i)^2}  $$"
   ]
  },
  {
   "cell_type": "markdown",
   "id": "c50f4482",
   "metadata": {},
   "source": [
    "$$ d(x,y) = \\sqrt[p]{(\\Sigma_{i=1}^n(y_i - x_i)^p)} $$"
   ]
  },
  {
   "cell_type": "markdown",
   "id": "a22b43d3",
   "metadata": {},
   "source": [
    "#### Similaridade"
   ]
  },
  {
   "cell_type": "markdown",
   "id": "47639c3c",
   "metadata": {},
   "source": [
    "Aprendizado por similaridade é uma área de aprendizado supervisionado. O objetivo é aprender uma função de similaridade que mede a similaridade entre dois objetos."
   ]
  },
  {
   "cell_type": "markdown",
   "id": "5ed32cd4",
   "metadata": {},
   "source": [
    "Funções de similaridade são o inverso de funções de distância. Elas retornam um valor grande para objetos próximos, e um valor pequeno para objetos distantes."
   ]
  },
  {
   "cell_type": "markdown",
   "id": "a1f2ce03",
   "metadata": {},
   "source": [
    "#### Noções de distância\n",
    "\n",
    "- Distância Euclidiana;\n",
    "- Distância Geodésica;\n",
    "- Distância de Manhattan;\n",
    "- Distância de Chebyshev"
   ]
  },
  {
   "cell_type": "markdown",
   "id": "3a731d29",
   "metadata": {},
   "source": [
    "#### Distância Euclidiana"
   ]
  },
  {
   "cell_type": "markdown",
   "id": "ca7052a1",
   "metadata": {},
   "source": [
    "A menor distância entre dois pontos é uma linha reta."
   ]
  },
  {
   "cell_type": "markdown",
   "id": "ff13f4e9",
   "metadata": {},
   "source": [
    "#### Distância de Manhattan"
   ]
  },
  {
   "cell_type": "markdown",
   "id": "3c649dc5",
   "metadata": {},
   "source": [
    "A menor distância entre dois pontos é a soma das diferneças absolutas de suas coordenadas cartesianas."
   ]
  },
  {
   "cell_type": "markdown",
   "id": "d98d7157",
   "metadata": {},
   "source": [
    "#### Distância de Chebyshev"
   ]
  },
  {
   "cell_type": "markdown",
   "id": "17f3ec7e",
   "metadata": {},
   "source": [
    "Número mínimo de movimentos que o rei precisa fazer em um tabuleiro de xadrez para ir de uma casa à outra."
   ]
  },
  {
   "cell_type": "markdown",
   "id": "b2a95132",
   "metadata": {},
   "source": [
    "#### Distância de Hamming"
   ]
  },
  {
   "cell_type": "markdown",
   "id": "d6965a8a",
   "metadata": {},
   "source": [
    "A distância entre dois _strings_ Unicode de mesmo tamanho é o número de posições em que o caractere correspondente é diferente, ou o número mínimo de substituições necessárias para tornar uma _string_ igual à outra."
   ]
  },
  {
   "cell_type": "markdown",
   "id": "e088f0a6",
   "metadata": {},
   "source": [
    "#### Distância de Levenshtein"
   ]
  },
  {
   "cell_type": "markdown",
   "id": "2b4d0278",
   "metadata": {},
   "source": [
    "Mede a diferença entre duas sequências de _strings_."
   ]
  },
  {
   "cell_type": "markdown",
   "id": "cc009927",
   "metadata": {},
   "source": [
    "#### Distância de Mahalanobis"
   ]
  },
  {
   "cell_type": "markdown",
   "id": "31a7ad67",
   "metadata": {},
   "source": [
    "Distância entre um ponto _P_ e uma distribuição _D_. É uma generalização multi-dimensional da ideia de medir a quantos desvios padrões _P_ se encontra da média de _D_."
   ]
  },
  {
   "cell_type": "markdown",
   "id": "e7cf6e7e",
   "metadata": {},
   "source": [
    "$$ B_\\nu (\\nu,T) = \\frac{2h\\nu^3}{c^2}\\frac{1}{exp(\\frac{h\\nu}{k_B T})-1}$$"
   ]
  },
  {
   "cell_type": "markdown",
   "id": "b4948b5e",
   "metadata": {},
   "source": [
    "$$ B_\\lambda(\\lambda,T) = \\frac{2hc^2}{\\lambda^5}\\frac{1}{exp(\\frac{hc}{\\lambda k_B T})-1} $$"
   ]
  },
  {
   "cell_type": "markdown",
   "id": "e2c77737",
   "metadata": {},
   "source": [
    "$$ B_\\tilde{\\nu}(\\tilde{\\nu},T) = 2hc^2\\tilde{\\nu}^3\\frac{1}{exp(\\frac{hc\\tilde{\\nu}}{k_B T})-1}$$"
   ]
  },
  {
   "cell_type": "markdown",
   "id": "6bd9d6f2",
   "metadata": {},
   "source": [
    "$$ \\sigma_x\\sigma_p \\geq \\frac{\\hbar}{2} $$"
   ]
  },
  {
   "cell_type": "markdown",
   "id": "4fbbc125",
   "metadata": {},
   "source": [
    "$$ i\\hbar\\frac{\\partial}{\\partial t}\\Psi(x,t) = [\\frac{-\\hbar^2}{2m}\\frac{\\partial^2}{\\partial^2 x} + V(x,t)]\\Psi(x,t) $$"
   ]
  },
  {
   "cell_type": "markdown",
   "id": "9202c960",
   "metadata": {},
   "source": [
    "$$ -\\frac{\\hbar^2}{2m}\\frac{d^2\\psi}{d^2 x} = E\\psi $$"
   ]
  },
  {
   "cell_type": "code",
   "execution_count": null,
   "id": "f3fa5d93",
   "metadata": {},
   "outputs": [],
   "source": []
  }
 ],
 "metadata": {
  "kernelspec": {
   "display_name": "Python 3 (ipykernel)",
   "language": "python",
   "name": "python3"
  },
  "language_info": {
   "codemirror_mode": {
    "name": "ipython",
    "version": 3
   },
   "file_extension": ".py",
   "mimetype": "text/x-python",
   "name": "python",
   "nbconvert_exporter": "python",
   "pygments_lexer": "ipython3",
   "version": "3.9.13"
  }
 },
 "nbformat": 4,
 "nbformat_minor": 5
}
