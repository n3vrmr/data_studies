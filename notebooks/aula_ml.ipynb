{
 "cells": [
  {
   "cell_type": "markdown",
   "id": "d6528be1",
   "metadata": {},
   "source": [
    "# Aula sobre ML..."
   ]
  },
  {
   "cell_type": "markdown",
   "id": "35d527ce",
   "metadata": {},
   "source": [
    "#### Cross Validation"
   ]
  },
  {
   "cell_type": "markdown",
   "id": "afe3f499",
   "metadata": {},
   "source": [
    "Consiste em separar o conjunto de dados de treinamento em vários subconjuntos, e cada modelo é treinado com uma combinação diferente destes subconjuntos e validado contra o restante. Uma vez que o modelo e os hiperparâmetros foram selecionados, o modelo final é treinado usando esses hiperparâmetros no conjunto de treinamento completo, o erro generalizado é medido com o conjunto de teste."
   ]
  },
  {
   "cell_type": "markdown",
   "id": "5934ec05",
   "metadata": {},
   "source": [
    "#### K-Fold Cross Validation"
   ]
  },
  {
   "cell_type": "markdown",
   "id": "04ba9855",
   "metadata": {},
   "source": [
    "O conjunto de treinamento é particionado aleatoriamente entre subconjuntos distintos chamados _folds_, e o modelo é treinado K vezes, escolhendo um _fold_ diferente para cada validação, e treinando com os outros K-1 _folds_."
   ]
  },
  {
   "cell_type": "markdown",
   "id": "6f7da3ae",
   "metadata": {},
   "source": [
    "#### Leave-One-Out Cross Validation"
   ]
  },
  {
   "cell_type": "markdown",
   "id": "198e6a0b",
   "metadata": {},
   "source": [
    "É uma configuração extrema de K-Fold Cross Validation, onde K é igual ao número de exemplos do conjunto de dados."
   ]
  },
  {
   "cell_type": "markdown",
   "id": "c3207084",
   "metadata": {},
   "source": [
    "#### Stratified Cross Validation"
   ]
  },
  {
   "cell_type": "markdown",
   "id": "d2ba8871",
   "metadata": {},
   "source": [
    "Ao dividir o conjunto de dados entre os conjuntos de treinamento e de teste, é feita uma amostragem estratificada para que os conjuntos de dados sejam representativos da população total baseada em alguma característica, para garantir que as proporções da população sejam mantidas."
   ]
  },
  {
   "cell_type": "markdown",
   "id": "db96bd00",
   "metadata": {},
   "source": [
    "### Distância entre dois pontos"
   ]
  },
  {
   "cell_type": "markdown",
   "id": "2050c4d2",
   "metadata": {},
   "source": [
    "$$ d(a,b) = \\sqrt{(x_1-x_0)^2 + (y_1-y_0)^2}  $$"
   ]
  },
  {
   "cell_type": "markdown",
   "id": "ca745978",
   "metadata": {},
   "source": [
    "### Distância n-Euclidiana"
   ]
  },
  {
   "cell_type": "markdown",
   "id": "fc3923a1",
   "metadata": {},
   "source": [
    "$$ d(x,y) = \\sqrt{\\Sigma_{i=1}^n(y_i - x_i)^2}  $$"
   ]
  },
  {
   "cell_type": "code",
   "execution_count": null,
   "id": "3c0dbe10",
   "metadata": {},
   "outputs": [],
   "source": []
  }
 ],
 "metadata": {
  "kernelspec": {
   "display_name": "Python 3 (ipykernel)",
   "language": "python",
   "name": "python3"
  },
  "language_info": {
   "codemirror_mode": {
    "name": "ipython",
    "version": 3
   },
   "file_extension": ".py",
   "mimetype": "text/x-python",
   "name": "python",
   "nbconvert_exporter": "python",
   "pygments_lexer": "ipython3",
   "version": "3.9.13"
  }
 },
 "nbformat": 4,
 "nbformat_minor": 5
}
