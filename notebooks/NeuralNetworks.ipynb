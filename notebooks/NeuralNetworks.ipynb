{
 "cells": [
  {
   "cell_type": "markdown",
   "metadata": {
    "id": "UHIv5SuAhOPA"
   },
   "source": [
    "# Neural networks"
   ]
  },
  {
   "cell_type": "code",
   "execution_count": 1,
   "metadata": {
    "executionInfo": {
     "elapsed": 1931,
     "status": "ok",
     "timestamp": 1683807242255,
     "user": {
      "displayName": "Matheus Martins",
      "userId": "16340706003885101688"
     },
     "user_tz": 180
    },
    "id": "PBGX_6IlimXC"
   },
   "outputs": [],
   "source": [
    "import matplotlib.pyplot as plt\n",
    "from sklearn.datasets import fetch_openml\n",
    "from sklearn.neural_network import MLPClassifier\n",
    "import numpy as np"
   ]
  },
  {
   "cell_type": "code",
   "execution_count": 2,
   "metadata": {
    "colab": {
     "base_uri": "https://localhost:8080/"
    },
    "executionInfo": {
     "elapsed": 13381,
     "status": "ok",
     "timestamp": 1683807766062,
     "user": {
      "displayName": "Matheus Martins",
      "userId": "16340706003885101688"
     },
     "user_tz": 180
    },
    "id": "JHNSdN1pu01d",
    "outputId": "27b46ae0-62e5-4e3d-cc3c-20c144470720"
   },
   "outputs": [
    {
     "data": {
      "text/plain": [
       "((70000, 784), (70000,), 0, 255)"
      ]
     },
     "execution_count": 2,
     "metadata": {},
     "output_type": "execute_result"
    }
   ],
   "source": [
    "orig_X, y = fetch_openml(\"mnist_784\", version=1, return_X_y=True,\n",
    "                         as_frame=False, parser=\"pandas\")\n",
    "orig_X.shape, y.shape, np.min(orig_X), np.max(orig_X)"
   ]
  },
  {
   "cell_type": "code",
   "execution_count": 3,
   "metadata": {
    "colab": {
     "base_uri": "https://localhost:8080/",
     "height": 465
    },
    "executionInfo": {
     "elapsed": 721,
     "status": "ok",
     "timestamp": 1683807830383,
     "user": {
      "displayName": "Matheus Martins",
      "userId": "16340706003885101688"
     },
     "user_tz": 180
    },
    "id": "GHZEqcRKw032",
    "outputId": "b19bf7dc-2f78-4613-c58c-be44cf829633"
   },
   "outputs": [
    {
     "name": "stdout",
     "output_type": "stream",
     "text": [
      "5\n"
     ]
    },
    {
     "data": {
      "text/plain": [
       "<matplotlib.image.AxesImage at 0x273fe7c3490>"
      ]
     },
     "execution_count": 3,
     "metadata": {},
     "output_type": "execute_result"
    },
    {
     "data": {
      "image/png": "[encoded data removed]",
      "text/plain": [
       "<Figure size 640x480 with 1 Axes>"
      ]
     },
     "metadata": {},
     "output_type": "display_data"
    }
   ],
   "source": [
    "print(y[0])\n",
    "plt.imshow(orig_X[0].reshape((28,28)), cmap=\"gray\", vmin=0, vmax=255)"
   ]
  },
  {
   "cell_type": "code",
   "execution_count": 4,
   "metadata": {
    "colab": {
     "base_uri": "https://localhost:8080/"
    },
    "executionInfo": {
     "elapsed": 701,
     "status": "ok",
     "timestamp": 1683808000730,
     "user": {
      "displayName": "Matheus Martins",
      "userId": "16340706003885101688"
     },
     "user_tz": 180
    },
    "id": "tlkXhwEcxHit",
    "outputId": "845b26d8-6f2f-45d7-b619-4487c395c6cd"
   },
   "outputs": [
    {
     "data": {
      "text/plain": [
       "1.0"
      ]
     },
     "execution_count": 4,
     "metadata": {},
     "output_type": "execute_result"
    }
   ],
   "source": [
    "X = orig_X / 255\n",
    "\n",
    "np.max(X)"
   ]
  },
  {
   "cell_type": "code",
   "execution_count": 5,
   "metadata": {
    "colab": {
     "base_uri": "https://localhost:8080/",
     "height": 465
    },
    "executionInfo": {
     "elapsed": 863,
     "status": "ok",
     "timestamp": 1683808154763,
     "user": {
      "displayName": "Matheus Martins",
      "userId": "16340706003885101688"
     },
     "user_tz": 180
    },
    "id": "aDQoK9bIxxRe",
    "outputId": "6c7f0400-c0e1-4288-f02d-ff7d029bbf40"
   },
   "outputs": [
    {
     "name": "stdout",
     "output_type": "stream",
     "text": [
      "5\n"
     ]
    },
    {
     "data": {
      "text/plain": [
       "<matplotlib.image.AxesImage at 0x27394cb3cd0>"
      ]
     },
     "execution_count": 5,
     "metadata": {},
     "output_type": "execute_result"
    },
    {
     "data": {
      "image/png": "[encoded data removed]",
      "text/plain": [
       "<Figure size 640x480 with 1 Axes>"
      ]
     },
     "metadata": {},
     "output_type": "display_data"
    }
   ],
   "source": [
    "print(y[0])\n",
    "plt.imshow(orig_X[0].reshape((28,28)), cmap=\"gray\", vmin=0.0, vmax=1.0)"
   ]
  },
  {
   "cell_type": "code",
   "execution_count": 6,
   "metadata": {
    "executionInfo": {
     "elapsed": 262,
     "status": "ok",
     "timestamp": 1683808230696,
     "user": {
      "displayName": "Matheus Martins",
      "userId": "16340706003885101688"
     },
     "user_tz": 180
    },
    "id": "aziTLzqpyACc"
   },
   "outputs": [],
   "source": [
    "X_train, X_test = X[:60000], X[60000:]\n",
    "y_train, y_test = y[:60000], y[60000:]"
   ]
  },
  {
   "cell_type": "code",
   "execution_count": 9,
   "metadata": {
    "executionInfo": {
     "elapsed": 248,
     "status": "ok",
     "timestamp": 1683808850837,
     "user": {
      "displayName": "Matheus Martins",
      "userId": "16340706003885101688"
     },
     "user_tz": 180
    },
    "id": "hBt9QdH2ypjv"
   },
   "outputs": [],
   "source": [
    "mlp = MLPClassifier(hidden_layer_sizes=(50,), max_iter=10, alpha=1e-4,\n",
    "                    solver=\"sgd\", verbose=10, tol=1e-4, random_state=1,\n",
    "                    learning_rate_init=.1)"
   ]
  },
  {
   "cell_type": "code",
   "execution_count": 10,
   "metadata": {
    "colab": {
     "base_uri": "https://localhost:8080/"
    },
    "executionInfo": {
     "elapsed": 21967,
     "status": "ok",
     "timestamp": 1683808874938,
     "user": {
      "displayName": "Matheus Martins",
      "userId": "16340706003885101688"
     },
     "user_tz": 180
    },
    "id": "Mb1LeLWYzwYy",
    "outputId": "9cf382fa-089c-40f7-ef73-c8641950c666"
   },
   "outputs": [
    {
     "name": "stdout",
     "output_type": "stream",
     "text": [
      "Iteration 1, loss = 0.32009978\n",
      "Iteration 2, loss = 0.15347534\n",
      "Iteration 3, loss = 0.11544755\n",
      "Iteration 4, loss = 0.09279764\n",
      "Iteration 5, loss = 0.07889367\n",
      "Iteration 6, loss = 0.07170497\n",
      "Iteration 7, loss = 0.06282111\n",
      "Iteration 8, loss = 0.05530788\n",
      "Iteration 9, loss = 0.04960484\n",
      "Iteration 10, loss = 0.04645355\n",
      "0.9868\n",
      "\n",
      " 0.97\n"
     ]
    },
    {
     "name": "stderr",
     "output_type": "stream",
     "text": [
      "C:\\Users\\mapma\\anaconda3\\lib\\site-packages\\sklearn\\neural_network\\_multilayer_perceptron.py:686: ConvergenceWarning: Stochastic Optimizer: Maximum iterations (10) reached and the optimization hasn't converged yet.\n",
      "  warnings.warn(\n"
     ]
    }
   ],
   "source": [
    "mlp.fit(X_train, y_train)\n",
    "print(mlp.score(X_train, y_train))\n",
    "print(\"\\n\",mlp.score(X_test, y_test))"
   ]
  },
  {
   "cell_type": "code",
   "execution_count": 11,
   "metadata": {
    "colab": {
     "base_uri": "https://localhost:8080/"
    },
    "executionInfo": {
     "elapsed": 379,
     "status": "ok",
     "timestamp": 1683808878684,
     "user": {
      "displayName": "Matheus Martins",
      "userId": "16340706003885101688"
     },
     "user_tz": 180
    },
    "id": "h3WPpbIP0jWq",
    "outputId": "31a57752-a56d-4aef-cc1c-27057adce12a"
   },
   "outputs": [
    {
     "data": {
      "text/plain": [
       "[(784, 50), (50, 10)]"
      ]
     },
     "execution_count": 11,
     "metadata": {},
     "output_type": "execute_result"
    }
   ],
   "source": [
    "[coef.shape for coef in mlp.coefs_]"
   ]
  }
 ],
 "metadata": {
  "colab": {
   "authorship_tag": "ABX9TyOTZ3ubkxk7juo/xwZxn5++",
   "provenance": []
  },
  "kernelspec": {
   "display_name": "Python 3 (ipykernel)",
   "language": "python",
   "name": "python3"
  },
  "language_info": {
   "codemirror_mode": {
    "name": "ipython",
    "version": 3
   },
   "file_extension": ".py",
   "mimetype": "text/x-python",
   "name": "python",
   "nbconvert_exporter": "python",
   "pygments_lexer": "ipython3",
   "version": "3.9.16"
  }
 },
 "nbformat": 4,
 "nbformat_minor": 1
}
