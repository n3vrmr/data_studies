{
 "cells": [
  {
   "cell_type": "markdown",
   "id": "b05b5745",
   "metadata": {},
   "source": [
    "# Polinomial Regression model example using generated data"
   ]
  },
  {
   "cell_type": "code",
   "execution_count": 1,
   "id": "3354c6ee",
   "metadata": {},
   "outputs": [],
   "source": [
    "import numpy as np\n",
    "import matplotlib.pyplot as plt"
   ]
  },
  {
   "cell_type": "code",
   "execution_count": 15,
   "id": "54b19f00",
   "metadata": {},
   "outputs": [],
   "source": [
    "m = 100\n",
    "x = 6 * np.random.rand(m, 1) - 3\n",
    "y = 0.5 * (x**3) + x + 2 + np.random.randn(m, 1)"
   ]
  },
  {
   "cell_type": "code",
   "execution_count": 16,
   "id": "05df2bc2",
   "metadata": {},
   "outputs": [
    {
     "data": {
      "text/plain": [
       "Text(0, 0.5, '$y$')"
      ]
     },
     "execution_count": 16,
     "metadata": {},
     "output_type": "execute_result"
    },
    {
     "data": {
      "image/png": "[encoded data removed]",
      "text/plain": [
       "<Figure size 640x480 with 1 Axes>"
      ]
     },
     "metadata": {},
     "output_type": "display_data"
    }
   ],
   "source": [
    "plt.scatter(x,y)\n",
    "plt.xlabel(\"$x_1$\")\n",
    "plt.ylabel(\"$y$\")"
   ]
  },
  {
   "cell_type": "code",
   "execution_count": 17,
   "id": "c97ee37c",
   "metadata": {},
   "outputs": [],
   "source": [
    "from sklearn.preprocessing import PolynomialFeatures\n",
    "from sklearn.pipeline import make_pipeline\n",
    "from sklearn.linear_model import LinearRegression"
   ]
  },
  {
   "cell_type": "code",
   "execution_count": 18,
   "id": "201b5b30",
   "metadata": {},
   "outputs": [
    {
     "data": {
      "text/html": [
       "<style>#sk-container-id-2 {color: black;background-color: white;}#sk-container-id-2 pre{padding: 0;}#sk-container-id-2 div.sk-toggleable {background-color: white;}#sk-container-id-2 label.sk-toggleable__label {cursor: pointer;display: block;width: 100%;margin-bottom: 0;padding: 0.3em;box-sizing: border-box;text-align: center;}#sk-container-id-2 label.sk-toggleable__label-arrow:before {content: \"▸\";float: left;margin-right: 0.25em;color: #696969;}#sk-container-id-2 label.sk-toggleable__label-arrow:hover:before {color: black;}#sk-container-id-2 div.sk-estimator:hover label.sk-toggleable__label-arrow:before {color: black;}#sk-container-id-2 div.sk-toggleable__content {max-height: 0;max-width: 0;overflow: hidden;text-align: left;background-color: #f0f8ff;}#sk-container-id-2 div.sk-toggleable__content pre {margin: 0.2em;color: black;border-radius: 0.25em;background-color: #f0f8ff;}#sk-container-id-2 input.sk-toggleable__control:checked~div.sk-toggleable__content {max-height: 200px;max-width: 100%;overflow: auto;}#sk-container-id-2 input.sk-toggleable__control:checked~label.sk-toggleable__label-arrow:before {content: \"▾\";}#sk-container-id-2 div.sk-estimator input.sk-toggleable__control:checked~label.sk-toggleable__label {background-color: #d4ebff;}#sk-container-id-2 div.sk-label input.sk-toggleable__control:checked~label.sk-toggleable__label {background-color: #d4ebff;}#sk-container-id-2 input.sk-hidden--visually {border: 0;clip: rect(1px 1px 1px 1px);clip: rect(1px, 1px, 1px, 1px);height: 1px;margin: -1px;overflow: hidden;padding: 0;position: absolute;width: 1px;}#sk-container-id-2 div.sk-estimator {font-family: monospace;background-color: #f0f8ff;border: 1px dotted black;border-radius: 0.25em;box-sizing: border-box;margin-bottom: 0.5em;}#sk-container-id-2 div.sk-estimator:hover {background-color: #d4ebff;}#sk-container-id-2 div.sk-parallel-item::after {content: \"\";width: 100%;border-bottom: 1px solid gray;flex-grow: 1;}#sk-container-id-2 div.sk-label:hover label.sk-toggleable__label {background-color: #d4ebff;}#sk-container-id-2 div.sk-serial::before {content: \"\";position: absolute;border-left: 1px solid gray;box-sizing: border-box;top: 0;bottom: 0;left: 50%;z-index: 0;}#sk-container-id-2 div.sk-serial {display: flex;flex-direction: column;align-items: center;background-color: white;padding-right: 0.2em;padding-left: 0.2em;position: relative;}#sk-container-id-2 div.sk-item {position: relative;z-index: 1;}#sk-container-id-2 div.sk-parallel {display: flex;align-items: stretch;justify-content: center;background-color: white;position: relative;}#sk-container-id-2 div.sk-item::before, #sk-container-id-2 div.sk-parallel-item::before {content: \"\";position: absolute;border-left: 1px solid gray;box-sizing: border-box;top: 0;bottom: 0;left: 50%;z-index: -1;}#sk-container-id-2 div.sk-parallel-item {display: flex;flex-direction: column;z-index: 1;position: relative;background-color: white;}#sk-container-id-2 div.sk-parallel-item:first-child::after {align-self: flex-end;width: 50%;}#sk-container-id-2 div.sk-parallel-item:last-child::after {align-self: flex-start;width: 50%;}#sk-container-id-2 div.sk-parallel-item:only-child::after {width: 0;}#sk-container-id-2 div.sk-dashed-wrapped {border: 1px dashed gray;margin: 0 0.4em 0.5em 0.4em;box-sizing: border-box;padding-bottom: 0.4em;background-color: white;}#sk-container-id-2 div.sk-label label {font-family: monospace;font-weight: bold;display: inline-block;line-height: 1.2em;}#sk-container-id-2 div.sk-label-container {text-align: center;}#sk-container-id-2 div.sk-container {/* jupyter's `normalize.less` sets `[hidden] { display: none; }` but bootstrap.min.css set `[hidden] { display: none !important; }` so we also need the `!important` here to be able to override the default hidden behavior on the sphinx rendered scikit-learn.org. See: https://github.com/scikit-learn/scikit-learn/issues/21755 */display: inline-block !important;position: relative;}#sk-container-id-2 div.sk-text-repr-fallback {display: none;}</style><div id=\"sk-container-id-2\" class=\"sk-top-container\"><div class=\"sk-text-repr-fallback\"><pre>Pipeline(steps=[(&#x27;polynomialfeatures&#x27;, PolynomialFeatures(degree=3)),\n",
       "                (&#x27;linearregression&#x27;, LinearRegression())])</pre><b>In a Jupyter environment, please rerun this cell to show the HTML representation or trust the notebook. <br />On GitHub, the HTML representation is unable to render, please try loading this page with nbviewer.org.</b></div><div class=\"sk-container\" hidden><div class=\"sk-item sk-dashed-wrapped\"><div class=\"sk-label-container\"><div class=\"sk-label sk-toggleable\"><input class=\"sk-toggleable__control sk-hidden--visually\" id=\"sk-estimator-id-4\" type=\"checkbox\" ><label for=\"sk-estimator-id-4\" class=\"sk-toggleable__label sk-toggleable__label-arrow\">Pipeline</label><div class=\"sk-toggleable__content\"><pre>Pipeline(steps=[(&#x27;polynomialfeatures&#x27;, PolynomialFeatures(degree=3)),\n",
       "                (&#x27;linearregression&#x27;, LinearRegression())])</pre></div></div></div><div class=\"sk-serial\"><div class=\"sk-item\"><div class=\"sk-estimator sk-toggleable\"><input class=\"sk-toggleable__control sk-hidden--visually\" id=\"sk-estimator-id-5\" type=\"checkbox\" ><label for=\"sk-estimator-id-5\" class=\"sk-toggleable__label sk-toggleable__label-arrow\">PolynomialFeatures</label><div class=\"sk-toggleable__content\"><pre>PolynomialFeatures(degree=3)</pre></div></div></div><div class=\"sk-item\"><div class=\"sk-estimator sk-toggleable\"><input class=\"sk-toggleable__control sk-hidden--visually\" id=\"sk-estimator-id-6\" type=\"checkbox\" ><label for=\"sk-estimator-id-6\" class=\"sk-toggleable__label sk-toggleable__label-arrow\">LinearRegression</label><div class=\"sk-toggleable__content\"><pre>LinearRegression()</pre></div></div></div></div></div></div></div>"
      ],
      "text/plain": [
       "Pipeline(steps=[('polynomialfeatures', PolynomialFeatures(degree=3)),\n",
       "                ('linearregression', LinearRegression())])"
      ]
     },
     "execution_count": 18,
     "metadata": {},
     "output_type": "execute_result"
    }
   ],
   "source": [
    "degree = 3\n",
    "\n",
    "pol_regressor = make_pipeline(PolynomialFeatures(degree),\n",
    "                              LinearRegression())\n",
    "\n",
    "pol_regressor.fit(x,y)"
   ]
  },
  {
   "cell_type": "code",
   "execution_count": 19,
   "id": "df42f842",
   "metadata": {},
   "outputs": [
    {
     "data": {
      "text/plain": [
       "0.9715752651130738"
      ]
     },
     "execution_count": 19,
     "metadata": {},
     "output_type": "execute_result"
    }
   ],
   "source": [
    "pol_regressor.score(x,y)"
   ]
  },
  {
   "cell_type": "code",
   "execution_count": 20,
   "id": "82714111",
   "metadata": {},
   "outputs": [
    {
     "data": {
      "text/plain": [
       "(-2.9003130473880976, 2.7363615838651567)"
      ]
     },
     "execution_count": 20,
     "metadata": {},
     "output_type": "execute_result"
    }
   ],
   "source": [
    "x_min = x.min()\n",
    "x_max = x.max()\n",
    "x_min, x_max"
   ]
  },
  {
   "cell_type": "code",
   "execution_count": 21,
   "id": "d88148f1",
   "metadata": {},
   "outputs": [],
   "source": [
    "x_range = np.linspace(x_min,x_max,100)\n",
    "x_range = x_range.reshape(-1,1)"
   ]
  },
  {
   "cell_type": "code",
   "execution_count": 22,
   "id": "19980cbe",
   "metadata": {
    "scrolled": true
   },
   "outputs": [
    {
     "name": "stdout",
     "output_type": "stream",
     "text": [
      "(100, 1) [[-2.90031305]\n",
      " [-2.84337694]\n",
      " [-2.78644083]\n",
      " [-2.72950473]\n",
      " [-2.67256862]\n",
      " [-2.61563251]\n",
      " [-2.5586964 ]\n",
      " [-2.5017603 ]\n",
      " [-2.44482419]\n",
      " [-2.38788808]\n",
      " [-2.33095197]\n",
      " [-2.27401587]\n",
      " [-2.21707976]\n",
      " [-2.16014365]\n",
      " [-2.10320754]\n",
      " [-2.04627144]\n",
      " [-1.98933533]\n",
      " [-1.93239922]\n",
      " [-1.87546311]\n",
      " [-1.81852701]\n",
      " [-1.7615909 ]\n",
      " [-1.70465479]\n",
      " [-1.64771868]\n",
      " [-1.59078258]\n",
      " [-1.53384647]\n",
      " [-1.47691036]\n",
      " [-1.41997426]\n",
      " [-1.36303815]\n",
      " [-1.30610204]\n",
      " [-1.24916593]\n",
      " [-1.19222983]\n",
      " [-1.13529372]\n",
      " [-1.07835761]\n",
      " [-1.0214215 ]\n",
      " [-0.9644854 ]\n",
      " [-0.90754929]\n",
      " [-0.85061318]\n",
      " [-0.79367707]\n",
      " [-0.73674097]\n",
      " [-0.67980486]\n",
      " [-0.62286875]\n",
      " [-0.56593264]\n",
      " [-0.50899654]\n",
      " [-0.45206043]\n",
      " [-0.39512432]\n",
      " [-0.33818822]\n",
      " [-0.28125211]\n",
      " [-0.224316  ]\n",
      " [-0.16737989]\n",
      " [-0.11044379]\n",
      " [-0.05350768]\n",
      " [ 0.00342843]\n",
      " [ 0.06036454]\n",
      " [ 0.11730064]\n",
      " [ 0.17423675]\n",
      " [ 0.23117286]\n",
      " [ 0.28810897]\n",
      " [ 0.34504507]\n",
      " [ 0.40198118]\n",
      " [ 0.45891729]\n",
      " [ 0.5158534 ]\n",
      " [ 0.5727895 ]\n",
      " [ 0.62972561]\n",
      " [ 0.68666172]\n",
      " [ 0.74359783]\n",
      " [ 0.80053393]\n",
      " [ 0.85747004]\n",
      " [ 0.91440615]\n",
      " [ 0.97134225]\n",
      " [ 1.02827836]\n",
      " [ 1.08521447]\n",
      " [ 1.14215058]\n",
      " [ 1.19908668]\n",
      " [ 1.25602279]\n",
      " [ 1.3129589 ]\n",
      " [ 1.36989501]\n",
      " [ 1.42683111]\n",
      " [ 1.48376722]\n",
      " [ 1.54070333]\n",
      " [ 1.59763944]\n",
      " [ 1.65457554]\n",
      " [ 1.71151165]\n",
      " [ 1.76844776]\n",
      " [ 1.82538387]\n",
      " [ 1.88231997]\n",
      " [ 1.93925608]\n",
      " [ 1.99619219]\n",
      " [ 2.0531283 ]\n",
      " [ 2.1100644 ]\n",
      " [ 2.16700051]\n",
      " [ 2.22393662]\n",
      " [ 2.28087272]\n",
      " [ 2.33780883]\n",
      " [ 2.39474494]\n",
      " [ 2.45168105]\n",
      " [ 2.50861715]\n",
      " [ 2.56555326]\n",
      " [ 2.62248937]\n",
      " [ 2.67942548]\n",
      " [ 2.73636158]]\n"
     ]
    }
   ],
   "source": [
    "print(x_range.shape,\n",
    "      x_range)"
   ]
  },
  {
   "cell_type": "code",
   "execution_count": 23,
   "id": "da2151c1",
   "metadata": {
    "scrolled": true
   },
   "outputs": [
    {
     "name": "stdout",
     "output_type": "stream",
     "text": [
      "(100, 1) [[-13.44232039]\n",
      " [-12.65966354]\n",
      " [-11.90526864]\n",
      " [-11.17857432]\n",
      " [-10.4790192 ]\n",
      " [ -9.80604192]\n",
      " [ -9.15908113]\n",
      " [ -8.53757544]\n",
      " [ -7.94096349]\n",
      " [ -7.36868392]\n",
      " [ -6.82017536]\n",
      " [ -6.29487644]\n",
      " [ -5.7922258 ]\n",
      " [ -5.31166206]\n",
      " [ -4.85262387]\n",
      " [ -4.41454985]\n",
      " [ -3.99687865]\n",
      " [ -3.59904888]\n",
      " [ -3.22049919]\n",
      " [ -2.8606682 ]\n",
      " [ -2.51899456]\n",
      " [ -2.1949169 ]\n",
      " [ -1.88787384]\n",
      " [ -1.59730402]\n",
      " [ -1.32264608]\n",
      " [ -1.06333864]\n",
      " [ -0.81882035]\n",
      " [ -0.58852983]\n",
      " [ -0.37190572]\n",
      " [ -0.16838664]\n",
      " [  0.02258875]\n",
      " [  0.20158184]\n",
      " [  0.36915399]\n",
      " [  0.52586657]\n",
      " [  0.67228094]\n",
      " [  0.80895847]\n",
      " [  0.93646052]\n",
      " [  1.05534847]\n",
      " [  1.16618368]\n",
      " [  1.26952752]\n",
      " [  1.36594134]\n",
      " [  1.45598653]\n",
      " [  1.54022445]\n",
      " [  1.61921646]\n",
      " [  1.69352393]\n",
      " [  1.76370823]\n",
      " [  1.83033072]\n",
      " [  1.89395277]\n",
      " [  1.95513575]\n",
      " [  2.01444103]\n",
      " [  2.07242996]\n",
      " [  2.12966393]\n",
      " [  2.18670428]\n",
      " [  2.2441124 ]\n",
      " [  2.30244965]\n",
      " [  2.36227739]\n",
      " [  2.424157  ]\n",
      " [  2.48864983]\n",
      " [  2.55631726]\n",
      " [  2.62772064]\n",
      " [  2.70342136]\n",
      " [  2.78398077]\n",
      " [  2.86996025]\n",
      " [  2.96192115]\n",
      " [  3.06042485]\n",
      " [  3.16603271]\n",
      " [  3.27930611]\n",
      " [  3.40080639]\n",
      " [  3.53109494]\n",
      " [  3.67073312]\n",
      " [  3.8202823 ]\n",
      " [  3.98030383]\n",
      " [  4.1513591 ]\n",
      " [  4.33400946]\n",
      " [  4.52881629]\n",
      " [  4.73634095]\n",
      " [  4.9571448 ]\n",
      " [  5.19178922]\n",
      " [  5.44083557]\n",
      " [  5.70484521]\n",
      " [  5.98437952]\n",
      " [  6.27999986]\n",
      " [  6.59226759]\n",
      " [  6.92174409]\n",
      " [  7.26899072]\n",
      " [  7.63456885]\n",
      " [  8.01903984]\n",
      " [  8.42296506]\n",
      " [  8.84690588]\n",
      " [  9.29142367]\n",
      " [  9.75707978]\n",
      " [ 10.2444356 ]\n",
      " [ 10.75405247]\n",
      " [ 11.28649178]\n",
      " [ 11.84231489]\n",
      " [ 12.42208317]\n",
      " [ 13.02635797]\n",
      " [ 13.65570067]\n",
      " [ 14.31067264]\n",
      " [ 14.99183524]]\n"
     ]
    }
   ],
   "source": [
    "y_range = pol_regressor.predict(x_range)\n",
    "print(y_range.shape,\n",
    "      y_range)"
   ]
  },
  {
   "cell_type": "code",
   "execution_count": 24,
   "id": "6beb4590",
   "metadata": {},
   "outputs": [
    {
     "data": {
      "text/plain": [
       "Text(0, 0.5, '$y$')"
      ]
     },
     "execution_count": 24,
     "metadata": {},
     "output_type": "execute_result"
    },
    {
     "data": {
      "image/png": "[encoded data removed]",
      "text/plain": [
       "<Figure size 640x480 with 1 Axes>"
      ]
     },
     "metadata": {},
     "output_type": "display_data"
    }
   ],
   "source": [
    "plt.scatter(x,y,alpha=0.7)\n",
    "plt.plot(x_range,y_range,color=\"red\",linewidth=3)\n",
    "plt.xlabel(\"$x_1$\")\n",
    "plt.ylabel(\"$y$\")"
   ]
  },
  {
   "cell_type": "code",
   "execution_count": null,
   "id": "6002a24a",
   "metadata": {},
   "outputs": [],
   "source": []
  }
 ],
 "metadata": {
  "kernelspec": {
   "display_name": "Python 3 (ipykernel)",
   "language": "python",
   "name": "python3"
  },
  "language_info": {
   "codemirror_mode": {
    "name": "ipython",
    "version": 3
   },
   "file_extension": ".py",
   "mimetype": "text/x-python",
   "name": "python",
   "nbconvert_exporter": "python",
   "pygments_lexer": "ipython3",
   "version": "3.9.16"
  }
 },
 "nbformat": 4,
 "nbformat_minor": 5
}
