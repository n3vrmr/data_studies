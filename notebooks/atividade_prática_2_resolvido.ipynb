{
 "cells": [
  {
   "cell_type": "markdown",
   "id": "09b53dbc",
   "metadata": {},
   "source": [
    "# Qualidade, Limpeza e Tratamento de Dados\n",
    "\n",
    "Nessa atividade, vamos analisar um conjunto de dados que possui valores faltantes e outliers. O conjunto já foi estudado antes e foi manipulado para que sua qualidade fosse degradada.\n",
    "\n",
    "## Instruções\n",
    "\n",
    "Cada célula possui um trecho de código e uma pergunta. Responda as perguntas propostas."
   ]
  },
  {
   "cell_type": "code",
   "execution_count": 1,
   "id": "ae14d3ff",
   "metadata": {},
   "outputs": [],
   "source": [
    "import pandas as pd\n",
    "dados = pd.read_excel(\"pokemon_data_.xlsx\")"
   ]
  },
  {
   "cell_type": "code",
   "execution_count": 2,
   "id": "46cd5f54",
   "metadata": {},
   "outputs": [
    {
     "name": "stdout",
     "output_type": "stream",
     "text": [
      "<class 'pandas.core.frame.DataFrame'>\n",
      "RangeIndex: 800 entries, 0 to 799\n",
      "Data columns (total 12 columns):\n",
      " #   Column      Non-Null Count  Dtype  \n",
      "---  ------      --------------  -----  \n",
      " 0   #           800 non-null    int64  \n",
      " 1   Name        800 non-null    object \n",
      " 2   Type 1      800 non-null    object \n",
      " 3   Type 2      414 non-null    object \n",
      " 4   HP          752 non-null    float64\n",
      " 5   Attack      800 non-null    int64  \n",
      " 6   Defense     800 non-null    int64  \n",
      " 7   Sp. Atk     800 non-null    int64  \n",
      " 8   Sp. Def     800 non-null    int64  \n",
      " 9   Speed       800 non-null    int64  \n",
      " 10  Generation  800 non-null    int64  \n",
      " 11  Legendary   800 non-null    int64  \n",
      "dtypes: float64(1), int64(8), object(3)\n",
      "memory usage: 75.1+ KB\n"
     ]
    }
   ],
   "source": [
    "# Qualidade de dados\n",
    "## Dados faltantes\n",
    "## Para encontrar dados faltantes em um conjunto de dados, utilize a função\n",
    "## info() e analise o resultado.\n",
    "dados.info()"
   ]
  },
  {
   "cell_type": "markdown",
   "id": "2ef319ae",
   "metadata": {},
   "source": [
    "### Quais colunas possuem valores faltantes? \n",
    "### Resposta: Colunas \"Type 2\" e \"HP\""
   ]
  },
  {
   "cell_type": "code",
   "execution_count": 5,
   "id": "7580c017",
   "metadata": {},
   "outputs": [
    {
     "name": "stdout",
     "output_type": "stream",
     "text": [
      "           Name Type 2\n",
      "4    Charmander    NaN\n",
      "5    Charmeleon    NaN\n",
      "9      Squirtle    NaN\n",
      "10    Wartortle    NaN\n",
      "11    Blastoise    NaN\n",
      "..          ...    ...\n",
      "775     Sliggoo    NaN\n",
      "776      Goodra    NaN\n",
      "788    Bergmite    NaN\n",
      "789     Avalugg    NaN\n",
      "792     Xerneas    NaN\n",
      "\n",
      "[386 rows x 2 columns]\n",
      "                          Name  HP\n",
      "3        VenusaurMega Venusaur NaN\n",
      "7    CharizardMega Charizard X NaN\n",
      "8    CharizardMega Charizard Y NaN\n",
      "12     BlastoiseMega Blastoise NaN\n",
      "19       BeedrillMega Beedrill NaN\n",
      "23         PidgeotMega Pidgeot NaN\n",
      "71       AlakazamMega Alakazam NaN\n",
      "87         SlowbroMega Slowbro NaN\n",
      "102          GengarMega Gengar NaN\n",
      "124  KangaskhanMega Kangaskhan NaN\n",
      "137          PinsirMega Pinsir NaN\n",
      "141      GyaradosMega Gyarados NaN\n",
      "154  AerodactylMega Aerodactyl NaN\n",
      "163        MewtwoMega Mewtwo X NaN\n",
      "164        MewtwoMega Mewtwo Y NaN\n",
      "196      AmpharosMega Ampharos NaN\n",
      "224        SteelixMega Steelix NaN\n",
      "229          ScizorMega Scizor NaN\n",
      "232    HeracrossMega Heracross NaN\n",
      "248      HoundoomMega Houndoom NaN\n",
      "268    TyranitarMega Tyranitar NaN\n",
      "275      SceptileMega Sceptile NaN\n",
      "279      BlazikenMega Blaziken NaN\n",
      "283      SwampertMega Swampert NaN\n",
      "306    GardevoirMega Gardevoir NaN\n",
      "327        SableyeMega Sableye NaN\n",
      "329          MawileMega Mawile NaN\n",
      "333          AggronMega Aggron NaN\n",
      "336      MedichamMega Medicham NaN\n",
      "339    ManectricMega Manectric NaN\n",
      "349      SharpedoMega Sharpedo NaN\n",
      "354      CameruptMega Camerupt NaN\n",
      "366        AltariaMega Altaria NaN\n",
      "387        BanetteMega Banette NaN\n",
      "393            AbsolMega Absol NaN\n",
      "397          GlalieMega Glalie NaN\n",
      "409    SalamenceMega Salamence NaN\n",
      "413    MetagrossMega Metagross NaN\n",
      "418          LatiasMega Latias NaN\n",
      "420          LatiosMega Latios NaN\n",
      "426      RayquazaMega Rayquaza NaN\n",
      "476        LopunnyMega Lopunny NaN\n",
      "494      GarchompMega Garchomp NaN\n",
      "498        LucarioMega Lucario NaN\n",
      "511    AbomasnowMega Abomasnow NaN\n",
      "527        GalladeMega Gallade NaN\n",
      "591          AudinoMega Audino NaN\n",
      "796        DiancieMega Diancie NaN\n"
     ]
    }
   ],
   "source": [
    "# Estimando o motivo para o dado não estar presente\n",
    "## Podemos selecionar os Pokemons que tem valores faltantes para análise.\n",
    "## Vamos utilizar a função is_na()\n",
    "tipo_faltantes = dados[[\"Name\",\"Type 2\"]][dados[\"Type 2\"].isna()]\n",
    "print(tipo_faltantes)\n",
    "\n",
    "hp_faltantes = dados[[\"Name\",\"HP\"]][dados[\"HP\"].isna()]\n",
    "print(hp_faltantes)"
   ]
  },
  {
   "cell_type": "markdown",
   "id": "f1d8ddd5",
   "metadata": {},
   "source": [
    "### Os valores faltantes são completamente aleatórios ou seguem algum padrão? \n",
    "### Resposta: Os valores faltantes seguem dois padrões. Na coluna \"Type 2\", vemos que Pokémon que não precisam ter um segundo tipo. Na coluna \"HP\", as mega evoluções não possuem esse valor, já que nenhum efeito ou item usado dentro de batalhas pode alterar o HP de um Pokémon."
   ]
  }
 ],
 "metadata": {
  "kernelspec": {
   "display_name": "Python 3 (ipykernel)",
   "language": "python",
   "name": "python3"
  },
  "language_info": {
   "codemirror_mode": {
    "name": "ipython",
    "version": 3
   },
   "file_extension": ".py",
   "mimetype": "text/x-python",
   "name": "python",
   "nbconvert_exporter": "python",
   "pygments_lexer": "ipython3",
   "version": "3.9.7"
  }
 },
 "nbformat": 4,
 "nbformat_minor": 5
}
