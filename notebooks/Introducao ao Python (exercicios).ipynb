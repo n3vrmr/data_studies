{
 "cells": [
  {
   "cell_type": "markdown",
   "metadata": {
    "id": "h3rDZVRaswNU"
   },
   "source": [
    "# Declarações\n",
    "\n",
    "* O python é uma linguagem imperativa, baseada em declarações (statements): **expressão, atribuição, chamada de função, definição de função...**"
   ]
  },
  {
   "cell_type": "markdown",
   "metadata": {
    "id": "tZ8ksVuBuoM0"
   },
   "source": [
    "## Expressões"
   ]
  },
  {
   "cell_type": "markdown",
   "metadata": {
    "id": "A1LSOd5-uPCO"
   },
   "source": [
    "### Números"
   ]
  },
  {
   "cell_type": "code",
   "execution_count": 1,
   "metadata": {
    "id": "5lCBb9Z1th1k"
   },
   "outputs": [
    {
     "data": {
      "text/plain": [
       "10"
      ]
     },
     "execution_count": 1,
     "metadata": {},
     "output_type": "execute_result"
    }
   ],
   "source": [
    "# Mostrar na tela um número (este é um comentário)\n",
    "10"
   ]
  },
  {
   "cell_type": "code",
   "execution_count": 2,
   "metadata": {
    "id": "9oNC8kInuLhV"
   },
   "outputs": [
    {
     "data": {
      "text/plain": [
       "-3"
      ]
     },
     "execution_count": 2,
     "metadata": {},
     "output_type": "execute_result"
    }
   ],
   "source": [
    "-3"
   ]
  },
  {
   "cell_type": "code",
   "execution_count": 3,
   "metadata": {
    "id": "SEly5V_WuMuu"
   },
   "outputs": [
    {
     "data": {
      "text/plain": [
       "3.14"
      ]
     },
     "execution_count": 3,
     "metadata": {},
     "output_type": "execute_result"
    }
   ],
   "source": [
    "3.14"
   ]
  },
  {
   "cell_type": "code",
   "execution_count": 4,
   "metadata": {
    "id": "RYkAC3auu3C9"
   },
   "outputs": [
    {
     "data": {
      "text/plain": [
       "-1"
      ]
     },
     "execution_count": 4,
     "metadata": {},
     "output_type": "execute_result"
    }
   ],
   "source": [
    "-3 + 2"
   ]
  },
  {
   "cell_type": "markdown",
   "metadata": {
    "id": "X83tnvIwuNos"
   },
   "source": [
    "### Strings (sequências de caracteres)"
   ]
  },
  {
   "cell_type": "code",
   "execution_count": 5,
   "metadata": {
    "colab": {
     "base_uri": "https://localhost:8080/",
     "height": 35
    },
    "executionInfo": {
     "elapsed": 8,
     "status": "ok",
     "timestamp": 1678656500516,
     "user": {
      "displayName": "Nilson Donizete Guerin Junior",
      "userId": "02843894754276188444"
     },
     "user_tz": 180
    },
    "id": "uovyTg-guS86",
    "outputId": "6aa92565-5c0f-46b3-cb2f-c6d20b2ee24f"
   },
   "outputs": [
    {
     "data": {
      "text/plain": [
       "'maçã'"
      ]
     },
     "execution_count": 5,
     "metadata": {},
     "output_type": "execute_result"
    }
   ],
   "source": [
    "'maçã'"
   ]
  },
  {
   "cell_type": "code",
   "execution_count": 6,
   "metadata": {
    "id": "_R3hVMIauV0_"
   },
   "outputs": [
    {
     "data": {
      "text/plain": [
       "'maçã'"
      ]
     },
     "execution_count": 6,
     "metadata": {},
     "output_type": "execute_result"
    }
   ],
   "source": [
    "\"maçã\""
   ]
  },
  {
   "cell_type": "code",
   "execution_count": 7,
   "metadata": {
    "colab": {
     "base_uri": "https://localhost:8080/",
     "height": 35
    },
    "executionInfo": {
     "elapsed": 284,
     "status": "ok",
     "timestamp": 1678656661946,
     "user": {
      "displayName": "Nilson Donizete Guerin Junior",
      "userId": "02843894754276188444"
     },
     "user_tz": 180
    },
    "id": "uyw_lbqBu4ZT",
    "outputId": "04baa0e9-6419-4974-fd6d-bf9eaf46772e"
   },
   "outputs": [
    {
     "data": {
      "text/plain": [
       "'meu nome é Nilson'"
      ]
     },
     "execution_count": 7,
     "metadata": {},
     "output_type": "execute_result"
    }
   ],
   "source": [
    "\"meu nome\" + \" \" + \"é\" + \" \" + \"Nilson\""
   ]
  },
  {
   "cell_type": "markdown",
   "metadata": {
    "id": "qkMkl6H_uXKa"
   },
   "source": [
    "### Valores booleanos"
   ]
  },
  {
   "cell_type": "code",
   "execution_count": 8,
   "metadata": {
    "colab": {
     "base_uri": "https://localhost:8080/"
    },
    "executionInfo": {
     "elapsed": 3,
     "status": "ok",
     "timestamp": 1678656518387,
     "user": {
      "displayName": "Nilson Donizete Guerin Junior",
      "userId": "02843894754276188444"
     },
     "user_tz": 180
    },
    "id": "4p_2lhTguafh",
    "outputId": "4cd2b229-d46d-44a2-c774-965048fbabff"
   },
   "outputs": [
    {
     "data": {
      "text/plain": [
       "True"
      ]
     },
     "execution_count": 8,
     "metadata": {},
     "output_type": "execute_result"
    }
   ],
   "source": [
    "True"
   ]
  },
  {
   "cell_type": "code",
   "execution_count": 9,
   "metadata": {
    "id": "VHy3Esfcubbq"
   },
   "outputs": [
    {
     "data": {
      "text/plain": [
       "False"
      ]
     },
     "execution_count": 9,
     "metadata": {},
     "output_type": "execute_result"
    }
   ],
   "source": [
    "False"
   ]
  },
  {
   "cell_type": "markdown",
   "metadata": {
    "id": "afiR9ByIyCyY"
   },
   "source": [
    "### Listas e dicionários\n",
    "\n",
    "Python tem três tipos de estruturas embutidas na própria linguagem:\n",
    "* dicionários (tabelas de hash): `{}`\n",
    "* listas: `[]`\n",
    "* tuplas: `()`"
   ]
  },
  {
   "cell_type": "code",
   "execution_count": 10,
   "metadata": {
    "id": "FybPMuM3yLMe"
   },
   "outputs": [
    {
     "data": {
      "text/plain": [
       "[1, 2, 3]"
      ]
     },
     "execution_count": 10,
     "metadata": {},
     "output_type": "execute_result"
    }
   ],
   "source": [
    "[1, 2, 3]"
   ]
  },
  {
   "cell_type": "code",
   "execution_count": 11,
   "metadata": {
    "id": "jaFO6ADbyahm"
   },
   "outputs": [
    {
     "data": {
      "text/plain": [
       "(1, 2, 3)"
      ]
     },
     "execution_count": 11,
     "metadata": {},
     "output_type": "execute_result"
    }
   ],
   "source": [
    "(1, 2, 3)"
   ]
  },
  {
   "cell_type": "code",
   "execution_count": 12,
   "metadata": {
    "id": "5dcHWNmwybWi"
   },
   "outputs": [
    {
     "data": {
      "text/plain": [
       "(1, 2, 3)"
      ]
     },
     "execution_count": 12,
     "metadata": {},
     "output_type": "execute_result"
    }
   ],
   "source": [
    "1, 2, 3"
   ]
  },
  {
   "cell_type": "code",
   "execution_count": null,
   "metadata": {
    "id": "86h5dMO7ycka"
   },
   "outputs": [],
   "source": [
    "{'maça': 2, 'banana': 5, 'uva': 2}"
   ]
  },
  {
   "cell_type": "markdown",
   "metadata": {
    "id": "Dw2yLmbDutp2"
   },
   "source": [
    "## Variáveis e tipos"
   ]
  },
  {
   "cell_type": "markdown",
   "metadata": {
    "id": "LTvC72bSvCsD"
   },
   "source": [
    "### Atribuição\n",
    "\n",
    "Operador de atribuição é `=`. O python é uma linguagem dinamicamente tipada (tipos de variáveis são atribuídos durante o uso)."
   ]
  },
  {
   "cell_type": "code",
   "execution_count": 13,
   "metadata": {
    "id": "ZH5cO_-vvPgh"
   },
   "outputs": [],
   "source": [
    "# declaração de atribuição\n",
    "x = 1.0\n",
    "minha_variavel = 12.2"
   ]
  },
  {
   "cell_type": "code",
   "execution_count": 14,
   "metadata": {
    "id": "SYjBSaYYvUOa"
   },
   "outputs": [
    {
     "data": {
      "text/plain": [
       "float"
      ]
     },
     "execution_count": 14,
     "metadata": {},
     "output_type": "execute_result"
    }
   ],
   "source": [
    "type(x)"
   ]
  },
  {
   "cell_type": "code",
   "execution_count": 15,
   "metadata": {
    "id": "prhlwmTlvWJ-"
   },
   "outputs": [],
   "source": [
    "# o tipo da variável pode mudar\n",
    "x = 1"
   ]
  },
  {
   "cell_type": "code",
   "execution_count": 16,
   "metadata": {
    "id": "FwdaEnPxvYjj"
   },
   "outputs": [
    {
     "data": {
      "text/plain": [
       "int"
      ]
     },
     "execution_count": 16,
     "metadata": {},
     "output_type": "execute_result"
    }
   ],
   "source": [
    "type(x)"
   ]
  },
  {
   "cell_type": "markdown",
   "metadata": {
    "id": "ybLgINESvhsm"
   },
   "source": [
    "### Tipos fundamentais"
   ]
  },
  {
   "cell_type": "code",
   "execution_count": 17,
   "metadata": {
    "id": "oaKmemATvmwO"
   },
   "outputs": [
    {
     "data": {
      "text/plain": [
       "int"
      ]
     },
     "execution_count": 17,
     "metadata": {},
     "output_type": "execute_result"
    }
   ],
   "source": [
    "x = 1\n",
    "type(x)"
   ]
  },
  {
   "cell_type": "code",
   "execution_count": 18,
   "metadata": {
    "id": "Cc5V6wCWvnt6"
   },
   "outputs": [
    {
     "data": {
      "text/plain": [
       "float"
      ]
     },
     "execution_count": 18,
     "metadata": {},
     "output_type": "execute_result"
    }
   ],
   "source": [
    "x = 1.0\n",
    "type(x)"
   ]
  },
  {
   "cell_type": "code",
   "execution_count": 19,
   "metadata": {
    "id": "03_ERx8nvo0S"
   },
   "outputs": [
    {
     "data": {
      "text/plain": [
       "bool"
      ]
     },
     "execution_count": 19,
     "metadata": {},
     "output_type": "execute_result"
    }
   ],
   "source": [
    "b1 = True\n",
    "type(b1)"
   ]
  },
  {
   "cell_type": "code",
   "execution_count": 20,
   "metadata": {
    "colab": {
     "base_uri": "https://localhost:8080/"
    },
    "executionInfo": {
     "elapsed": 7,
     "status": "ok",
     "timestamp": 1678656858980,
     "user": {
      "displayName": "Nilson Donizete Guerin Junior",
      "userId": "02843894754276188444"
     },
     "user_tz": 180
    },
    "id": "9PFFpVzevrm7",
    "outputId": "b4501fc4-bcfe-46a6-c733-7a51aa25290f"
   },
   "outputs": [
    {
     "data": {
      "text/plain": [
       "complex"
      ]
     },
     "execution_count": 20,
     "metadata": {},
     "output_type": "execute_result"
    }
   ],
   "source": [
    "x = 1.0 - 1.0j\n",
    "type(x)"
   ]
  },
  {
   "cell_type": "code",
   "execution_count": 21,
   "metadata": {
    "colab": {
     "base_uri": "https://localhost:8080/"
    },
    "executionInfo": {
     "elapsed": 286,
     "status": "ok",
     "timestamp": 1678656899166,
     "user": {
      "displayName": "Nilson Donizete Guerin Junior",
      "userId": "02843894754276188444"
     },
     "user_tz": 180
    },
    "id": "XfduMUchvvNy",
    "outputId": "89e837e2-ace9-4d7a-8cdd-9d4e13b38d08"
   },
   "outputs": [
    {
     "name": "stdout",
     "output_type": "stream",
     "text": [
      "(1-1j)\n",
      "1.0\n",
      "-1.0\n"
     ]
    }
   ],
   "source": [
    "print(x) # exibe algo\n",
    "print(x.real)\n",
    "print(x.imag)"
   ]
  },
  {
   "cell_type": "code",
   "execution_count": 22,
   "metadata": {
    "id": "FaCGuNrPzLZE"
   },
   "outputs": [
    {
     "ename": "NameError",
     "evalue": "name 'y' is not defined",
     "output_type": "error",
     "traceback": [
      "\u001b[1;31m---------------------------------------------------------------------------\u001b[0m",
      "\u001b[1;31mNameError\u001b[0m                                 Traceback (most recent call last)",
      "\u001b[1;32m~\\AppData\\Local\\Temp\\ipykernel_10740\\362245649.py\u001b[0m in \u001b[0;36m<module>\u001b[1;34m\u001b[0m\n\u001b[0;32m      1\u001b[0m \u001b[1;31m# usar uma variável não declarada\u001b[0m\u001b[1;33m\u001b[0m\u001b[1;33m\u001b[0m\u001b[0m\n\u001b[1;32m----> 2\u001b[1;33m \u001b[0mtype\u001b[0m\u001b[1;33m(\u001b[0m\u001b[0my\u001b[0m\u001b[1;33m)\u001b[0m\u001b[1;33m\u001b[0m\u001b[1;33m\u001b[0m\u001b[0m\n\u001b[0m",
      "\u001b[1;31mNameError\u001b[0m: name 'y' is not defined"
     ]
    }
   ],
   "source": [
    "# usar uma variável não declarada\n",
    "type(y)"
   ]
  },
  {
   "cell_type": "markdown",
   "metadata": {
    "id": "IvTiLmjr1j3f"
   },
   "source": [
    "### Conversão de tipos"
   ]
  },
  {
   "cell_type": "code",
   "execution_count": 23,
   "metadata": {
    "id": "cuOyFYZC1lHC"
   },
   "outputs": [
    {
     "name": "stdout",
     "output_type": "stream",
     "text": [
      "1.5 <class 'float'>\n"
     ]
    }
   ],
   "source": [
    "x = 1.5\n",
    "\n",
    "print(x, type(x))"
   ]
  },
  {
   "cell_type": "code",
   "execution_count": 24,
   "metadata": {
    "id": "8wqKg98B1nYV"
   },
   "outputs": [
    {
     "name": "stdout",
     "output_type": "stream",
     "text": [
      "1 <class 'int'>\n"
     ]
    }
   ],
   "source": [
    "x = int(x)\n",
    "\n",
    "print(x, type(x))"
   ]
  },
  {
   "cell_type": "markdown",
   "metadata": {
    "id": "BeHfBbeGswNf"
   },
   "source": [
    "### Operadores Aritméticos"
   ]
  },
  {
   "cell_type": "code",
   "execution_count": 25,
   "metadata": {
    "id": "BrcLVxk7swNf"
   },
   "outputs": [
    {
     "name": "stdout",
     "output_type": "stream",
     "text": [
      "Soma: 5\n",
      "Subtração: -1\n",
      "Multiplicação: 6\n",
      "Divisão: 5.0\n",
      "Módulo ou Resto da Divisão: 1\n",
      "Exponenciação: 25\n",
      "Quociente da Divisão: 4\n"
     ]
    }
   ],
   "source": [
    "#Soma\n",
    "x1 = 2 + 3\n",
    "print(\"Soma:\", x1)\n",
    "\n",
    "#Subtração\n",
    "x2 = 2 - 3\n",
    "print(\"Subtração:\", x2)\n",
    "\n",
    "#Multiplicação\n",
    "x3 = 2 * 3\n",
    "print(\"Multiplicação:\", x3)\n",
    "\n",
    "#Divisão\n",
    "x4 = 10 / 2\n",
    "print(\"Divisão:\", x4)\n",
    "\n",
    "#Módulo ou Resto da Divisão\n",
    "x5 = 11 % 2\n",
    "print(\"Módulo ou Resto da Divisão:\", x5)\n",
    "\n",
    "#Exponenciação\n",
    "x6 = 5 ** 2\n",
    "print(\"Exponenciação:\", x6)\n",
    "\n",
    "#Quociente da Dividão\n",
    "x7 = 9 // 2\n",
    "print(\"Quociente da Divisão:\", x7)"
   ]
  },
  {
   "cell_type": "markdown",
   "metadata": {
    "id": "uMM_n3GXswNg"
   },
   "source": [
    "### Operadores Relacionais"
   ]
  },
  {
   "cell_type": "code",
   "execution_count": 26,
   "metadata": {
    "id": "eJkKlQycswNg",
    "outputId": "b5236534-acbe-4b80-e6ce-e01a917d9fe9"
   },
   "outputs": [
    {
     "name": "stdout",
     "output_type": "stream",
     "text": [
      "False\n",
      "True\n",
      "False\n",
      "True\n"
     ]
    }
   ],
   "source": [
    "print(3 == 5)\n",
    "print(3 > 0)\n",
    "print(5 != 5)\n",
    "print(3 >= 3)"
   ]
  },
  {
   "cell_type": "markdown",
   "metadata": {
    "id": "3T10sP57swNh"
   },
   "source": [
    "### Operadores Lógicos"
   ]
  },
  {
   "cell_type": "code",
   "execution_count": 27,
   "metadata": {
    "id": "UwLu7PvVswNh",
    "outputId": "d524605f-892a-4a59-cf4e-4457c3b2a26f"
   },
   "outputs": [
    {
     "name": "stdout",
     "output_type": "stream",
     "text": [
      "True\n",
      "False\n",
      "True\n"
     ]
    }
   ],
   "source": [
    "x = 8\n",
    "y = 6\n",
    "\n",
    "print(3 > 0 and 5 < 10)\n",
    "print(x < y or 6 == 7)\n",
    "print(not(x < y))"
   ]
  },
  {
   "cell_type": "markdown",
   "metadata": {
    "id": "A5txrjV4zuAU"
   },
   "source": [
    "## Funções\n",
    "\n",
    "**Rotina repetitiva**: definimos uma função e, ao chamar a função passando as informações necessárias, a rotina é executada."
   ]
  },
  {
   "cell_type": "code",
   "execution_count": 28,
   "metadata": {
    "colab": {
     "base_uri": "https://localhost:8080/"
    },
    "executionInfo": {
     "elapsed": 403,
     "status": "ok",
     "timestamp": 1678657985357,
     "user": {
      "displayName": "Nilson Donizete Guerin Junior",
      "userId": "02843894754276188444"
     },
     "user_tz": 180
    },
    "id": "zEdl1O7Bz_0s",
    "outputId": "4d3f3462-3ab6-499f-d211-cd023d6af5af"
   },
   "outputs": [
    {
     "data": {
      "text/plain": [
       "1"
      ]
     },
     "execution_count": 28,
     "metadata": {},
     "output_type": "execute_result"
    }
   ],
   "source": [
    "abs(-1)"
   ]
  },
  {
   "cell_type": "code",
   "execution_count": 29,
   "metadata": {
    "colab": {
     "base_uri": "https://localhost:8080/"
    },
    "executionInfo": {
     "elapsed": 5,
     "status": "ok",
     "timestamp": 1678657989998,
     "user": {
      "displayName": "Nilson Donizete Guerin Junior",
      "userId": "02843894754276188444"
     },
     "user_tz": 180
    },
    "id": "U3ovI_RE0CBt",
    "outputId": "6d244799-a57d-4b9a-c768-02ae6a148cea"
   },
   "outputs": [
    {
     "name": "stdout",
     "output_type": "stream",
     "text": [
      "Help on built-in function abs in module builtins:\n",
      "\n",
      "abs(x, /)\n",
      "    Return the absolute value of the argument.\n",
      "\n"
     ]
    }
   ],
   "source": [
    "help(abs)"
   ]
  },
  {
   "cell_type": "markdown",
   "metadata": {
    "id": "9BNJ0J0E0DPR"
   },
   "source": [
    "### print"
   ]
  },
  {
   "cell_type": "code",
   "execution_count": 30,
   "metadata": {
    "id": "pn66CHhL0Gu7"
   },
   "outputs": [
    {
     "name": "stdout",
     "output_type": "stream",
     "text": [
      "1\n"
     ]
    }
   ],
   "source": [
    "print(1)"
   ]
  },
  {
   "cell_type": "markdown",
   "metadata": {
    "id": "fpi8Hjfe0IGw"
   },
   "source": [
    "### Definindo funções"
   ]
  },
  {
   "cell_type": "code",
   "execution_count": 31,
   "metadata": {
    "executionInfo": {
     "elapsed": 266,
     "status": "ok",
     "timestamp": 1678658134082,
     "user": {
      "displayName": "Nilson Donizete Guerin Junior",
      "userId": "02843894754276188444"
     },
     "user_tz": 180
    },
    "id": "YoyEpRYc0KvH"
   },
   "outputs": [],
   "source": [
    "# def <nome> (<parametros>):\n",
    "def soma(a, b):\n",
    "  return a + b"
   ]
  },
  {
   "cell_type": "code",
   "execution_count": 32,
   "metadata": {
    "id": "OR1LmpO70dvt"
   },
   "outputs": [
    {
     "data": {
      "text/plain": [
       "7"
      ]
     },
     "execution_count": 32,
     "metadata": {},
     "output_type": "execute_result"
    }
   ],
   "source": [
    "soma(3, 4)"
   ]
  },
  {
   "cell_type": "code",
   "execution_count": 33,
   "metadata": {
    "id": "EqisHrgH0hWO"
   },
   "outputs": [
    {
     "ename": "TypeError",
     "evalue": "can only concatenate str (not \"int\") to str",
     "output_type": "error",
     "traceback": [
      "\u001b[1;31m---------------------------------------------------------------------------\u001b[0m",
      "\u001b[1;31mTypeError\u001b[0m                                 Traceback (most recent call last)",
      "\u001b[1;32m~\\AppData\\Local\\Temp\\ipykernel_10740\\2894945639.py\u001b[0m in \u001b[0;36m<module>\u001b[1;34m\u001b[0m\n\u001b[1;32m----> 1\u001b[1;33m \u001b[0msoma\u001b[0m\u001b[1;33m(\u001b[0m\u001b[1;34m\"a\"\u001b[0m\u001b[1;33m,\u001b[0m \u001b[1;36m1\u001b[0m\u001b[1;33m)\u001b[0m \u001b[1;31m# o que aconteceu?\u001b[0m\u001b[1;33m\u001b[0m\u001b[1;33m\u001b[0m\u001b[0m\n\u001b[0m",
      "\u001b[1;32m~\\AppData\\Local\\Temp\\ipykernel_10740\\1317535420.py\u001b[0m in \u001b[0;36msoma\u001b[1;34m(a, b)\u001b[0m\n\u001b[0;32m      1\u001b[0m \u001b[1;31m# def <nome> (<parametros>):\u001b[0m\u001b[1;33m\u001b[0m\u001b[1;33m\u001b[0m\u001b[0m\n\u001b[0;32m      2\u001b[0m \u001b[1;32mdef\u001b[0m \u001b[0msoma\u001b[0m\u001b[1;33m(\u001b[0m\u001b[0ma\u001b[0m\u001b[1;33m,\u001b[0m \u001b[0mb\u001b[0m\u001b[1;33m)\u001b[0m\u001b[1;33m:\u001b[0m\u001b[1;33m\u001b[0m\u001b[1;33m\u001b[0m\u001b[0m\n\u001b[1;32m----> 3\u001b[1;33m   \u001b[1;32mreturn\u001b[0m \u001b[0ma\u001b[0m \u001b[1;33m+\u001b[0m \u001b[0mb\u001b[0m\u001b[1;33m\u001b[0m\u001b[1;33m\u001b[0m\u001b[0m\n\u001b[0m",
      "\u001b[1;31mTypeError\u001b[0m: can only concatenate str (not \"int\") to str"
     ]
    }
   ],
   "source": [
    "soma(\"a\", 1) # o que aconteceu?"
   ]
  },
  {
   "cell_type": "markdown",
   "metadata": {
    "id": "BPTKibvJcsQs"
   },
   "source": [
    "## Funções sem nome (unamed functions - lambda function)\n",
    "\n",
    "Em python é possível criar funções sem nome utilizando a palavra chave `lambda`"
   ]
  },
  {
   "cell_type": "code",
   "execution_count": 34,
   "metadata": {
    "executionInfo": {
     "elapsed": 295,
     "status": "ok",
     "timestamp": 1678668726306,
     "user": {
      "displayName": "Nilson Donizete Guerin Junior",
      "userId": "02843894754276188444"
     },
     "user_tz": 180
    },
    "id": "EmAJElO4c56V"
   },
   "outputs": [],
   "source": [
    "f1 = lambda x: x ** 2\n",
    "\n",
    "# é equivalente a\n",
    "def f2(x):\n",
    "  return x ** 2"
   ]
  },
  {
   "cell_type": "code",
   "execution_count": 35,
   "metadata": {
    "colab": {
     "base_uri": "https://localhost:8080/"
    },
    "executionInfo": {
     "elapsed": 3,
     "status": "ok",
     "timestamp": 1678668730378,
     "user": {
      "displayName": "Nilson Donizete Guerin Junior",
      "userId": "02843894754276188444"
     },
     "user_tz": 180
    },
    "id": "fyNV8RcIc_gd",
    "outputId": "3b9c7da7-b01e-4eb3-970e-0517f1b491ba"
   },
   "outputs": [
    {
     "data": {
      "text/plain": [
       "(4, 4)"
      ]
     },
     "execution_count": 35,
     "metadata": {},
     "output_type": "execute_result"
    }
   ],
   "source": [
    "f1(2), f2(2)"
   ]
  },
  {
   "cell_type": "markdown",
   "metadata": {
    "id": "YFjrHcMiwGUQ"
   },
   "source": [
    "# Módulos\n",
    "\n",
    "A maior parte das funcionalidades de python é dada pelos módulos. A biblioteca padrão do python é uma grande coleção de módulos que proveem implementações de utilidades, tais quais **acesso ao sistema operacional, leitura e escrita de arquivos, gerenciamento de texto, etc.**\n",
    "\n",
    "http://docs.python.org/2/reference/index.html\n",
    "\n",
    "http://docs.python.org/2/library/"
   ]
  },
  {
   "cell_type": "code",
   "execution_count": 36,
   "metadata": {
    "id": "KsYIIyXzwZj3"
   },
   "outputs": [],
   "source": [
    "import math # para usar um módulo é necessário realizar a importação"
   ]
  },
  {
   "cell_type": "code",
   "execution_count": 37,
   "metadata": {
    "colab": {
     "base_uri": "https://localhost:8080/"
    },
    "executionInfo": {
     "elapsed": 343,
     "status": "ok",
     "timestamp": 1678657076789,
     "user": {
      "displayName": "Nilson Donizete Guerin Junior",
      "userId": "02843894754276188444"
     },
     "user_tz": 180
    },
    "id": "jgAe6MbXwfAs",
    "outputId": "99427bb7-efab-47b9-9d25-5a75c6832acd"
   },
   "outputs": [
    {
     "name": "stdout",
     "output_type": "stream",
     "text": [
      "1.0\n"
     ]
    }
   ],
   "source": [
    "# O import inclui o módulo inteiro e deixa disponível para uso posterior no programa\n",
    "import math\n",
    "\n",
    "x = math.cos(2 * math.pi) # função de cossenos e a constante PI\n",
    "print(x)"
   ]
  },
  {
   "cell_type": "code",
   "execution_count": 38,
   "metadata": {
    "id": "E3PnMMidyqiy"
   },
   "outputs": [
    {
     "name": "stdout",
     "output_type": "stream",
     "text": [
      "1.0\n"
     ]
    }
   ],
   "source": [
    "# podemos incluir todos os símbolos de um prefixo, também. Isso evita a necessidade\n",
    "# de chamar math\n",
    "from math import *\n",
    "\n",
    "x = cos(2 * pi)\n",
    "print(x)"
   ]
  },
  {
   "cell_type": "code",
   "execution_count": 39,
   "metadata": {
    "id": "RmckOTSJyz4t"
   },
   "outputs": [
    {
     "name": "stdout",
     "output_type": "stream",
     "text": [
      "1.0\n"
     ]
    }
   ],
   "source": [
    "# podemos, ainda, escolher o que vamos utilizar dos módulso\n",
    "from math import cos, pi\n",
    "\n",
    "x = cos(2 * pi)\n",
    "print(x)"
   ]
  },
  {
   "cell_type": "markdown",
   "metadata": {
    "id": "m_uSCxvUy6jZ"
   },
   "source": [
    "## Vendo o que um módulo contém\n",
    "\n",
    "A função `dir` lista os símbolos de um módulo"
   ]
  },
  {
   "cell_type": "code",
   "execution_count": 40,
   "metadata": {
    "colab": {
     "base_uri": "https://localhost:8080/"
    },
    "executionInfo": {
     "elapsed": 6,
     "status": "ok",
     "timestamp": 1678657729330,
     "user": {
      "displayName": "Nilson Donizete Guerin Junior",
      "userId": "02843894754276188444"
     },
     "user_tz": 180
    },
    "id": "FfZ1ZWQWzBqM",
    "outputId": "924814d5-dd17-4cac-daa7-84d23eebbb3e"
   },
   "outputs": [
    {
     "name": "stdout",
     "output_type": "stream",
     "text": [
      "['__doc__', '__loader__', '__name__', '__package__', '__spec__', 'acos', 'acosh', 'asin', 'asinh', 'atan', 'atan2', 'atanh', 'ceil', 'comb', 'copysign', 'cos', 'cosh', 'degrees', 'dist', 'e', 'erf', 'erfc', 'exp', 'expm1', 'fabs', 'factorial', 'floor', 'fmod', 'frexp', 'fsum', 'gamma', 'gcd', 'hypot', 'inf', 'isclose', 'isfinite', 'isinf', 'isnan', 'isqrt', 'lcm', 'ldexp', 'lgamma', 'log', 'log10', 'log1p', 'log2', 'modf', 'nan', 'nextafter', 'perm', 'pi', 'pow', 'prod', 'radians', 'remainder', 'sin', 'sinh', 'sqrt', 'tan', 'tanh', 'tau', 'trunc', 'ulp']\n"
     ]
    }
   ],
   "source": [
    "import math\n",
    "\n",
    "print(dir(math))"
   ]
  },
  {
   "cell_type": "code",
   "execution_count": 41,
   "metadata": {
    "colab": {
     "base_uri": "https://localhost:8080/"
    },
    "executionInfo": {
     "elapsed": 3,
     "status": "ok",
     "timestamp": 1678657740555,
     "user": {
      "displayName": "Nilson Donizete Guerin Junior",
      "userId": "02843894754276188444"
     },
     "user_tz": 180
    },
    "id": "OEsq5x1dzE61",
    "outputId": "0df26e37-dbac-4bc0-9a09-f977deb703ac"
   },
   "outputs": [
    {
     "name": "stdout",
     "output_type": "stream",
     "text": [
      "Help on built-in function log in module math:\n",
      "\n",
      "log(...)\n",
      "    log(x, [base=math.e])\n",
      "    Return the logarithm of x to the given base.\n",
      "    \n",
      "    If the base not specified, returns the natural logarithm (base e) of x.\n",
      "\n"
     ]
    }
   ],
   "source": [
    "help(math.log)"
   ]
  },
  {
   "cell_type": "code",
   "execution_count": 42,
   "metadata": {
    "colab": {
     "base_uri": "https://localhost:8080/",
     "height": 165
    },
    "executionInfo": {
     "elapsed": 8,
     "status": "error",
     "timestamp": 1678656787118,
     "user": {
      "displayName": "Nilson Donizete Guerin Junior",
      "userId": "02843894754276188444"
     },
     "user_tz": 180
    },
    "id": "hE4fWKu5va_5",
    "outputId": "05779968-301f-405f-b95d-f6cab05a9998"
   },
   "outputs": [
    {
     "data": {
      "text/plain": [
       "2.302585092994046"
      ]
     },
     "execution_count": 42,
     "metadata": {},
     "output_type": "execute_result"
    }
   ],
   "source": [
    "log(10)"
   ]
  },
  {
   "cell_type": "code",
   "execution_count": 43,
   "metadata": {
    "id": "F5mNb3utzTrZ"
   },
   "outputs": [
    {
     "data": {
      "text/plain": [
       "3.3219280948873626"
      ]
     },
     "execution_count": 43,
     "metadata": {},
     "output_type": "execute_result"
    }
   ],
   "source": [
    "log(10, 2)"
   ]
  },
  {
   "cell_type": "markdown",
   "metadata": {
    "id": "nHkHFm1K1y2A"
   },
   "source": [
    "# Estruturas de controle\n",
    "\n",
    "Utilizadas para controlar o fluxo sequencial de execução do código"
   ]
  },
  {
   "cell_type": "markdown",
   "metadata": {
    "id": "gwzmWlU4swNh"
   },
   "source": [
    "## Estrutura Condicional"
   ]
  },
  {
   "cell_type": "code",
   "execution_count": 44,
   "metadata": {
    "id": "APc-YNaHswNi",
    "outputId": "79a5fedb-6e13-411a-d797-5aae9e3c559a"
   },
   "outputs": [
    {
     "name": "stdout",
     "output_type": "stream",
     "text": [
      "b é maior que a\n"
     ]
    }
   ],
   "source": [
    "a = 33\n",
    "b = 200\n",
    "if b > a:\n",
    "    print(\"b é maior que a\")\n",
    "elif b < a:\n",
    "    print(\"b é menor que a\")\n",
    "else:\n",
    "    print(\"b é igual a\")"
   ]
  },
  {
   "cell_type": "markdown",
   "metadata": {
    "id": "OSVpAD0qswNi"
   },
   "source": [
    "## Repetição"
   ]
  },
  {
   "cell_type": "code",
   "execution_count": 45,
   "metadata": {
    "id": "PZpX3-vUswNi",
    "outputId": "c4672393-7558-42eb-9479-0d5bc3fa6046"
   },
   "outputs": [
    {
     "name": "stdout",
     "output_type": "stream",
     "text": [
      "1\n",
      "2\n",
      "3\n",
      "4\n",
      "5\n"
     ]
    }
   ],
   "source": [
    "i = 1\n",
    "while i < 6:\n",
    "  print(i)\n",
    "  i += 1 # equivalente a i = i + 1"
   ]
  },
  {
   "cell_type": "code",
   "execution_count": 46,
   "metadata": {
    "id": "spnC2lDbswNi",
    "outputId": "1d4f4b56-65a8-48a6-d76f-7faa0235e1e3"
   },
   "outputs": [
    {
     "name": "stdout",
     "output_type": "stream",
     "text": [
      "Audio/Visual\n",
      "Jornalismo\n",
      "Publicidade\n"
     ]
    }
   ],
   "source": [
    "cursos = [\"Audio/Visual\", \"Jornalismo\", \"Publicidade\"]\n",
    "for x in cursos:\n",
    "  print(x)"
   ]
  },
  {
   "cell_type": "markdown",
   "metadata": {
    "id": "9e1i1BJy7F4P"
   },
   "source": [
    "# Manipulando dados compostos\n",
    "\n",
    "Strings, listas e dicionários são tipos compostos. Ou seja, são um \"agrupamento\" de tipos diferentes."
   ]
  },
  {
   "cell_type": "markdown",
   "metadata": {
    "id": "lPHYs4Ar7ZNK"
   },
   "source": [
    "## Strings\n",
    "\n",
    "São composições de caracteres"
   ]
  },
  {
   "cell_type": "code",
   "execution_count": 47,
   "metadata": {
    "colab": {
     "base_uri": "https://localhost:8080/"
    },
    "executionInfo": {
     "elapsed": 288,
     "status": "ok",
     "timestamp": 1678660031923,
     "user": {
      "displayName": "Nilson Donizete Guerin Junior",
      "userId": "02843894754276188444"
     },
     "user_tz": 180
    },
    "id": "VRatB6HQ7V9Y",
    "outputId": "583a926c-7fb2-49e1-9487-ce2682c62902"
   },
   "outputs": [
    {
     "data": {
      "text/plain": [
       "str"
      ]
     },
     "execution_count": 47,
     "metadata": {},
     "output_type": "execute_result"
    }
   ],
   "source": [
    "s = \"Olá mundo\"\n",
    "type(s)"
   ]
  },
  {
   "cell_type": "code",
   "execution_count": 48,
   "metadata": {
    "colab": {
     "base_uri": "https://localhost:8080/"
    },
    "executionInfo": {
     "elapsed": 2,
     "status": "ok",
     "timestamp": 1678660032300,
     "user": {
      "displayName": "Nilson Donizete Guerin Junior",
      "userId": "02843894754276188444"
     },
     "user_tz": 180
    },
    "id": "Io0OvM2s7dM_",
    "outputId": "6eaaebf6-2ee8-4791-ffcb-c40efe85dcfe"
   },
   "outputs": [
    {
     "data": {
      "text/plain": [
       "9"
      ]
     },
     "execution_count": 48,
     "metadata": {},
     "output_type": "execute_result"
    }
   ],
   "source": [
    "len(s) # o comprimento da string (número de caracteres)"
   ]
  },
  {
   "cell_type": "code",
   "execution_count": 49,
   "metadata": {
    "colab": {
     "base_uri": "https://localhost:8080/"
    },
    "executionInfo": {
     "elapsed": 7,
     "status": "ok",
     "timestamp": 1678660032704,
     "user": {
      "displayName": "Nilson Donizete Guerin Junior",
      "userId": "02843894754276188444"
     },
     "user_tz": 180
    },
    "id": "s9dyMjWY7fpo",
    "outputId": "4026739b-e294-4e2f-8ab2-676245f44911"
   },
   "outputs": [
    {
     "name": "stdout",
     "output_type": "stream",
     "text": [
      "Olá teste\n"
     ]
    }
   ],
   "source": [
    "# substituir uma substring de uma string com alguma coisa\n",
    "s2 = s.replace(\"mundo\", \"teste\")\n",
    "print(s2)"
   ]
  },
  {
   "cell_type": "code",
   "execution_count": 50,
   "metadata": {
    "colab": {
     "base_uri": "https://localhost:8080/",
     "height": 35
    },
    "executionInfo": {
     "elapsed": 4,
     "status": "ok",
     "timestamp": 1678660032704,
     "user": {
      "displayName": "Nilson Donizete Guerin Junior",
      "userId": "02843894754276188444"
     },
     "user_tz": 180
    },
    "id": "SeKCDM487nck",
    "outputId": "0b00def0-3fe3-4013-f4c9-9ddf4183d8fc"
   },
   "outputs": [
    {
     "data": {
      "text/plain": [
       "'O'"
      ]
     },
     "execution_count": 50,
     "metadata": {},
     "output_type": "execute_result"
    }
   ],
   "source": [
    "# podemos acessar caracteres com a indexação\n",
    "s[0]"
   ]
  },
  {
   "cell_type": "code",
   "execution_count": 51,
   "metadata": {
    "colab": {
     "base_uri": "https://localhost:8080/",
     "height": 35
    },
    "executionInfo": {
     "elapsed": 318,
     "status": "ok",
     "timestamp": 1678660034189,
     "user": {
      "displayName": "Nilson Donizete Guerin Junior",
      "userId": "02843894754276188444"
     },
     "user_tz": 180
    },
    "id": "HVFS0OMG7qBR",
    "outputId": "12ab051c-b69f-44de-d7d9-43fbac7745c7"
   },
   "outputs": [
    {
     "data": {
      "text/plain": [
       "'Olá m'"
      ]
     },
     "execution_count": 51,
     "metadata": {},
     "output_type": "execute_result"
    }
   ],
   "source": [
    "# podemos fazer o slicing: especificar um intervalo de indices\n",
    "# [inicio:fim], que começa a indexação em 'inicio' e termina em 'fim - 1'\n",
    "s[0:5]"
   ]
  },
  {
   "cell_type": "code",
   "execution_count": 52,
   "metadata": {
    "colab": {
     "base_uri": "https://localhost:8080/",
     "height": 35
    },
    "executionInfo": {
     "elapsed": 357,
     "status": "ok",
     "timestamp": 1678660037156,
     "user": {
      "displayName": "Nilson Donizete Guerin Junior",
      "userId": "02843894754276188444"
     },
     "user_tz": 180
    },
    "id": "5GgN9MwN7uI_",
    "outputId": "9b82d85c-0320-4683-957d-7b4ff8c3b37a"
   },
   "outputs": [
    {
     "data": {
      "text/plain": [
       "'m'"
      ]
     },
     "execution_count": 52,
     "metadata": {},
     "output_type": "execute_result"
    }
   ],
   "source": [
    "s[4:5]"
   ]
  },
  {
   "cell_type": "code",
   "execution_count": 53,
   "metadata": {
    "id": "UUOnKudj72ca"
   },
   "outputs": [],
   "source": [
    "# se omitir inicio ou fim, o padrão é do início ao fim da string"
   ]
  },
  {
   "cell_type": "code",
   "execution_count": 54,
   "metadata": {
    "colab": {
     "base_uri": "https://localhost:8080/",
     "height": 35
    },
    "executionInfo": {
     "elapsed": 279,
     "status": "ok",
     "timestamp": 1678660057787,
     "user": {
      "displayName": "Nilson Donizete Guerin Junior",
      "userId": "02843894754276188444"
     },
     "user_tz": 180
    },
    "id": "ohs8hr9s76rH",
    "outputId": "3a138a85-c6cf-47c8-872b-9f0a544b50ee"
   },
   "outputs": [
    {
     "data": {
      "text/plain": [
       "'Olá m'"
      ]
     },
     "execution_count": 54,
     "metadata": {},
     "output_type": "execute_result"
    }
   ],
   "source": [
    "s[:5]"
   ]
  },
  {
   "cell_type": "code",
   "execution_count": 55,
   "metadata": {
    "colab": {
     "base_uri": "https://localhost:8080/",
     "height": 35
    },
    "executionInfo": {
     "elapsed": 373,
     "status": "ok",
     "timestamp": 1678660075942,
     "user": {
      "displayName": "Nilson Donizete Guerin Junior",
      "userId": "02843894754276188444"
     },
     "user_tz": 180
    },
    "id": "Gi4k_QuV7_bg",
    "outputId": "9264d77a-3a51-470e-82ef-1fcf576ded69"
   },
   "outputs": [
    {
     "data": {
      "text/plain": [
       "'ndo'"
      ]
     },
     "execution_count": 55,
     "metadata": {},
     "output_type": "execute_result"
    }
   ],
   "source": [
    "s[6:]"
   ]
  },
  {
   "cell_type": "code",
   "execution_count": 56,
   "metadata": {
    "colab": {
     "base_uri": "https://localhost:8080/",
     "height": 35
    },
    "executionInfo": {
     "elapsed": 339,
     "status": "ok",
     "timestamp": 1678660077515,
     "user": {
      "displayName": "Nilson Donizete Guerin Junior",
      "userId": "02843894754276188444"
     },
     "user_tz": 180
    },
    "id": "eH8dbHFc77fz",
    "outputId": "dd205571-a59e-4806-edba-e418d71e6015"
   },
   "outputs": [
    {
     "data": {
      "text/plain": [
       "'Olá mundo'"
      ]
     },
     "execution_count": 56,
     "metadata": {},
     "output_type": "execute_result"
    }
   ],
   "source": [
    "s[:]"
   ]
  },
  {
   "cell_type": "markdown",
   "metadata": {
    "id": "Zdq4QIwX8ATW"
   },
   "source": [
    "## Listas\n",
    "\n",
    "A manipulação é muito similar a strings, exceto que listas podem conter qualquer tipo de dado"
   ]
  },
  {
   "cell_type": "code",
   "execution_count": 57,
   "metadata": {
    "colab": {
     "base_uri": "https://localhost:8080/"
    },
    "executionInfo": {
     "elapsed": 310,
     "status": "ok",
     "timestamp": 1678660115392,
     "user": {
      "displayName": "Nilson Donizete Guerin Junior",
      "userId": "02843894754276188444"
     },
     "user_tz": 180
    },
    "id": "5pjSa-EO8HKy",
    "outputId": "b0358903-d167-46ec-cb2a-26695e0f68c1"
   },
   "outputs": [
    {
     "name": "stdout",
     "output_type": "stream",
     "text": [
      "<class 'list'>\n",
      "[1, 2, 3, 4]\n"
     ]
    }
   ],
   "source": [
    "l = [1, 2, 3, 4]\n",
    "print(type(l))\n",
    "print(l)"
   ]
  },
  {
   "cell_type": "code",
   "execution_count": 58,
   "metadata": {
    "id": "spAv_ESd8Jj1"
   },
   "outputs": [
    {
     "name": "stdout",
     "output_type": "stream",
     "text": [
      "[1, 2, 3, 4]\n",
      "[2, 3]\n"
     ]
    }
   ],
   "source": [
    "print(l)\n",
    "print(l[1:3])"
   ]
  },
  {
   "cell_type": "code",
   "execution_count": 59,
   "metadata": {
    "id": "K6OOmrpu8NZA"
   },
   "outputs": [
    {
     "data": {
      "text/plain": [
       "1"
      ]
     },
     "execution_count": 59,
     "metadata": {},
     "output_type": "execute_result"
    }
   ],
   "source": [
    "l[0]"
   ]
  },
  {
   "cell_type": "code",
   "execution_count": 60,
   "metadata": {
    "id": "HWo-VEV58OWC"
   },
   "outputs": [
    {
     "name": "stdout",
     "output_type": "stream",
     "text": [
      "[1, 'a', 1.0]\n"
     ]
    }
   ],
   "source": [
    "l = [1, 'a', 1.0] # podem conter quaisquer tipos de dado\n",
    "print(l)"
   ]
  },
  {
   "cell_type": "code",
   "execution_count": null,
   "metadata": {
    "id": "tXtys87j8T5N"
   },
   "outputs": [],
   "source": [
    "l = [1, [2, 3]] # include outras listas\n",
    "\n",
    "print(l[0])\n",
    "print(l[1])"
   ]
  },
  {
   "cell_type": "code",
   "execution_count": 61,
   "metadata": {
    "colab": {
     "base_uri": "https://localhost:8080/"
    },
    "executionInfo": {
     "elapsed": 276,
     "status": "ok",
     "timestamp": 1678660229024,
     "user": {
      "displayName": "Nilson Donizete Guerin Junior",
      "userId": "02843894754276188444"
     },
     "user_tz": 180
    },
    "id": "J27TBhsn8cTg",
    "outputId": "4d94df82-2f98-4fed-9bf0-11be2c6ad64b"
   },
   "outputs": [
    {
     "data": {
      "text/plain": [
       "range(10, 30, 2)"
      ]
     },
     "execution_count": 61,
     "metadata": {},
     "output_type": "execute_result"
    }
   ],
   "source": [
    "# Listas são úteis para serem utilizadas nos laços for\n",
    "inicio = 10\n",
    "fim = 30\n",
    "passo = 2\n",
    "\n",
    "range(inicio, fim, passo)"
   ]
  },
  {
   "cell_type": "code",
   "execution_count": 62,
   "metadata": {
    "colab": {
     "base_uri": "https://localhost:8080/"
    },
    "executionInfo": {
     "elapsed": 276,
     "status": "ok",
     "timestamp": 1678660241590,
     "user": {
      "displayName": "Nilson Donizete Guerin Junior",
      "userId": "02843894754276188444"
     },
     "user_tz": 180
    },
    "id": "TUSkZ8Ja8lTz",
    "outputId": "c24db2fc-8413-4d38-82a3-fd249f6f8d66"
   },
   "outputs": [
    {
     "data": {
      "text/plain": [
       "[10, 12, 14, 16, 18, 20, 22, 24, 26, 28]"
      ]
     },
     "execution_count": 62,
     "metadata": {},
     "output_type": "execute_result"
    }
   ],
   "source": [
    "list(range(inicio, fim, passo))"
   ]
  },
  {
   "cell_type": "code",
   "execution_count": 63,
   "metadata": {
    "colab": {
     "base_uri": "https://localhost:8080/"
    },
    "executionInfo": {
     "elapsed": 260,
     "status": "ok",
     "timestamp": 1678660250558,
     "user": {
      "displayName": "Nilson Donizete Guerin Junior",
      "userId": "02843894754276188444"
     },
     "user_tz": 180
    },
    "id": "9TOEX-cG8oYU",
    "outputId": "d5992543-4610-4601-dbed-1010e02c8426"
   },
   "outputs": [
    {
     "data": {
      "text/plain": [
       "[-10, -9, -8, -7, -6, -5, -4, -3, -2, -1, 0, 1, 2, 3, 4, 5, 6, 7, 8, 9]"
      ]
     },
     "execution_count": 63,
     "metadata": {},
     "output_type": "execute_result"
    }
   ],
   "source": [
    "list(range(-10, 10))"
   ]
  },
  {
   "cell_type": "code",
   "execution_count": 64,
   "metadata": {
    "colab": {
     "base_uri": "https://localhost:8080/"
    },
    "executionInfo": {
     "elapsed": 281,
     "status": "ok",
     "timestamp": 1678660310513,
     "user": {
      "displayName": "Nilson Donizete Guerin Junior",
      "userId": "02843894754276188444"
     },
     "user_tz": 180
    },
    "id": "BzsCQvr98qkq",
    "outputId": "addd0859-6e09-4369-8f7b-b3d0cc1550c0"
   },
   "outputs": [
    {
     "name": "stdout",
     "output_type": "stream",
     "text": [
      "[-3, -1, 1, 2]\n"
     ]
    }
   ],
   "source": [
    "l = [1, 2, -3, -1]\n",
    "l.sort()\n",
    "print(l)"
   ]
  },
  {
   "cell_type": "markdown",
   "metadata": {
    "id": "5itVrHyo81Hi"
   },
   "source": [
    "### Adicionando, inserindo, modificando e removendo elementos de listas"
   ]
  },
  {
   "cell_type": "code",
   "execution_count": 65,
   "metadata": {
    "colab": {
     "base_uri": "https://localhost:8080/"
    },
    "executionInfo": {
     "elapsed": 303,
     "status": "ok",
     "timestamp": 1678660488976,
     "user": {
      "displayName": "Nilson Donizete Guerin Junior",
      "userId": "02843894754276188444"
     },
     "user_tz": 180
    },
    "id": "IRb-er6C9DX2",
    "outputId": "31761fdb-bd3c-4c41-e5d0-da75c87b5f2b"
   },
   "outputs": [
    {
     "name": "stdout",
     "output_type": "stream",
     "text": [
      "['A', 'd', 'd']\n"
     ]
    }
   ],
   "source": [
    "l = [] # lista vazia\n",
    "\n",
    "# adiciona elementos\n",
    "l.append(\"A\")\n",
    "l.append(\"d\")\n",
    "l.append(\"d\")\n",
    "\n",
    "print(l)"
   ]
  },
  {
   "cell_type": "code",
   "execution_count": 66,
   "metadata": {
    "colab": {
     "base_uri": "https://localhost:8080/"
    },
    "executionInfo": {
     "elapsed": 3,
     "status": "ok",
     "timestamp": 1678660489377,
     "user": {
      "displayName": "Nilson Donizete Guerin Junior",
      "userId": "02843894754276188444"
     },
     "user_tz": 180
    },
    "id": "W6UvJNRR9KRA",
    "outputId": "b6566c2c-44d7-45fc-8e17-3f3f10cca643"
   },
   "outputs": [
    {
     "name": "stdout",
     "output_type": "stream",
     "text": [
      "['A', 'p', 'p']\n"
     ]
    }
   ],
   "source": [
    "l[1] = \"p\"\n",
    "l[2] = \"p\"\n",
    "\n",
    "print(l)"
   ]
  },
  {
   "cell_type": "code",
   "execution_count": 67,
   "metadata": {
    "colab": {
     "base_uri": "https://localhost:8080/"
    },
    "executionInfo": {
     "elapsed": 4,
     "status": "ok",
     "timestamp": 1678660489699,
     "user": {
      "displayName": "Nilson Donizete Guerin Junior",
      "userId": "02843894754276188444"
     },
     "user_tz": 180
    },
    "id": "Xk2yuE9h9MyZ",
    "outputId": "3680ea29-8cd8-45cd-8eba-992bbbcdd5ab"
   },
   "outputs": [
    {
     "name": "stdout",
     "output_type": "stream",
     "text": [
      "['A', 'd', 'd']\n"
     ]
    }
   ],
   "source": [
    "l[1:3] = [\"d\", \"d\"]\n",
    "print(l)"
   ]
  },
  {
   "cell_type": "code",
   "execution_count": 68,
   "metadata": {
    "colab": {
     "base_uri": "https://localhost:8080/"
    },
    "executionInfo": {
     "elapsed": 254,
     "status": "ok",
     "timestamp": 1678660536241,
     "user": {
      "displayName": "Nilson Donizete Guerin Junior",
      "userId": "02843894754276188444"
     },
     "user_tz": 180
    },
    "id": "azQ0WOTg9Qzo",
    "outputId": "a1be4d24-e1ba-41b1-eeb8-8607cae1a734"
   },
   "outputs": [
    {
     "name": "stdout",
     "output_type": "stream",
     "text": [
      "['i', 'n', 's', 'e', 'r', 'i', 'r']\n",
      "['i', 'n', 's', 'e', 'r', 'i']\n",
      "['n', 's', 'e', 'r', 'i']\n"
     ]
    }
   ],
   "source": [
    "# remove um elemento em uma localização especifica\n",
    "l = ['i', 'n', 's', 'e', 'r', 'i', 'r']\n",
    "\n",
    "print(l)\n",
    "\n",
    "del l[6]\n",
    "print(l)\n",
    "del l[0]\n",
    "print(l)"
   ]
  },
  {
   "cell_type": "markdown",
   "metadata": {
    "id": "JSFTylWZ9dAV"
   },
   "source": [
    "### Tuplas\n",
    "\n",
    "Tuplas são como listas, exceto que elas são **imutáveis**. Uma vez criadas, não podem ser modificadas."
   ]
  },
  {
   "cell_type": "code",
   "execution_count": 69,
   "metadata": {
    "colab": {
     "base_uri": "https://localhost:8080/"
    },
    "executionInfo": {
     "elapsed": 3,
     "status": "ok",
     "timestamp": 1678668385131,
     "user": {
      "displayName": "Nilson Donizete Guerin Junior",
      "userId": "02843894754276188444"
     },
     "user_tz": 180
    },
    "id": "6fVq_hYO92YK",
    "outputId": "b9820566-870a-4685-c187-502df8c729a0"
   },
   "outputs": [
    {
     "name": "stdout",
     "output_type": "stream",
     "text": [
      "(10, 20) <class 'tuple'>\n"
     ]
    }
   ],
   "source": [
    "ponto = (10, 20)\n",
    "print(ponto, type(ponto))"
   ]
  },
  {
   "cell_type": "code",
   "execution_count": 70,
   "metadata": {
    "colab": {
     "base_uri": "https://localhost:8080/"
    },
    "executionInfo": {
     "elapsed": 299,
     "status": "ok",
     "timestamp": 1678668437900,
     "user": {
      "displayName": "Nilson Donizete Guerin Junior",
      "userId": "02843894754276188444"
     },
     "user_tz": 180
    },
    "id": "uYgP18FFbpu-",
    "outputId": "69363e17-1327-44c2-e2c9-70a089b40bfd"
   },
   "outputs": [
    {
     "name": "stdout",
     "output_type": "stream",
     "text": [
      "(10, 20) <class 'tuple'>\n",
      "x =  10\n",
      "y =  20\n"
     ]
    }
   ],
   "source": [
    "ponto = 10, 20 # empacotamento\n",
    "x, y = ponto # desempacotamento\n",
    "\n",
    "print(ponto, type(ponto))\n",
    "print(\"x = \", x) # separador por vírgula gera uma string concatenada\n",
    "print(\"y = \", y)"
   ]
  },
  {
   "cell_type": "code",
   "execution_count": 71,
   "metadata": {
    "colab": {
     "base_uri": "https://localhost:8080/",
     "height": 165
    },
    "executionInfo": {
     "elapsed": 418,
     "status": "error",
     "timestamp": 1678668452727,
     "user": {
      "displayName": "Nilson Donizete Guerin Junior",
      "userId": "02843894754276188444"
     },
     "user_tz": 180
    },
    "id": "yqutac6qb5Wa",
    "outputId": "655e6b8e-69e7-4b8f-d483-e042ad1d2b36"
   },
   "outputs": [
    {
     "ename": "TypeError",
     "evalue": "'tuple' object does not support item assignment",
     "output_type": "error",
     "traceback": [
      "\u001b[1;31m---------------------------------------------------------------------------\u001b[0m",
      "\u001b[1;31mTypeError\u001b[0m                                 Traceback (most recent call last)",
      "\u001b[1;32m~\\AppData\\Local\\Temp\\ipykernel_10740\\2471221311.py\u001b[0m in \u001b[0;36m<module>\u001b[1;34m\u001b[0m\n\u001b[1;32m----> 1\u001b[1;33m \u001b[0mponto\u001b[0m\u001b[1;33m[\u001b[0m\u001b[1;36m0\u001b[0m\u001b[1;33m]\u001b[0m \u001b[1;33m=\u001b[0m \u001b[1;36m20\u001b[0m \u001b[1;31m# diferente de listas, aqui trará um erro\u001b[0m\u001b[1;33m\u001b[0m\u001b[1;33m\u001b[0m\u001b[0m\n\u001b[0m",
      "\u001b[1;31mTypeError\u001b[0m: 'tuple' object does not support item assignment"
     ]
    }
   ],
   "source": [
    "ponto[0] = 20 # diferente de listas, aqui trará um erro"
   ]
  },
  {
   "cell_type": "markdown",
   "metadata": {
    "id": "6WL78CSob8_R"
   },
   "source": [
    "### Dicionários"
   ]
  },
  {
   "cell_type": "code",
   "execution_count": 72,
   "metadata": {
    "colab": {
     "base_uri": "https://localhost:8080/"
    },
    "executionInfo": {
     "elapsed": 266,
     "status": "ok",
     "timestamp": 1678668498803,
     "user": {
      "displayName": "Nilson Donizete Guerin Junior",
      "userId": "02843894754276188444"
     },
     "user_tz": 180
    },
    "id": "yRnQdamTb_Dz",
    "outputId": "8216b08c-7757-48de-b78e-ecf8aac0fdb8"
   },
   "outputs": [
    {
     "name": "stdout",
     "output_type": "stream",
     "text": [
      "<class 'dict'>\n",
      "{'parametro1': 1.0, 'parametro2': 2.0, 'parametro3': 3.0}\n"
     ]
    }
   ],
   "source": [
    "parametros = {\"parametro1\": 1.0,\n",
    "              \"parametro2\": 2.0,\n",
    "              \"parametro3\": 3.0}\n",
    "print(type(parametros))\n",
    "print(parametros)"
   ]
  },
  {
   "cell_type": "code",
   "execution_count": 73,
   "metadata": {
    "colab": {
     "base_uri": "https://localhost:8080/"
    },
    "executionInfo": {
     "elapsed": 2,
     "status": "ok",
     "timestamp": 1678668560342,
     "user": {
      "displayName": "Nilson Donizete Guerin Junior",
      "userId": "02843894754276188444"
     },
     "user_tz": 180
    },
    "id": "Ws-6I65QcIMU",
    "outputId": "7f835e9b-c721-4be5-9ac0-aac7e1e29d68"
   },
   "outputs": [
    {
     "name": "stdout",
     "output_type": "stream",
     "text": [
      "parametro1 = 1.0\n",
      "parametro2 = 2.0\n",
      "parametro3 = 3.0\n"
     ]
    }
   ],
   "source": [
    "print(\"parametro1 = \" + str(parametros[\"parametro1\"]))\n",
    "print(\"parametro2 = \" + str(parametros[\"parametro2\"]))\n",
    "print(\"parametro3 = \" + str(parametros[\"parametro3\"]))"
   ]
  },
  {
   "cell_type": "code",
   "execution_count": 74,
   "metadata": {
    "colab": {
     "base_uri": "https://localhost:8080/"
    },
    "executionInfo": {
     "elapsed": 7,
     "status": "ok",
     "timestamp": 1678668609857,
     "user": {
      "displayName": "Nilson Donizete Guerin Junior",
      "userId": "02843894754276188444"
     },
     "user_tz": 180
    },
    "id": "mWBtm-_OcVW2",
    "outputId": "6870a418-6f1d-473e-b2f5-66a8a81f35c9"
   },
   "outputs": [
    {
     "name": "stdout",
     "output_type": "stream",
     "text": [
      "parametro1 = A\n",
      "parametro2 = B\n",
      "parametro3 = 3.0\n",
      "parametro4 = D\n"
     ]
    }
   ],
   "source": [
    "parametros[\"parametro1\"] = \"A\"\n",
    "parametros[\"parametro2\"] = \"B\"\n",
    "\n",
    "# adiciona uma nova entrada\n",
    "parametros[\"parametro4\"] = \"D\"\n",
    "\n",
    "print(\"parametro1 = \" + str(parametros[\"parametro1\"]))\n",
    "print(\"parametro2 = \" + str(parametros[\"parametro2\"]))\n",
    "print(\"parametro3 = \" + str(parametros[\"parametro3\"]))\n",
    "print(\"parametro4 = \" + str(parametros[\"parametro4\"]))"
   ]
  },
  {
   "cell_type": "markdown",
   "metadata": {
    "id": "aTXJl_gDdP9U"
   },
   "source": [
    "# Arrays\n",
    "\n",
    "A biblioteca mais utilizada para representar vetores (arrays) é o NumPy. A biblioteca é muito útil para várias funções matemáticas, desde coisas mais simples a coisas mais complexas. Uma característica é que é um módulo bastante eficiente para representar agrupamentos de dados (arrays, matrizes e estruturas de dados de alta dimensionalidade)"
   ]
  },
  {
   "cell_type": "code",
   "execution_count": 75,
   "metadata": {
    "executionInfo": {
     "elapsed": 5,
     "status": "ok",
     "timestamp": 1678668972005,
     "user": {
      "displayName": "Nilson Donizete Guerin Junior",
      "userId": "02843894754276188444"
     },
     "user_tz": 180
    },
    "id": "VzNWQxd1delG"
   },
   "outputs": [],
   "source": [
    "import numpy as np"
   ]
  },
  {
   "cell_type": "markdown",
   "metadata": {
    "id": "ITPuvmhNd7oc"
   },
   "source": [
    "## Criando arrays"
   ]
  },
  {
   "cell_type": "code",
   "execution_count": 76,
   "metadata": {
    "colab": {
     "base_uri": "https://localhost:8080/"
    },
    "executionInfo": {
     "elapsed": 284,
     "status": "ok",
     "timestamp": 1678669018753,
     "user": {
      "displayName": "Nilson Donizete Guerin Junior",
      "userId": "02843894754276188444"
     },
     "user_tz": 180
    },
    "id": "12H1_SFud_P0",
    "outputId": "668d329a-7868-4bfe-c069-914274c56406"
   },
   "outputs": [
    {
     "name": "stdout",
     "output_type": "stream",
     "text": [
      "[1 2 3 4]\n",
      "<class 'numpy.ndarray'>\n"
     ]
    }
   ],
   "source": [
    "import numpy as np\n",
    "\n",
    "v = np.array([1, 2, 3, 4])\n",
    "print(v)\n",
    "print(type(v))"
   ]
  },
  {
   "cell_type": "code",
   "execution_count": 77,
   "metadata": {
    "colab": {
     "base_uri": "https://localhost:8080/"
    },
    "executionInfo": {
     "elapsed": 3,
     "status": "ok",
     "timestamp": 1678669028409,
     "user": {
      "displayName": "Nilson Donizete Guerin Junior",
      "userId": "02843894754276188444"
     },
     "user_tz": 180
    },
    "id": "e91-DT6KeH5U",
    "outputId": "fedb0cec-d0c0-4cfd-db0c-5d1d2bec46b3"
   },
   "outputs": [
    {
     "data": {
      "text/plain": [
       "(4,)"
      ]
     },
     "execution_count": 77,
     "metadata": {},
     "output_type": "execute_result"
    }
   ],
   "source": [
    "v.shape"
   ]
  },
  {
   "cell_type": "code",
   "execution_count": 78,
   "metadata": {
    "colab": {
     "base_uri": "https://localhost:8080/"
    },
    "executionInfo": {
     "elapsed": 2,
     "status": "ok",
     "timestamp": 1678669065121,
     "user": {
      "displayName": "Nilson Donizete Guerin Junior",
      "userId": "02843894754276188444"
     },
     "user_tz": 180
    },
    "id": "QsnkSMePeKY8",
    "outputId": "accc6b32-333b-40e3-e6b6-ec94866fe348"
   },
   "outputs": [
    {
     "name": "stdout",
     "output_type": "stream",
     "text": [
      "[[1 2]\n",
      " [3 4]]\n",
      "<class 'numpy.ndarray'>\n",
      "(2, 2)\n",
      "4\n"
     ]
    }
   ],
   "source": [
    "M = np.array([[1, 2], [3, 4]])\n",
    "print(M)\n",
    "print(type(M))\n",
    "print(M.shape)\n",
    "print(M.size)"
   ]
  },
  {
   "cell_type": "code",
   "execution_count": 79,
   "metadata": {
    "colab": {
     "base_uri": "https://localhost:8080/"
    },
    "executionInfo": {
     "elapsed": 283,
     "status": "ok",
     "timestamp": 1678669078389,
     "user": {
      "displayName": "Nilson Donizete Guerin Junior",
      "userId": "02843894754276188444"
     },
     "user_tz": 180
    },
    "id": "mZ9kMv8MeQDE",
    "outputId": "bf39e219-ef0c-439f-f008-4b60a28134c1"
   },
   "outputs": [
    {
     "data": {
      "text/plain": [
       "dtype('int32')"
      ]
     },
     "execution_count": 79,
     "metadata": {},
     "output_type": "execute_result"
    }
   ],
   "source": [
    "M.dtype"
   ]
  },
  {
   "cell_type": "code",
   "execution_count": 80,
   "metadata": {
    "colab": {
     "base_uri": "https://localhost:8080/",
     "height": 165
    },
    "executionInfo": {
     "elapsed": 9,
     "status": "error",
     "timestamp": 1678669095109,
     "user": {
      "displayName": "Nilson Donizete Guerin Junior",
      "userId": "02843894754276188444"
     },
     "user_tz": 180
    },
    "id": "XC0qIJRkeYfM",
    "outputId": "9f173014-2230-4a47-b3e1-7211450e9b78"
   },
   "outputs": [
    {
     "ename": "ValueError",
     "evalue": "invalid literal for int() with base 10: 'olá'",
     "output_type": "error",
     "traceback": [
      "\u001b[1;31m---------------------------------------------------------------------------\u001b[0m",
      "\u001b[1;31mValueError\u001b[0m                                Traceback (most recent call last)",
      "\u001b[1;32m~\\AppData\\Local\\Temp\\ipykernel_10740\\2215549629.py\u001b[0m in \u001b[0;36m<module>\u001b[1;34m\u001b[0m\n\u001b[1;32m----> 1\u001b[1;33m \u001b[0mM\u001b[0m\u001b[1;33m[\u001b[0m\u001b[1;36m0\u001b[0m\u001b[1;33m,\u001b[0m \u001b[1;36m0\u001b[0m\u001b[1;33m]\u001b[0m \u001b[1;33m=\u001b[0m \u001b[1;34m\"olá\"\u001b[0m\u001b[1;33m\u001b[0m\u001b[1;33m\u001b[0m\u001b[0m\n\u001b[0m",
      "\u001b[1;31mValueError\u001b[0m: invalid literal for int() with base 10: 'olá'"
     ]
    }
   ],
   "source": [
    "M[0, 0] = \"olá\""
   ]
  },
  {
   "cell_type": "markdown",
   "metadata": {
    "id": "Ig_8S3jDeauw"
   },
   "source": [
    "## Números aleatórios"
   ]
  },
  {
   "cell_type": "code",
   "execution_count": 81,
   "metadata": {
    "executionInfo": {
     "elapsed": 3,
     "status": "ok",
     "timestamp": 1678669151542,
     "user": {
      "displayName": "Nilson Donizete Guerin Junior",
      "userId": "02843894754276188444"
     },
     "user_tz": 180
    },
    "id": "MRhBZwVZee5t"
   },
   "outputs": [],
   "source": [
    "from numpy import random"
   ]
  },
  {
   "cell_type": "code",
   "execution_count": 82,
   "metadata": {
    "colab": {
     "base_uri": "https://localhost:8080/"
    },
    "executionInfo": {
     "elapsed": 3,
     "status": "ok",
     "timestamp": 1678669201968,
     "user": {
      "displayName": "Nilson Donizete Guerin Junior",
      "userId": "02843894754276188444"
     },
     "user_tz": 180
    },
    "id": "r1gPCIT_ehEN",
    "outputId": "d99c8f34-dbf6-4b54-ec1e-a54a47edb722"
   },
   "outputs": [
    {
     "name": "stdout",
     "output_type": "stream",
     "text": [
      "[[0.05293292 0.22762699 0.16818506 0.75008461 0.06853419]\n",
      " [0.59065715 0.41537035 0.91136236 0.50601276 0.27309142]\n",
      " [0.79252475 0.26262082 0.3687975  0.35239527 0.12360962]\n",
      " [0.80828704 0.31778892 0.92589359 0.84909285 0.98091114]\n",
      " [0.29845993 0.80039738 0.48305513 0.03252287 0.62777496]]\n",
      "<class 'numpy.ndarray'>\n"
     ]
    }
   ],
   "source": [
    "v = random.rand(5, 5) # valores aleatórios uniformes entre [0, 1]\n",
    "print(v)\n",
    "print(type(v))"
   ]
  },
  {
   "cell_type": "code",
   "execution_count": 83,
   "metadata": {
    "colab": {
     "base_uri": "https://localhost:8080/"
    },
    "executionInfo": {
     "elapsed": 5,
     "status": "ok",
     "timestamp": 1678669249889,
     "user": {
      "displayName": "Nilson Donizete Guerin Junior",
      "userId": "02843894754276188444"
     },
     "user_tz": 180
    },
    "id": "UHnfebtZeoSY",
    "outputId": "bd55c2fa-f3a3-438e-9cf2-f335cee6f2e9"
   },
   "outputs": [
    {
     "name": "stdout",
     "output_type": "stream",
     "text": [
      "[[0. 0. 0.]\n",
      " [0. 0. 0.]\n",
      " [0. 0. 0.]]\n",
      "[[1. 1. 1.]\n",
      " [1. 1. 1.]\n",
      " [1. 1. 1.]]\n"
     ]
    }
   ],
   "source": [
    "zeros_v = np.zeros((3, 3))\n",
    "uns_v = np.ones((3, 3))\n",
    "\n",
    "print(zeros_v)\n",
    "print(uns_v)"
   ]
  },
  {
   "cell_type": "markdown",
   "metadata": {
    "id": "BzsjTo43e2LL"
   },
   "source": [
    "## Manipulando arrays"
   ]
  },
  {
   "cell_type": "code",
   "execution_count": 84,
   "metadata": {
    "colab": {
     "base_uri": "https://localhost:8080/"
    },
    "executionInfo": {
     "elapsed": 3,
     "status": "ok",
     "timestamp": 1678669307192,
     "user": {
      "displayName": "Nilson Donizete Guerin Junior",
      "userId": "02843894754276188444"
     },
     "user_tz": 180
    },
    "id": "7RbEea2jfC3s",
    "outputId": "d3187f6f-e62a-46bf-c82e-8db53b3b742e"
   },
   "outputs": [
    {
     "data": {
      "text/plain": [
       "array([[0.68218205, 0.75557392, 0.28260456, 0.61594017, 0.69889055],\n",
       "       [0.67124663, 0.06501598, 0.72654508, 0.48156251, 0.31988966],\n",
       "       [0.31764402, 0.58734118, 0.83546832, 0.1546297 , 0.43978268],\n",
       "       [0.10548324, 0.49952226, 0.88304279, 0.53166994, 0.02550301],\n",
       "       [0.57992162, 0.27665009, 0.74111809, 0.58619445, 0.84204943]])"
      ]
     },
     "execution_count": 84,
     "metadata": {},
     "output_type": "execute_result"
    }
   ],
   "source": [
    "v = random.rand(5, 5)\n",
    "v"
   ]
  },
  {
   "cell_type": "code",
   "execution_count": 85,
   "metadata": {
    "colab": {
     "base_uri": "https://localhost:8080/"
    },
    "executionInfo": {
     "elapsed": 1,
     "status": "ok",
     "timestamp": 1678669307535,
     "user": {
      "displayName": "Nilson Donizete Guerin Junior",
      "userId": "02843894754276188444"
     },
     "user_tz": 180
    },
    "id": "r7gM8ZSgfMsN",
    "outputId": "33c04f5c-70a1-4e64-d80f-c85b103da701"
   },
   "outputs": [
    {
     "data": {
      "text/plain": [
       "0.6821820503927756"
      ]
     },
     "execution_count": 85,
     "metadata": {},
     "output_type": "execute_result"
    }
   ],
   "source": [
    "v[0, 0]"
   ]
  },
  {
   "cell_type": "code",
   "execution_count": 86,
   "metadata": {
    "colab": {
     "base_uri": "https://localhost:8080/"
    },
    "executionInfo": {
     "elapsed": 4,
     "status": "ok",
     "timestamp": 1678669332073,
     "user": {
      "displayName": "Nilson Donizete Guerin Junior",
      "userId": "02843894754276188444"
     },
     "user_tz": 180
    },
    "id": "a_bSdDxtfJfx",
    "outputId": "22f8d51e-d3fc-4bd5-c07f-cd6b02bbb35e"
   },
   "outputs": [
    {
     "name": "stdout",
     "output_type": "stream",
     "text": [
      "[0.68218205 0.75557392 0.28260456 0.61594017 0.69889055]\n",
      "[0.68218205 0.75557392 0.28260456 0.61594017 0.69889055]\n"
     ]
    }
   ],
   "source": [
    "print(v[0])\n",
    "print(v[0, :])"
   ]
  },
  {
   "cell_type": "code",
   "execution_count": 87,
   "metadata": {
    "colab": {
     "base_uri": "https://localhost:8080/"
    },
    "executionInfo": {
     "elapsed": 4,
     "status": "ok",
     "timestamp": 1678669349459,
     "user": {
      "displayName": "Nilson Donizete Guerin Junior",
      "userId": "02843894754276188444"
     },
     "user_tz": 180
    },
    "id": "2XjJSP5OfO3z",
    "outputId": "03943acb-a8c6-4cdc-9958-c149c52c5706"
   },
   "outputs": [
    {
     "data": {
      "text/plain": [
       "array([[1.        , 0.75557392, 0.28260456, 0.61594017, 0.69889055],\n",
       "       [0.67124663, 0.06501598, 0.72654508, 0.48156251, 0.31988966],\n",
       "       [0.31764402, 0.58734118, 0.83546832, 0.1546297 , 0.43978268],\n",
       "       [0.10548324, 0.49952226, 0.88304279, 0.53166994, 0.02550301],\n",
       "       [0.57992162, 0.27665009, 0.74111809, 0.58619445, 0.84204943]])"
      ]
     },
     "execution_count": 87,
     "metadata": {},
     "output_type": "execute_result"
    }
   ],
   "source": [
    "v[0, 0] = 1\n",
    "v"
   ]
  },
  {
   "cell_type": "code",
   "execution_count": 88,
   "metadata": {
    "colab": {
     "base_uri": "https://localhost:8080/"
    },
    "executionInfo": {
     "elapsed": 3,
     "status": "ok",
     "timestamp": 1678669361739,
     "user": {
      "displayName": "Nilson Donizete Guerin Junior",
      "userId": "02843894754276188444"
     },
     "user_tz": 180
    },
    "id": "VGdUPeuDfYmz",
    "outputId": "134c7457-9655-4e64-92f7-b5699daf9404"
   },
   "outputs": [
    {
     "data": {
      "text/plain": [
       "array([[ 1.        ,  0.75557392,  0.28260456,  0.61594017,  0.69889055],\n",
       "       [-1.        , -1.        , -1.        , -1.        , -1.        ],\n",
       "       [ 0.31764402,  0.58734118,  0.83546832,  0.1546297 ,  0.43978268],\n",
       "       [ 0.10548324,  0.49952226,  0.88304279,  0.53166994,  0.02550301],\n",
       "       [ 0.57992162,  0.27665009,  0.74111809,  0.58619445,  0.84204943]])"
      ]
     },
     "execution_count": 88,
     "metadata": {},
     "output_type": "execute_result"
    }
   ],
   "source": [
    "v[1, :] = -1\n",
    "v"
   ]
  },
  {
   "cell_type": "code",
   "execution_count": 89,
   "metadata": {
    "colab": {
     "base_uri": "https://localhost:8080/"
    },
    "executionInfo": {
     "elapsed": 289,
     "status": "ok",
     "timestamp": 1678669386139,
     "user": {
      "displayName": "Nilson Donizete Guerin Junior",
      "userId": "02843894754276188444"
     },
     "user_tz": 180
    },
    "id": "5wbbScUlfeKq",
    "outputId": "90fcd7dd-7539-4969-d609-16ec702d5ad8"
   },
   "outputs": [
    {
     "data": {
      "text/plain": [
       "array([2, 3])"
      ]
     },
     "execution_count": 89,
     "metadata": {},
     "output_type": "execute_result"
    }
   ],
   "source": [
    "A = np.array([1, 2, 3, 4, 5])\n",
    "A[1:3]"
   ]
  },
  {
   "cell_type": "code",
   "execution_count": 90,
   "metadata": {
    "colab": {
     "base_uri": "https://localhost:8080/"
    },
    "executionInfo": {
     "elapsed": 282,
     "status": "ok",
     "timestamp": 1678669404817,
     "user": {
      "displayName": "Nilson Donizete Guerin Junior",
      "userId": "02843894754276188444"
     },
     "user_tz": 180
    },
    "id": "MXlHRUxWfiLk",
    "outputId": "76308eb9-21df-4bec-ecdf-05eaf10cc4e1"
   },
   "outputs": [
    {
     "data": {
      "text/plain": [
       "array([ 1, -2, -3,  4,  5])"
      ]
     },
     "execution_count": 90,
     "metadata": {},
     "output_type": "execute_result"
    }
   ],
   "source": [
    "A[1:3] = [-2, -3]\n",
    "A"
   ]
  },
  {
   "cell_type": "markdown",
   "metadata": {
    "id": "2qg6E7-6dE_F"
   },
   "source": [
    "# Exercícios"
   ]
  },
  {
   "cell_type": "markdown",
   "metadata": {
    "id": "Tvax_WoSdGBj"
   },
   "source": [
    "1. Escreva um programa que calcula a área de um círculo baseado na entrada do usuário pelo teclado.\n",
    "\n",
    "Dica 1: utilize a função `input`. Verfique o tipo de valor que a função `input` retorna e, se necessário, faça a conversão da entrada para um número decimal com a função `float`.\n",
    "Dica 2: a área de um círculo é dada pela fórmula $\\pi*r^2$"
   ]
  },
  {
   "cell_type": "code",
   "execution_count": 92,
   "metadata": {
    "id": "QGHXgmrVgbqf"
   },
   "outputs": [
    {
     "data": {
      "text/plain": [
       "28.274333882308138"
      ]
     },
     "execution_count": 92,
     "metadata": {},
     "output_type": "execute_result"
    }
   ],
   "source": [
    "def area_circle(radius):\n",
    "    \"\"\"Calculates the area of a circle based on the radius.\n",
    "    \n",
    "    Parameters\n",
    "    ---------\n",
    "    radius: radius of the circumference, only accepts int or float.\n",
    "    \n",
    "    Returns\n",
    "    ---------\n",
    "    area: area of the circumference. The area is measured in the same unit\n",
    "    as the radius squared.\n",
    "    \"\"\"\n",
    "    area = np.pi * radius ** 2\n",
    "    return area\n",
    "\n",
    "# Para uma circunferência com 3 metros de raio:\n",
    "area_circle(3) # A área será medida em metros quadrados"
   ]
  },
  {
   "cell_type": "markdown",
   "metadata": {
    "id": "OE6IEeC-ghwf"
   },
   "source": [
    "2. Escreva um programa python que aceita um número inteiro `n` e calcula o valor de `n + nn + nnn`."
   ]
  },
  {
   "cell_type": "code",
   "execution_count": 93,
   "metadata": {
    "id": "DNbZup1JgvM4"
   },
   "outputs": [
    {
     "name": "stdout",
     "output_type": "stream",
     "text": [
      "29.956611000000002\n",
      "155\n"
     ]
    }
   ],
   "source": [
    "def func(n):\n",
    "    \"\"\"Calculates a number based on the formula n + n**2 + n**3.\n",
    "    \n",
    "    Parameters\n",
    "    ---------\n",
    "    n: any number, accepts int or float.\n",
    "    \n",
    "    Returns\n",
    "    ---------\n",
    "    soma: result of the formula.\n",
    "    \"\"\"\n",
    "    soma = n + n**2 + n**3\n",
    "    return soma\n",
    "\n",
    "# n como float:\n",
    "print(func(2.71))\n",
    "\n",
    "# n como int:\n",
    "print(func(5))"
   ]
  },
  {
   "cell_type": "markdown",
   "metadata": {
    "id": "_pCGyQ4Kgvqx"
   },
   "source": [
    "3. Faça um programa para calcular a diferença entre um número digitado via `input` e `17`. Se o número for maior do que `17`, retorne o dobro do valor absoluto da diferença."
   ]
  },
  {
   "cell_type": "code",
   "execution_count": 104,
   "metadata": {
    "id": "ZaT7wGZqhCbK"
   },
   "outputs": [
    {
     "name": "stdout",
     "output_type": "stream",
     "text": [
      "Digite um número: 6\n"
     ]
    },
    {
     "ename": "ValueError",
     "evalue": "Digite um número maior que 17.",
     "output_type": "error",
     "traceback": [
      "\u001b[1;31m---------------------------------------------------------------------------\u001b[0m",
      "\u001b[1;31mValueError\u001b[0m                                Traceback (most recent call last)",
      "\u001b[1;32m~\\AppData\\Local\\Temp\\ipykernel_10740\\2665022454.py\u001b[0m in \u001b[0;36m<module>\u001b[1;34m\u001b[0m\n\u001b[0;32m     12\u001b[0m \u001b[1;33m\u001b[0m\u001b[0m\n\u001b[0;32m     13\u001b[0m \u001b[1;31m# Tentando o erro:\u001b[0m\u001b[1;33m\u001b[0m\u001b[1;33m\u001b[0m\u001b[0m\n\u001b[1;32m---> 14\u001b[1;33m \u001b[0mfunc_17\u001b[0m\u001b[1;33m(\u001b[0m\u001b[1;33m)\u001b[0m\u001b[1;33m\u001b[0m\u001b[1;33m\u001b[0m\u001b[0m\n\u001b[0m",
      "\u001b[1;32m~\\AppData\\Local\\Temp\\ipykernel_10740\\2665022454.py\u001b[0m in \u001b[0;36mfunc_17\u001b[1;34m()\u001b[0m\n\u001b[0;32m      8\u001b[0m         \u001b[1;32mreturn\u001b[0m \u001b[0mresult\u001b[0m\u001b[1;33m\u001b[0m\u001b[1;33m\u001b[0m\u001b[0m\n\u001b[0;32m      9\u001b[0m     \u001b[1;32melse\u001b[0m\u001b[1;33m:\u001b[0m\u001b[1;33m\u001b[0m\u001b[1;33m\u001b[0m\u001b[0m\n\u001b[1;32m---> 10\u001b[1;33m         \u001b[1;32mraise\u001b[0m \u001b[0mValueError\u001b[0m\u001b[1;33m(\u001b[0m\u001b[1;34m\"Digite um número maior que 17.\"\u001b[0m\u001b[1;33m)\u001b[0m\u001b[1;33m\u001b[0m\u001b[1;33m\u001b[0m\u001b[0m\n\u001b[0m\u001b[0;32m     11\u001b[0m     \u001b[1;32mreturn\u001b[0m\u001b[1;33m\u001b[0m\u001b[1;33m\u001b[0m\u001b[0m\n\u001b[0;32m     12\u001b[0m \u001b[1;33m\u001b[0m\u001b[0m\n",
      "\u001b[1;31mValueError\u001b[0m: Digite um número maior que 17."
     ]
    }
   ],
   "source": [
    "def func_17():\n",
    "    number = float(input(\"Digite um número: \"))\n",
    "    if number > 17:\n",
    "        dif = number - 17\n",
    "        result = 2 * dif\n",
    "        text = f\"O dobro da diferença entre {number} e 17 é igual a {result}\"\n",
    "        print(text)\n",
    "        return result\n",
    "    else:\n",
    "        raise ValueError(\"Digite um número maior que 17.\")\n",
    "    return\n",
    "\n",
    "# Tentando o erro:\n",
    "func_17()"
   ]
  },
  {
   "cell_type": "code",
   "execution_count": 105,
   "metadata": {},
   "outputs": [
    {
     "name": "stdout",
     "output_type": "stream",
     "text": [
      "Digite um número: 23.5\n",
      "O dobro da diferença entre 23.5 e 17 é igual a 13.0\n"
     ]
    },
    {
     "data": {
      "text/plain": [
       "13.0"
      ]
     },
     "execution_count": 105,
     "metadata": {},
     "output_type": "execute_result"
    }
   ],
   "source": [
    "# Usando a função do jeito correto:\n",
    "func_17()"
   ]
  },
  {
   "cell_type": "markdown",
   "metadata": {
    "id": "fW0fAUtMhC4w"
   },
   "source": [
    "4. Faça um programa python que encontre a quantidade de divisores de um número inteiro digitado pelo usuário."
   ]
  },
  {
   "cell_type": "code",
   "execution_count": 109,
   "metadata": {
    "id": "loGjlOoohYC9"
   },
   "outputs": [
    {
     "data": {
      "text/plain": [
       "8"
      ]
     },
     "execution_count": 109,
     "metadata": {},
     "output_type": "execute_result"
    }
   ],
   "source": [
    "def divisors(n:int):\n",
    "    result = []\n",
    "    for i in range(1, int(sqrt(n))+1):\n",
    "        if n % i == 0:\n",
    "            result.append(i)\n",
    "            result.append(n//i)\n",
    "    result.sort()\n",
    "    number_divisors = len(result)\n",
    "    return number_divisors\n",
    "\n",
    "divisors(24)"
   ]
  },
  {
   "cell_type": "markdown",
   "metadata": {
    "id": "DQ9Vb4aJhYcG"
   },
   "source": [
    "5. Escreva um programa para verificar se um número é primo.\n",
    "\n",
    "Lembre-se: um número natural é primo se tem apenas dois divisores."
   ]
  },
  {
   "cell_type": "code",
   "execution_count": 110,
   "metadata": {},
   "outputs": [
    {
     "data": {
      "text/plain": [
       "2"
      ]
     },
     "execution_count": 110,
     "metadata": {},
     "output_type": "execute_result"
    }
   ],
   "source": [
    "divisors(17)"
   ]
  },
  {
   "cell_type": "code",
   "execution_count": 111,
   "metadata": {
    "id": "7Fuch2qwhpwl"
   },
   "outputs": [
    {
     "ename": "ValueError",
     "evalue": "64 não é um número primo.",
     "output_type": "error",
     "traceback": [
      "\u001b[1;31m---------------------------------------------------------------------------\u001b[0m",
      "\u001b[1;31mValueError\u001b[0m                                Traceback (most recent call last)",
      "\u001b[1;32m~\\AppData\\Local\\Temp\\ipykernel_10740\\1079498359.py\u001b[0m in \u001b[0;36m<module>\u001b[1;34m\u001b[0m\n\u001b[0;32m      7\u001b[0m \u001b[1;33m\u001b[0m\u001b[0m\n\u001b[0;32m      8\u001b[0m \u001b[1;31m# Número não primo:\u001b[0m\u001b[1;33m\u001b[0m\u001b[1;33m\u001b[0m\u001b[0m\n\u001b[1;32m----> 9\u001b[1;33m \u001b[0mprime\u001b[0m\u001b[1;33m(\u001b[0m\u001b[1;36m64\u001b[0m\u001b[1;33m)\u001b[0m\u001b[1;33m\u001b[0m\u001b[1;33m\u001b[0m\u001b[0m\n\u001b[0m",
      "\u001b[1;32m~\\AppData\\Local\\Temp\\ipykernel_10740\\1079498359.py\u001b[0m in \u001b[0;36mprime\u001b[1;34m(n)\u001b[0m\n\u001b[0;32m      3\u001b[0m         \u001b[0mprint\u001b[0m\u001b[1;33m(\u001b[0m\u001b[1;34mf\"{n} é um número primo.\"\u001b[0m\u001b[1;33m)\u001b[0m\u001b[1;33m\u001b[0m\u001b[1;33m\u001b[0m\u001b[0m\n\u001b[0;32m      4\u001b[0m     \u001b[1;32melse\u001b[0m\u001b[1;33m:\u001b[0m\u001b[1;33m\u001b[0m\u001b[1;33m\u001b[0m\u001b[0m\n\u001b[1;32m----> 5\u001b[1;33m         \u001b[1;32mraise\u001b[0m \u001b[0mValueError\u001b[0m\u001b[1;33m(\u001b[0m\u001b[1;34mf\"{n} não é um número primo.\"\u001b[0m\u001b[1;33m)\u001b[0m\u001b[1;33m\u001b[0m\u001b[1;33m\u001b[0m\u001b[0m\n\u001b[0m\u001b[0;32m      6\u001b[0m     \u001b[1;32mreturn\u001b[0m\u001b[1;33m\u001b[0m\u001b[1;33m\u001b[0m\u001b[0m\n\u001b[0;32m      7\u001b[0m \u001b[1;33m\u001b[0m\u001b[0m\n",
      "\u001b[1;31mValueError\u001b[0m: 64 não é um número primo."
     ]
    }
   ],
   "source": [
    "def prime(n:int):\n",
    "    if divisors(n) == 2:\n",
    "        print(f\"{n} é um número primo.\")\n",
    "    else:\n",
    "        raise ValueError(f\"{n} não é um número primo.\")\n",
    "    return\n",
    "\n",
    "# Número não primo:\n",
    "prime(64)"
   ]
  },
  {
   "cell_type": "code",
   "execution_count": 113,
   "metadata": {},
   "outputs": [
    {
     "name": "stdout",
     "output_type": "stream",
     "text": [
      "47 é um número primo.\n"
     ]
    }
   ],
   "source": [
    "# Número primo:\n",
    "prime(47)"
   ]
  },
  {
   "cell_type": "markdown",
   "metadata": {
    "id": "1TvjO3YshqDB"
   },
   "source": [
    "6. Escreva um programa que some todos os números de uma lista dada: `[1, -2, 8, 5, 3]`"
   ]
  },
  {
   "cell_type": "code",
   "execution_count": 100,
   "metadata": {
    "id": "TVUEuKboh6DI"
   },
   "outputs": [
    {
     "data": {
      "text/plain": [
       "15"
      ]
     },
     "execution_count": 100,
     "metadata": {},
     "output_type": "execute_result"
    }
   ],
   "source": [
    "my_list = [1, -2, 8, 5, 3]\n",
    "\n",
    "def sum_of_list(numbers_list):\n",
    "    total = sum(numbers_list)\n",
    "    return total\n",
    "\n",
    "sum_of_list(my_list)"
   ]
  },
  {
   "cell_type": "markdown",
   "metadata": {
    "id": "xifcJJAfh6TT"
   },
   "source": [
    "7. Escreva um programa python que encontre o menor elemento de uma lista."
   ]
  },
  {
   "cell_type": "code",
   "execution_count": 103,
   "metadata": {
    "id": "qif4RQsVh-Qe"
   },
   "outputs": [
    {
     "data": {
      "text/plain": [
       "-2"
      ]
     },
     "execution_count": 103,
     "metadata": {},
     "output_type": "execute_result"
    }
   ],
   "source": [
    "def lowest(numbers_list):\n",
    "    numbers_list.sort()\n",
    "    return numbers_list[0]\n",
    "\n",
    "lowest(my_list)"
   ]
  }
 ],
 "metadata": {
  "colab": {
   "provenance": []
  },
  "kernelspec": {
   "display_name": "Python 3 (ipykernel)",
   "language": "python",
   "name": "python3"
  },
  "language_info": {
   "codemirror_mode": {
    "name": "ipython",
    "version": 3
   },
   "file_extension": ".py",
   "mimetype": "text/x-python",
   "name": "python",
   "nbconvert_exporter": "python",
   "pygments_lexer": "ipython3",
   "version": "3.9.13"
  }
 },
 "nbformat": 4,
 "nbformat_minor": 1
}
